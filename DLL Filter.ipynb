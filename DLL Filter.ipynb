{
 "cells": [
  {
   "cell_type": "markdown",
   "metadata": {
    "deletable": true,
    "editable": true
   },
   "source": [
    "# DLL Filter\n",
    "\n",
    "Extracted the set of used DLLs in the dataset.\n",
    "\n",
    "Following cell filters imports that end with dll."
   ]
  },
  {
   "cell_type": "code",
   "execution_count": 1,
   "metadata": {
    "collapsed": false,
    "deletable": true,
    "editable": true,
    "scrolled": false
   },
   "outputs": [
    {
     "data": {
      "text/plain": [
       "'Original size: 406559'"
      ]
     },
     "metadata": {},
     "output_type": "display_data"
    },
    {
     "data": {
      "text/plain": [
       "'Without None size: 390217'"
      ]
     },
     "metadata": {},
     "output_type": "display_data"
    },
    {
     "data": {
      "text/plain": [
       "'Number of DLLs: 7481'"
      ]
     },
     "metadata": {},
     "output_type": "display_data"
    },
    {
     "data": {
      "text/plain": [
       "'Samples with DLLs: 389027'"
      ]
     },
     "metadata": {},
     "output_type": "display_data"
    }
   ],
   "source": [
    "from IPython.display import display\n",
    "import pandas as pd\n",
    "\n",
    "path = 'data/'\n",
    "file_path = path + 'pe32_pedlls.csv.gz'\n",
    "\n",
    "dll_frame = pd.read_csv(file_path)\n",
    "dll_frame = dll_frame.set_index('link')\n",
    "display('Original size: {}'.format(len(dll_frame)))\n",
    "\n",
    "dll_frame.dropna(inplace=True)\n",
    "display('Without None size: {}'.format(len(dll_frame)))\n",
    "\n",
    "# Remove any surrounding whitespace\n",
    "dll_frame.dlls = dll_frame.dlls.apply(lambda x: ';'.join(map(str.strip, x.split(';'))))\n",
    "\n",
    "used_imports = set()\n",
    "for d in dll_frame.dlls:\n",
    "    [used_imports.add(n) for n in d.split(';')]\n",
    "relevant_imp = list(filter(lambda x: x.endswith('.dll'), used_imports))\n",
    "display('Number of DLLs: {}'.format(len(relevant_imp)))\n",
    "\n",
    "crit = dll_frame.dlls.map(lambda x: not set(x.split(';')).isdisjoint(relevant_imp))\n",
    "dll_frame2 = dll_frame.copy()\n",
    "dll_frame2 = dll_frame2[crit]\n",
    "dll_frame2.dlls = dll_frame2.dlls.apply(lambda x: ';'.join(filter(lambda x: x.endswith('.dll'), x.split(';'))))\n",
    "dll_frame2.dropna(inplace=True)\n",
    "\n",
    "\n",
    "display('Samples with DLLs: {}'.format(len(dll_frame2)))\n",
    "\n",
    "dll_frame.to_csv(path_or_buf=file_path, compression='gzip')\n",
    "with open(path + 'dll_names', 'w') as file:\n",
    "    [file.write(imp + '\\n') for imp in relevant_imp]"
   ]
  }
 ],
 "metadata": {
  "kernelspec": {
   "display_name": "Python 3",
   "language": "python",
   "name": "python3"
  },
  "language_info": {
   "codemirror_mode": {
    "name": "ipython",
    "version": 3
   },
   "file_extension": ".py",
   "mimetype": "text/x-python",
   "name": "python",
   "nbconvert_exporter": "python",
   "pygments_lexer": "ipython3",
   "version": "3.6.1"
  }
 },
 "nbformat": 4,
 "nbformat_minor": 2
}
