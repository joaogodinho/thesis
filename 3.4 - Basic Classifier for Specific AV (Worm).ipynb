{
 "cells": [
  {
   "cell_type": "markdown",
   "metadata": {
    "deletable": true,
    "editable": true
   },
   "source": [
    "# Basic Classifiser for Specific AV\n",
    "\n",
    "Create a basic classifier for specific vendors, meaning it trains and validates the samples based on a single vendor."
   ]
  },
  {
   "cell_type": "code",
   "execution_count": 1,
   "metadata": {
    "collapsed": true,
    "deletable": true,
    "editable": true
   },
   "outputs": [],
   "source": [
    "import pandas as pd\n",
    "import numpy as np\n",
    "import lib.data_loading as jcfg_data_loading\n",
    "import lib.helpers as jcfg_helpers\n",
    "import matplotlib.pyplot as plt\n",
    "from IPython.display import display\n",
    "from sklearn.feature_extraction.text import CountVectorizer\n",
    "from sklearn.linear_model import LogisticRegression\n",
    "from sklearn.model_selection import train_test_split\n",
    "from sklearn.metrics import confusion_matrix\n",
    "\n",
    "\n",
    "test_size = 0.50\n",
    "\n",
    "# Use the original samples to remove all but the last submission of duplicated samples\n",
    "samples = pd.read_csv('data/mined_data/pe32_samples.csv')\n",
    "samples = jcfg_data_loading.set_pd_datetime_index(samples)\n",
    "samples.drop_duplicates(subset='md5', inplace=True, keep='last')"
   ]
  },
  {
   "cell_type": "markdown",
   "metadata": {
    "deletable": true,
    "editable": true
   },
   "source": [
    "## Microsoft Classifier\n",
    "\n",
    "**Ignoring temporal consistency**, train and test a classifier for microsoft only samples"
   ]
  },
  {
   "cell_type": "code",
   "execution_count": 2,
   "metadata": {
    "collapsed": false,
    "deletable": true,
    "editable": true,
    "scrolled": true
   },
   "outputs": [
    {
     "name": "stdout",
     "output_type": "stream",
     "text": [
      "Malware in dataset: 10062\n",
      "Goodware in dataset: 154556\n"
     ]
    }
   ],
   "source": [
    "# Load the needed CSVs\n",
    "static_imports = pd.read_csv('data/mined_data/pe32_static_imports.csv', dtype=str)\n",
    "static_imports = static_imports.set_index('link')\n",
    "\n",
    "microsoft_samples = pd.read_csv('data/mined_data/microsoft_classification.csv', dtype=str)\n",
    "microsoft_samples = microsoft_samples.set_index('link')\n",
    "\n",
    "# Join the microsoft samples with the imports\n",
    "dataset = microsoft_samples.join(static_imports).dropna(subset=['imports'])\n",
    "dataset.drop(['info', 'variant', 'family', 'platform'], axis=1, inplace=True)\n",
    "# Remove dups\n",
    "dataset = dataset[dataset.index.isin(samples.link)]\n",
    "\n",
    "dataset.type.fillna(value=0, inplace=True)\n",
    "\n",
    "\n",
    "# Filter types of malware\n",
    "dataset = dataset[(dataset.type == 'worm') | (dataset.type == 0)]\n",
    "\n",
    "\n",
    "dataset.type = dataset.type.replace(to_replace=None, value=1, regex=r'.+').astype(int)\n",
    "dataset.rename(columns={'type': 'malware'}, inplace=True)\n",
    "\n",
    "print('Malware in dataset: {}'.format(len(dataset[dataset.malware == 1])))\n",
    "print('Goodware in dataset: {}'.format(len(dataset[dataset.malware == 0])))"
   ]
  },
  {
   "cell_type": "code",
   "execution_count": 3,
   "metadata": {
    "collapsed": false,
    "deletable": true,
    "editable": true
   },
   "outputs": [
    {
     "name": "stdout",
     "output_type": "stream",
     "text": [
      "Statistics on malware imports:\n"
     ]
    },
    {
     "data": {
      "text/plain": [
       "count    10062.000000\n",
       "mean        51.105645\n",
       "std         88.978446\n",
       "min          1.000000\n",
       "25%          7.000000\n",
       "50%         13.000000\n",
       "75%         68.000000\n",
       "max       1112.000000\n",
       "Name: imports, dtype: float64"
      ]
     },
     "metadata": {},
     "output_type": "display_data"
    },
    {
     "name": "stdout",
     "output_type": "stream",
     "text": [
      "\n",
      "Statistics on goodware imports:\n"
     ]
    },
    {
     "data": {
      "text/plain": [
       "count    154556.000000\n",
       "mean        124.116689\n",
       "std         176.287262\n",
       "min           1.000000\n",
       "25%          19.000000\n",
       "50%          83.000000\n",
       "75%         154.000000\n",
       "max       13325.000000\n",
       "Name: imports, dtype: float64"
      ]
     },
     "metadata": {},
     "output_type": "display_data"
    }
   ],
   "source": [
    "# How imports vary on malware/goodware\n",
    "microsoft_malware = dataset[dataset.malware == 1]\n",
    "microsoft_goodware = dataset[dataset.malware == 0]\n",
    "\n",
    "mcm_count = microsoft_malware.imports.apply(lambda x: len(x.split(';')))\n",
    "mcg_count = microsoft_goodware.imports.apply(lambda x: len(x.split(';')))\n",
    "\n",
    "print('Statistics on malware imports:')\n",
    "display(mcm_count.describe())\n",
    "print('\\nStatistics on goodware imports:')\n",
    "display(mcg_count.describe())"
   ]
  },
  {
   "cell_type": "code",
   "execution_count": 4,
   "metadata": {
    "collapsed": false,
    "deletable": true,
    "editable": true
   },
   "outputs": [
    {
     "name": "stdout",
     "output_type": "stream",
     "text": [
      "CC:\t0.9678\n",
      "DR:\t0.6242\n",
      "FP:\t0.1920\n",
      "FN:\t0.0242\n",
      "\n",
      "Malware stats:\n"
     ]
    },
    {
     "data": {
      "text/plain": [
       "count    5.050000e+03\n",
       "mean     6.104975e-01\n",
       "std      3.628413e-01\n",
       "min      2.198909e-15\n",
       "25%      2.762046e-01\n",
       "50%      6.752538e-01\n",
       "75%      9.722760e-01\n",
       "max      1.000000e+00\n",
       "dtype: float64"
      ]
     },
     "metadata": {},
     "output_type": "display_data"
    },
    {
     "name": "stdout",
     "output_type": "stream",
     "text": [
      "\n",
      "Goodware stats:\n"
     ]
    },
    {
     "data": {
      "text/plain": [
       "count    7.725900e+04\n",
       "mean     9.725752e-01\n",
       "std      9.094104e-02\n",
       "min      1.355972e-07\n",
       "25%      9.894743e-01\n",
       "50%      9.977400e-01\n",
       "75%      9.999279e-01\n",
       "max      1.000000e+00\n",
       "dtype: float64"
      ]
     },
     "metadata": {},
     "output_type": "display_data"
    },
    {
     "data": {
      "image/png": "[encoded data removed]",
      "text/plain": [
       "<matplotlib.figure.Figure at 0x7fa573e9aa20>"
      ]
     },
     "metadata": {},
     "output_type": "display_data"
    },
    {
     "name": "stdout",
     "output_type": "stream",
     "text": [
      "CPU times: user 43.4 s, sys: 963 ms, total: 44.4 s\n",
      "Wall time: 43.7 s\n"
     ]
    }
   ],
   "source": [
    "%%time\n",
    "# Raw LR, use all imports, dataset balanced as is (more goodware than malware)\n",
    "# Split into train and test (this also shuffles the data)\n",
    "(train, test) = train_test_split(dataset, test_size=test_size)\n",
    "\n",
    "# Generate the count vectorizer\n",
    "cv_token_pattern = u'[^;]+'\n",
    "cv = CountVectorizer(token_pattern=cv_token_pattern)\n",
    "train_X = cv.fit_transform(train.imports)\n",
    "train_Y = train.malware\n",
    "test_X = cv.transform(test.imports)\n",
    "test_Y = test.malware\n",
    "\n",
    "# Logistic Regression training\n",
    "lr = LogisticRegression().fit(train_X, train_Y)\n",
    "\n",
    "score = confusion_matrix(test_Y, lr.predict(test_X))\n",
    "fp_rate, fn_rate, cc_rate, det_rate = jcfg_helpers.calc_ratios(score)\n",
    "print('CC:\\t{:.4f}'.format(cc_rate))\n",
    "print('DR:\\t{:.4f}'.format(det_rate))\n",
    "print('FP:\\t{:.4f}'.format(fp_rate))\n",
    "print('FN:\\t{:.4f}'.format(fn_rate))\n",
    "\n",
    "malware_only = lr.predict_proba(test_X[np.where(test_Y == 1)])\n",
    "goodware_only = lr.predict_proba(test_X[np.where(test_Y == 0)])\n",
    "print('\\nMalware stats:')\n",
    "display(pd.Series(malware_only[:,1]).describe())\n",
    "print('\\nGoodware stats:')\n",
    "display(pd.Series(goodware_only[:,0]).describe())\n",
    "\n",
    "plt.figure(figsize=(10, 4), dpi=100)\n",
    "plt.subplot(211)\n",
    "plt.hist(goodware_only[:,0], bins=20, alpha=0.75)\n",
    "plt.subplot(212)\n",
    "plt.hist(malware_only[:,1], bins=20, alpha=0.75)\n",
    "plt.show()"
   ]
  },
  {
   "cell_type": "code",
   "execution_count": 5,
   "metadata": {
    "collapsed": false,
    "deletable": true,
    "editable": true
   },
   "outputs": [
    {
     "name": "stdout",
     "output_type": "stream",
     "text": [
      "Malware in dataset: 10062\n",
      "Goodware in dataset: 10062\n",
      "CC:\t0.8876\n",
      "DR:\t0.8918\n",
      "FP:\t0.1143\n",
      "FN:\t0.1104\n",
      "\n",
      "Malware stats:\n"
     ]
    },
    {
     "data": {
      "text/plain": [
       "count    5065.000000\n",
       "mean        0.849589\n",
       "std         0.249135\n",
       "min         0.000001\n",
       "25%         0.861945\n",
       "50%         0.949386\n",
       "75%         0.991466\n",
       "max         1.000000\n",
       "dtype: float64"
      ]
     },
     "metadata": {},
     "output_type": "display_data"
    },
    {
     "name": "stdout",
     "output_type": "stream",
     "text": [
      "\n",
      "Goodware stats:\n"
     ]
    },
    {
     "data": {
      "text/plain": [
       "count    4.997000e+03\n",
       "mean     8.364215e-01\n",
       "std      2.461619e-01\n",
       "min      4.238832e-13\n",
       "25%      8.504363e-01\n",
       "50%      9.532463e-01\n",
       "75%      9.985105e-01\n",
       "max      1.000000e+00\n",
       "dtype: float64"
      ]
     },
     "metadata": {},
     "output_type": "display_data"
    },
    {
     "data": {
      "image/png": "[encoded data removed]",
      "text/plain": [
       "<matplotlib.figure.Figure at 0x7fa585238da0>"
      ]
     },
     "metadata": {},
     "output_type": "display_data"
    },
    {
     "name": "stdout",
     "output_type": "stream",
     "text": [
      "CPU times: user 2.45 s, sys: 303 ms, total: 2.75 s\n",
      "Wall time: 2.38 s\n"
     ]
    }
   ],
   "source": [
    "%%time\n",
    "# Use all imports, but balance the datasets\n",
    "malware_count = len(dataset[dataset.malware == 1])\n",
    "goodware_count = len(dataset[dataset.malware == 0])\n",
    "\n",
    "limiting = min(malware_count, goodware_count)\n",
    "malware = dataset[dataset.malware == 1].sample(n=limiting)\n",
    "goodware = dataset[dataset.malware == 0].sample(n=limiting)\n",
    "\n",
    "# Recreate the dataset, now balanced\n",
    "dataset2 = pd.concat([malware, goodware])\n",
    "\n",
    "print('Malware in dataset: {}'.format(len(dataset2[dataset2.malware == 1])))\n",
    "print('Goodware in dataset: {}'.format(len(dataset2[dataset2.malware == 0])))\n",
    "\n",
    "# Split into train and test (this also shuffles the data)\n",
    "(train, test) = train_test_split(dataset2, test_size=test_size)\n",
    "\n",
    "# Generate the count vectorizer\n",
    "cv_token_pattern = u'[^;]+'\n",
    "cv = CountVectorizer(token_pattern=cv_token_pattern)\n",
    "train_X = cv.fit_transform(train.imports)\n",
    "train_Y = train.malware\n",
    "test_X = cv.transform(test.imports)\n",
    "test_Y = test.malware\n",
    "\n",
    "# Logistic Regression training\n",
    "lr = LogisticRegression().fit(train_X, train_Y)\n",
    "\n",
    "score = confusion_matrix(test_Y, lr.predict(test_X))\n",
    "fp_rate, fn_rate, cc_rate, det_rate = jcfg_helpers.calc_ratios(score)\n",
    "print('CC:\\t{:.4f}'.format(cc_rate))\n",
    "print('DR:\\t{:.4f}'.format(det_rate))\n",
    "print('FP:\\t{:.4f}'.format(fp_rate))\n",
    "print('FN:\\t{:.4f}'.format(fn_rate))\n",
    "\n",
    "malware_only = lr.predict_proba(test_X[np.where(test_Y == 1)])\n",
    "goodware_only = lr.predict_proba(test_X[np.where(test_Y == 0)])\n",
    "print('\\nMalware stats:')\n",
    "display(pd.Series(malware_only[:,1]).describe())\n",
    "print('\\nGoodware stats:')\n",
    "display(pd.Series(goodware_only[:,0]).describe())\n",
    "\n",
    "plt.figure(figsize=(10, 4), dpi=100)\n",
    "plt.subplot(211)\n",
    "plt.hist(goodware_only[:,0], bins=20, alpha=0.75)\n",
    "plt.subplot(212)\n",
    "plt.hist(malware_only[:,1], bins=20, alpha=0.75)\n",
    "plt.show()"
   ]
  },
  {
   "cell_type": "code",
   "execution_count": 6,
   "metadata": {
    "collapsed": false,
    "deletable": true,
    "editable": true
   },
   "outputs": [
    {
     "name": "stdout",
     "output_type": "stream",
     "text": [
      "Malware in dataset: 10062\n",
      "Goodware in dataset: 5031\n",
      "CC:\t0.8943\n",
      "DR:\t0.9258\n",
      "FP:\t0.0814\n",
      "FN:\t0.1578\n",
      "\n",
      "Malware stats:\n"
     ]
    },
    {
     "data": {
      "text/plain": [
       "count    5105.000000\n",
       "mean        0.890684\n",
       "std         0.210304\n",
       "min         0.000002\n",
       "25%         0.914812\n",
       "50%         0.969450\n",
       "75%         0.995382\n",
       "max         1.000000\n",
       "dtype: float64"
      ]
     },
     "metadata": {},
     "output_type": "display_data"
    },
    {
     "name": "stdout",
     "output_type": "stream",
     "text": [
      "\n",
      "Goodware stats:\n"
     ]
    },
    {
     "data": {
      "text/plain": [
       "count    2.442000e+03\n",
       "mean     7.673661e-01\n",
       "std      2.959465e-01\n",
       "min      1.019629e-11\n",
       "25%      7.268482e-01\n",
       "50%      9.153821e-01\n",
       "75%      9.957898e-01\n",
       "max      1.000000e+00\n",
       "dtype: float64"
      ]
     },
     "metadata": {},
     "output_type": "display_data"
    },
    {
     "data": {
      "image/png": "[encoded data removed]",
      "text/plain": [
       "<matplotlib.figure.Figure at 0x7fa585238780>"
      ]
     },
     "metadata": {},
     "output_type": "display_data"
    },
    {
     "name": "stdout",
     "output_type": "stream",
     "text": [
      "CPU times: user 1.73 s, sys: 320 ms, total: 2.05 s\n",
      "Wall time: 1.68 s\n"
     ]
    }
   ],
   "source": [
    "%%time\n",
    "# Use all imports, but use more malware for training (more goodware version is default)\n",
    "malware_count = len(dataset[dataset.malware == 1])\n",
    "goodware_count = len(dataset[dataset.malware == 0])\n",
    "\n",
    "limiting = min(malware_count, goodware_count)\n",
    "malware = dataset[dataset.malware == 1].sample(n=limiting)\n",
    "# Use 50% less goodware\n",
    "goodware = dataset[dataset.malware == 0].sample(n=int(limiting * 0.5))\n",
    "\n",
    "# Recreate the dataset, now balanced\n",
    "dataset3 = pd.concat([malware, goodware])\n",
    "\n",
    "print('Malware in dataset: {}'.format(len(dataset3[dataset3.malware == 1])))\n",
    "print('Goodware in dataset: {}'.format(len(dataset3[dataset3.malware == 0])))\n",
    "\n",
    "# Split into train and test (this also shuffles the data)\n",
    "(train, test) = train_test_split(dataset3, test_size=test_size)\n",
    "\n",
    "# Generate the count vectorizer\n",
    "cv_token_pattern = u'[^;]+'\n",
    "cv = CountVectorizer(token_pattern=cv_token_pattern)\n",
    "train_X = cv.fit_transform(train.imports)\n",
    "train_Y = train.malware\n",
    "test_X = cv.transform(test.imports)\n",
    "test_Y = test.malware\n",
    "\n",
    "# Logistic Regression training\n",
    "lr = LogisticRegression().fit(train_X, train_Y)\n",
    "\n",
    "score = confusion_matrix(test_Y, lr.predict(test_X))\n",
    "fp_rate, fn_rate, cc_rate, det_rate = jcfg_helpers.calc_ratios(score)\n",
    "print('CC:\\t{:.4f}'.format(cc_rate))\n",
    "print('DR:\\t{:.4f}'.format(det_rate))\n",
    "print('FP:\\t{:.4f}'.format(fp_rate))\n",
    "print('FN:\\t{:.4f}'.format(fn_rate))\n",
    "\n",
    "malware_only = lr.predict_proba(test_X[np.where(test_Y == 1)])\n",
    "goodware_only = lr.predict_proba(test_X[np.where(test_Y == 0)])\n",
    "print('\\nMalware stats:')\n",
    "display(pd.Series(malware_only[:,1]).describe())\n",
    "print('\\nGoodware stats:')\n",
    "display(pd.Series(goodware_only[:,0]).describe())\n",
    "\n",
    "plt.figure(figsize=(10, 4), dpi=100)\n",
    "plt.subplot(211)\n",
    "plt.hist(goodware_only[:,0], bins=20, alpha=0.75)\n",
    "plt.subplot(212)\n",
    "plt.hist(malware_only[:,1], bins=20, alpha=0.75)\n",
    "plt.show()"
   ]
  },
  {
   "cell_type": "code",
   "execution_count": 7,
   "metadata": {
    "collapsed": false,
    "deletable": true,
    "editable": true
   },
   "outputs": [
    {
     "name": "stdout",
     "output_type": "stream",
     "text": [
      "Malware in dataset: 9434\n",
      "Goodware in dataset: 116125\n",
      "CC:\t0.9647\n",
      "DR:\t0.6676\n",
      "FP:\t0.1664\n",
      "FN:\t0.0268\n",
      "\n",
      "Malware stats:\n"
     ]
    },
    {
     "data": {
      "text/plain": [
       "count    4.759000e+03\n",
       "mean     6.382442e-01\n",
       "std      3.468643e-01\n",
       "min      2.585901e-11\n",
       "25%      3.861791e-01\n",
       "50%      6.857435e-01\n",
       "75%      9.687498e-01\n",
       "max      1.000000e+00\n",
       "dtype: float64"
      ]
     },
     "metadata": {},
     "output_type": "display_data"
    },
    {
     "name": "stdout",
     "output_type": "stream",
     "text": [
      "\n",
      "Goodware stats:\n"
     ]
    },
    {
     "data": {
      "text/plain": [
       "count    58021.000000\n",
       "mean         0.969433\n",
       "std          0.096376\n",
       "min          0.000004\n",
       "25%          0.989276\n",
       "50%          0.998423\n",
       "75%          0.999879\n",
       "max          1.000000\n",
       "dtype: float64"
      ]
     },
     "metadata": {},
     "output_type": "display_data"
    },
    {
     "data": {
      "image/png": "[encoded data removed]",
      "text/plain": [
       "<matplotlib.figure.Figure at 0x7fa587d2c978>"
      ]
     },
     "metadata": {},
     "output_type": "display_data"
    },
    {
     "name": "stdout",
     "output_type": "stream",
     "text": [
      "CPU times: user 16.8 s, sys: 413 ms, total: 17.2 s\n",
      "Wall time: 16.7 s\n"
     ]
    }
   ],
   "source": [
    "%%time\n",
    "# Use between 2 and 300 imports (+/- mean + std for goodware), without balancing\n",
    "# Filter samples by the number of imports\n",
    "dataset4 = dataset[dataset.imports.map(lambda x: len(x.split(';')) <= 300 and len(x.split(';')) > 1)]\n",
    "\n",
    "print('Malware in dataset: {}'.format(len(dataset4[dataset4.malware == 1])))\n",
    "print('Goodware in dataset: {}'.format(len(dataset4[dataset4.malware == 0])))\n",
    "\n",
    "# Split into train and test (this also shuffles the data)\n",
    "(train, test) = train_test_split(dataset4, test_size=test_size)\n",
    "\n",
    "# Generate the count vectorizer\n",
    "cv_token_pattern = u'[^;]+'\n",
    "cv = CountVectorizer(token_pattern=cv_token_pattern)\n",
    "train_X = cv.fit_transform(train.imports)\n",
    "train_Y = train.malware\n",
    "test_X = cv.transform(test.imports)\n",
    "test_Y = test.malware\n",
    "\n",
    "# Logistic Regression training\n",
    "lr = LogisticRegression().fit(train_X, train_Y)\n",
    "\n",
    "score = confusion_matrix(test_Y, lr.predict(test_X))\n",
    "fp_rate, fn_rate, cc_rate, det_rate = jcfg_helpers.calc_ratios(score)\n",
    "print('CC:\\t{:.4f}'.format(cc_rate))\n",
    "print('DR:\\t{:.4f}'.format(det_rate))\n",
    "print('FP:\\t{:.4f}'.format(fp_rate))\n",
    "print('FN:\\t{:.4f}'.format(fn_rate))\n",
    "\n",
    "malware_only = lr.predict_proba(test_X[np.where(test_Y == 1)])\n",
    "goodware_only = lr.predict_proba(test_X[np.where(test_Y == 0)])\n",
    "print('\\nMalware stats:')\n",
    "display(pd.Series(malware_only[:,1]).describe())\n",
    "print('\\nGoodware stats:')\n",
    "display(pd.Series(goodware_only[:,0]).describe())\n",
    "\n",
    "plt.figure(figsize=(10, 4), dpi=100)\n",
    "plt.subplot(211)\n",
    "plt.hist(goodware_only[:,0], bins=20, alpha=0.75)\n",
    "plt.subplot(212)\n",
    "plt.hist(malware_only[:,1], bins=20, alpha=0.75)\n",
    "plt.show()"
   ]
  },
  {
   "cell_type": "code",
   "execution_count": 8,
   "metadata": {
    "collapsed": false,
    "deletable": true,
    "editable": true
   },
   "outputs": [
    {
     "name": "stdout",
     "output_type": "stream",
     "text": [
      "Malware in dataset: 9434\n",
      "Goodware in dataset: 9434\n",
      "CC:\t0.8937\n",
      "DR:\t0.9133\n",
      "FP:\t0.1216\n",
      "FN:\t0.0898\n",
      "\n",
      "Malware stats:\n"
     ]
    },
    {
     "data": {
      "text/plain": [
       "count    4.706000e+03\n",
       "mean     8.627955e-01\n",
       "std      2.315354e-01\n",
       "min      2.372510e-07\n",
       "25%      8.754221e-01\n",
       "50%      9.472968e-01\n",
       "75%      9.956253e-01\n",
       "max      9.999996e-01\n",
       "dtype: float64"
      ]
     },
     "metadata": {},
     "output_type": "display_data"
    },
    {
     "name": "stdout",
     "output_type": "stream",
     "text": [
      "\n",
      "Goodware stats:\n"
     ]
    },
    {
     "data": {
      "text/plain": [
       "count    4728.000000\n",
       "mean        0.845793\n",
       "std         0.260349\n",
       "min         0.000014\n",
       "25%         0.834310\n",
       "50%         0.971408\n",
       "75%         0.998975\n",
       "max         1.000000\n",
       "dtype: float64"
      ]
     },
     "metadata": {},
     "output_type": "display_data"
    },
    {
     "data": {
      "image/png": "[encoded data removed]",
      "text/plain": [
       "<matplotlib.figure.Figure at 0x7fa58c7a1160>"
      ]
     },
     "metadata": {},
     "output_type": "display_data"
    },
    {
     "name": "stdout",
     "output_type": "stream",
     "text": [
      "CPU times: user 3.39 s, sys: 297 ms, total: 3.69 s\n",
      "Wall time: 3.35 s\n"
     ]
    }
   ],
   "source": [
    "%%time\n",
    "# Use between 2 and 300 imports, balanced dataset\n",
    "dataset5 = dataset[dataset.imports.map(lambda x: len(x.split(';')) <= 300 and len(x.split(';')) > 1)]\n",
    "malware_count = len(dataset5[dataset5.malware == 1])\n",
    "goodware_count = len(dataset5[dataset5.malware == 0])\n",
    "\n",
    "limiting = min(malware_count, goodware_count)\n",
    "malware = dataset5[dataset5.malware == 1].sample(n=limiting)\n",
    "goodware = dataset5[dataset5.malware == 0].sample(n=limiting)\n",
    "\n",
    "# Recreate the dataset, now balanced\n",
    "dataset5 = pd.concat([malware, goodware])\n",
    "\n",
    "print('Malware in dataset: {}'.format(len(dataset5[dataset5.malware == 1])))\n",
    "print('Goodware in dataset: {}'.format(len(dataset5[dataset5.malware == 0])))\n",
    "\n",
    "# Split into train and test (this also shuffles the data)\n",
    "(train, test) = train_test_split(dataset5, test_size=test_size)\n",
    "\n",
    "# Generate the count vectorizer\n",
    "cv_token_pattern = u'[^;]+'\n",
    "cv = CountVectorizer(token_pattern=cv_token_pattern)\n",
    "train_X = cv.fit_transform(train.imports)\n",
    "train_Y = train.malware\n",
    "test_X = cv.transform(test.imports)\n",
    "test_Y = test.malware\n",
    "\n",
    "# Logistic Regression training\n",
    "lr = LogisticRegression().fit(train_X, train_Y)\n",
    "\n",
    "score = confusion_matrix(test_Y, lr.predict(test_X))\n",
    "fp_rate, fn_rate, cc_rate, det_rate = jcfg_helpers.calc_ratios(score)\n",
    "print('CC:\\t{:.4f}'.format(cc_rate))\n",
    "print('DR:\\t{:.4f}'.format(det_rate))\n",
    "print('FP:\\t{:.4f}'.format(fp_rate))\n",
    "print('FN:\\t{:.4f}'.format(fn_rate))\n",
    "\n",
    "malware_only = lr.predict_proba(test_X[np.where(test_Y == 1)])\n",
    "goodware_only = lr.predict_proba(test_X[np.where(test_Y == 0)])\n",
    "print('\\nMalware stats:')\n",
    "display(pd.Series(malware_only[:,1]).describe())\n",
    "print('\\nGoodware stats:')\n",
    "display(pd.Series(goodware_only[:,0]).describe())\n",
    "\n",
    "plt.figure(figsize=(10, 4), dpi=100)\n",
    "plt.subplot(211)\n",
    "plt.hist(goodware_only[:,0], bins=20, alpha=0.75)\n",
    "plt.subplot(212)\n",
    "plt.hist(malware_only[:,1], bins=20, alpha=0.75)\n",
    "plt.show()"
   ]
  },
  {
   "cell_type": "code",
   "execution_count": 9,
   "metadata": {
    "collapsed": false,
    "deletable": true,
    "editable": true
   },
   "outputs": [
    {
     "name": "stdout",
     "output_type": "stream",
     "text": [
      "Malware in dataset: 9434\n",
      "Goodware in dataset: 4717\n",
      "CC:\t0.8970\n",
      "DR:\t0.9427\n",
      "FP:\t0.0936\n",
      "FN:\t0.1243\n",
      "\n",
      "Malware stats:\n"
     ]
    },
    {
     "data": {
      "text/plain": [
       "count    4714.000000\n",
       "mean        0.904000\n",
       "std         0.188950\n",
       "min         0.000003\n",
       "25%         0.930720\n",
       "50%         0.969920\n",
       "75%         0.996365\n",
       "max         1.000000\n",
       "dtype: float64"
      ]
     },
     "metadata": {},
     "output_type": "display_data"
    },
    {
     "name": "stdout",
     "output_type": "stream",
     "text": [
      "\n",
      "Goodware stats:\n"
     ]
    },
    {
     "data": {
      "text/plain": [
       "count    2.362000e+03\n",
       "mean     7.794856e-01\n",
       "std      3.107167e-01\n",
       "min      6.862127e-07\n",
       "25%      6.769660e-01\n",
       "50%      9.349017e-01\n",
       "75%      9.985927e-01\n",
       "max      1.000000e+00\n",
       "dtype: float64"
      ]
     },
     "metadata": {},
     "output_type": "display_data"
    },
    {
     "data": {
      "image/png": "[encoded data removed]",
      "text/plain": [
       "<matplotlib.figure.Figure at 0x7fa587d2b7f0>"
      ]
     },
     "metadata": {},
     "output_type": "display_data"
    },
    {
     "name": "stdout",
     "output_type": "stream",
     "text": [
      "CPU times: user 2.79 s, sys: 313 ms, total: 3.11 s\n",
      "Wall time: 2.75 s\n"
     ]
    }
   ],
   "source": [
    "%%time\n",
    "# Use up to 300 imports, but with more malware than goodware\n",
    "dataset6 = dataset[dataset.imports.map(lambda x: len(x.split(';')) <= 300 and len(x.split(';')) > 1)]\n",
    "malware_count = len(dataset6[dataset6.malware == 1])\n",
    "goodware_count = len(dataset6[dataset6.malware == 0])\n",
    "\n",
    "limiting = min(malware_count, goodware_count)\n",
    "malware = dataset6[dataset6.malware == 1].sample(n=limiting)\n",
    "# Use 50% less goodware\n",
    "goodware = dataset6[dataset6.malware == 0].sample(n=int(limiting * 0.5))\n",
    "\n",
    "# Recreate the dataset, now balanced\n",
    "dataset6 = pd.concat([malware, goodware])\n",
    "\n",
    "print('Malware in dataset: {}'.format(len(dataset6[dataset6.malware == 1])))\n",
    "print('Goodware in dataset: {}'.format(len(dataset6[dataset6.malware == 0])))\n",
    "\n",
    "# Split into train and test (this also shuffles the data)\n",
    "(train, test) = train_test_split(dataset6, test_size=test_size)\n",
    "\n",
    "# Generate the count vectorizer\n",
    "cv_token_pattern = u'[^;]+'\n",
    "cv = CountVectorizer(token_pattern=cv_token_pattern)\n",
    "train_X = cv.fit_transform(train.imports)\n",
    "train_Y = train.malware\n",
    "test_X = cv.transform(test.imports)\n",
    "test_Y = test.malware\n",
    "\n",
    "# Logistic Regression training\n",
    "lr = LogisticRegression().fit(train_X, train_Y)\n",
    "\n",
    "score = confusion_matrix(test_Y, lr.predict(test_X))\n",
    "fp_rate, fn_rate, cc_rate, det_rate = jcfg_helpers.calc_ratios(score)\n",
    "print('CC:\\t{:.4f}'.format(cc_rate))\n",
    "print('DR:\\t{:.4f}'.format(det_rate))\n",
    "print('FP:\\t{:.4f}'.format(fp_rate))\n",
    "print('FN:\\t{:.4f}'.format(fn_rate))\n",
    "\n",
    "malware_only = lr.predict_proba(test_X[np.where(test_Y == 1)])\n",
    "goodware_only = lr.predict_proba(test_X[np.where(test_Y == 0)])\n",
    "print('\\nMalware stats:')\n",
    "display(pd.Series(malware_only[:,1]).describe())\n",
    "print('\\nGoodware stats:')\n",
    "display(pd.Series(goodware_only[:,0]).describe())\n",
    "\n",
    "plt.figure(figsize=(10, 4), dpi=100)\n",
    "plt.subplot(211)\n",
    "plt.hist(goodware_only[:,0], bins=20, alpha=0.75)\n",
    "plt.subplot(212)\n",
    "plt.hist(malware_only[:,1], bins=20, alpha=0.75)\n",
    "plt.show()"
   ]
  }
 ],
 "metadata": {
  "kernelspec": {
   "display_name": "Python 3",
   "language": "python",
   "name": "python3"
  },
  "language_info": {
   "codemirror_mode": {
    "name": "ipython",
    "version": 3
   },
   "file_extension": ".py",
   "mimetype": "text/x-python",
   "name": "python",
   "nbconvert_exporter": "python",
   "pygments_lexer": "ipython3",
   "version": "3.6.0"
  }
 },
 "nbformat": 4,
 "nbformat_minor": 2
}
