{
 "cells": [
  {
   "cell_type": "code",
   "execution_count": 1,
   "metadata": {
    "collapsed": true
   },
   "outputs": [],
   "source": [
    "import pandas as pd\n",
    "import json\n",
    "from os import walk\n",
    "from IPython.display import display\n",
    "\n",
    "data_folder = 'data/'\n",
    "headers_file = data_folder + 'header_analyses.csv'\n",
    "reports_folder = data_folder + 'reports/'"
   ]
  },
  {
   "cell_type": "markdown",
   "metadata": {},
   "source": [
    "# Useful Reports\n",
    "\n",
    "Check on header analysis which reports are PE32 and which are available."
   ]
  },
  {
   "cell_type": "code",
   "execution_count": 2,
   "metadata": {
    "collapsed": false,
    "scrolled": true
   },
   "outputs": [
    {
     "data": {
      "text/plain": [
       "'Available reports: 397442'"
      ]
     },
     "metadata": {},
     "output_type": "display_data"
    }
   ],
   "source": [
    "headers = pd.read_csv(headers_file)\n",
    "headers.link = headers.link.apply(lambda x: x.split('/')[-2])\n",
    "headers = headers.set_index('link')\n",
    "headers = headers[~headers.file_type.isnull()]\n",
    "headers = headers[headers.file_type.str.startswith('PE32')]\n",
    "\n",
    "(_, _, downloaded) = next(walk(reports_folder))\n",
    "headers = headers[headers.index.isin(downloaded)]\n",
    "display('Available reports: {}'.format(len(headers)))\n",
    "\n",
    "# Generate JSON with reports to be used\n",
    "with open(data_folder + 'reports_available.json', 'w') as file:\n",
    "    file.write(json.dumps(list(headers.index)))"
   ]
  },
  {
   "cell_type": "markdown",
   "metadata": {},
   "source": [
    "# Classified Reports\n",
    "\n",
    "Reports that are classified by virustotal"
   ]
  },
  {
   "cell_type": "code",
   "execution_count": 3,
   "metadata": {
    "collapsed": false,
    "scrolled": false
   },
   "outputs": [
    {
     "data": {
      "text/plain": [
       "'Classified reports: 292133'"
      ]
     },
     "metadata": {},
     "output_type": "display_data"
    }
   ],
   "source": [
    "classified = headers.drop(['file_name', 'date', 'md5', 'file_type'], axis=1)\n",
    "classified = classified[classified.antivirus != 'n/a']\n",
    "\n",
    "display('Classified reports: {}'.format(len(classified)))\n",
    "\n",
    "# Generate JSON with classified reports\n",
    "with open(data_folder + 'reports_classified.json', 'w') as file:\n",
    "    file.write(json.dumps(list(classified.index)))"
   ]
  },
  {
   "cell_type": "markdown",
   "metadata": {},
   "source": [
    "# Duplicated reports\n",
    "\n",
    "Reports that are duplicated"
   ]
  },
  {
   "cell_type": "code",
   "execution_count": 4,
   "metadata": {
    "collapsed": false,
    "scrolled": false
   },
   "outputs": [
    {
     "data": {
      "text/plain": [
       "'Duplicated reports: 101256'"
      ]
     },
     "metadata": {},
     "output_type": "display_data"
    }
   ],
   "source": [
    "duplicated = headers.drop(['file_name', 'date', 'file_type', 'antivirus'], axis=1)\n",
    "duplicated = duplicated[duplicated.duplicated('md5', keep=False)]\n",
    "\n",
    "display('Duplicated reports: {}'.format(len(duplicated)))\n",
    "\n",
    "# Generate JSON with duplicated reports\n",
    "with open(data_folder + 'reports_duplicated.json', 'w') as file:\n",
    "    file.write(json.dumps(list(duplicated.index)))"
   ]
  }
 ],
 "metadata": {
  "kernelspec": {
   "display_name": "Python 3",
   "language": "python",
   "name": "python3"
  },
  "language_info": {
   "codemirror_mode": {
    "name": "ipython",
    "version": 3
   },
   "file_extension": ".py",
   "mimetype": "text/x-python",
   "name": "python",
   "nbconvert_exporter": "python",
   "pygments_lexer": "ipython3",
   "version": "3.6.1"
  }
 },
 "nbformat": 4,
 "nbformat_minor": 2
}
