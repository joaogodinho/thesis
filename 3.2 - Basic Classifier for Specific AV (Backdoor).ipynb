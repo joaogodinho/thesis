{
 "cells": [
  {
   "cell_type": "markdown",
   "metadata": {
    "deletable": true,
    "editable": true
   },
   "source": [
    "# Basic Classifiser for Specific AV\n",
    "\n",
    "Create a basic classifier for specific vendors, meaning it trains and validates the samples based on a single vendor."
   ]
  },
  {
   "cell_type": "code",
   "execution_count": 1,
   "metadata": {
    "collapsed": true,
    "deletable": true,
    "editable": true
   },
   "outputs": [],
   "source": [
    "import pandas as pd\n",
    "import numpy as np\n",
    "import lib.data_loading as jcfg_data_loading\n",
    "import lib.helpers as jcfg_helpers\n",
    "import matplotlib.pyplot as plt\n",
    "from IPython.display import display\n",
    "from sklearn.feature_extraction.text import CountVectorizer\n",
    "from sklearn.linear_model import LogisticRegression\n",
    "from sklearn.model_selection import train_test_split\n",
    "from sklearn.metrics import confusion_matrix\n",
    "\n",
    "\n",
    "test_size = 0.50\n",
    "\n",
    "# Use the original samples to remove all but the last submission of duplicated samples\n",
    "samples = pd.read_csv('data/mined_data/pe32_samples.csv')\n",
    "samples = jcfg_data_loading.set_pd_datetime_index(samples)\n",
    "samples.drop_duplicates(subset='md5', inplace=True, keep='last')"
   ]
  },
  {
   "cell_type": "markdown",
   "metadata": {
    "deletable": true,
    "editable": true
   },
   "source": [
    "## Microsoft Classifier\n",
    "\n",
    "**Ignoring temporal consistency**, train and test a classifier for microsoft only samples"
   ]
  },
  {
   "cell_type": "code",
   "execution_count": 2,
   "metadata": {
    "collapsed": false,
    "deletable": true,
    "editable": true,
    "scrolled": true
   },
   "outputs": [
    {
     "name": "stdout",
     "output_type": "stream",
     "text": [
      "Malware in dataset: 13217\n",
      "Goodware in dataset: 154556\n"
     ]
    }
   ],
   "source": [
    "# Load the needed CSVs\n",
    "static_imports = pd.read_csv('data/mined_data/pe32_static_imports.csv', dtype=str)\n",
    "static_imports = static_imports.set_index('link')\n",
    "\n",
    "microsoft_samples = pd.read_csv('data/mined_data/microsoft_classification.csv', dtype=str)\n",
    "microsoft_samples = microsoft_samples.set_index('link')\n",
    "\n",
    "# Join the microsoft samples with the imports\n",
    "dataset = microsoft_samples.join(static_imports).dropna(subset=['imports'])\n",
    "dataset.drop(['info', 'variant', 'family', 'platform'], axis=1, inplace=True)\n",
    "# Remove dups\n",
    "dataset = dataset[dataset.index.isin(samples.link)]\n",
    "\n",
    "dataset.type.fillna(value=0, inplace=True)\n",
    "\n",
    "\n",
    "# Filter types of malware\n",
    "dataset = dataset[(dataset.type == 'backdoor') | (dataset.type == 0)]\n",
    "\n",
    "\n",
    "dataset.type = dataset.type.replace(to_replace=None, value=1, regex=r'.+').astype(int)\n",
    "dataset.rename(columns={'type': 'malware'}, inplace=True)\n",
    "\n",
    "print('Malware in dataset: {}'.format(len(dataset[dataset.malware == 1])))\n",
    "print('Goodware in dataset: {}'.format(len(dataset[dataset.malware == 0])))"
   ]
  },
  {
   "cell_type": "code",
   "execution_count": 3,
   "metadata": {
    "collapsed": false,
    "deletable": true,
    "editable": true
   },
   "outputs": [
    {
     "name": "stdout",
     "output_type": "stream",
     "text": [
      "Statistics on malware imports:\n"
     ]
    },
    {
     "data": {
      "text/plain": [
       "count    13217.000000\n",
       "mean        82.523114\n",
       "std        146.634137\n",
       "min          1.000000\n",
       "25%          1.000000\n",
       "50%         15.000000\n",
       "75%         88.000000\n",
       "max        880.000000\n",
       "Name: imports, dtype: float64"
      ]
     },
     "metadata": {},
     "output_type": "display_data"
    },
    {
     "name": "stdout",
     "output_type": "stream",
     "text": [
      "\n",
      "Statistics on goodware imports:\n"
     ]
    },
    {
     "data": {
      "text/plain": [
       "count    154556.000000\n",
       "mean        124.116689\n",
       "std         176.287262\n",
       "min           1.000000\n",
       "25%          19.000000\n",
       "50%          83.000000\n",
       "75%         154.000000\n",
       "max       13325.000000\n",
       "Name: imports, dtype: float64"
      ]
     },
     "metadata": {},
     "output_type": "display_data"
    }
   ],
   "source": [
    "# How imports vary on malware/goodware\n",
    "microsoft_malware = dataset[dataset.malware == 1]\n",
    "microsoft_goodware = dataset[dataset.malware == 0]\n",
    "\n",
    "mcm_count = microsoft_malware.imports.apply(lambda x: len(x.split(';')))\n",
    "mcg_count = microsoft_goodware.imports.apply(lambda x: len(x.split(';')))\n",
    "\n",
    "print('Statistics on malware imports:')\n",
    "display(mcm_count.describe())\n",
    "print('\\nStatistics on goodware imports:')\n",
    "display(mcg_count.describe())"
   ]
  },
  {
   "cell_type": "code",
   "execution_count": 4,
   "metadata": {
    "collapsed": false,
    "deletable": true,
    "editable": true
   },
   "outputs": [
    {
     "name": "stdout",
     "output_type": "stream",
     "text": [
      "CC:\t0.9414\n",
      "DR:\t0.3762\n",
      "FP:\t0.2271\n",
      "FN:\t0.0518\n",
      "\n",
      "Malware stats:\n"
     ]
    },
    {
     "data": {
      "text/plain": [
       "count    6.693000e+03\n",
       "mean     4.218792e-01\n",
       "std      3.537414e-01\n",
       "min      6.197932e-16\n",
       "25%      1.358485e-01\n",
       "50%      2.515060e-01\n",
       "75%      7.716973e-01\n",
       "max      9.999999e-01\n",
       "dtype: float64"
      ]
     },
     "metadata": {},
     "output_type": "display_data"
    },
    {
     "name": "stdout",
     "output_type": "stream",
     "text": [
      "\n",
      "Goodware stats:\n"
     ]
    },
    {
     "data": {
      "text/plain": [
       "count    77194.000000\n",
       "mean         0.950272\n",
       "std          0.096984\n",
       "min          0.000119\n",
       "25%          0.932782\n",
       "50%          0.995223\n",
       "75%          0.999356\n",
       "max          1.000000\n",
       "dtype: float64"
      ]
     },
     "metadata": {},
     "output_type": "display_data"
    },
    {
     "data": {
      "image/png": "[encoded data removed]",
      "text/plain": [
       "<matplotlib.figure.Figure at 0x7f0dbd8c2a58>"
      ]
     },
     "metadata": {},
     "output_type": "display_data"
    },
    {
     "name": "stdout",
     "output_type": "stream",
     "text": [
      "CPU times: user 49.5 s, sys: 947 ms, total: 50.4 s\n",
      "Wall time: 49.6 s\n"
     ]
    }
   ],
   "source": [
    "%%time\n",
    "# Raw LR, use all imports, dataset balanced as is (more goodware than malware)\n",
    "# Split into train and test (this also shuffles the data)\n",
    "(train, test) = train_test_split(dataset, test_size=test_size)\n",
    "\n",
    "# Generate the count vectorizer\n",
    "cv_token_pattern = u'[^;]+'\n",
    "cv = CountVectorizer(token_pattern=cv_token_pattern)\n",
    "train_X = cv.fit_transform(train.imports)\n",
    "train_Y = train.malware\n",
    "test_X = cv.transform(test.imports)\n",
    "test_Y = test.malware\n",
    "\n",
    "# Logistic Regression training\n",
    "lr = LogisticRegression().fit(train_X, train_Y)\n",
    "\n",
    "score = confusion_matrix(test_Y, lr.predict(test_X))\n",
    "fp_rate, fn_rate, cc_rate, det_rate = jcfg_helpers.calc_ratios(score)\n",
    "print('CC:\\t{:.4f}'.format(cc_rate))\n",
    "print('DR:\\t{:.4f}'.format(det_rate))\n",
    "print('FP:\\t{:.4f}'.format(fp_rate))\n",
    "print('FN:\\t{:.4f}'.format(fn_rate))\n",
    "\n",
    "malware_only = lr.predict_proba(test_X[np.where(test_Y == 1)])\n",
    "goodware_only = lr.predict_proba(test_X[np.where(test_Y == 0)])\n",
    "print('\\nMalware stats:')\n",
    "display(pd.Series(malware_only[:,1]).describe())\n",
    "print('\\nGoodware stats:')\n",
    "display(pd.Series(goodware_only[:,0]).describe())\n",
    "\n",
    "plt.figure(figsize=(10, 4), dpi=100)\n",
    "plt.subplot(211)\n",
    "plt.hist(goodware_only[:,0], bins=20, alpha=0.75)\n",
    "plt.subplot(212)\n",
    "plt.hist(malware_only[:,1], bins=20, alpha=0.75)\n",
    "plt.show()"
   ]
  },
  {
   "cell_type": "code",
   "execution_count": 5,
   "metadata": {
    "collapsed": false,
    "deletable": true,
    "editable": true
   },
   "outputs": [
    {
     "name": "stdout",
     "output_type": "stream",
     "text": [
      "Malware in dataset: 13217\n",
      "Goodware in dataset: 13217\n",
      "CC:\t0.8133\n",
      "DR:\t0.9008\n",
      "FP:\t0.2340\n",
      "FN:\t0.1197\n",
      "\n",
      "Malware stats:\n"
     ]
    },
    {
     "data": {
      "text/plain": [
       "count    6.592000e+03\n",
       "mean     7.675383e-01\n",
       "std      2.286088e-01\n",
       "min      3.625399e-07\n",
       "25%      6.505539e-01\n",
       "50%      8.208716e-01\n",
       "75%      9.708532e-01\n",
       "max      1.000000e+00\n",
       "dtype: float64"
      ]
     },
     "metadata": {},
     "output_type": "display_data"
    },
    {
     "name": "stdout",
     "output_type": "stream",
     "text": [
      "\n",
      "Goodware stats:\n"
     ]
    },
    {
     "data": {
      "text/plain": [
       "count    6.625000e+03\n",
       "mean     7.447316e-01\n",
       "std      3.009567e-01\n",
       "min      5.297247e-07\n",
       "25%      3.990153e-01\n",
       "50%      9.076138e-01\n",
       "75%      9.955431e-01\n",
       "max      1.000000e+00\n",
       "dtype: float64"
      ]
     },
     "metadata": {},
     "output_type": "display_data"
    },
    {
     "data": {
      "image/png": "[encoded data removed]",
      "text/plain": [
       "<matplotlib.figure.Figure at 0x7f0de85f4f60>"
      ]
     },
     "metadata": {},
     "output_type": "display_data"
    },
    {
     "name": "stdout",
     "output_type": "stream",
     "text": [
      "CPU times: user 4.67 s, sys: 313 ms, total: 4.98 s\n",
      "Wall time: 4.6 s\n"
     ]
    }
   ],
   "source": [
    "%%time\n",
    "# Use all imports, but balance the datasets\n",
    "malware_count = len(dataset[dataset.malware == 1])\n",
    "goodware_count = len(dataset[dataset.malware == 0])\n",
    "\n",
    "limiting = min(malware_count, goodware_count)\n",
    "malware = dataset[dataset.malware == 1].sample(n=limiting)\n",
    "goodware = dataset[dataset.malware == 0].sample(n=limiting)\n",
    "\n",
    "# Recreate the dataset, now balanced\n",
    "dataset2 = pd.concat([malware, goodware])\n",
    "\n",
    "print('Malware in dataset: {}'.format(len(dataset2[dataset2.malware == 1])))\n",
    "print('Goodware in dataset: {}'.format(len(dataset2[dataset2.malware == 0])))\n",
    "\n",
    "# Split into train and test (this also shuffles the data)\n",
    "(train, test) = train_test_split(dataset2, test_size=test_size)\n",
    "\n",
    "# Generate the count vectorizer\n",
    "cv_token_pattern = u'[^;]+'\n",
    "cv = CountVectorizer(token_pattern=cv_token_pattern)\n",
    "train_X = cv.fit_transform(train.imports)\n",
    "train_Y = train.malware\n",
    "test_X = cv.transform(test.imports)\n",
    "test_Y = test.malware\n",
    "\n",
    "# Logistic Regression training\n",
    "lr = LogisticRegression().fit(train_X, train_Y)\n",
    "\n",
    "score = confusion_matrix(test_Y, lr.predict(test_X))\n",
    "fp_rate, fn_rate, cc_rate, det_rate = jcfg_helpers.calc_ratios(score)\n",
    "print('CC:\\t{:.4f}'.format(cc_rate))\n",
    "print('DR:\\t{:.4f}'.format(det_rate))\n",
    "print('FP:\\t{:.4f}'.format(fp_rate))\n",
    "print('FN:\\t{:.4f}'.format(fn_rate))\n",
    "\n",
    "malware_only = lr.predict_proba(test_X[np.where(test_Y == 1)])\n",
    "goodware_only = lr.predict_proba(test_X[np.where(test_Y == 0)])\n",
    "print('\\nMalware stats:')\n",
    "display(pd.Series(malware_only[:,1]).describe())\n",
    "print('\\nGoodware stats:')\n",
    "display(pd.Series(goodware_only[:,0]).describe())\n",
    "\n",
    "plt.figure(figsize=(10, 4), dpi=100)\n",
    "plt.subplot(211)\n",
    "plt.hist(goodware_only[:,0], bins=20, alpha=0.75)\n",
    "plt.subplot(212)\n",
    "plt.hist(malware_only[:,1], bins=20, alpha=0.75)\n",
    "plt.show()"
   ]
  },
  {
   "cell_type": "code",
   "execution_count": 6,
   "metadata": {
    "collapsed": false,
    "deletable": true,
    "editable": true
   },
   "outputs": [
    {
     "name": "stdout",
     "output_type": "stream",
     "text": [
      "Malware in dataset: 13217\n",
      "Goodware in dataset: 6608\n",
      "CC:\t0.8454\n",
      "DR:\t0.9434\n",
      "FP:\t0.1583\n",
      "FN:\t0.1442\n",
      "\n",
      "Malware stats:\n"
     ]
    },
    {
     "data": {
      "text/plain": [
       "count    6.550000e+03\n",
       "mean     8.442772e-01\n",
       "std      1.859985e-01\n",
       "min      9.345075e-07\n",
       "25%      7.803891e-01\n",
       "50%      8.917371e-01\n",
       "75%      9.873733e-01\n",
       "max      1.000000e+00\n",
       "dtype: float64"
      ]
     },
     "metadata": {},
     "output_type": "display_data"
    },
    {
     "name": "stdout",
     "output_type": "stream",
     "text": [
      "\n",
      "Goodware stats:\n"
     ]
    },
    {
     "data": {
      "text/plain": [
       "count    3363.000000\n",
       "mean        0.672944\n",
       "std         0.344884\n",
       "min         0.000100\n",
       "25%         0.246256\n",
       "50%         0.836281\n",
       "75%         0.994325\n",
       "max         1.000000\n",
       "dtype: float64"
      ]
     },
     "metadata": {},
     "output_type": "display_data"
    },
    {
     "data": {
      "image/png": "[encoded data removed]",
      "text/plain": [
       "<matplotlib.figure.Figure at 0x7f0de85e3320>"
      ]
     },
     "metadata": {},
     "output_type": "display_data"
    },
    {
     "name": "stdout",
     "output_type": "stream",
     "text": [
      "CPU times: user 3.65 s, sys: 413 ms, total: 4.06 s\n",
      "Wall time: 3.6 s\n"
     ]
    }
   ],
   "source": [
    "%%time\n",
    "# Use all imports, but use more malware for training (more goodware version is default)\n",
    "malware_count = len(dataset[dataset.malware == 1])\n",
    "goodware_count = len(dataset[dataset.malware == 0])\n",
    "\n",
    "limiting = min(malware_count, goodware_count)\n",
    "malware = dataset[dataset.malware == 1].sample(n=limiting)\n",
    "# Use 50% less goodware\n",
    "goodware = dataset[dataset.malware == 0].sample(n=int(limiting * 0.5))\n",
    "\n",
    "# Recreate the dataset, now balanced\n",
    "dataset3 = pd.concat([malware, goodware])\n",
    "\n",
    "print('Malware in dataset: {}'.format(len(dataset3[dataset3.malware == 1])))\n",
    "print('Goodware in dataset: {}'.format(len(dataset3[dataset3.malware == 0])))\n",
    "\n",
    "# Split into train and test (this also shuffles the data)\n",
    "(train, test) = train_test_split(dataset3, test_size=test_size)\n",
    "\n",
    "# Generate the count vectorizer\n",
    "cv_token_pattern = u'[^;]+'\n",
    "cv = CountVectorizer(token_pattern=cv_token_pattern)\n",
    "train_X = cv.fit_transform(train.imports)\n",
    "train_Y = train.malware\n",
    "test_X = cv.transform(test.imports)\n",
    "test_Y = test.malware\n",
    "\n",
    "# Logistic Regression training\n",
    "lr = LogisticRegression().fit(train_X, train_Y)\n",
    "\n",
    "score = confusion_matrix(test_Y, lr.predict(test_X))\n",
    "fp_rate, fn_rate, cc_rate, det_rate = jcfg_helpers.calc_ratios(score)\n",
    "print('CC:\\t{:.4f}'.format(cc_rate))\n",
    "print('DR:\\t{:.4f}'.format(det_rate))\n",
    "print('FP:\\t{:.4f}'.format(fp_rate))\n",
    "print('FN:\\t{:.4f}'.format(fn_rate))\n",
    "\n",
    "malware_only = lr.predict_proba(test_X[np.where(test_Y == 1)])\n",
    "goodware_only = lr.predict_proba(test_X[np.where(test_Y == 0)])\n",
    "print('\\nMalware stats:')\n",
    "display(pd.Series(malware_only[:,1]).describe())\n",
    "print('\\nGoodware stats:')\n",
    "display(pd.Series(goodware_only[:,0]).describe())\n",
    "\n",
    "plt.figure(figsize=(10, 4), dpi=100)\n",
    "plt.subplot(211)\n",
    "plt.hist(goodware_only[:,0], bins=20, alpha=0.75)\n",
    "plt.subplot(212)\n",
    "plt.hist(malware_only[:,1], bins=20, alpha=0.75)\n",
    "plt.show()"
   ]
  },
  {
   "cell_type": "code",
   "execution_count": 7,
   "metadata": {
    "collapsed": false,
    "deletable": true,
    "editable": true
   },
   "outputs": [
    {
     "name": "stdout",
     "output_type": "stream",
     "text": [
      "Malware in dataset: 8394\n",
      "Goodware in dataset: 116125\n",
      "CC:\t0.9553\n",
      "DR:\t0.5132\n",
      "FP:\t0.2495\n",
      "FN:\t0.0347\n",
      "\n",
      "Malware stats:\n"
     ]
    },
    {
     "data": {
      "text/plain": [
       "count    4.232000e+03\n",
       "mean     5.103550e-01\n",
       "std      3.510630e-01\n",
       "min      2.185055e-12\n",
       "25%      1.711117e-01\n",
       "50%      5.260386e-01\n",
       "75%      8.779397e-01\n",
       "max      9.999998e-01\n",
       "dtype: float64"
      ]
     },
     "metadata": {},
     "output_type": "display_data"
    },
    {
     "name": "stdout",
     "output_type": "stream",
     "text": [
      "\n",
      "Goodware stats:\n"
     ]
    },
    {
     "data": {
      "text/plain": [
       "count    58028.000000\n",
       "mean         0.962693\n",
       "std          0.101179\n",
       "min          0.000174\n",
       "25%          0.978152\n",
       "50%          0.996497\n",
       "75%          0.999632\n",
       "max          1.000000\n",
       "dtype: float64"
      ]
     },
     "metadata": {},
     "output_type": "display_data"
    },
    {
     "data": {
      "image/png": "[encoded data removed]",
      "text/plain": [
       "<matplotlib.figure.Figure at 0x7f0de8bd0fd0>"
      ]
     },
     "metadata": {},
     "output_type": "display_data"
    },
    {
     "name": "stdout",
     "output_type": "stream",
     "text": [
      "CPU times: user 19.9 s, sys: 473 ms, total: 20.4 s\n",
      "Wall time: 19.9 s\n"
     ]
    }
   ],
   "source": [
    "%%time\n",
    "# Use between 2 and 300 imports (+/- mean + std for goodware), without balancing\n",
    "# Filter samples by the number of imports\n",
    "dataset4 = dataset[dataset.imports.map(lambda x: len(x.split(';')) <= 300 and len(x.split(';')) > 1)]\n",
    "\n",
    "print('Malware in dataset: {}'.format(len(dataset4[dataset4.malware == 1])))\n",
    "print('Goodware in dataset: {}'.format(len(dataset4[dataset4.malware == 0])))\n",
    "\n",
    "# Split into train and test (this also shuffles the data)\n",
    "(train, test) = train_test_split(dataset4, test_size=test_size)\n",
    "\n",
    "# Generate the count vectorizer\n",
    "cv_token_pattern = u'[^;]+'\n",
    "cv = CountVectorizer(token_pattern=cv_token_pattern)\n",
    "train_X = cv.fit_transform(train.imports)\n",
    "train_Y = train.malware\n",
    "test_X = cv.transform(test.imports)\n",
    "test_Y = test.malware\n",
    "\n",
    "# Logistic Regression training\n",
    "lr = LogisticRegression().fit(train_X, train_Y)\n",
    "\n",
    "score = confusion_matrix(test_Y, lr.predict(test_X))\n",
    "fp_rate, fn_rate, cc_rate, det_rate = jcfg_helpers.calc_ratios(score)\n",
    "print('CC:\\t{:.4f}'.format(cc_rate))\n",
    "print('DR:\\t{:.4f}'.format(det_rate))\n",
    "print('FP:\\t{:.4f}'.format(fp_rate))\n",
    "print('FN:\\t{:.4f}'.format(fn_rate))\n",
    "\n",
    "malware_only = lr.predict_proba(test_X[np.where(test_Y == 1)])\n",
    "goodware_only = lr.predict_proba(test_X[np.where(test_Y == 0)])\n",
    "print('\\nMalware stats:')\n",
    "display(pd.Series(malware_only[:,1]).describe())\n",
    "print('\\nGoodware stats:')\n",
    "display(pd.Series(goodware_only[:,0]).describe())\n",
    "\n",
    "plt.figure(figsize=(10, 4), dpi=100)\n",
    "plt.subplot(211)\n",
    "plt.hist(goodware_only[:,0], bins=20, alpha=0.75)\n",
    "plt.subplot(212)\n",
    "plt.hist(malware_only[:,1], bins=20, alpha=0.75)\n",
    "plt.show()"
   ]
  },
  {
   "cell_type": "code",
   "execution_count": 8,
   "metadata": {
    "collapsed": false,
    "deletable": true,
    "editable": true
   },
   "outputs": [
    {
     "name": "stdout",
     "output_type": "stream",
     "text": [
      "Malware in dataset: 8394\n",
      "Goodware in dataset: 8394\n",
      "CC:\t0.8506\n",
      "DR:\t0.8723\n",
      "FP:\t0.1635\n",
      "FN:\t0.1339\n",
      "\n",
      "Malware stats:\n"
     ]
    },
    {
     "data": {
      "text/plain": [
       "count    4.205000e+03\n",
       "mean     8.094787e-01\n",
       "std      2.525864e-01\n",
       "min      4.416778e-07\n",
       "25%      7.507187e-01\n",
       "50%      9.220550e-01\n",
       "75%      9.838062e-01\n",
       "max      9.999999e-01\n",
       "dtype: float64"
      ]
     },
     "metadata": {},
     "output_type": "display_data"
    },
    {
     "name": "stdout",
     "output_type": "stream",
     "text": [
      "\n",
      "Goodware stats:\n"
     ]
    },
    {
     "data": {
      "text/plain": [
       "count    4189.000000\n",
       "mean        0.794380\n",
       "std         0.284760\n",
       "min         0.000041\n",
       "25%         0.668023\n",
       "50%         0.941907\n",
       "75%         0.994477\n",
       "max         1.000000\n",
       "dtype: float64"
      ]
     },
     "metadata": {},
     "output_type": "display_data"
    },
    {
     "data": {
      "image/png": "[encoded data removed]",
      "text/plain": [
       "<matplotlib.figure.Figure at 0x7f0de8336470>"
      ]
     },
     "metadata": {},
     "output_type": "display_data"
    },
    {
     "name": "stdout",
     "output_type": "stream",
     "text": [
      "CPU times: user 4.39 s, sys: 350 ms, total: 4.74 s\n",
      "Wall time: 4.36 s\n"
     ]
    }
   ],
   "source": [
    "%%time\n",
    "# Use between 2 and 300 imports, balanced dataset\n",
    "dataset5 = dataset[dataset.imports.map(lambda x: len(x.split(';')) <= 300 and len(x.split(';')) > 1)]\n",
    "malware_count = len(dataset5[dataset5.malware == 1])\n",
    "goodware_count = len(dataset5[dataset5.malware == 0])\n",
    "\n",
    "limiting = min(malware_count, goodware_count)\n",
    "malware = dataset5[dataset5.malware == 1].sample(n=limiting)\n",
    "goodware = dataset5[dataset5.malware == 0].sample(n=limiting)\n",
    "\n",
    "# Recreate the dataset, now balanced\n",
    "dataset5 = pd.concat([malware, goodware])\n",
    "\n",
    "print('Malware in dataset: {}'.format(len(dataset5[dataset5.malware == 1])))\n",
    "print('Goodware in dataset: {}'.format(len(dataset5[dataset5.malware == 0])))\n",
    "\n",
    "# Split into train and test (this also shuffles the data)\n",
    "(train, test) = train_test_split(dataset5, test_size=test_size)\n",
    "\n",
    "# Generate the count vectorizer\n",
    "cv_token_pattern = u'[^;]+'\n",
    "cv = CountVectorizer(token_pattern=cv_token_pattern)\n",
    "train_X = cv.fit_transform(train.imports)\n",
    "train_Y = train.malware\n",
    "test_X = cv.transform(test.imports)\n",
    "test_Y = test.malware\n",
    "\n",
    "# Logistic Regression training\n",
    "lr = LogisticRegression().fit(train_X, train_Y)\n",
    "\n",
    "score = confusion_matrix(test_Y, lr.predict(test_X))\n",
    "fp_rate, fn_rate, cc_rate, det_rate = jcfg_helpers.calc_ratios(score)\n",
    "print('CC:\\t{:.4f}'.format(cc_rate))\n",
    "print('DR:\\t{:.4f}'.format(det_rate))\n",
    "print('FP:\\t{:.4f}'.format(fp_rate))\n",
    "print('FN:\\t{:.4f}'.format(fn_rate))\n",
    "\n",
    "malware_only = lr.predict_proba(test_X[np.where(test_Y == 1)])\n",
    "goodware_only = lr.predict_proba(test_X[np.where(test_Y == 0)])\n",
    "print('\\nMalware stats:')\n",
    "display(pd.Series(malware_only[:,1]).describe())\n",
    "print('\\nGoodware stats:')\n",
    "display(pd.Series(goodware_only[:,0]).describe())\n",
    "\n",
    "plt.figure(figsize=(10, 4), dpi=100)\n",
    "plt.subplot(211)\n",
    "plt.hist(goodware_only[:,0], bins=20, alpha=0.75)\n",
    "plt.subplot(212)\n",
    "plt.hist(malware_only[:,1], bins=20, alpha=0.75)\n",
    "plt.show()"
   ]
  },
  {
   "cell_type": "code",
   "execution_count": 9,
   "metadata": {
    "collapsed": false,
    "deletable": true,
    "editable": true
   },
   "outputs": [
    {
     "name": "stdout",
     "output_type": "stream",
     "text": [
      "Malware in dataset: 8394\n",
      "Goodware in dataset: 4197\n",
      "CC:\t0.8548\n",
      "DR:\t0.9321\n",
      "FP:\t0.1410\n",
      "FN:\t0.1554\n",
      "\n",
      "Malware stats:\n"
     ]
    },
    {
     "data": {
      "text/plain": [
       "count    4.136000e+03\n",
       "mean     8.714704e-01\n",
       "std      2.055089e-01\n",
       "min      3.634698e-08\n",
       "25%      8.631460e-01\n",
       "50%      9.514003e-01\n",
       "75%      9.919325e-01\n",
       "max      1.000000e+00\n",
       "dtype: float64"
      ]
     },
     "metadata": {},
     "output_type": "display_data"
    },
    {
     "name": "stdout",
     "output_type": "stream",
     "text": [
      "\n",
      "Goodware stats:\n"
     ]
    },
    {
     "data": {
      "text/plain": [
       "count    2160.000000\n",
       "mean        0.692460\n",
       "std         0.341115\n",
       "min         0.000171\n",
       "25%         0.420171\n",
       "50%         0.838406\n",
       "75%         0.982488\n",
       "max         1.000000\n",
       "dtype: float64"
      ]
     },
     "metadata": {},
     "output_type": "display_data"
    },
    {
     "data": {
      "image/png": "[encoded data removed]",
      "text/plain": [
       "<matplotlib.figure.Figure at 0x7f0dd59c6048>"
      ]
     },
     "metadata": {},
     "output_type": "display_data"
    },
    {
     "name": "stdout",
     "output_type": "stream",
     "text": [
      "CPU times: user 3.68 s, sys: 387 ms, total: 4.06 s\n",
      "Wall time: 3.62 s\n"
     ]
    }
   ],
   "source": [
    "%%time\n",
    "# Use up to 300 imports, but with more malware than goodware\n",
    "dataset6 = dataset[dataset.imports.map(lambda x: len(x.split(';')) <= 300 and len(x.split(';')) > 1)]\n",
    "malware_count = len(dataset6[dataset6.malware == 1])\n",
    "goodware_count = len(dataset6[dataset6.malware == 0])\n",
    "\n",
    "limiting = min(malware_count, goodware_count)\n",
    "malware = dataset6[dataset6.malware == 1].sample(n=limiting)\n",
    "# Use 50% less goodware\n",
    "goodware = dataset6[dataset6.malware == 0].sample(n=int(limiting * 0.5))\n",
    "\n",
    "# Recreate the dataset, now balanced\n",
    "dataset6 = pd.concat([malware, goodware])\n",
    "\n",
    "print('Malware in dataset: {}'.format(len(dataset6[dataset6.malware == 1])))\n",
    "print('Goodware in dataset: {}'.format(len(dataset6[dataset6.malware == 0])))\n",
    "\n",
    "# Split into train and test (this also shuffles the data)\n",
    "(train, test) = train_test_split(dataset6, test_size=test_size)\n",
    "\n",
    "# Generate the count vectorizer\n",
    "cv_token_pattern = u'[^;]+'\n",
    "cv = CountVectorizer(token_pattern=cv_token_pattern)\n",
    "train_X = cv.fit_transform(train.imports)\n",
    "train_Y = train.malware\n",
    "test_X = cv.transform(test.imports)\n",
    "test_Y = test.malware\n",
    "\n",
    "# Logistic Regression training\n",
    "lr = LogisticRegression().fit(train_X, train_Y)\n",
    "\n",
    "score = confusion_matrix(test_Y, lr.predict(test_X))\n",
    "fp_rate, fn_rate, cc_rate, det_rate = jcfg_helpers.calc_ratios(score)\n",
    "print('CC:\\t{:.4f}'.format(cc_rate))\n",
    "print('DR:\\t{:.4f}'.format(det_rate))\n",
    "print('FP:\\t{:.4f}'.format(fp_rate))\n",
    "print('FN:\\t{:.4f}'.format(fn_rate))\n",
    "\n",
    "malware_only = lr.predict_proba(test_X[np.where(test_Y == 1)])\n",
    "goodware_only = lr.predict_proba(test_X[np.where(test_Y == 0)])\n",
    "print('\\nMalware stats:')\n",
    "display(pd.Series(malware_only[:,1]).describe())\n",
    "print('\\nGoodware stats:')\n",
    "display(pd.Series(goodware_only[:,0]).describe())\n",
    "\n",
    "plt.figure(figsize=(10, 4), dpi=100)\n",
    "plt.subplot(211)\n",
    "plt.hist(goodware_only[:,0], bins=20, alpha=0.75)\n",
    "plt.subplot(212)\n",
    "plt.hist(malware_only[:,1], bins=20, alpha=0.75)\n",
    "plt.show()"
   ]
  }
 ],
 "metadata": {
  "kernelspec": {
   "display_name": "Python 3",
   "language": "python",
   "name": "python3"
  },
  "language_info": {
   "codemirror_mode": {
    "name": "ipython",
    "version": 3
   },
   "file_extension": ".py",
   "mimetype": "text/x-python",
   "name": "python",
   "nbconvert_exporter": "python",
   "pygments_lexer": "ipython3",
   "version": "3.6.0"
  }
 },
 "nbformat": 4,
 "nbformat_minor": 2
}
