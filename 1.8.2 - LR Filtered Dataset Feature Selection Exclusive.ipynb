{
 "cells": [
  {
   "cell_type": "markdown",
   "metadata": {},
   "source": [
    "# LR Filtered Dataset\n",
    "\n",
    "Testing the classifier when using a filtered dataset (selected malware types e.g. virus, trojan, worm) with feature selection"
   ]
  },
  {
   "cell_type": "code",
   "execution_count": 1,
   "metadata": {
    "collapsed": false,
    "scrolled": true
   },
   "outputs": [
    {
     "name": "stdout",
     "output_type": "stream",
     "text": [
      "Total goodware: 34509\n",
      "Total malware: 67873\n"
     ]
    }
   ],
   "source": [
    "import pandas as pd\n",
    "import numpy as np\n",
    "import math\n",
    "from IPython.display import display\n",
    "from sklearn.feature_extraction.text import CountVectorizer\n",
    "from sklearn.linear_model import LogisticRegression\n",
    "from sklearn.metrics import confusion_matrix\n",
    "import lib.helpers as jcfg_helpers\n",
    "\n",
    "\n",
    "samples = pd.read_csv('data/pe32_imports_labeled.csv')\n",
    "samples['date'] = pd.to_datetime(samples['date'], format='%Y/%m/%d')\n",
    "samples = samples.set_index('date').sort_index()\n",
    "\n",
    "goodware = samples[samples.malware == 0]\n",
    "malware = samples[samples.malware == 1]\n",
    "\n",
    "print('Total goodware: {}'.format(len(goodware)))\n",
    "print('Total malware: {}'.format(len(malware)))"
   ]
  },
  {
   "cell_type": "markdown",
   "metadata": {},
   "source": [
    "## Feature Selection\n",
    "\n",
    "Get common and exclusive features for both malware and goodware"
   ]
  },
  {
   "cell_type": "code",
   "execution_count": 2,
   "metadata": {
    "collapsed": false
   },
   "outputs": [
    {
     "name": "stdout",
     "output_type": "stream",
     "text": [
      "Malware total features (with min_df): 18457\n",
      "Goodware total features (with min_df): 85774\n",
      "Malware features: 5012\n",
      "Goodware features: 72329\n"
     ]
    }
   ],
   "source": [
    "cv_token_pattern = u'[^;]+'\n",
    "min_df = 2\n",
    "\n",
    "# Feature Vector for malware\n",
    "cv_malware = CountVectorizer(token_pattern=cv_token_pattern, min_df=min_df)\n",
    "cv_malware.fit(malware.imports)\n",
    "\n",
    "malware_features = set(cv_malware.get_feature_names())\n",
    "print('Malware total features (with min_df): {}'.format(len(malware_features)))\n",
    "\n",
    "# Feature Vector for goodware\n",
    "cv_goodware = CountVectorizer(token_pattern=cv_token_pattern, min_df=min_df)\n",
    "cv_goodware.fit(goodware.imports)\n",
    "\n",
    "goodware_features = set(cv_goodware.get_feature_names())\n",
    "print('Goodware total features (with min_df): {}'.format(len(goodware_features)))\n",
    "\n",
    "# Do the filtering\n",
    "malware_only_features = malware_features.difference(goodware_features)\n",
    "print('Malware features: {}'.format(len(malware_only_features)))\n",
    "\n",
    "goodware_only_features = goodware_features.difference(malware_features)\n",
    "print('Goodware features: {}'.format(len(goodware_only_features)))"
   ]
  },
  {
   "cell_type": "markdown",
   "metadata": {},
   "source": [
    "## Dataset for Trojans"
   ]
  },
  {
   "cell_type": "code",
   "execution_count": 3,
   "metadata": {
    "collapsed": false,
    "scrolled": true
   },
   "outputs": [
    {
     "name": "stdout",
     "output_type": "stream",
     "text": [
      "Total malware: 41870\n"
     ]
    }
   ],
   "source": [
    "microsoft_class = pd.read_csv('data/microsoft_classification.csv')\n",
    "microsoft_class.fillna('', inplace=True)\n",
    "symantec_class = pd.read_csv('data/symantec_classification.csv')\n",
    "symantec_class.fillna('', inplace=True)\n",
    "trendmicro_class = pd.read_csv('data/trendmicro_classification.csv')\n",
    "trendmicro_class.fillna('', inplace=True)\n",
    "\n",
    "microsoft_filter = microsoft_class[microsoft_class.type == 'trojan']\n",
    "symantec_filter = symantec_class[symantec_class.prefix == 'trojan']\n",
    "trendmicro_filter = trendmicro_class[trendmicro_class.prefix == 'troj']\n",
    "\n",
    "links = pd.concat([microsoft_filter.link, symantec_filter.link, trendmicro_filter.link]).unique()\n",
    "\n",
    "filtered_malware = samples[samples.link.isin(links)]\n",
    "\n",
    "print('Total malware: {}'.format(len(filtered_malware)))"
   ]
  },
  {
   "cell_type": "markdown",
   "metadata": {},
   "source": [
    "## Testing (exclusive features)\n",
    "\n",
    "Creating multiple LR and varying the ratio of malware/goodware in training/validation"
   ]
  },
  {
   "cell_type": "code",
   "execution_count": 4,
   "metadata": {
    "collapsed": false,
    "scrolled": false
   },
   "outputs": [
    {
     "name": "stdout",
     "output_type": "stream",
     "text": [
      "\t\tDownscale of 0.1\n",
      "CC:\t0.9101\n",
      "DR:\t0.0104\n",
      "FP:\t0.0000\n",
      "FN:\t0.0900\n",
      "\n",
      "\t\tDownscale of 0.2\n",
      "CC:\t0.8354\n",
      "DR:\t0.0145\n",
      "FP:\t0.1379\n",
      "FN:\t0.1647\n",
      "\n",
      "\t\tDownscale of 0.3\n",
      "CC:\t0.7753\n",
      "DR:\t0.0278\n",
      "FP:\t0.0526\n",
      "FN:\t0.2259\n",
      "\n",
      "\t\tDownscale of 0.4\n",
      "CC:\t0.7368\n",
      "DR:\t0.0797\n",
      "FP:\t0.0143\n",
      "FN:\t0.2691\n",
      "\n",
      "\t\tDownscale of 0.5\n",
      "CC:\t0.6908\n",
      "DR:\t0.0735\n",
      "FP:\t0.0155\n",
      "FN:\t0.3167\n",
      "\n",
      "\t\tDownscale of 0.6\n",
      "CC:\t0.6470\n",
      "DR:\t0.0599\n",
      "FP:\t0.0190\n",
      "FN:\t0.3608\n",
      "\n",
      "\t\tDownscale of 0.7\n",
      "CC:\t0.6136\n",
      "DR:\t0.0633\n",
      "FP:\t0.0280\n",
      "FN:\t0.3963\n",
      "\n",
      "\t\tDownscale of 0.8\n",
      "CC:\t0.5840\n",
      "DR:\t0.0662\n",
      "FP:\t0.0338\n",
      "FN:\t0.4280\n",
      "\n",
      "\t\tDownscale of 0.9\n",
      "CC:\t0.5542\n",
      "DR:\t0.0618\n",
      "FP:\t0.0457\n",
      "FN:\t0.4585\n",
      "\n",
      "\t\tDownscale of 1.0\n",
      "CC:\t0.5593\n",
      "DR:\t0.9919\n",
      "FP:\t0.4682\n",
      "FN:\t0.0602\n",
      "\n"
     ]
    }
   ],
   "source": [
    "for i in np.arange(0.1, 1.1, 0.1):\n",
    "    print('\\t\\tDownscale of {:.1f}'.format(i))\n",
    "    # Training/Validation creation\n",
    "    training, validation = jcfg_helpers.train_test_split(\n",
    "    pd.concat([goodware, filtered_malware]),\n",
    "    validation_size = 0.25,\n",
    "    balanced = True,\n",
    "    malware_downscale = i)\n",
    "    #print('Malware in training: {}\\nGoodware in training: {}'.format(len(training[training.malware == 1]),\n",
    "    #                                                                 len(training[training.malware == 0])))\n",
    "    #print('Malware in validation: {}\\nGoodware in validation: {}'.format(len(validation[validation.malware == 1]),\n",
    "    #                                                                     len(validation[validation.malware == 0])))\n",
    "    \n",
    "    ################\n",
    "    # Feature Vector\n",
    "    cv_token_pattern = u'[^;]+'\n",
    "    min_df = 2\n",
    "    cv = CountVectorizer(token_pattern=cv_token_pattern, min_df=min_df,\n",
    "                         vocabulary=goodware_only_features.union(malware_only_features))\n",
    "    train_X = cv.fit_transform(training.imports)\n",
    "    #print('Total features: {}'.format(len(cv.get_feature_names())))\n",
    "    \n",
    "    ################\n",
    "    # Logistic Regression\n",
    "    train_Y = training.malware\n",
    "    lr = LogisticRegression().fit(train_X, train_Y)\n",
    "\n",
    "    ################\n",
    "    # Scoring\n",
    "    test_X = cv.transform(validation.imports)\n",
    "    test_Y = validation.malware\n",
    "    score = confusion_matrix(test_Y, lr.predict(test_X))\n",
    "    fp_rate, fn_rate, cc_rate, det_rate = jcfg_helpers.calc_ratios(score)\n",
    "    print('CC:\\t{:.4f}'.format(cc_rate))\n",
    "    print('DR:\\t{:.4f}'.format(det_rate))\n",
    "    print('FP:\\t{:.4f}'.format(fp_rate))\n",
    "    print('FN:\\t{:.4f}'.format(fn_rate))\n",
    "    # malware_only = lr.predict_proba(test_X[np.where(test_Y == 1)])\n",
    "    # goodware_only = lr.predict_proba(test_X[np.where(test_Y == 0)])\n",
    "    # print('\\nMalware stats:')\n",
    "    # display(pd.Series(malware_only[:,1]).describe())\n",
    "    # print('\\nGoodware stats:')\n",
    "    # display(pd.Series(goodware_only[:,0]).describe())\n",
    "    print()"
   ]
  },
  {
   "cell_type": "markdown",
   "metadata": {},
   "source": [
    "## Dataset for Backdoors"
   ]
  },
  {
   "cell_type": "code",
   "execution_count": 5,
   "metadata": {
    "collapsed": false
   },
   "outputs": [
    {
     "name": "stdout",
     "output_type": "stream",
     "text": [
      "Total malware: 13273\n"
     ]
    }
   ],
   "source": [
    "microsoft_class = pd.read_csv('data/microsoft_classification.csv')\n",
    "microsoft_class.fillna('', inplace=True)\n",
    "symantec_class = pd.read_csv('data/symantec_classification.csv')\n",
    "symantec_class.fillna('', inplace=True)\n",
    "trendmicro_class = pd.read_csv('data/trendmicro_classification.csv')\n",
    "trendmicro_class.fillna('', inplace=True)\n",
    "\n",
    "microsoft_filter = microsoft_class[microsoft_class.type == 'backdoor']\n",
    "symantec_filter = symantec_class[symantec_class.prefix == 'backdoor']\n",
    "trendmicro_filter = trendmicro_class[trendmicro_class.prefix == 'bkdr']\n",
    "\n",
    "links = pd.concat([microsoft_filter.link, symantec_filter.link, trendmicro_filter.link]).unique()\n",
    "\n",
    "filtered_malware = samples[samples.link.isin(links)]\n",
    "\n",
    "print('Total malware: {}'.format(len(filtered_malware)))"
   ]
  },
  {
   "cell_type": "markdown",
   "metadata": {},
   "source": [
    "## Testing (exclusive features)\n",
    "\n",
    "Creating multiple LR and varying the ratio of malware/goodware in training/validation"
   ]
  },
  {
   "cell_type": "code",
   "execution_count": 6,
   "metadata": {
    "collapsed": false,
    "scrolled": false
   },
   "outputs": [
    {
     "name": "stdout",
     "output_type": "stream",
     "text": [
      "\t\tDownscale of 0.1\n",
      "CC:\t0.9101\n",
      "DR:\t0.0091\n",
      "FP:\t0.0000\n",
      "FN:\t0.0900\n",
      "\n",
      "\t\tDownscale of 0.2\n",
      "CC:\t0.8367\n",
      "DR:\t0.0196\n",
      "FP:\t0.0000\n",
      "FN:\t0.1638\n",
      "\n",
      "\t\tDownscale of 0.3\n",
      "CC:\t0.7943\n",
      "DR:\t0.1095\n",
      "FP:\t0.0091\n",
      "FN:\t0.2108\n",
      "\n",
      "\t\tDownscale of 0.4\n",
      "CC:\t0.7302\n",
      "DR:\t0.0565\n",
      "FP:\t0.0132\n",
      "FN:\t0.2740\n",
      "\n",
      "\t\tDownscale of 0.5\n",
      "CC:\t0.6767\n",
      "DR:\t0.0313\n",
      "FP:\t0.0370\n",
      "FN:\t0.3264\n",
      "\n",
      "\t\tDownscale of 0.6\n",
      "CC:\t0.6353\n",
      "DR:\t0.0296\n",
      "FP:\t0.0781\n",
      "FN:\t0.3682\n",
      "\n",
      "\t\tDownscale of 0.7\n",
      "CC:\t0.5956\n",
      "DR:\t0.0198\n",
      "FP:\t0.0980\n",
      "FN:\t0.4072\n",
      "\n",
      "\t\tDownscale of 0.8\n",
      "CC:\t0.5638\n",
      "DR:\t0.0207\n",
      "FP:\t0.0984\n",
      "FN:\t0.4397\n",
      "\n",
      "\t\tDownscale of 0.9\n",
      "CC:\t0.5351\n",
      "DR:\t0.0211\n",
      "FP:\t0.1127\n",
      "FN:\t0.4690\n",
      "\n",
      "\t\tDownscale of 1.0\n",
      "CC:\t0.5487\n",
      "DR:\t0.9958\n",
      "FP:\t0.4743\n",
      "FN:\t0.0399\n",
      "\n"
     ]
    }
   ],
   "source": [
    "for i in np.arange(0.1, 1.1, 0.1):\n",
    "    print('\\t\\tDownscale of {:.1f}'.format(i))\n",
    "    # Training/Validation creation\n",
    "    training, validation = jcfg_helpers.train_test_split(\n",
    "    pd.concat([goodware, filtered_malware]),\n",
    "    validation_size = 0.25,\n",
    "    balanced = True,\n",
    "    malware_downscale = i)\n",
    "    #print('Malware in training: {}\\nGoodware in training: {}'.format(len(training[training.malware == 1]),\n",
    "    #                                                                 len(training[training.malware == 0])))\n",
    "    #print('Malware in validation: {}\\nGoodware in validation: {}'.format(len(validation[validation.malware == 1]),\n",
    "    #                                                                     len(validation[validation.malware == 0])))\n",
    "    \n",
    "    ################\n",
    "    # Feature Vector\n",
    "    cv_token_pattern = u'[^;]+'\n",
    "    min_df = 2\n",
    "    cv = CountVectorizer(token_pattern=cv_token_pattern, min_df=min_df,\n",
    "                         vocabulary=goodware_only_features.union(malware_only_features))\n",
    "    train_X = cv.fit_transform(training.imports)\n",
    "    #print('Total features: {}'.format(len(cv.get_feature_names())))\n",
    "    \n",
    "    ################\n",
    "    # Logistic Regression\n",
    "    train_Y = training.malware\n",
    "    lr = LogisticRegression().fit(train_X, train_Y)\n",
    "\n",
    "    ################\n",
    "    # Scoring\n",
    "    test_X = cv.transform(validation.imports)\n",
    "    test_Y = validation.malware\n",
    "    score = confusion_matrix(test_Y, lr.predict(test_X))\n",
    "    fp_rate, fn_rate, cc_rate, det_rate = jcfg_helpers.calc_ratios(score)\n",
    "    print('CC:\\t{:.4f}'.format(cc_rate))\n",
    "    print('DR:\\t{:.4f}'.format(det_rate))\n",
    "    print('FP:\\t{:.4f}'.format(fp_rate))\n",
    "    print('FN:\\t{:.4f}'.format(fn_rate))\n",
    "    # malware_only = lr.predict_proba(test_X[np.where(test_Y == 1)])\n",
    "    # goodware_only = lr.predict_proba(test_X[np.where(test_Y == 0)])\n",
    "    # print('\\nMalware stats:')\n",
    "    # display(pd.Series(malware_only[:,1]).describe())\n",
    "    # print('\\nGoodware stats:')\n",
    "    # display(pd.Series(goodware_only[:,0]).describe())\n",
    "    print()"
   ]
  },
  {
   "cell_type": "markdown",
   "metadata": {},
   "source": [
    "## Dataset for Worms"
   ]
  },
  {
   "cell_type": "code",
   "execution_count": 7,
   "metadata": {
    "collapsed": false
   },
   "outputs": [
    {
     "name": "stdout",
     "output_type": "stream",
     "text": [
      "Total malware: 9418\n"
     ]
    }
   ],
   "source": [
    "microsoft_class = pd.read_csv('data/microsoft_classification.csv')\n",
    "microsoft_class.fillna('', inplace=True)\n",
    "symantec_class = pd.read_csv('data/symantec_classification.csv')\n",
    "symantec_class.fillna('', inplace=True)\n",
    "trendmicro_class = pd.read_csv('data/trendmicro_classification.csv')\n",
    "trendmicro_class.fillna('', inplace=True)\n",
    "\n",
    "microsoft_filter = microsoft_class[microsoft_class.type == 'worm']\n",
    "symantec_filter = symantec_class[symantec_class.suffix == 'worm']\n",
    "trendmicro_filter = trendmicro_class[trendmicro_class.prefix == 'worm']\n",
    "\n",
    "links = pd.concat([microsoft_filter.link, symantec_filter.link, trendmicro_filter.link]).unique()\n",
    "\n",
    "filtered_malware = samples[samples.link.isin(links)]\n",
    "\n",
    "print('Total malware: {}'.format(len(filtered_malware)))"
   ]
  },
  {
   "cell_type": "markdown",
   "metadata": {},
   "source": [
    "## Testing (exclusive features)\n",
    "\n",
    "Creating multiple LR and varying the ratio of malware/goodware in training/validation"
   ]
  },
  {
   "cell_type": "code",
   "execution_count": 8,
   "metadata": {
    "collapsed": false,
    "scrolled": false
   },
   "outputs": [
    {
     "name": "stdout",
     "output_type": "stream",
     "text": [
      "\t\tDownscale of 0.1\n",
      "CC:\t0.9115\n",
      "DR:\t0.0255\n",
      "FP:\t0.0000\n",
      "FN:\t0.0887\n",
      "\n",
      "\t\tDownscale of 0.2\n",
      "CC:\t0.8360\n",
      "DR:\t0.0170\n",
      "FP:\t0.1111\n",
      "FN:\t0.1641\n",
      "\n",
      "\t\tDownscale of 0.3\n",
      "CC:\t0.8042\n",
      "DR:\t0.1544\n",
      "FP:\t0.0180\n",
      "FN:\t0.2024\n",
      "\n",
      "\t\tDownscale of 0.4\n",
      "CC:\t0.7557\n",
      "DR:\t0.1467\n",
      "FP:\t0.0143\n",
      "FN:\t0.2545\n",
      "\n",
      "\t\tDownscale of 0.5\n",
      "CC:\t0.7057\n",
      "DR:\t0.1189\n",
      "FP:\t0.0141\n",
      "FN:\t0.3060\n",
      "\n",
      "\t\tDownscale of 0.6\n",
      "CC:\t0.6452\n",
      "DR:\t0.0552\n",
      "FP:\t0.0250\n",
      "FN:\t0.3619\n",
      "\n",
      "\t\tDownscale of 0.7\n",
      "CC:\t0.6053\n",
      "DR:\t0.0437\n",
      "FP:\t0.0526\n",
      "FN:\t0.4013\n",
      "\n",
      "\t\tDownscale of 0.8\n",
      "CC:\t0.5858\n",
      "DR:\t0.0712\n",
      "FP:\t0.0429\n",
      "FN:\t0.4269\n",
      "\n",
      "\t\tDownscale of 0.9\n",
      "CC:\t0.5709\n",
      "DR:\t0.0977\n",
      "FP:\t0.0372\n",
      "FN:\t0.4489\n",
      "\n",
      "\t\tDownscale of 1.0\n",
      "CC:\t0.5480\n",
      "DR:\t0.1007\n",
      "FP:\t0.0444\n",
      "FN:\t0.4747\n",
      "\n"
     ]
    }
   ],
   "source": [
    "for i in np.arange(0.1, 1.1, 0.1):\n",
    "    print('\\t\\tDownscale of {:.1f}'.format(i))\n",
    "    # Training/Validation creation\n",
    "    training, validation = jcfg_helpers.train_test_split(\n",
    "    pd.concat([goodware, filtered_malware]),\n",
    "    validation_size = 0.25,\n",
    "    balanced = True,\n",
    "    malware_downscale = i)\n",
    "    #print('Malware in training: {}\\nGoodware in training: {}'.format(len(training[training.malware == 1]),\n",
    "    #                                                                 len(training[training.malware == 0])))\n",
    "    #print('Malware in validation: {}\\nGoodware in validation: {}'.format(len(validation[validation.malware == 1]),\n",
    "    #                                                                     len(validation[validation.malware == 0])))\n",
    "    \n",
    "    ################\n",
    "    # Feature Vector\n",
    "    cv_token_pattern = u'[^;]+'\n",
    "    min_df = 2\n",
    "    cv = CountVectorizer(token_pattern=cv_token_pattern, min_df=min_df,\n",
    "                         vocabulary=goodware_only_features.union(malware_only_features))\n",
    "    train_X = cv.fit_transform(training.imports)\n",
    "    #print('Total features: {}'.format(len(cv.get_feature_names())))\n",
    "    \n",
    "    ################\n",
    "    # Logistic Regression\n",
    "    train_Y = training.malware\n",
    "    lr = LogisticRegression().fit(train_X, train_Y)\n",
    "\n",
    "    ################\n",
    "    # Scoring\n",
    "    test_X = cv.transform(validation.imports)\n",
    "    test_Y = validation.malware\n",
    "    score = confusion_matrix(test_Y, lr.predict(test_X))\n",
    "    fp_rate, fn_rate, cc_rate, det_rate = jcfg_helpers.calc_ratios(score)\n",
    "    print('CC:\\t{:.4f}'.format(cc_rate))\n",
    "    print('DR:\\t{:.4f}'.format(det_rate))\n",
    "    print('FP:\\t{:.4f}'.format(fp_rate))\n",
    "    print('FN:\\t{:.4f}'.format(fn_rate))\n",
    "    # malware_only = lr.predict_proba(test_X[np.where(test_Y == 1)])\n",
    "    # goodware_only = lr.predict_proba(test_X[np.where(test_Y == 0)])\n",
    "    # print('\\nMalware stats:')\n",
    "    # display(pd.Series(malware_only[:,1]).describe())\n",
    "    # print('\\nGoodware stats:')\n",
    "    # display(pd.Series(goodware_only[:,0]).describe())\n",
    "    print()"
   ]
  },
  {
   "cell_type": "markdown",
   "metadata": {},
   "source": [
    "## Dataset for Virus"
   ]
  },
  {
   "cell_type": "code",
   "execution_count": 9,
   "metadata": {
    "collapsed": false
   },
   "outputs": [
    {
     "name": "stdout",
     "output_type": "stream",
     "text": [
      "Total malware: 4467\n"
     ]
    }
   ],
   "source": [
    "microsoft_class = pd.read_csv('data/microsoft_classification.csv')\n",
    "microsoft_class.fillna('', inplace=True)\n",
    "symantec_class = pd.read_csv('data/symantec_classification.csv')\n",
    "symantec_class.fillna('', inplace=True)\n",
    "trendmicro_class = pd.read_csv('data/trendmicro_classification.csv')\n",
    "trendmicro_class.fillna('', inplace=True)\n",
    "\n",
    "microsoft_filter = microsoft_class[microsoft_class.type == 'virus']\n",
    "symantec_filter = symantec_class[symantec_class.prefix == 'virusdoctor']\n",
    "trendmicro_filter = trendmicro_class[trendmicro_class.family == 'virus']\n",
    "\n",
    "links = pd.concat([microsoft_filter.link, symantec_filter.link, trendmicro_filter.link]).unique()\n",
    "\n",
    "filtered_malware = samples[samples.link.isin(links)]\n",
    "\n",
    "print('Total malware: {}'.format(len(filtered_malware)))"
   ]
  },
  {
   "cell_type": "markdown",
   "metadata": {},
   "source": [
    "## Testing (exclusive features)\n",
    "\n",
    "Creating multiple LR and varying the ratio of malware/goodware in training/validation"
   ]
  },
  {
   "cell_type": "code",
   "execution_count": 10,
   "metadata": {
    "collapsed": false
   },
   "outputs": [
    {
     "name": "stdout",
     "output_type": "stream",
     "text": [
      "\t\tDownscale of 0.1\n"
     ]
    },
    {
     "name": "stderr",
     "output_type": "stream",
     "text": [
      "/home/joao/thesis/lib/helpers.py:38: RuntimeWarning: invalid value encountered in long_scalars\n",
      "  fp_rate = matrix[0][1] / (matrix[0][1] + matrix[1][1])\n"
     ]
    },
    {
     "name": "stdout",
     "output_type": "stream",
     "text": [
      "CC:\t0.9095\n",
      "DR:\t0.0000\n",
      "FP:\tnan\n",
      "FN:\t0.0905\n",
      "\n",
      "\t\tDownscale of 0.2\n",
      "CC:\t0.8335\n",
      "DR:\t0.0000\n",
      "FP:\tnan\n",
      "FN:\t0.1665\n",
      "\n",
      "\t\tDownscale of 0.3\n",
      "CC:\t0.7703\n",
      "DR:\t0.0030\n",
      "FP:\t0.0000\n",
      "FN:\t0.2298\n",
      "\n",
      "\t\tDownscale of 0.4\n",
      "CC:\t0.7183\n",
      "DR:\t0.0135\n",
      "FP:\t0.0000\n",
      "FN:\t0.2828\n",
      "\n",
      "\t\tDownscale of 0.5\n",
      "CC:\t0.6703\n",
      "DR:\t0.0125\n",
      "FP:\t0.1250\n",
      "FN:\t0.3307\n",
      "\n",
      "\t\tDownscale of 0.6\n",
      "CC:\t0.6280\n",
      "DR:\t0.0105\n",
      "FP:\t0.2222\n",
      "FN:\t0.3727\n",
      "\n",
      "\t\tDownscale of 0.7\n",
      "CC:\t0.5999\n",
      "DR:\t0.0333\n",
      "FP:\t0.1333\n",
      "FN:\t0.4044\n",
      "\n",
      "\t\tDownscale of 0.8\n",
      "CC:\t0.5692\n",
      "DR:\t0.0359\n",
      "FP:\t0.1351\n",
      "FN:\t0.4363\n",
      "\n",
      "\t\tDownscale of 0.9\n",
      "CC:\t0.5335\n",
      "DR:\t0.0229\n",
      "FP:\t0.2581\n",
      "FN:\t0.4696\n",
      "\n",
      "\t\tDownscale of 1.0\n",
      "CC:\t0.5287\n",
      "DR:\t0.9892\n",
      "FP:\t0.4851\n",
      "FN:\t0.1364\n",
      "\n"
     ]
    }
   ],
   "source": [
    "for i in np.arange(0.1, 1.1, 0.1):\n",
    "    print('\\t\\tDownscale of {:.1f}'.format(i))\n",
    "    # Training/Validation creation\n",
    "    training, validation = jcfg_helpers.train_test_split(\n",
    "    pd.concat([goodware, filtered_malware]),\n",
    "    validation_size = 0.25,\n",
    "    balanced = True,\n",
    "    malware_downscale = i)\n",
    "    #print('Malware in training: {}\\nGoodware in training: {}'.format(len(training[training.malware == 1]),\n",
    "    #                                                                 len(training[training.malware == 0])))\n",
    "    #print('Malware in validation: {}\\nGoodware in validation: {}'.format(len(validation[validation.malware == 1]),\n",
    "    #                                                                     len(validation[validation.malware == 0])))\n",
    "    \n",
    "    ################\n",
    "    # Feature Vector\n",
    "    cv_token_pattern = u'[^;]+'\n",
    "    min_df = 2\n",
    "    cv = CountVectorizer(token_pattern=cv_token_pattern, min_df=min_df,\n",
    "                         vocabulary=goodware_only_features.union(malware_only_features))\n",
    "    train_X = cv.fit_transform(training.imports)\n",
    "    #print('Total features: {}'.format(len(cv.get_feature_names())))\n",
    "    \n",
    "    ################\n",
    "    # Logistic Regression\n",
    "    train_Y = training.malware\n",
    "    lr = LogisticRegression().fit(train_X, train_Y)\n",
    "\n",
    "    ################\n",
    "    # Scoring\n",
    "    test_X = cv.transform(validation.imports)\n",
    "    test_Y = validation.malware\n",
    "    score = confusion_matrix(test_Y, lr.predict(test_X))\n",
    "    fp_rate, fn_rate, cc_rate, det_rate = jcfg_helpers.calc_ratios(score)\n",
    "    print('CC:\\t{:.4f}'.format(cc_rate))\n",
    "    print('DR:\\t{:.4f}'.format(det_rate))\n",
    "    print('FP:\\t{:.4f}'.format(fp_rate))\n",
    "    print('FN:\\t{:.4f}'.format(fn_rate))\n",
    "    # malware_only = lr.predict_proba(test_X[np.where(test_Y == 1)])\n",
    "    # goodware_only = lr.predict_proba(test_X[np.where(test_Y == 0)])\n",
    "    # print('\\nMalware stats:')\n",
    "    # display(pd.Series(malware_only[:,1]).describe())\n",
    "    # print('\\nGoodware stats:')\n",
    "    # display(pd.Series(goodware_only[:,0]).describe())\n",
    "    print()"
   ]
  }
 ],
 "metadata": {
  "kernelspec": {
   "display_name": "Python 3",
   "language": "python",
   "name": "python3"
  },
  "language_info": {
   "codemirror_mode": {
    "name": "ipython",
    "version": 3
   },
   "file_extension": ".py",
   "mimetype": "text/x-python",
   "name": "python",
   "nbconvert_exporter": "python",
   "pygments_lexer": "ipython3",
   "version": "3.6.0"
  }
 },
 "nbformat": 4,
 "nbformat_minor": 2
}
