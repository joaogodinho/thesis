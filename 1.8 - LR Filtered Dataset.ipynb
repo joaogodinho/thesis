{
 "cells": [
  {
   "cell_type": "markdown",
   "metadata": {},
   "source": [
    "# LR Filtered Dataset\n",
    "\n",
    "Testing the classifier when using a filtered dataset (selected malware types e.g. virus, trojan, worm)"
   ]
  },
  {
   "cell_type": "code",
   "execution_count": 70,
   "metadata": {
    "collapsed": true
   },
   "outputs": [],
   "source": [
    "import pandas as pd\n",
    "import numpy as np\n",
    "import math\n",
    "from IPython.display import display\n",
    "from sklearn.feature_extraction.text import CountVectorizer\n",
    "from sklearn.linear_model import LogisticRegression\n",
    "from sklearn.metrics import confusion_matrix\n",
    "import lib.helpers as jcfg_helpers\n",
    "\n",
    "\n",
    "samples = pd.read_csv('data/pe32_imports_labeled.csv')\n",
    "samples['date'] = pd.to_datetime(samples['date'], format='%Y/%m/%d')\n",
    "samples = samples.set_index('date').sort_index()\n",
    "\n",
    "goodware = samples[samples.malware == 0]\n",
    "malware = samples[samples.malware == 1]"
   ]
  },
  {
   "cell_type": "code",
   "execution_count": 71,
   "metadata": {
    "collapsed": true
   },
   "outputs": [],
   "source": [
    "test_size = 0.1"
   ]
  },
  {
   "cell_type": "markdown",
   "metadata": {},
   "source": [
    "## Dataset based on Microsoft naming\n",
    "\n",
    "Create a dataset with trojan and goodware"
   ]
  },
  {
   "cell_type": "code",
   "execution_count": 122,
   "metadata": {
    "collapsed": false,
    "scrolled": false
   },
   "outputs": [
    {
     "data": {
      "text/plain": [
       "type\n",
       "trojan              19005\n",
       "backdoor            16017\n",
       "worm                11679\n",
       "trojandownloader     9643\n",
       "virus                6259\n",
       "virtool              5796\n",
       "pws                  5603\n",
       "adware               3715\n",
       "trojanspy            2961\n",
       "ransom               2688\n",
       "trojandropper        2502\n",
       "hacktool             1905\n",
       "rogue                 712\n",
       "ddos                  413\n",
       "softwarebundler       395\n",
       "trojanproxy           384\n",
       "browsermodifier       241\n",
       "monitoringtool        206\n",
       "dialer                136\n",
       "exploit               136\n",
       "spammer               127\n",
       "trojanclicker         107\n",
       "program                55\n",
       "constructor            51\n",
       "joke                   19\n",
       "tool                   17\n",
       "settingsmodifier        9\n",
       "spyware                 8\n",
       "                        8\n",
       "dos                     6\n",
       "remoteaccess            3\n",
       "misleading              2\n",
       "Name: md5, dtype: int64"
      ]
     },
     "metadata": {},
     "output_type": "display_data"
    },
    {
     "data": {
      "text/plain": [
       "90808"
      ]
     },
     "metadata": {},
     "output_type": "display_data"
    }
   ],
   "source": [
    "# Get the microsoft classification, simple and straightforward\n",
    "microsoft_class = pd.read_csv('data/microsoft_classification.csv')\n",
    "microsoft_class.fillna('', inplace=True)\n",
    "\n",
    "microsoft_filter = microsoft_class[microsoft_class.type == 'virus']\n",
    "microsoft_malware = malware[malware.link.isin(microsoft_filter.link)]\n",
    "\n",
    "display(microsoft_class.groupby('type').count().md5.sort_values(ascending=False))\n",
    "display(len(microsoft_class))"
   ]
  },
  {
   "cell_type": "markdown",
   "metadata": {},
   "source": [
    "### Training/Validation creation"
   ]
  },
  {
   "cell_type": "code",
   "execution_count": 123,
   "metadata": {
    "collapsed": false,
    "scrolled": false
   },
   "outputs": [
    {
     "name": "stdout",
     "output_type": "stream",
     "text": [
      "Malware in training: 1990\n",
      "Goodware in training: 3981\n",
      "Malware in validation: 221\n",
      "Goodware in validation: 442\n"
     ]
    }
   ],
   "source": [
    "# Limit the datasets by the smaller one\n",
    "lim = min(len(goodware), len(microsoft_malware))\n",
    "\n",
    "training_size = int(lim * (1 - test_size))\n",
    "validation_size = int(lim * test_size)\n",
    "mal_downscale = 0.5\n",
    "\n",
    "training = pd.concat([goodware[:training_size],\n",
    "                      microsoft_malware[:int(training_size * mal_downscale)]])\n",
    "validation = pd.concat([goodware[training_size:training_size + validation_size],\n",
    "                        microsoft_malware[int(training_size * mal_downscale):int(training_size * mal_downscale) + int(validation_size * mal_downscale)]])\n",
    "\n",
    "print('Malware in training: {}\\nGoodware in training: {}'.format(len(training[training.malware == 1]),\n",
    "                                                                 len(training[training.malware == 0])))\n",
    "print('Malware in validation: {}\\nGoodware in validation: {}'.format(len(validation[validation.malware == 1]),\n",
    "                                                                     len(validation[validation.malware == 0])))"
   ]
  },
  {
   "cell_type": "markdown",
   "metadata": {},
   "source": [
    "### Feature Vector w/o Feature Selection"
   ]
  },
  {
   "cell_type": "code",
   "execution_count": 124,
   "metadata": {
    "collapsed": false
   },
   "outputs": [
    {
     "name": "stdout",
     "output_type": "stream",
     "text": [
      "Total features: 14629\n"
     ]
    }
   ],
   "source": [
    "cv_token_pattern = u'[^;]+'\n",
    "min_df = 2\n",
    "\n",
    "cv = CountVectorizer(token_pattern=cv_token_pattern, min_df=min_df)\n",
    "train_X = cv.fit_transform(training.imports)\n",
    "\n",
    "print('Total features: {}'.format(len(cv.get_feature_names())))\n",
    "# display(cv.get_feature_names())"
   ]
  },
  {
   "cell_type": "markdown",
   "metadata": {},
   "source": [
    "#### LR"
   ]
  },
  {
   "cell_type": "code",
   "execution_count": 125,
   "metadata": {
    "collapsed": true
   },
   "outputs": [],
   "source": [
    "# Logistic Regression Stuff\n",
    "train_Y = training.malware\n",
    "lr = LogisticRegression().fit(train_X, train_Y)"
   ]
  },
  {
   "cell_type": "markdown",
   "metadata": {},
   "source": [
    "#### Scoring"
   ]
  },
  {
   "cell_type": "code",
   "execution_count": 126,
   "metadata": {
    "collapsed": false
   },
   "outputs": [
    {
     "name": "stdout",
     "output_type": "stream",
     "text": [
      "\n",
      "CC:\t0.8311\n",
      "DR:\t0.8054\n",
      "FP:\t0.2794\n",
      "FN:\t0.1034\n"
     ]
    }
   ],
   "source": [
    "# Scoring\n",
    "test_X = cv.transform(validation.imports)\n",
    "test_Y = validation.malware\n",
    "\n",
    "score = confusion_matrix(test_Y, lr.predict(test_X))\n",
    "fp_rate, fn_rate, cc_rate, det_rate = jcfg_helpers.calc_ratios(score)\n",
    "\n",
    "\n",
    "print()\n",
    "print('CC:\\t{:.4f}'.format(cc_rate))\n",
    "print('DR:\\t{:.4f}'.format(det_rate))\n",
    "print('FP:\\t{:.4f}'.format(fp_rate))\n",
    "print('FN:\\t{:.4f}'.format(fn_rate))"
   ]
  },
  {
   "cell_type": "markdown",
   "metadata": {},
   "source": [
    "### Feature Vector exclusive features"
   ]
  },
  {
   "cell_type": "code",
   "execution_count": 99,
   "metadata": {
    "collapsed": false,
    "scrolled": false
   },
   "outputs": [
    {
     "name": "stdout",
     "output_type": "stream",
     "text": [
      "Total features: 18731\n"
     ]
    }
   ],
   "source": [
    "malware_features = pd.Series.from_csv('data/malware_only_features.csv')\n",
    "goodware_features = pd.Series.from_csv('data/goodware_only_features.csv')\n",
    "features = pd.concat([malware_features, goodware_features])\n",
    "# Needs previous CV to have feature names\n",
    "features = features[features.isin(cv.get_feature_names())]\n",
    "\n",
    "cv_token_pattern = u'[^;]+'\n",
    "min_df = 2\n",
    "\n",
    "cv2 = CountVectorizer(token_pattern=cv_token_pattern, min_df=min_df, vocabulary=features)\n",
    "train_X = cv2.transform(training.imports)\n",
    "\n",
    "print('Total features: {}'.format(len(cv2.get_feature_names())))\n",
    "# display(cv.get_feature_names())"
   ]
  },
  {
   "cell_type": "markdown",
   "metadata": {},
   "source": [
    "#### LR"
   ]
  },
  {
   "cell_type": "code",
   "execution_count": 100,
   "metadata": {
    "collapsed": true
   },
   "outputs": [],
   "source": [
    "# Logistic Regression Stuff\n",
    "train_Y = training.malware\n",
    "lr2 = LogisticRegression().fit(train_X, train_Y)"
   ]
  },
  {
   "cell_type": "markdown",
   "metadata": {},
   "source": [
    "#### Scoring"
   ]
  },
  {
   "cell_type": "code",
   "execution_count": 101,
   "metadata": {
    "collapsed": false
   },
   "outputs": [
    {
     "name": "stdout",
     "output_type": "stream",
     "text": [
      "\n",
      "CC:\t0.6761\n",
      "DR:\t0.1362\n",
      "FP:\t0.0000\n",
      "FN:\t0.3414\n"
     ]
    }
   ],
   "source": [
    "# Scoring\n",
    "test_X = cv2.transform(validation.imports)\n",
    "test_Y = validation.malware\n",
    "\n",
    "score = confusion_matrix(test_Y, lr2.predict(test_X))\n",
    "fp_rate, fn_rate, cc_rate, det_rate = jcfg_helpers.calc_ratios(score)\n",
    "\n",
    "\n",
    "print()\n",
    "print('CC:\\t{:.4f}'.format(cc_rate))\n",
    "print('DR:\\t{:.4f}'.format(det_rate))\n",
    "print('FP:\\t{:.4f}'.format(fp_rate))\n",
    "print('FN:\\t{:.4f}'.format(fn_rate))"
   ]
  },
  {
   "cell_type": "code",
   "execution_count": null,
   "metadata": {
    "collapsed": true
   },
   "outputs": [],
   "source": []
  }
 ],
 "metadata": {
  "kernelspec": {
   "display_name": "Python 3",
   "language": "python",
   "name": "python3"
  },
  "language_info": {
   "codemirror_mode": {
    "name": "ipython",
    "version": 3
   },
   "file_extension": ".py",
   "mimetype": "text/x-python",
   "name": "python",
   "nbconvert_exporter": "python",
   "pygments_lexer": "ipython3",
   "version": "3.6.0"
  }
 },
 "nbformat": 4,
 "nbformat_minor": 2
}
