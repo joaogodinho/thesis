{
 "cells": [
  {
   "cell_type": "markdown",
   "metadata": {
    "deletable": true,
    "editable": true
   },
   "source": [
    "# Analyse AV Classification\n",
    "\n",
    "The following notebook tries to analyse the antivirus classification of the samples. Specifically the presence of each vendor on the dataset and the FP & FN rate of each vendor.\n",
    "\n",
    "The FN rate is intuitively easy to extract, if a majority of vendors say a sample is malware, the chance they're all wrong should be minimal, if non zero at all.\n",
    "\n",
    "The FP rate is harder to extract, as some vendors will correctly identify malware before others.\n",
    "\n",
    "One possibility is to look only at duplicated submissions where the the classification average goes from goodware to malware. Taking those samples and check for vendors that wrongly classify as malware gives an accurate FP rate at the expense of smaller dataset.\n",
    "\n",
    "Other possibility is to take vendors with high presence and low FN rate and **ASSUME** their FP rate should be similar to FN. With such vendors one can use them as a baseline for the FP rate of the remaining ones.\n",
    "\n",
    "This is using Celery, make sure it's running (`celery -A tasks worker --loglevel=info -Ofair`)."
   ]
  },
  {
   "cell_type": "code",
   "execution_count": 5,
   "metadata": {
    "collapsed": false,
    "deletable": true,
    "editable": true,
    "scrolled": false
   },
   "outputs": [],
   "source": [
    "import numpy as np\n",
    "import pandas as pd\n",
    "from IPython.display import display\n",
    "\n",
    "pe32_av = pd.read_csv('data/pe32_static_av.csv', dtype=str)\n",
    "pe32_av['date'] = pd.to_datetime(pe32_av['date'], format='%Y/%m/%d')\n",
    "# Set date as index\n",
    "pe32_av = pe32_av.set_index('date')\n",
    "# pe32_av.drop_duplicates(subset='md5', inplace=True, keep='last')"
   ]
  },
  {
   "cell_type": "markdown",
   "metadata": {
    "deletable": true,
    "editable": true
   },
   "source": [
    "## Vendors Presence\n",
    "\n",
    "Check the presence of each vendor in the dataset (meaning percentage they classified a sample, either goodware or badware)"
   ]
  },
  {
   "cell_type": "code",
   "execution_count": 6,
   "metadata": {
    "collapsed": false,
    "deletable": true,
    "editable": true,
    "scrolled": false
   },
   "outputs": [
    {
     "data": {
      "text/plain": [
       "count    97.000000\n",
       "mean      0.397988\n",
       "std       0.324523\n",
       "min       0.000003\n",
       "25%       0.005897\n",
       "50%       0.507460\n",
       "75%       0.718259\n",
       "max       0.732732\n",
       "dtype: float64"
      ]
     },
     "metadata": {},
     "output_type": "display_data"
    },
    {
     "data": {
      "text/plain": [
       "count    70.000000\n",
       "mean      0.550934\n",
       "std       0.247519\n",
       "min       0.010435\n",
       "25%       0.398279\n",
       "50%       0.707736\n",
       "75%       0.726456\n",
       "max       0.732732\n",
       "dtype: float64"
      ]
     },
     "metadata": {},
     "output_type": "display_data"
    }
   ],
   "source": [
    "data_size = len(pe32_av)\n",
    "vendors = pe32_av.columns.values[2:]\n",
    "vendors_presence = dict()\n",
    "\n",
    "for vendor in vendors:\n",
    "    vendors_presence[vendor] = pe32_av[vendor].count()\n",
    "\n",
    "vendors_presence = pd.Series(data=vendors_presence)\n",
    "display(vendors_presence.divide(data_size).describe())\n",
    "\n",
    "# Save vendors presence\n",
    "vendors_presence.divide(data_size).to_csv(path='data/vendors_presence.csv')\n",
    "\n",
    "# Filter vendors that appear in over 1% of submissions\n",
    "vendors_filtered = vendors_presence[vendors_presence.divide(data_size) > 0.01]\n",
    "\n",
    "display(vendors_filtered.divide(data_size).describe())\n",
    "pe32_av.drop(vendors_presence[vendors_presence.divide(data_size) <= 0.01].keys(), axis=1, inplace=True)\n",
    "\n",
    "# Drop samples where no vendor classifies\n",
    "pe32_av.dropna(how='all', subset=vendors_filtered.keys(), inplace=True)"
   ]
  },
  {
   "cell_type": "markdown",
   "metadata": {
    "deletable": true,
    "editable": true
   },
   "source": [
    "## Vendors FN Rate\n",
    "\n",
    "Check the FN rate based on the majority of what vendors say. If more than 50% of vendors classify as malware, the odds of being malware should be substantial."
   ]
  },
  {
   "cell_type": "code",
   "execution_count": 7,
   "metadata": {
    "collapsed": false,
    "deletable": true,
    "editable": true,
    "scrolled": true
   },
   "outputs": [
    {
     "name": "stdout",
     "output_type": "stream",
     "text": [
      "[2017-03-20 12:52:35.130931] Starting batches...\n",
      "[2017-03-20 12:52:35.131059] Sending count tasks...\n",
      "[2017-03-20 12:52:38.792098] Done sending, waiting...\n",
      "[2017-03-20 12:54:22.461035] All tasks done.\n"
     ]
    }
   ],
   "source": [
    "from tasks import count_fn_rate\n",
    "import datetime\n",
    "from celery import group\n",
    "\n",
    "fn_rate = dict.fromkeys(vendors_filtered.keys(), 0)\n",
    "\n",
    "# Splitting in batches of ~x samples\n",
    "n_batches = int(len(pe32_av) / 5000)\n",
    "batches = np.array_split(pe32_av, n_batches)\n",
    "\n",
    "print('[{0}] Starting batches...'.format(datetime.datetime.now(), idx))\n",
    "print('[{0}] Sending count tasks...'.format(datetime.datetime.now()))\n",
    "jobs = group([count_fn_rate.s(fn_rate, batch.to_json(orient='records'), threshold=0.3) for batch in batches])\n",
    "print('[{0}] Done sending, waiting...'.format(datetime.datetime.now()))\n",
    "result = jobs.apply_async()\n",
    "result.join()\n",
    "print('[{0}] All tasks done.'.format(datetime.datetime.now()))"
   ]
  },
  {
   "cell_type": "code",
   "execution_count": 1,
   "metadata": {
    "collapsed": false,
    "deletable": true,
    "editable": true,
    "scrolled": false
   },
   "outputs": [
    {
     "ename": "NameError",
     "evalue": "name 'np' is not defined",
     "output_type": "error",
     "traceback": [
      "\u001b[0;31m---------------------------------------------------------------------------\u001b[0m",
      "\u001b[0;31mNameError\u001b[0m                                 Traceback (most recent call last)",
      "\u001b[0;32m<ipython-input-1-cf1859fa68ca>\u001b[0m in \u001b[0;36m<module>\u001b[0;34m()\u001b[0m\n\u001b[0;32m----> 1\u001b[0;31m \u001b[0mfn_count\u001b[0m \u001b[0;34m=\u001b[0m \u001b[0mnp\u001b[0m\u001b[0;34m.\u001b[0m\u001b[0marray\u001b[0m\u001b[0;34m(\u001b[0m\u001b[0mresult\u001b[0m\u001b[0;34m.\u001b[0m\u001b[0mget\u001b[0m\u001b[0;34m(\u001b[0m\u001b[0;34m)\u001b[0m\u001b[0;34m)\u001b[0m\u001b[0;34m[\u001b[0m\u001b[0;34m:\u001b[0m\u001b[0;34m,\u001b[0m\u001b[0;36m0\u001b[0m\u001b[0;34m]\u001b[0m\u001b[0;34m\u001b[0m\u001b[0m\n\u001b[0m\u001b[1;32m      2\u001b[0m \u001b[0mtp_count\u001b[0m \u001b[0;34m=\u001b[0m \u001b[0mnp\u001b[0m\u001b[0;34m.\u001b[0m\u001b[0marray\u001b[0m\u001b[0;34m(\u001b[0m\u001b[0mresult\u001b[0m\u001b[0;34m.\u001b[0m\u001b[0mget\u001b[0m\u001b[0;34m(\u001b[0m\u001b[0;34m)\u001b[0m\u001b[0;34m)\u001b[0m\u001b[0;34m[\u001b[0m\u001b[0;34m:\u001b[0m\u001b[0;34m,\u001b[0m\u001b[0;36m1\u001b[0m\u001b[0;34m]\u001b[0m\u001b[0;34m\u001b[0m\u001b[0m\n\u001b[1;32m      3\u001b[0m \u001b[0;34m\u001b[0m\u001b[0m\n\u001b[1;32m      4\u001b[0m \u001b[0mfn_rate\u001b[0m \u001b[0;34m=\u001b[0m \u001b[0mpd\u001b[0m\u001b[0;34m.\u001b[0m\u001b[0mSeries\u001b[0m\u001b[0;34m(\u001b[0m\u001b[0mfn_count\u001b[0m\u001b[0;34m[\u001b[0m\u001b[0;36m0\u001b[0m\u001b[0;34m]\u001b[0m\u001b[0;34m)\u001b[0m\u001b[0;34m\u001b[0m\u001b[0m\n\u001b[1;32m      5\u001b[0m \u001b[0mtp_rate\u001b[0m \u001b[0;34m=\u001b[0m \u001b[0mpd\u001b[0m\u001b[0;34m.\u001b[0m\u001b[0mSeries\u001b[0m\u001b[0;34m(\u001b[0m\u001b[0mtp_count\u001b[0m\u001b[0;34m[\u001b[0m\u001b[0;36m0\u001b[0m\u001b[0;34m]\u001b[0m\u001b[0;34m)\u001b[0m\u001b[0;34m\u001b[0m\u001b[0m\n",
      "\u001b[0;31mNameError\u001b[0m: name 'np' is not defined"
     ]
    }
   ],
   "source": [
    "fn_count = np.array(result.get())[:,0]\n",
    "tp_count = np.array(result.get())[:,1]\n",
    "\n",
    "fn_rate = pd.Series(fn_count[0])\n",
    "tp_rate = pd.Series(tp_count[0])\n",
    "\n",
    "for i in range(len(fn_count[1:])):\n",
    "    fn_rate = fn_rate.add(pd.Series(fn_count[i + 1]))\n",
    "    tp_rate = tp_rate.add(pd.Series(tp_count[i + 1]))\n",
    "\n",
    "display(fn_rate.divide(tp_rate).describe())\n",
    "\n",
    "import matplotlib.pyplot as plt\n",
    "fn_sorted = fn_rate.divide(tp_rate).sort_values()\n",
    "fn_sorted.plot(figsize=(30, 10), xticks=np.arange(len(fn_sorted)), yticks=np.arange(0, 1, 0.1), grid=True)\n",
    "plt.xticks(rotation='vertical')\n",
    "plt.show()\n",
    "\n",
    "display(fn_sorted[fn_sorted <= 0.1])"
   ]
  },
  {
   "cell_type": "markdown",
   "metadata": {
    "deletable": true,
    "editable": true
   },
   "source": [
    "## Vendors FP Rate\n",
    "\n",
    "Using vendors with FN rate <= 0.1 as a baseline. Assuming these should also have a low FP rate. If the majority of them say a sample is clean, it probably is so other vendors are FP."
   ]
  },
  {
   "cell_type": "code",
   "execution_count": 11,
   "metadata": {
    "collapsed": false,
    "deletable": true,
    "editable": true
   },
   "outputs": [
    {
     "name": "stdout",
     "output_type": "stream",
     "text": [
      "[2017-03-13 19:56:13.991297] Starting batches...\n",
      "[2017-03-13 19:56:13.991422] Sending count tasks...\n",
      "[2017-03-13 19:56:17.035643] Done sending, waiting...\n",
      "[2017-03-13 19:58:35.758472] All tasks done.\n"
     ]
    }
   ],
   "source": [
    "from tasks import count_fp_rate2\n",
    "import datetime\n",
    "from celery import group\n",
    "\n",
    "# baseline_vendors = ['gdata', 'antivir', 'mcafee', 'ad-aware', 'bitdefender', 'mcafee-gw-edition', 'f-secure', 'vipre', 'nod32', 'avg', 'arcabit', 'eset-nod32', 'microworld-escan', 'avira', 'kaspersky', 'avast', 'emsisoft', 'sophos', 'avware', 'ikarus', 'invincea', 'crowdstrike', 'panda', 'symantec', 'virusbuster']\n",
    "baseline_vendors = ['mcafee', 'bitdefender', 'mcafee-gw-edition', 'f-secure', 'nod32', 'avg', 'eset-nod32', 'avira', 'kaspersky', 'avast', 'panda', 'symantec']\n",
    "fp_rate = dict.fromkeys([v for v in vendors_filtered.keys() if v not in baseline_vendors], 0)\n",
    "\n",
    "# Splitting in batches of ~x samples\n",
    "n_batches = int(len(pe32_av) / 5000)\n",
    "idx = 0\n",
    "batches = np.array_split(pe32_av, n_batches)\n",
    "\n",
    "print('[{0}] Starting batches...'.format(datetime.datetime.now(), idx))\n",
    "print('[{0}] Sending count tasks...'.format(datetime.datetime.now()))\n",
    "jobs = group([count_fp_rate2.s(fp_rate, baseline_vendors, batch.to_json(orient='records')) for batch in batches])\n",
    "print('[{0}] Done sending, waiting...'.format(datetime.datetime.now()))\n",
    "result2 = jobs.apply_async()\n",
    "result2.join()\n",
    "print('[{0}] All tasks done.'.format(datetime.datetime.now()))"
   ]
  },
  {
   "cell_type": "code",
   "execution_count": 12,
   "metadata": {
    "collapsed": false,
    "deletable": true,
    "editable": true
   },
   "outputs": [
    {
     "data": {
      "text/plain": [
       "count    58.000000\n",
       "mean      0.089313\n",
       "std       0.085011\n",
       "min       0.000000\n",
       "25%       0.034216\n",
       "50%       0.062955\n",
       "75%       0.121028\n",
       "max       0.412560\n",
       "dtype: float64"
      ]
     },
     "metadata": {},
     "output_type": "display_data"
    },
    {
     "data": {
      "image/png": "[encoded data removed]",
      "text/plain": [
       "<matplotlib.figure.Figure at 0x7efe7d8c95f8>"
      ]
     },
     "metadata": {},
     "output_type": "display_data"
    }
   ],
   "source": [
    "fp_count = np.array(result2.get())[:,0]\n",
    "tn_count = np.array(result2.get())[:,1]\n",
    "\n",
    "fp_rate = pd.Series(fp_count[0])\n",
    "tn_rate = pd.Series(tn_count[0])\n",
    "\n",
    "for i in range(len(fp_count[1:])):\n",
    "    fp_rate = fp_rate.add(pd.Series(fp_count[i + 1]))\n",
    "    tn_rate = tn_rate.add(pd.Series(tn_count[i + 1]))\n",
    "\n",
    "display(fp_rate.divide(tn_rate).describe())\n",
    "\n",
    "import matplotlib.pyplot as plt\n",
    "fp_sorted = fp_rate.divide(tn_rate).sort_values()\n",
    "fp_sorted.plot(figsize=(30, 10), xticks=np.arange(len(fp_sorted)), yticks=np.arange(0, 1, 0.1), grid=True)\n",
    "plt.xticks(rotation='vertical')\n",
    "plt.show()"
   ]
  },
  {
   "cell_type": "code",
   "execution_count": 13,
   "metadata": {
    "collapsed": false,
    "deletable": true,
    "editable": true,
    "scrolled": false
   },
   "outputs": [
    {
     "data": {
      "text/plain": [
       "alibaba                 0.000000\n",
       "zoner                   0.005856\n",
       "totaldefense            0.009156\n",
       "pctools                 0.015615\n",
       "nprotect                0.018195\n",
       "virobot                 0.020063\n",
       "cat-quickheal           0.026682\n",
       "microsoft               0.027005\n",
       "clamav                  0.028094\n",
       "etrust-vet              0.028362\n",
       "bytehero                0.029350\n",
       "superantispyware        0.033493\n",
       "thehacker               0.033664\n",
       "trendmicro              0.033791\n",
       "commtouch               0.034167\n",
       "cmc                     0.034361\n",
       "zillya                  0.037618\n",
       "kingsoft                0.039486\n",
       "yandex                  0.042173\n",
       "prevx                   0.042841\n",
       "virusbuster             0.043247\n",
       "jiangmin                0.044335\n",
       "esafe                   0.046295\n",
       "f-prot                  0.049949\n",
       "alyac                   0.051988\n",
       "aegislab                0.053224\n",
       "agnitum                 0.058922\n",
       "nano-antivirus          0.059068\n",
       "antiy-avl               0.059887\n",
       "baidu-international     0.066023\n",
       "norman                  0.069084\n",
       "cyren                   0.069783\n",
       "ahnlab-v3               0.070394\n",
       "ad-aware                0.073127\n",
       "microworld-escan        0.073578\n",
       "emsisoft                0.075585\n",
       "tencent                 0.077191\n",
       "arcabit                 0.077696\n",
       "comodo                  0.080084\n",
       "avware                  0.084680\n",
       "bkav                    0.099344\n",
       "ikarus                  0.103463\n",
       "fortinet                0.118643\n",
       "gdata                   0.121822\n",
       "k7antivirus             0.123271\n",
       "rising                  0.125638\n",
       "baidu                   0.131487\n",
       "k7gw                    0.133889\n",
       "vba32                   0.135995\n",
       "trendmicro-housecall    0.157020\n",
       "sophos                  0.178102\n",
       "vipre                   0.195808\n",
       "drweb                   0.203541\n",
       "malwarebytes            0.219006\n",
       "qihoo-360               0.240507\n",
       "antivir                 0.256504\n",
       "invincea                0.399454\n",
       "crowdstrike             0.412560\n",
       "dtype: float64"
      ]
     },
     "metadata": {},
     "output_type": "display_data"
    }
   ],
   "source": [
    "display(fp_sorted)"
   ]
  }
 ],
 "metadata": {
  "kernelspec": {
   "display_name": "Python 3",
   "language": "python",
   "name": "python3"
  },
  "language_info": {
   "codemirror_mode": {
    "name": "ipython",
    "version": 3
   },
   "file_extension": ".py",
   "mimetype": "text/x-python",
   "name": "python",
   "nbconvert_exporter": "python",
   "pygments_lexer": "ipython3",
   "version": "3.6.1"
  }
 },
 "nbformat": 4,
 "nbformat_minor": 2
}
