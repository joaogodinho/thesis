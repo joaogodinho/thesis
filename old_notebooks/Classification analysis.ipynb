{
 "cells": [
  {
   "cell_type": "markdown",
   "metadata": {
    "deletable": true,
    "editable": true
   },
   "source": [
    "# Classification Analysis\n",
    "\n",
    "The following notebook was created to understand how vendors classify the samples, possibility to understand the amount of FP & FN and to try to normalize the used naming."
   ]
  },
  {
   "cell_type": "code",
   "execution_count": 42,
   "metadata": {
    "collapsed": false,
    "deletable": true,
    "editable": true
   },
   "outputs": [],
   "source": [
    "import numpy as np\n",
    "import pandas as pd\n",
    "from IPython.display import display\n",
    "\n",
    "samples = pd.read_csv('data/av_classes.csv', dtype=str)\n",
    "samples['date'] = pd.to_datetime(samples['date'], format='%Y/%m/%d')\n",
    "# Set date as index\n",
    "samples = samples.set_index('date')"
   ]
  },
  {
   "cell_type": "markdown",
   "metadata": {},
   "source": [
    "Checking the presence (in percentage) of each vendor in the samples. Helps identifying useful vendors as well as wrong data parsing."
   ]
  },
  {
   "cell_type": "code",
   "execution_count": 2,
   "metadata": {
    "collapsed": false,
    "deletable": true,
    "editable": true,
    "scrolled": false
   },
   "outputs": [
    {
     "name": "stdout",
     "output_type": "stream",
     "text": [
      "Total samples: 68150\n",
      "\n",
      "Vendor presence:\n"
     ]
    },
    {
     "data": {
      "text/plain": [
       " win32_virut_xp (v)     0.000015\n",
       "a-squared               0.024637\n",
       "ad-aware                0.830565\n",
       "aegislab                0.719809\n",
       "agnitum                 0.859178\n",
       "ahnlab                  0.000778\n",
       "ahnlab-v3               0.966559\n",
       "alibaba                 0.324109\n",
       "alyac                   0.362627\n",
       "antivir                 0.551005\n",
       "antivir7                0.000044\n",
       "antiy-avl               0.979296\n",
       "arcabit                 0.247161\n",
       "authentium              0.030110\n",
       "avast                   0.993485\n",
       "avast5                  0.016581\n",
       "avg                     0.993133\n",
       "avira                   0.421761\n",
       "avware                  0.433236\n",
       "baidu                   0.089773\n",
       "baidu-international     0.829464\n",
       "bitdefender             0.999061\n",
       "bkav                    0.842348\n",
       "bytehero                0.858811\n",
       "cat-quickheal           0.999266\n",
       "clamav                  0.996097\n",
       "cmc                     0.787616\n",
       "command                 0.000924\n",
       "commtouch               0.518782\n",
       "comodo                  0.993514\n",
       "                          ...   \n",
       "nprotect                0.991460\n",
       "panda                   0.974894\n",
       "pandab3                 0.000059\n",
       "pandabeta               0.002876\n",
       "pctools                 0.142539\n",
       "prevx                   0.036449\n",
       "prevx1                  0.005723\n",
       "qihoo-360               0.785238\n",
       "rising                  0.958063\n",
       "savmail                 0.000396\n",
       "secureweb-gateway       0.001291\n",
       "sophos                  0.981673\n",
       "sunbelt                 0.029919\n",
       "superantispyware        0.970242\n",
       "symantec                0.987689\n",
       "t3                      0.000117\n",
       "tencent                 0.558034\n",
       "thehacker               0.999325\n",
       "totaldefense            0.804461\n",
       "trendmicro              0.986720\n",
       "trendmicro-housecall    0.960836\n",
       "una                     0.000132\n",
       "vba32                   0.992590\n",
       "vipre                   0.961570\n",
       "virobot                 0.996845\n",
       "virusbuster             0.058621\n",
       "webwasher-gateway       0.002098\n",
       "yandex                  0.072223\n",
       "zillya                  0.610976\n",
       "zoner                   0.494321\n",
       "dtype: float64"
      ]
     },
     "metadata": {},
     "output_type": "display_data"
    }
   ],
   "source": [
    "vendors_presence = dict()\n",
    "size = len(samples)\n",
    "for col in samples.columns[2:]:\n",
    "    vendors_presence[col] = samples[col].count() / size\n",
    "    \n",
    "vendors_presence = pd.Series(data=vendors_presence)    \n",
    "print('Total samples: {0}\\n'.format(len(samples)))\n",
    "print('Vendor presence:')\n",
    "display(vendors_presence)"
   ]
  },
  {
   "cell_type": "markdown",
   "metadata": {},
   "source": [
    "The following gives a rough estimate for FP & FN rate per vendor.\n",
    "\n",
    "The approach is limited since it's based on the majority, meaning if more than 50% classify as clean, it's probably clean (likewise for non clean). The problem rises when a vendor is able detect malware before all others, as such, FP rate might be skewed."
   ]
  },
  {
   "cell_type": "code",
   "execution_count": 44,
   "metadata": {
    "collapsed": false,
    "deletable": true,
    "editable": true,
    "scrolled": false
   },
   "outputs": [
    {
     "data": {
      "text/html": [
       "<div>\n",
       "<table border=\"1\" class=\"dataframe\">\n",
       "  <thead>\n",
       "    <tr style=\"text-align: right;\">\n",
       "      <th></th>\n",
       "      <th>md5</th>\n",
       "      <th>link</th>\n",
       "      <th>win32_virut_xp (v)</th>\n",
       "      <th>a-squared</th>\n",
       "      <th>ad-aware</th>\n",
       "      <th>aegislab</th>\n",
       "      <th>agnitum</th>\n",
       "      <th>ahnlab</th>\n",
       "      <th>ahnlab-v3</th>\n",
       "      <th>alibaba</th>\n",
       "      <th>...</th>\n",
       "      <th>trendmicro-housecall</th>\n",
       "      <th>una</th>\n",
       "      <th>vba32</th>\n",
       "      <th>vipre</th>\n",
       "      <th>virobot</th>\n",
       "      <th>virusbuster</th>\n",
       "      <th>webwasher-gateway</th>\n",
       "      <th>yandex</th>\n",
       "      <th>zillya</th>\n",
       "      <th>zoner</th>\n",
       "    </tr>\n",
       "    <tr>\n",
       "      <th>date</th>\n",
       "      <th></th>\n",
       "      <th></th>\n",
       "      <th></th>\n",
       "      <th></th>\n",
       "      <th></th>\n",
       "      <th></th>\n",
       "      <th></th>\n",
       "      <th></th>\n",
       "      <th></th>\n",
       "      <th></th>\n",
       "      <th></th>\n",
       "      <th></th>\n",
       "      <th></th>\n",
       "      <th></th>\n",
       "      <th></th>\n",
       "      <th></th>\n",
       "      <th></th>\n",
       "      <th></th>\n",
       "      <th></th>\n",
       "      <th></th>\n",
       "      <th></th>\n",
       "    </tr>\n",
       "  </thead>\n",
       "  <tbody>\n",
       "  </tbody>\n",
       "</table>\n",
       "<p>0 rows × 99 columns</p>\n",
       "</div>"
      ],
      "text/plain": [
       "Empty DataFrame\n",
       "Columns: [md5, link,  win32_virut_xp (v), a-squared, ad-aware, aegislab, agnitum, ahnlab, ahnlab-v3, alibaba, alyac, antivir, antivir7, antiy-avl, arcabit, authentium, avast, avast5, avg, avira, avware, baidu, baidu-international, bitdefender, bkav, bytehero, cat-quickheal, clamav, cmc, command, commtouch, comodo, crowdstrike, cyren, drweb, drwebse, emsisoft, esafe, escan, eset-nod32, etrust-inoculateit, etrust-vet, ewido, f-prot, f-prot4, f-secure, fileadvisor, fortinet, fortinetbeta, gdata, ikarus, invincea, jiangmin, k7antivirus, k7gw, kaspersky, kingsoft, malwarebytes, mcafee, mcafee+artemis, mcafee-gw-edition, mcafeebeta, microsoft, microworld-escan, nano-antivirus, nod32, nod32beta, nod32v2, norman, nprotect, panda, pandab3, pandabeta, pctools, prevx, prevx1, qihoo-360, rising, savmail, secureweb-gateway, sophos, sunbelt, superantispyware, symantec, t3, tencent, thehacker, totaldefense, trendmicro, trendmicro-housecall, una, vba32, vipre, virobot, virusbuster, webwasher-gateway, yandex, zillya, zoner]\n",
       "Index: []\n",
       "\n",
       "[0 rows x 99 columns]"
      ]
     },
     "metadata": {},
     "output_type": "display_data"
    },
    {
     "name": "stdout",
     "output_type": "stream",
     "text": [
      "63044\n"
     ]
    }
   ],
   "source": [
    "# Filter vendors with more than XX% presence\n",
    "high_vendors = vendors_presence[vendors_presence >= 0.01]\n",
    "# display(high_vendors)\n",
    "\n",
    "# filtered = samples\n",
    "filtered = samples[samples.link == 'MzIwZDgzMjY0YjQ5NGQxMjhkZjk1YjE0YTlkNGQ1OTE']\n",
    "display(filtered)\n",
    "\n",
    "cols = high_vendors.keys().tolist()\n",
    "\n",
    "filtered = samples.filter(cols)\n",
    "vendors_fp = dict.fromkeys(high_vendors.keys().tolist(), 0)\n",
    "vendors_fn = dict.fromkeys(high_vendors.keys().tolist(), 0)\n",
    "\n",
    "for _, s in filtered.iterrows():\n",
    "    break\n",
    "    vendor_count = s.count()\n",
    "    # For unknown samples\n",
    "    if vendor_count == 0:\n",
    "        continue\n",
    "    s = s.dropna()\n",
    "    clean_count = s[s == 'clean'].count()\n",
    "    \n",
    "    # Majority says it's clean (or they're all wrong and the minority is right)\n",
    "    is_clean = True if clean_count / vendor_count >= 0.5 else False\n",
    "    if is_clean and clean_count / vendor_count < 1.0:\n",
    "        print(_)\n",
    "        print(s)\n",
    "        break\n",
    "    \n",
    "    for v, c in s.iteritems():\n",
    "        # False Positive\n",
    "        if is_clean and c != 'clean':\n",
    "            vendors_fp[v] += 1\n",
    "        # False Negative\n",
    "        elif is_clean == False and c == 'clean':\n",
    "            vendors_fn[v] += 1\n",
    "\n",
    "print(counter)\n",
    "vendors_fp = pd.Series(data=vendors_fp)\n",
    "vendors_fn = pd.Series(data=vendors_fn)\n",
    "\n",
    "# print(vendors_fp)\n",
    "# print(vendors_fn)"
   ]
  },
  {
   "cell_type": "code",
   "execution_count": 37,
   "metadata": {
    "collapsed": false
   },
   "outputs": [
    {
     "data": {
      "text/plain": [
       "alibaba    0\n",
       "alyac      0\n",
       "arcabit    0\n",
       "avira      0\n",
       "avware     0\n",
       "cyren      0\n",
       "esafe      0\n",
       "pctools    0\n",
       "zoner      0\n",
       "dtype: int64"
      ]
     },
     "metadata": {},
     "output_type": "display_data"
    }
   ],
   "source": [
    "display(vendors_fn[vendors_fn == 0])"
   ]
  }
 ],
 "metadata": {
  "kernelspec": {
   "display_name": "Python 3",
   "language": "python",
   "name": "python3"
  },
  "language_info": {
   "codemirror_mode": {
    "name": "ipython",
    "version": 3
   },
   "file_extension": ".py",
   "mimetype": "text/x-python",
   "name": "python",
   "nbconvert_exporter": "python",
   "pygments_lexer": "ipython3",
   "version": "3.6.0"
  }
 },
 "nbformat": 4,
 "nbformat_minor": 2
}
