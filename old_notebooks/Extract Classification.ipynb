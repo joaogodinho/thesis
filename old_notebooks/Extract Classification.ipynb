{
 "cells": [
  {
   "cell_type": "markdown",
   "metadata": {
    "deletable": true,
    "editable": true
   },
   "source": [
    "# Extract Classification\n",
    "\n",
    "Take `md5_links.csv` and extract the antivirus classification.\n",
    "\n",
    "Running this notebook will generate a CSV that contains the date, md5, link and classification from each vendor.\n",
    "\n",
    "The value for each vender can be empty (if vendor ast was not present at time of scan), 'clean' or malware name.\n",
    "\n",
    "Takes at least 50min to run."
   ]
  },
  {
   "cell_type": "code",
   "execution_count": 80,
   "metadata": {
    "collapsed": false,
    "deletable": true,
    "editable": true
   },
   "outputs": [
    {
     "name": "stdout",
     "output_type": "stream",
     "text": [
      "[2017-03-08 18:17:10.692833] Spawning jobs...\n",
      "[2017-03-08 18:17:10.693633] Done spawning.\n",
      "[2017-03-08 18:17:10.915959] All jobs done.\n",
      "[2017-03-08 18:17:10.947339] Concat done.\n"
     ]
    }
   ],
   "source": [
    "import numpy as np\n",
    "import pandas as pd\n",
    "import gevent\n",
    "import datetime\n",
    "from gevent import monkey; monkey.patch_all()\n",
    "import lib.data_loading as jcfg_data_loading\n",
    "from IPython.display import display\n",
    "\n",
    "samples = pd.read_csv('md5_links.csv')\n",
    "samples['date'] = pd.to_datetime(samples['date'], format='%Y/%m/%d')\n",
    "# Set date as index\n",
    "samples = samples.set_index('date')\n",
    "samples.drop(['malware'], axis=1, inplace=True)\n",
    "\n",
    "# Split into 100 workers and load imports\n",
    "n_workers = 100\n",
    "buckets = np.array_split(samples, n_workers)\n",
    "print('[{0}] Spawning jobs...'.format(datetime.datetime.now()))\n",
    "jobs = [gevent.spawn(\n",
    "    lambda x: [pd.DataFrame(\n",
    "        data=jcfg_data_loading.parse_av_classification(l), index=[l]) for l in x.link.values], b) \n",
    "    for b in buckets]\n",
    "print('[{0}] Done spawning.'.format(datetime.datetime.now()))\n",
    "gevent.joinall(jobs)\n",
    "print('[{0}] All jobs done.'.format(datetime.datetime.now()))\n",
    "result = samples.join(pd.concat([l for j in jobs for l in j.value]), on='link')\n",
    "print('[{0}] Concat done.'.format(datetime.datetime.now()))\n",
    "result.to_csv(path_or_buf='data/av_classes.csv')"
   ]
  }
 ],
 "metadata": {
  "kernelspec": {
   "display_name": "Python 3",
   "language": "python",
   "name": "python3"
  },
  "language_info": {
   "codemirror_mode": {
    "name": "ipython",
    "version": 3
   },
   "file_extension": ".py",
   "mimetype": "text/x-python",
   "name": "python",
   "nbconvert_exporter": "python",
   "pygments_lexer": "ipython3",
   "version": "3.6.0"
  }
 },
 "nbformat": 4,
 "nbformat_minor": 2
}
