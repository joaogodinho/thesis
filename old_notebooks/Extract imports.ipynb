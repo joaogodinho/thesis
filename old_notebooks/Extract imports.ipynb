{
 "cells": [
  {
   "cell_type": "markdown",
   "metadata": {
    "deletable": true,
    "editable": true
   },
   "source": [
    "# Extracting malware/goodware\n",
    "\n",
    "Extract MD5s and links of malware and goodware, unique submissions only.\n",
    "\n",
    "Malware submissions have an AV score of 0.8 or more and goodware submissions must have an AV score of 0.0\n",
    "\n",
    "The following takes some time to run due to `jcfg_data_loading.check_link`. At the end the frame is saved to a file, no need to re-run the cell."
   ]
  },
  {
   "cell_type": "code",
   "execution_count": null,
   "metadata": {
    "collapsed": false,
    "deletable": true,
    "editable": true,
    "scrolled": false
   },
   "outputs": [],
   "source": [
    "import pandas as pd\n",
    "import lib.data_loading as jcfg_data_loading\n",
    "import lib.helpers as jcfg_helpers\n",
    "from IPython.display import display\n",
    "\n",
    "# All other frames are based on this one\n",
    "headers = jcfg_data_loading.loadHeadersCSV('data/header_analyses.csv')\n",
    "\n",
    "# Antivirus score to classify sample as malware\n",
    "AV_MLW_THRESHOLD = 0.8\n",
    "# Antivirus score to classify sample as goodware\n",
    "AV_GDW_THRESHOLD = 0.0\n",
    "\n",
    "# Filter PE32 samples only\n",
    "crit_pe32 = headers.file_type.map(lambda x: str(x).startswith('PE32 '))\n",
    "pe32 = headers[crit_pe32]\n",
    "pe32.is_copy = False\n",
    "\n",
    "# Remove duplicates\n",
    "# No full timestamp is available, so for same day submissions keep the one with the highest\n",
    "# AV score, might not always be true, but for the current test is not relevant\n",
    "pe32 = pe32.assign(colIndex=pe32.index)\n",
    "pe32.sort_values(by=['colIndex', 'md5', 'antivirus'], inplace=True)\n",
    "pe32.drop_duplicates(subset=['md5', 'colIndex'], inplace=True, keep='last')\n",
    "pe32.drop_duplicates(subset=['md5'], inplace=True)\n",
    "# Remove unneeded columns\n",
    "pe32.drop(['colIndex', 'file_name', 'file_type'], axis=1, inplace=True)\n",
    "\n",
    "# Normalize the AV classification\n",
    "pe32.antivirus = pe32.antivirus.apply(jcfg_helpers.normalize)\n",
    "\n",
    "## Used criteria\n",
    "# Unknown submissions\n",
    "crit_unknown = pe32.antivirus == -1\n",
    "# Goodware submissions\n",
    "crit_goodware = pe32.antivirus == AV_GDW_THRESHOLD\n",
    "# Malware submissions\n",
    "crit_malware = pe32.antivirus >= AV_MLW_THRESHOLD\n",
    "\n",
    "# Start filtering\n",
    "pe32 = pe32[~crit_unknown & (crit_goodware | crit_malware)]\n",
    "\n",
    "# Remove full link, just keep submission ID\n",
    "pe32.link = pe32.link.apply(lambda x: x.split('/')[2])\n",
    "\n",
    "# Assign malware class and drop antivirus score\n",
    "crit_malware = pe32.antivirus >= AV_MLW_THRESHOLD\n",
    "crit_goodware = pe32.antivirus == AV_GDW_THRESHOLD\n",
    "pe32.loc[crit_malware, 'malware'] = 1\n",
    "pe32.loc[crit_goodware, 'malware'] = 0\n",
    "pe32.drop(['antivirus'], axis=1, inplace=True)\n",
    "\n",
    "# Remove samples that were not downloaded (for some unknown reason)\n",
    "pe32 = pe32[~pe32.link.isin(jcfg_data_loading.check_link(pe32.link.values))]\n",
    "\n",
    "# Save to a file\n",
    "pe32.to_csv(path_or_buf='md5_links.csv')"
   ]
  },
  {
   "cell_type": "markdown",
   "metadata": {
    "collapsed": false,
    "deletable": true,
    "editable": true
   },
   "source": [
    "# Extract the imports\n",
    "\n",
    "Running the following code directly in python takes at least 30min on my laptop."
   ]
  },
  {
   "cell_type": "code",
   "execution_count": null,
   "metadata": {
    "collapsed": false,
    "deletable": true,
    "editable": true
   },
   "outputs": [],
   "source": [
    "import numpy as np\n",
    "import pandas as pd\n",
    "import gevent\n",
    "import datetime\n",
    "from gevent import monkey; monkey.patch_all()\n",
    "import lib.data_loading as jcfg_data_loading\n",
    "from IPython.display import display\n",
    "\n",
    "samples = pd.read_csv('md5_links.csv')\n",
    "samples['date'] = pd.to_datetime(samples['date'], format='%Y/%m/%d')\n",
    "# Set date as index\n",
    "samples = samples.set_index('date')\n",
    "\n",
    "# Split into 100 workers and load imports\n",
    "n_workers = 100\n",
    "buckets = np.array_split(samples, n_workers)\n",
    "print('[{0}] Spawning jobs...'.format(datetime.datetime.now()))\n",
    "jobs = [gevent.spawn(lambda y: y.assign(\n",
    "            imports=lambda x: [';'.join(jcfg_data_loading.parse_static_imports(l)) for l in x.link.values]), b) for b in buckets]\n",
    "print('[{0}] Done spawning.'.format(datetime.datetime.now()))\n",
    "gevent.joinall(jobs)\n",
    "print('[{0}] All jobs done.'.format(datetime.datetime.now()))\n",
    "result = pd.concat([j.value for j in jobs])\n",
    "print('[{0}] Concat done.'.format(datetime.datetime.now()))\n",
    "result.to_csv(path_or_buf='data/imports.csv')"
   ]
  },
  {
   "cell_type": "code",
   "execution_count": null,
   "metadata": {
    "collapsed": true,
    "deletable": true,
    "editable": true
   },
   "outputs": [],
   "source": []
  }
 ],
 "metadata": {
  "kernelspec": {
   "display_name": "Python 3",
   "language": "python",
   "name": "python3"
  },
  "language_info": {
   "codemirror_mode": {
    "name": "ipython",
    "version": 3
   },
   "file_extension": ".py",
   "mimetype": "text/x-python",
   "name": "python",
   "nbconvert_exporter": "python",
   "pygments_lexer": "ipython3",
   "version": "3.6.0"
  }
 },
 "nbformat": 4,
 "nbformat_minor": 2
}
