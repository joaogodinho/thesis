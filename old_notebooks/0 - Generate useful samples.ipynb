{
 "cells": [
  {
   "cell_type": "markdown",
   "metadata": {},
   "source": [
    "# Generate Useful Samples\n",
    "\n",
    "Take the headers and create a CSV that contains all PE32 samples that were actually downloaded.\n",
    "\n",
    "CSV headers are: date, md5, link\n",
    "\n",
    "(Takes a while to run)"
   ]
  },
  {
   "cell_type": "code",
   "execution_count": 6,
   "metadata": {
    "collapsed": false
   },
   "outputs": [],
   "source": [
    "import pandas as pd\n",
    "import lib.data_loading as jcfg_data_loading\n",
    "import lib.helpers as jcfg_helpers\n",
    "from IPython.display import display\n",
    "\n",
    "# All other frames are based on this one\n",
    "headers = jcfg_data_loading.loadHeadersCSV('data/header_analyses.csv')\n",
    "\n",
    "# Filter PE32 samples only\n",
    "crit_pe32 = headers.file_type.map(lambda x: str(x).startswith('PE32 '))\n",
    "pe32 = headers[crit_pe32]\n",
    "pe32.is_copy = False\n",
    "pe32.drop(['file_type', 'file_name', 'antivirus'], inplace=True, axis=1)\n",
    "\n",
    "# Remove full link, just keep submission ID\n",
    "pe32.link = pe32.link.apply(lambda x: x.split('/')[2])\n",
    "\n",
    "# Remove samples that were not downloaded (for some unknown reason)\n",
    "pe32 = pe32[~pe32.link.isin(jcfg_data_loading.check_link(pe32.link.values))]\n",
    "\n",
    "# Save to a file\n",
    "pe32.to_csv(path_or_buf='data/pe32_samples.csv')"
   ]
  }
 ],
 "metadata": {
  "kernelspec": {
   "display_name": "Python 3",
   "language": "python",
   "name": "python3"
  },
  "language_info": {
   "codemirror_mode": {
    "name": "ipython",
    "version": 3
   },
   "file_extension": ".py",
   "mimetype": "text/x-python",
   "name": "python",
   "nbconvert_exporter": "python",
   "pygments_lexer": "ipython3",
   "version": "3.6.0"
  }
 },
 "nbformat": 4,
 "nbformat_minor": 2
}
