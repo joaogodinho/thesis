{
 "cells": [
  {
   "cell_type": "markdown",
   "metadata": {
    "deletable": true,
    "editable": true
   },
   "source": [
    "# LR Filtered Dataset\n",
    "\n",
    "Testing the classifier when using a filtered dataset (selected malware types e.g. virus, trojan, worm)"
   ]
  },
  {
   "cell_type": "code",
   "execution_count": 2,
   "metadata": {
    "collapsed": false,
    "deletable": true,
    "editable": true
   },
   "outputs": [
    {
     "name": "stdout",
     "output_type": "stream",
     "text": [
      "Total goodware: 34509\n",
      "Total malware: 67873\n"
     ]
    }
   ],
   "source": [
    "import pandas as pd\n",
    "import numpy as np\n",
    "import math\n",
    "from IPython.display import display\n",
    "from sklearn.feature_extraction.text import CountVectorizer\n",
    "from sklearn.linear_model import LogisticRegression\n",
    "from sklearn.metrics import confusion_matrix\n",
    "import lib.helpers as jcfg_helpers\n",
    "\n",
    "\n",
    "samples = pd.read_csv('data/pe32_imports_labeled.csv')\n",
    "samples['date'] = pd.to_datetime(samples['date'], format='%Y/%m/%d')\n",
    "samples = samples.set_index('date').sort_index()\n",
    "\n",
    "goodware = samples[samples.malware == 0]\n",
    "malware = samples[samples.malware == 1]\n",
    "\n",
    "print('Total goodware: {}'.format(len(goodware)))\n",
    "print('Total malware: {}'.format(len(malware)))"
   ]
  },
  {
   "cell_type": "markdown",
   "metadata": {
    "deletable": true,
    "editable": true
   },
   "source": [
    "## Dataset for Trojans"
   ]
  },
  {
   "cell_type": "code",
   "execution_count": 2,
   "metadata": {
    "collapsed": false,
    "deletable": true,
    "editable": true,
    "scrolled": false
   },
   "outputs": [
    {
     "name": "stdout",
     "output_type": "stream",
     "text": [
      "Total malware: 41870\n"
     ]
    }
   ],
   "source": [
    "microsoft_class = pd.read_csv('data/microsoft_classification.csv')\n",
    "microsoft_class.fillna('', inplace=True)\n",
    "symantec_class = pd.read_csv('data/symantec_classification.csv')\n",
    "symantec_class.fillna('', inplace=True)\n",
    "trendmicro_class = pd.read_csv('data/trendmicro_classification.csv')\n",
    "trendmicro_class.fillna('', inplace=True)\n",
    "\n",
    "microsoft_filter = microsoft_class[microsoft_class.type == 'trojan']\n",
    "symantec_filter = symantec_class[symantec_class.prefix == 'trojan']\n",
    "trendmicro_filter = trendmicro_class[trendmicro_class.prefix == 'troj']\n",
    "\n",
    "links = pd.concat([microsoft_filter.link, symantec_filter.link, trendmicro_filter.link]).unique()\n",
    "\n",
    "filtered_malware = samples[samples.link.isin(links)]\n",
    "\n",
    "print('Total malware: {}'.format(len(filtered_malware)))"
   ]
  },
  {
   "cell_type": "markdown",
   "metadata": {
    "deletable": true,
    "editable": true
   },
   "source": [
    "## Testing\n",
    "\n",
    "Creating multiple LR and varying the ratio of malware/goodware in training/validation"
   ]
  },
  {
   "cell_type": "code",
   "execution_count": 12,
   "metadata": {
    "collapsed": false,
    "deletable": true,
    "editable": true,
    "scrolled": false
   },
   "outputs": [
    {
     "name": "stdout",
     "output_type": "stream",
     "text": [
      "\t\tDownscale of 0.1\n",
      "CC:\t0.9150\n",
      "DR:\t0.3082\n",
      "FP:\t0.4426\n",
      "FN:\t0.0661\n",
      "\n",
      "Malware stats:\n"
     ]
    },
    {
     "data": {
      "text/plain": [
       "count    3.310000e+02\n",
       "mean     3.633775e-01\n",
       "std      3.564969e-01\n",
       "min      2.154350e-07\n",
       "25%      5.470049e-02\n",
       "50%      2.420007e-01\n",
       "75%      6.038979e-01\n",
       "max      9.999999e-01\n",
       "dtype: float64"
      ]
     },
     "metadata": {},
     "output_type": "display_data"
    },
    {
     "name": "stdout",
     "output_type": "stream",
     "text": [
      "\n",
      "Goodware stats:\n"
     ]
    },
    {
     "data": {
      "text/plain": [
       "count    3318.000000\n",
       "mean        0.942601\n",
       "std         0.132651\n",
       "min         0.024514\n",
       "25%         0.945300\n",
       "50%         0.989109\n",
       "75%         0.999479\n",
       "max         1.000000\n",
       "dtype: float64"
      ]
     },
     "metadata": {},
     "output_type": "display_data"
    },
    {
     "name": "stdout",
     "output_type": "stream",
     "text": [
      "\n",
      "\t\tDownscale of 0.2\n",
      "CC:\t0.8963\n",
      "DR:\t0.5415\n",
      "FP:\t0.2329\n",
      "FN:\t0.0865\n",
      "\n",
      "Malware stats:\n"
     ]
    },
    {
     "data": {
      "text/plain": [
       "count    6.630000e+02\n",
       "mean     5.489624e-01\n",
       "std      3.640254e-01\n",
       "min      8.770690e-08\n",
       "25%      1.589174e-01\n",
       "50%      6.108304e-01\n",
       "75%      9.280080e-01\n",
       "max      1.000000e+00\n",
       "dtype: float64"
      ]
     },
     "metadata": {},
     "output_type": "display_data"
    },
    {
     "name": "stdout",
     "output_type": "stream",
     "text": [
      "\n",
      "Goodware stats:\n"
     ]
    },
    {
     "data": {
      "text/plain": [
       "count    3318.000000\n",
       "mean        0.912766\n",
       "std         0.150912\n",
       "min         0.005487\n",
       "25%         0.841083\n",
       "50%         0.982173\n",
       "75%         0.999632\n",
       "max         1.000000\n",
       "dtype: float64"
      ]
     },
     "metadata": {},
     "output_type": "display_data"
    },
    {
     "name": "stdout",
     "output_type": "stream",
     "text": [
      "\n",
      "\t\tDownscale of 0.3\n",
      "CC:\t0.8855\n",
      "DR:\t0.6583\n",
      "FP:\t0.1904\n",
      "FN:\t0.0970\n",
      "\n",
      "Malware stats:\n"
     ]
    },
    {
     "data": {
      "text/plain": [
       "count    9.950000e+02\n",
       "mean     6.780235e-01\n",
       "std      3.185661e-01\n",
       "min      7.130759e-10\n",
       "25%      3.296162e-01\n",
       "50%      7.444049e-01\n",
       "75%      9.825324e-01\n",
       "max      1.000000e+00\n",
       "dtype: float64"
      ]
     },
     "metadata": {},
     "output_type": "display_data"
    },
    {
     "name": "stdout",
     "output_type": "stream",
     "text": [
      "\n",
      "Goodware stats:\n"
     ]
    },
    {
     "data": {
      "text/plain": [
       "count    3318.000000\n",
       "mean        0.870535\n",
       "std         0.191155\n",
       "min         0.001401\n",
       "25%         0.670384\n",
       "50%         0.981594\n",
       "75%         0.999399\n",
       "max         1.000000\n",
       "dtype: float64"
      ]
     },
     "metadata": {},
     "output_type": "display_data"
    },
    {
     "name": "stdout",
     "output_type": "stream",
     "text": [
      "\n",
      "\t\tDownscale of 0.4\n",
      "CC:\t0.8637\n",
      "DR:\t0.6534\n",
      "FP:\t0.1663\n",
      "FN:\t0.1276\n",
      "\n",
      "Malware stats:\n"
     ]
    },
    {
     "data": {
      "text/plain": [
       "count    1327.000000\n",
       "mean        0.665938\n",
       "std         0.329939\n",
       "min         0.000001\n",
       "25%         0.385686\n",
       "50%         0.775968\n",
       "75%         0.988356\n",
       "max         1.000000\n",
       "dtype: float64"
      ]
     },
     "metadata": {},
     "output_type": "display_data"
    },
    {
     "name": "stdout",
     "output_type": "stream",
     "text": [
      "\n",
      "Goodware stats:\n"
     ]
    },
    {
     "data": {
      "text/plain": [
       "count    3318.000000\n",
       "mean        0.850287\n",
       "std         0.212208\n",
       "min         0.002386\n",
       "25%         0.614314\n",
       "50%         0.975537\n",
       "75%         0.998951\n",
       "max         1.000000\n",
       "dtype: float64"
      ]
     },
     "metadata": {},
     "output_type": "display_data"
    },
    {
     "name": "stdout",
     "output_type": "stream",
     "text": [
      "\n",
      "\t\tDownscale of 0.5\n",
      "CC:\t0.8583\n",
      "DR:\t0.7179\n",
      "FP:\t0.1660\n",
      "FN:\t0.1319\n",
      "\n",
      "Malware stats:\n"
     ]
    },
    {
     "data": {
      "text/plain": [
       "count    1.659000e+03\n",
       "mean     6.869545e-01\n",
       "std      2.992347e-01\n",
       "min      2.741793e-09\n",
       "25%      4.114548e-01\n",
       "50%      7.588778e-01\n",
       "75%      9.662130e-01\n",
       "max      1.000000e+00\n",
       "dtype: float64"
      ]
     },
     "metadata": {},
     "output_type": "display_data"
    },
    {
     "name": "stdout",
     "output_type": "stream",
     "text": [
      "\n",
      "Goodware stats:\n"
     ]
    },
    {
     "data": {
      "text/plain": [
       "count    3318.000000\n",
       "mean        0.830215\n",
       "std         0.227503\n",
       "min         0.000844\n",
       "25%         0.588545\n",
       "50%         0.961805\n",
       "75%         0.998540\n",
       "max         1.000000\n",
       "dtype: float64"
      ]
     },
     "metadata": {},
     "output_type": "display_data"
    },
    {
     "name": "stdout",
     "output_type": "stream",
     "text": [
      "\n",
      "\t\tDownscale of 0.6\n",
      "CC:\t0.8668\n",
      "DR:\t0.8010\n",
      "FP:\t0.1633\n",
      "FN:\t0.1164\n",
      "\n",
      "Malware stats:\n"
     ]
    },
    {
     "data": {
      "text/plain": [
       "count    1990.000000\n",
       "mean        0.730033\n",
       "std         0.253779\n",
       "min         0.000011\n",
       "25%         0.619831\n",
       "50%         0.798213\n",
       "75%         0.942779\n",
       "max         1.000000\n",
       "dtype: float64"
      ]
     },
     "metadata": {},
     "output_type": "display_data"
    },
    {
     "name": "stdout",
     "output_type": "stream",
     "text": [
      "\n",
      "Goodware stats:\n"
     ]
    },
    {
     "data": {
      "text/plain": [
       "count    3318.000000\n",
       "mean        0.805407\n",
       "std         0.247039\n",
       "min         0.000088\n",
       "25%         0.546928\n",
       "50%         0.955000\n",
       "75%         0.997711\n",
       "max         1.000000\n",
       "dtype: float64"
      ]
     },
     "metadata": {},
     "output_type": "display_data"
    },
    {
     "name": "stdout",
     "output_type": "stream",
     "text": [
      "\n",
      "\t\tDownscale of 0.7\n",
      "CC:\t0.8342\n",
      "DR:\t0.7476\n",
      "FP:\t0.1674\n",
      "FN:\t0.1648\n",
      "\n",
      "Malware stats:\n"
     ]
    },
    {
     "data": {
      "text/plain": [
       "count    2.322000e+03\n",
       "mean     7.513755e-01\n",
       "std      2.661164e-01\n",
       "min      4.983562e-08\n",
       "25%      4.784336e-01\n",
       "50%      8.500344e-01\n",
       "75%      9.836111e-01\n",
       "max      1.000000e+00\n",
       "dtype: float64"
      ]
     },
     "metadata": {},
     "output_type": "display_data"
    },
    {
     "name": "stdout",
     "output_type": "stream",
     "text": [
      "\n",
      "Goodware stats:\n"
     ]
    },
    {
     "data": {
      "text/plain": [
       "count    3318.000000\n",
       "mean        0.796193\n",
       "std         0.256222\n",
       "min         0.000030\n",
       "25%         0.536700\n",
       "50%         0.947498\n",
       "75%         0.997998\n",
       "max         1.000000\n",
       "dtype: float64"
      ]
     },
     "metadata": {},
     "output_type": "display_data"
    },
    {
     "name": "stdout",
     "output_type": "stream",
     "text": [
      "\n",
      "\t\tDownscale of 0.8\n",
      "CC:\t0.7989\n",
      "DR:\t0.6737\n",
      "FP:\t0.1578\n",
      "FN:\t0.2250\n",
      "\n",
      "Malware stats:\n"
     ]
    },
    {
     "data": {
      "text/plain": [
       "count    2.654000e+03\n",
       "mean     7.414045e-01\n",
       "std      2.812362e-01\n",
       "min      6.415496e-10\n",
       "25%      4.840918e-01\n",
       "50%      8.644190e-01\n",
       "75%      9.941780e-01\n",
       "max      1.000000e+00\n",
       "dtype: float64"
      ]
     },
     "metadata": {},
     "output_type": "display_data"
    },
    {
     "name": "stdout",
     "output_type": "stream",
     "text": [
      "\n",
      "Goodware stats:\n"
     ]
    },
    {
     "data": {
      "text/plain": [
       "count    3318.000000\n",
       "mean        0.787304\n",
       "std         0.262844\n",
       "min         0.000005\n",
       "25%         0.515908\n",
       "50%         0.936831\n",
       "75%         0.998052\n",
       "max         1.000000\n",
       "dtype: float64"
      ]
     },
     "metadata": {},
     "output_type": "display_data"
    },
    {
     "name": "stdout",
     "output_type": "stream",
     "text": [
      "\n",
      "\t\tDownscale of 0.9\n",
      "CC:\t0.7824\n",
      "DR:\t0.8684\n",
      "FP:\t0.2741\n",
      "FN:\t0.1439\n",
      "\n",
      "Malware stats:\n"
     ]
    },
    {
     "data": {
      "text/plain": [
       "count    2.986000e+03\n",
       "mean     7.367667e-01\n",
       "std      2.801853e-01\n",
       "min      1.178909e-09\n",
       "25%      5.112202e-01\n",
       "50%      8.667157e-01\n",
       "75%      9.831193e-01\n",
       "max      1.000000e+00\n",
       "dtype: float64"
      ]
     },
     "metadata": {},
     "output_type": "display_data"
    },
    {
     "name": "stdout",
     "output_type": "stream",
     "text": [
      "\n",
      "Goodware stats:\n"
     ]
    },
    {
     "data": {
      "text/plain": [
       "count    3.318000e+03\n",
       "mean     7.731386e-01\n",
       "std      2.750734e-01\n",
       "min      2.318087e-08\n",
       "25%      4.887798e-01\n",
       "50%      9.282055e-01\n",
       "75%      9.980447e-01\n",
       "max      1.000000e+00\n",
       "dtype: float64"
      ]
     },
     "metadata": {},
     "output_type": "display_data"
    },
    {
     "name": "stdout",
     "output_type": "stream",
     "text": [
      "\n",
      "\t\tDownscale of 1.0\n",
      "CC:\t0.7819\n",
      "DR:\t0.8677\n",
      "FP:\t0.2593\n",
      "FN:\t0.1597\n",
      "\n",
      "Malware stats:\n"
     ]
    },
    {
     "data": {
      "text/plain": [
       "count    3.318000e+03\n",
       "mean     7.214340e-01\n",
       "std      2.671056e-01\n",
       "min      2.697429e-10\n",
       "25%      5.520293e-01\n",
       "50%      8.297241e-01\n",
       "75%      9.601650e-01\n",
       "max      1.000000e+00\n",
       "dtype: float64"
      ]
     },
     "metadata": {},
     "output_type": "display_data"
    },
    {
     "name": "stdout",
     "output_type": "stream",
     "text": [
      "\n",
      "Goodware stats:\n"
     ]
    },
    {
     "data": {
      "text/plain": [
       "count    3.318000e+03\n",
       "mean     7.575619e-01\n",
       "std      2.871125e-01\n",
       "min      1.954325e-08\n",
       "25%      4.479707e-01\n",
       "50%      9.216381e-01\n",
       "75%      9.974889e-01\n",
       "max      1.000000e+00\n",
       "dtype: float64"
      ]
     },
     "metadata": {},
     "output_type": "display_data"
    },
    {
     "name": "stdout",
     "output_type": "stream",
     "text": [
      "\n"
     ]
    }
   ],
   "source": [
    "for i in np.arange(0.1, 1.1, 0.1):\n",
    "    print('\\t\\tDownscale of {:.1f}'.format(i))\n",
    "    # Training/Validation creation\n",
    "    training, validation = jcfg_helpers.train_test_split(\n",
    "    pd.concat([goodware, filtered_malware]),\n",
    "    validation_size = 0.25,\n",
    "    balanced = True,\n",
    "    malware_downscale = i)\n",
    "    #print('Malware in training: {}\\nGoodware in training: {}'.format(len(training[training.malware == 1]),\n",
    "    #                                                                 len(training[training.malware == 0])))\n",
    "    #print('Malware in validation: {}\\nGoodware in validation: {}'.format(len(validation[validation.malware == 1]),\n",
    "    #                                                                     len(validation[validation.malware == 0])))\n",
    "    \n",
    "    ################\n",
    "    # Feature Vector\n",
    "    cv_token_pattern = u'[^;]+'\n",
    "    min_df = 2\n",
    "    cv = CountVectorizer(token_pattern=cv_token_pattern, min_df=min_df)\n",
    "    train_X = cv.fit_transform(training.imports)\n",
    "    #print('Total features: {}'.format(len(cv.get_feature_names())))\n",
    "    \n",
    "    ################\n",
    "    # Logistic Regression\n",
    "    train_Y = training.malware\n",
    "    lr = LogisticRegression().fit(train_X, train_Y)\n",
    "\n",
    "    ################\n",
    "    # Scoring\n",
    "    test_X = cv.transform(validation.imports)\n",
    "    test_Y = validation.malware\n",
    "    score = confusion_matrix(test_Y, lr.predict(test_X))\n",
    "    fp_rate, fn_rate, cc_rate, det_rate = jcfg_helpers.calc_ratios(score)\n",
    "    print('CC:\\t{:.4f}'.format(cc_rate))\n",
    "    print('DR:\\t{:.4f}'.format(det_rate))\n",
    "    print('FP:\\t{:.4f}'.format(fp_rate))\n",
    "    print('FN:\\t{:.4f}'.format(fn_rate))\n",
    "    malware_only = lr.predict_proba(test_X[np.where(test_Y == 1)])\n",
    "    goodware_only = lr.predict_proba(test_X[np.where(test_Y == 0)])\n",
    "    print('\\nMalware stats:')\n",
    "    display(pd.Series(malware_only[:,1]).describe())\n",
    "    print('\\nGoodware stats:')\n",
    "    display(pd.Series(goodware_only[:,0]).describe())\n",
    "    print()"
   ]
  },
  {
   "cell_type": "markdown",
   "metadata": {
    "deletable": true,
    "editable": true
   },
   "source": [
    "## Dataset for Backdoors"
   ]
  },
  {
   "cell_type": "code",
   "execution_count": 20,
   "metadata": {
    "collapsed": false,
    "deletable": true,
    "editable": true
   },
   "outputs": [
    {
     "name": "stdout",
     "output_type": "stream",
     "text": [
      "Total malware: 13273\n"
     ]
    }
   ],
   "source": [
    "microsoft_class = pd.read_csv('data/microsoft_classification.csv')\n",
    "microsoft_class.fillna('', inplace=True)\n",
    "symantec_class = pd.read_csv('data/symantec_classification.csv')\n",
    "symantec_class.fillna('', inplace=True)\n",
    "trendmicro_class = pd.read_csv('data/trendmicro_classification.csv')\n",
    "trendmicro_class.fillna('', inplace=True)\n",
    "\n",
    "microsoft_filter = microsoft_class[microsoft_class.type == 'backdoor']\n",
    "symantec_filter = symantec_class[symantec_class.prefix == 'backdoor']\n",
    "trendmicro_filter = trendmicro_class[trendmicro_class.prefix == 'bkdr']\n",
    "\n",
    "links = pd.concat([microsoft_filter.link, symantec_filter.link, trendmicro_filter.link]).unique()\n",
    "\n",
    "filtered_malware = samples[samples.link.isin(links)]\n",
    "\n",
    "print('Total malware: {}'.format(len(filtered_malware)))"
   ]
  },
  {
   "cell_type": "markdown",
   "metadata": {
    "deletable": true,
    "editable": true
   },
   "source": [
    "## Testing\n",
    "\n",
    "Creating multiple LR and varying the ratio of malware/goodware in training/validation"
   ]
  },
  {
   "cell_type": "code",
   "execution_count": 9,
   "metadata": {
    "collapsed": false,
    "deletable": true,
    "editable": true,
    "scrolled": true
   },
   "outputs": [
    {
     "name": "stdout",
     "output_type": "stream",
     "text": [
      "\t\tDownscale of 0.1\n",
      "CC:\t0.9150\n",
      "DR:\t0.3082\n",
      "FP:\t0.4426\n",
      "FN:\t0.0661\n",
      "\n",
      "Malware stats:\n"
     ]
    },
    {
     "data": {
      "text/plain": [
       "count    3.310000e+02\n",
       "mean     3.633775e-01\n",
       "std      3.564969e-01\n",
       "min      2.154350e-07\n",
       "25%      5.470049e-02\n",
       "50%      2.420007e-01\n",
       "75%      6.038979e-01\n",
       "max      9.999999e-01\n",
       "dtype: float64"
      ]
     },
     "metadata": {},
     "output_type": "display_data"
    },
    {
     "name": "stdout",
     "output_type": "stream",
     "text": [
      "\n",
      "Goodware stats:\n"
     ]
    },
    {
     "data": {
      "text/plain": [
       "count    3318.000000\n",
       "mean        0.942601\n",
       "std         0.132651\n",
       "min         0.024514\n",
       "25%         0.945300\n",
       "50%         0.989109\n",
       "75%         0.999479\n",
       "max         1.000000\n",
       "dtype: float64"
      ]
     },
     "metadata": {},
     "output_type": "display_data"
    },
    {
     "name": "stdout",
     "output_type": "stream",
     "text": [
      "\n",
      "\t\tDownscale of 0.2\n",
      "CC:\t0.8963\n",
      "DR:\t0.5415\n",
      "FP:\t0.2329\n",
      "FN:\t0.0865\n",
      "\n",
      "Malware stats:\n"
     ]
    },
    {
     "data": {
      "text/plain": [
       "count    6.630000e+02\n",
       "mean     5.489624e-01\n",
       "std      3.640254e-01\n",
       "min      8.770690e-08\n",
       "25%      1.589174e-01\n",
       "50%      6.108304e-01\n",
       "75%      9.280080e-01\n",
       "max      1.000000e+00\n",
       "dtype: float64"
      ]
     },
     "metadata": {},
     "output_type": "display_data"
    },
    {
     "name": "stdout",
     "output_type": "stream",
     "text": [
      "\n",
      "Goodware stats:\n"
     ]
    },
    {
     "data": {
      "text/plain": [
       "count    3318.000000\n",
       "mean        0.912766\n",
       "std         0.150912\n",
       "min         0.005487\n",
       "25%         0.841083\n",
       "50%         0.982173\n",
       "75%         0.999632\n",
       "max         1.000000\n",
       "dtype: float64"
      ]
     },
     "metadata": {},
     "output_type": "display_data"
    },
    {
     "name": "stdout",
     "output_type": "stream",
     "text": [
      "\n",
      "\t\tDownscale of 0.30000000000000004\n",
      "CC:\t0.8855\n",
      "DR:\t0.6583\n",
      "FP:\t0.1904\n",
      "FN:\t0.0970\n",
      "\n",
      "Malware stats:\n"
     ]
    },
    {
     "data": {
      "text/plain": [
       "count    9.950000e+02\n",
       "mean     6.780235e-01\n",
       "std      3.185661e-01\n",
       "min      7.130759e-10\n",
       "25%      3.296162e-01\n",
       "50%      7.444049e-01\n",
       "75%      9.825324e-01\n",
       "max      1.000000e+00\n",
       "dtype: float64"
      ]
     },
     "metadata": {},
     "output_type": "display_data"
    },
    {
     "name": "stdout",
     "output_type": "stream",
     "text": [
      "\n",
      "Goodware stats:\n"
     ]
    },
    {
     "data": {
      "text/plain": [
       "count    3318.000000\n",
       "mean        0.870535\n",
       "std         0.191155\n",
       "min         0.001401\n",
       "25%         0.670384\n",
       "50%         0.981594\n",
       "75%         0.999399\n",
       "max         1.000000\n",
       "dtype: float64"
      ]
     },
     "metadata": {},
     "output_type": "display_data"
    },
    {
     "name": "stdout",
     "output_type": "stream",
     "text": [
      "\n",
      "\t\tDownscale of 0.4\n",
      "CC:\t0.8637\n",
      "DR:\t0.6534\n",
      "FP:\t0.1663\n",
      "FN:\t0.1276\n",
      "\n",
      "Malware stats:\n"
     ]
    },
    {
     "data": {
      "text/plain": [
       "count    1327.000000\n",
       "mean        0.665938\n",
       "std         0.329939\n",
       "min         0.000001\n",
       "25%         0.385686\n",
       "50%         0.775968\n",
       "75%         0.988356\n",
       "max         1.000000\n",
       "dtype: float64"
      ]
     },
     "metadata": {},
     "output_type": "display_data"
    },
    {
     "name": "stdout",
     "output_type": "stream",
     "text": [
      "\n",
      "Goodware stats:\n"
     ]
    },
    {
     "data": {
      "text/plain": [
       "count    3318.000000\n",
       "mean        0.850287\n",
       "std         0.212208\n",
       "min         0.002386\n",
       "25%         0.614314\n",
       "50%         0.975537\n",
       "75%         0.998951\n",
       "max         1.000000\n",
       "dtype: float64"
      ]
     },
     "metadata": {},
     "output_type": "display_data"
    },
    {
     "name": "stdout",
     "output_type": "stream",
     "text": [
      "\n",
      "\t\tDownscale of 0.5\n",
      "CC:\t0.8583\n",
      "DR:\t0.7179\n",
      "FP:\t0.1660\n",
      "FN:\t0.1319\n",
      "\n",
      "Malware stats:\n"
     ]
    },
    {
     "data": {
      "text/plain": [
       "count    1.659000e+03\n",
       "mean     6.869545e-01\n",
       "std      2.992347e-01\n",
       "min      2.741793e-09\n",
       "25%      4.114548e-01\n",
       "50%      7.588778e-01\n",
       "75%      9.662130e-01\n",
       "max      1.000000e+00\n",
       "dtype: float64"
      ]
     },
     "metadata": {},
     "output_type": "display_data"
    },
    {
     "name": "stdout",
     "output_type": "stream",
     "text": [
      "\n",
      "Goodware stats:\n"
     ]
    },
    {
     "data": {
      "text/plain": [
       "count    3318.000000\n",
       "mean        0.830215\n",
       "std         0.227503\n",
       "min         0.000844\n",
       "25%         0.588545\n",
       "50%         0.961805\n",
       "75%         0.998540\n",
       "max         1.000000\n",
       "dtype: float64"
      ]
     },
     "metadata": {},
     "output_type": "display_data"
    },
    {
     "name": "stdout",
     "output_type": "stream",
     "text": [
      "\n",
      "\t\tDownscale of 0.6\n",
      "CC:\t0.8668\n",
      "DR:\t0.8010\n",
      "FP:\t0.1633\n",
      "FN:\t0.1164\n",
      "\n",
      "Malware stats:\n"
     ]
    },
    {
     "data": {
      "text/plain": [
       "count    1990.000000\n",
       "mean        0.730033\n",
       "std         0.253779\n",
       "min         0.000011\n",
       "25%         0.619831\n",
       "50%         0.798213\n",
       "75%         0.942779\n",
       "max         1.000000\n",
       "dtype: float64"
      ]
     },
     "metadata": {},
     "output_type": "display_data"
    },
    {
     "name": "stdout",
     "output_type": "stream",
     "text": [
      "\n",
      "Goodware stats:\n"
     ]
    },
    {
     "data": {
      "text/plain": [
       "count    3318.000000\n",
       "mean        0.805407\n",
       "std         0.247039\n",
       "min         0.000088\n",
       "25%         0.546928\n",
       "50%         0.955000\n",
       "75%         0.997711\n",
       "max         1.000000\n",
       "dtype: float64"
      ]
     },
     "metadata": {},
     "output_type": "display_data"
    },
    {
     "name": "stdout",
     "output_type": "stream",
     "text": [
      "\n",
      "\t\tDownscale of 0.7000000000000001\n",
      "CC:\t0.8342\n",
      "DR:\t0.7476\n",
      "FP:\t0.1674\n",
      "FN:\t0.1648\n",
      "\n",
      "Malware stats:\n"
     ]
    },
    {
     "data": {
      "text/plain": [
       "count    2.322000e+03\n",
       "mean     7.513755e-01\n",
       "std      2.661164e-01\n",
       "min      4.983562e-08\n",
       "25%      4.784336e-01\n",
       "50%      8.500344e-01\n",
       "75%      9.836111e-01\n",
       "max      1.000000e+00\n",
       "dtype: float64"
      ]
     },
     "metadata": {},
     "output_type": "display_data"
    },
    {
     "name": "stdout",
     "output_type": "stream",
     "text": [
      "\n",
      "Goodware stats:\n"
     ]
    },
    {
     "data": {
      "text/plain": [
       "count    3318.000000\n",
       "mean        0.796193\n",
       "std         0.256222\n",
       "min         0.000030\n",
       "25%         0.536700\n",
       "50%         0.947498\n",
       "75%         0.997998\n",
       "max         1.000000\n",
       "dtype: float64"
      ]
     },
     "metadata": {},
     "output_type": "display_data"
    },
    {
     "name": "stdout",
     "output_type": "stream",
     "text": [
      "\n",
      "\t\tDownscale of 0.8\n",
      "CC:\t0.7989\n",
      "DR:\t0.6737\n",
      "FP:\t0.1578\n",
      "FN:\t0.2250\n",
      "\n",
      "Malware stats:\n"
     ]
    },
    {
     "data": {
      "text/plain": [
       "count    2.654000e+03\n",
       "mean     7.414045e-01\n",
       "std      2.812362e-01\n",
       "min      6.415496e-10\n",
       "25%      4.840918e-01\n",
       "50%      8.644190e-01\n",
       "75%      9.941780e-01\n",
       "max      1.000000e+00\n",
       "dtype: float64"
      ]
     },
     "metadata": {},
     "output_type": "display_data"
    },
    {
     "name": "stdout",
     "output_type": "stream",
     "text": [
      "\n",
      "Goodware stats:\n"
     ]
    },
    {
     "data": {
      "text/plain": [
       "count    3318.000000\n",
       "mean        0.787304\n",
       "std         0.262844\n",
       "min         0.000005\n",
       "25%         0.515908\n",
       "50%         0.936831\n",
       "75%         0.998052\n",
       "max         1.000000\n",
       "dtype: float64"
      ]
     },
     "metadata": {},
     "output_type": "display_data"
    },
    {
     "name": "stdout",
     "output_type": "stream",
     "text": [
      "\n",
      "\t\tDownscale of 0.9\n",
      "CC:\t0.7824\n",
      "DR:\t0.8684\n",
      "FP:\t0.2741\n",
      "FN:\t0.1439\n",
      "\n",
      "Malware stats:\n"
     ]
    },
    {
     "data": {
      "text/plain": [
       "count    2.986000e+03\n",
       "mean     7.367667e-01\n",
       "std      2.801853e-01\n",
       "min      1.178909e-09\n",
       "25%      5.112202e-01\n",
       "50%      8.667157e-01\n",
       "75%      9.831193e-01\n",
       "max      1.000000e+00\n",
       "dtype: float64"
      ]
     },
     "metadata": {},
     "output_type": "display_data"
    },
    {
     "name": "stdout",
     "output_type": "stream",
     "text": [
      "\n",
      "Goodware stats:\n"
     ]
    },
    {
     "data": {
      "text/plain": [
       "count    3.318000e+03\n",
       "mean     7.731386e-01\n",
       "std      2.750734e-01\n",
       "min      2.318087e-08\n",
       "25%      4.887798e-01\n",
       "50%      9.282055e-01\n",
       "75%      9.980447e-01\n",
       "max      1.000000e+00\n",
       "dtype: float64"
      ]
     },
     "metadata": {},
     "output_type": "display_data"
    },
    {
     "name": "stdout",
     "output_type": "stream",
     "text": [
      "\n",
      "\t\tDownscale of 1.0\n",
      "CC:\t0.7819\n",
      "DR:\t0.8677\n",
      "FP:\t0.2593\n",
      "FN:\t0.1597\n",
      "\n",
      "Malware stats:\n"
     ]
    },
    {
     "data": {
      "text/plain": [
       "count    3.318000e+03\n",
       "mean     7.214340e-01\n",
       "std      2.671056e-01\n",
       "min      2.697429e-10\n",
       "25%      5.520293e-01\n",
       "50%      8.297241e-01\n",
       "75%      9.601650e-01\n",
       "max      1.000000e+00\n",
       "dtype: float64"
      ]
     },
     "metadata": {},
     "output_type": "display_data"
    },
    {
     "name": "stdout",
     "output_type": "stream",
     "text": [
      "\n",
      "Goodware stats:\n"
     ]
    },
    {
     "data": {
      "text/plain": [
       "count    3.318000e+03\n",
       "mean     7.575619e-01\n",
       "std      2.871125e-01\n",
       "min      1.954325e-08\n",
       "25%      4.479707e-01\n",
       "50%      9.216381e-01\n",
       "75%      9.974889e-01\n",
       "max      1.000000e+00\n",
       "dtype: float64"
      ]
     },
     "metadata": {},
     "output_type": "display_data"
    },
    {
     "name": "stdout",
     "output_type": "stream",
     "text": [
      "\n"
     ]
    }
   ],
   "source": [
    "for i in np.arange(0.1, 1.1, 0.1):\n",
    "    print('\\t\\tDownscale of {:.1f}'.format(i))\n",
    "    # Training/Validation creation\n",
    "    training, validation = jcfg_helpers.train_test_split(\n",
    "    pd.concat([goodware, filtered_malware]),\n",
    "    validation_size = 0.25,\n",
    "    balanced = True,\n",
    "    malware_downscale = i)\n",
    "    #print('Malware in training: {}\\nGoodware in training: {}'.format(len(training[training.malware == 1]),\n",
    "    #                                                                 len(training[training.malware == 0])))\n",
    "    #print('Malware in validation: {}\\nGoodware in validation: {}'.format(len(validation[validation.malware == 1]),\n",
    "    #                                                                     len(validation[validation.malware == 0])))\n",
    "    \n",
    "    ################\n",
    "    # Feature Vector\n",
    "    cv_token_pattern = u'[^;]+'\n",
    "    min_df = 2\n",
    "    cv = CountVectorizer(token_pattern=cv_token_pattern, min_df=min_df)\n",
    "    train_X = cv.fit_transform(training.imports)\n",
    "    #print('Total features: {}'.format(len(cv.get_feature_names())))\n",
    "    \n",
    "    ################\n",
    "    # Logistic Regression\n",
    "    train_Y = training.malware\n",
    "    lr = LogisticRegression().fit(train_X, train_Y)\n",
    "\n",
    "    ################\n",
    "    # Scoring\n",
    "    test_X = cv.transform(validation.imports)\n",
    "    test_Y = validation.malware\n",
    "    score = confusion_matrix(test_Y, lr.predict(test_X))\n",
    "    fp_rate, fn_rate, cc_rate, det_rate = jcfg_helpers.calc_ratios(score)\n",
    "    print('CC:\\t{:.4f}'.format(cc_rate))\n",
    "    print('DR:\\t{:.4f}'.format(det_rate))\n",
    "    print('FP:\\t{:.4f}'.format(fp_rate))\n",
    "    print('FN:\\t{:.4f}'.format(fn_rate))\n",
    "    malware_only = lr.predict_proba(test_X[np.where(test_Y == 1)])\n",
    "    goodware_only = lr.predict_proba(test_X[np.where(test_Y == 0)])\n",
    "    print('\\nMalware stats:')\n",
    "    display(pd.Series(malware_only[:,1]).describe())\n",
    "    print('\\nGoodware stats:')\n",
    "    display(pd.Series(goodware_only[:,0]).describe())\n",
    "    print()"
   ]
  },
  {
   "cell_type": "markdown",
   "metadata": {
    "deletable": true,
    "editable": true
   },
   "source": [
    "## Dataset for Worms"
   ]
  },
  {
   "cell_type": "code",
   "execution_count": 35,
   "metadata": {
    "collapsed": false,
    "deletable": true,
    "editable": true
   },
   "outputs": [
    {
     "data": {
      "text/plain": [
       "6162"
      ]
     },
     "metadata": {},
     "output_type": "display_data"
    },
    {
     "name": "stdout",
     "output_type": "stream",
     "text": [
      "Total malware: 3800\n"
     ]
    }
   ],
   "source": [
    "microsoft_class = pd.read_csv('data/microsoft_classification.csv')\n",
    "microsoft_class.fillna('', inplace=True)\n",
    "symantec_class = pd.read_csv('data/symantec_classification.csv')\n",
    "symantec_class.fillna('', inplace=True)\n",
    "trendmicro_class = pd.read_csv('data/trendmicro_classification.csv')\n",
    "trendmicro_class.fillna('', inplace=True)\n",
    "\n",
    "microsoft_filter = microsoft_class[microsoft_class.type == 'worm']\n",
    "symantec_filter = symantec_class[symantec_class.suffix == 'worm']\n",
    "trendmicro_filter = trendmicro_class[trendmicro_class.prefix == 'worm']\n",
    "\n",
    "l = [i for i in microsoft_filter.link if i not in trendmicro_filter.link.values]\n",
    "display(len(l))\n",
    "\n",
    "links = pd.Series(l)\n",
    "\n",
    "# inter = microsoft_filter.link.isin([symantec_filter.link, trendmicro_filter])\n",
    "#inter = pd.Index([microsoft_filter.link.values, symantec_filter.link.values, trendmicro_filter.link.values])\n",
    "# links = pd.concat(inter)\n",
    "# links = pd.concat([microsoft_filter.link, symantec_filter.link, trendmicro_filter.link]).unique()\n",
    "# display(inter[0])\n",
    "\n",
    "#links = pd.concat(pd.Series([inter[0], inter[1], inter[2]]))\n",
    "\n",
    "filtered_malware = samples[samples.link.isin(links)]\n",
    "\n",
    "print('Total malware: {}'.format(len(filtered_malware)))"
   ]
  },
  {
   "cell_type": "code",
   "execution_count": 36,
   "metadata": {
    "collapsed": false,
    "scrolled": false
   },
   "outputs": [
    {
     "data": {
      "text/html": [
       "<div>\n",
       "<table border=\"1\" class=\"dataframe\">\n",
       "  <thead>\n",
       "    <tr style=\"text-align: right;\">\n",
       "      <th></th>\n",
       "      <th>date</th>\n",
       "      <th>md5</th>\n",
       "      <th>link</th>\n",
       "      <th>family</th>\n",
       "      <th>prefix</th>\n",
       "      <th>suffix</th>\n",
       "    </tr>\n",
       "  </thead>\n",
       "  <tbody>\n",
       "    <tr>\n",
       "      <th>12</th>\n",
       "      <td>2013-04-16</td>\n",
       "      <td>452e20bda5be890364fc3a9905278b1d</td>\n",
       "      <td>YmRhMmY4YjBkNTM4NDllMTkyZjQzODg3N2ZmNTQwNDE</td>\n",
       "      <td>generic</td>\n",
       "      <td>pak</td>\n",
       "      <td>001</td>\n",
       "    </tr>\n",
       "    <tr>\n",
       "      <th>31</th>\n",
       "      <td>2013-04-17</td>\n",
       "      <td>8a41cd0a312259a1996e29c8609fa11b</td>\n",
       "      <td>MzhmNGJkYzc3NWZiNGUwNzlmODNhNDZiMGJhNTJiMWY</td>\n",
       "      <td>spnr</td>\n",
       "      <td>troj</td>\n",
       "      <td>11cp13</td>\n",
       "    </tr>\n",
       "    <tr>\n",
       "      <th>36</th>\n",
       "      <td>2013-04-17</td>\n",
       "      <td>f0063edef419009b1564e5fba81157db</td>\n",
       "      <td>Mjk3NmYwOTI4Y2EzNDcxMTk2YjBjNGI2OTA1MDZjOTY</td>\n",
       "      <td>fareit</td>\n",
       "      <td>tspy</td>\n",
       "      <td>tpa</td>\n",
       "    </tr>\n",
       "    <tr>\n",
       "      <th>38</th>\n",
       "      <td>2013-04-17</td>\n",
       "      <td>e332e11cdafb7683fc186245460a5f2a</td>\n",
       "      <td>NmVhYTQ3OGM2YTc0NDgyOGIxODcwZjJjMzg3YjZjNzA</td>\n",
       "      <td>gen</td>\n",
       "      <td>troj</td>\n",
       "      <td>rcbochr</td>\n",
       "    </tr>\n",
       "    <tr>\n",
       "      <th>51</th>\n",
       "      <td>2013-04-18</td>\n",
       "      <td>8a41cd0a312259a1996e29c8609fa11b</td>\n",
       "      <td>NzI3MGE2YmNlY2MzNGQ3ZWFhZGYxYTliODgyMzE0MGE</td>\n",
       "      <td>spnr</td>\n",
       "      <td>troj</td>\n",
       "      <td>11cp13</td>\n",
       "    </tr>\n",
       "    <tr>\n",
       "      <th>57</th>\n",
       "      <td>2013-04-18</td>\n",
       "      <td>f5c927945db809946363775a1ee3992d</td>\n",
       "      <td>ZDk0ZDFjY2QwZTI5NDU1OTg5MDBiMzhlMDIxYTljZjk</td>\n",
       "      <td>spnr</td>\n",
       "      <td>troj</td>\n",
       "      <td>02l111</td>\n",
       "    </tr>\n",
       "    <tr>\n",
       "      <th>68</th>\n",
       "      <td>2013-04-18</td>\n",
       "      <td>77591ef66f98d6c7db7892b81b131530</td>\n",
       "      <td>YzA1NzIxMzQ2OTlhNGYwNjlmMDc1Yjg0MWEyOTc2NGI</td>\n",
       "      <td>spnr</td>\n",
       "      <td>troj</td>\n",
       "      <td>0bda13</td>\n",
       "    </tr>\n",
       "    <tr>\n",
       "      <th>92</th>\n",
       "      <td>2013-04-19</td>\n",
       "      <td>19c70de08fbb2ce178c25d4afccc7397</td>\n",
       "      <td>NDUyYTdiOWMwZGM1NDg4OGEwODhiYWViODhhYjM3NWI</td>\n",
       "      <td>spnr</td>\n",
       "      <td>troj</td>\n",
       "      <td>02k811</td>\n",
       "    </tr>\n",
       "    <tr>\n",
       "      <th>96</th>\n",
       "      <td>2013-04-20</td>\n",
       "      <td>241bb8a2ce3461c1edcf59801b0ef427</td>\n",
       "      <td>NmI0MWFhZmQyNGM5NDRlNmJjYTViYTZhNjEzMTE4MmM</td>\n",
       "      <td>spnr</td>\n",
       "      <td>troj</td>\n",
       "      <td>11j212</td>\n",
       "    </tr>\n",
       "    <tr>\n",
       "      <th>99</th>\n",
       "      <td>2013-04-20</td>\n",
       "      <td>9352259f72b8ef603ab644de70bc09c4</td>\n",
       "      <td>OWM0NWIwMjkzMGZhNDFlYTg4NDg0MzRiZGMyNTE3MDU</td>\n",
       "      <td>gen</td>\n",
       "      <td>troj</td>\n",
       "      <td>r27cccl</td>\n",
       "    </tr>\n",
       "    <tr>\n",
       "      <th>102</th>\n",
       "      <td>2013-04-20</td>\n",
       "      <td>5d8b6b7a57c07975becf64eaeefffd2c</td>\n",
       "      <td>Y2JjYzdmMGRlYmU5NDI3Nzg1YTdkMzUwNGI3OTQzZTI</td>\n",
       "      <td>ircbrute</td>\n",
       "      <td>troj</td>\n",
       "      <td>ip</td>\n",
       "    </tr>\n",
       "    <tr>\n",
       "      <th>104</th>\n",
       "      <td>2013-04-20</td>\n",
       "      <td>909232c3b85f8507109f9626a360ff42</td>\n",
       "      <td>NTA0N2IyMmViNjI3NDMyYjgxOGVmYzY5ZDcyYTM0ZmI</td>\n",
       "      <td>kryptik</td>\n",
       "      <td>troj</td>\n",
       "      <td>jdr</td>\n",
       "    </tr>\n",
       "    <tr>\n",
       "      <th>105</th>\n",
       "      <td>2013-04-20</td>\n",
       "      <td>66c01d71c2561c699dcb549dcc0212e4</td>\n",
       "      <td>OWRjYTBkMjM0OTE4NGNhN2FiMzgxYjQ5MDMyMzQyMGU</td>\n",
       "      <td>spnr</td>\n",
       "      <td>troj</td>\n",
       "      <td>15kl11</td>\n",
       "    </tr>\n",
       "    <tr>\n",
       "      <th>114</th>\n",
       "      <td>2013-04-20</td>\n",
       "      <td>1b26ec53cf1253de4624de68cd9d560e</td>\n",
       "      <td>ZDUwYjIxOTMwZGYxNDk3MGFhYjZlYzA1ODM0NjcxZGQ</td>\n",
       "      <td>jorik</td>\n",
       "      <td>troj</td>\n",
       "      <td>bwq</td>\n",
       "    </tr>\n",
       "    <tr>\n",
       "      <th>121</th>\n",
       "      <td>2013-04-20</td>\n",
       "      <td>62f60eafbc3a8918a5a91dc3523a95a4</td>\n",
       "      <td>ZjBkOWFhNTFiZWJkNGI0YWI1NWU1NmUxNDc5YmRkNjU</td>\n",
       "      <td>gen</td>\n",
       "      <td>troj</td>\n",
       "      <td>rcbcdbk</td>\n",
       "    </tr>\n",
       "    <tr>\n",
       "      <th>123</th>\n",
       "      <td>2013-04-20</td>\n",
       "      <td>d9e23fe79d2d0b18bd55d46a63bf62e9</td>\n",
       "      <td>MmIwMDI0OWYyNzIxNDAxMjkzMjk4MDFkYTU3YTkxNDM</td>\n",
       "      <td>spnr</td>\n",
       "      <td>troj</td>\n",
       "      <td>11cg12</td>\n",
       "    </tr>\n",
       "    <tr>\n",
       "      <th>127</th>\n",
       "      <td>2013-04-21</td>\n",
       "      <td>87a2a5e653fc8782e5ba4c957502973f</td>\n",
       "      <td>NDhhMzMzNDAwZWVjNDgyNzg1OGMzZjVkYTUwOTY4ZTU</td>\n",
       "      <td>gen</td>\n",
       "      <td>troj</td>\n",
       "      <td>rcbcdd3</td>\n",
       "    </tr>\n",
       "    <tr>\n",
       "      <th>130</th>\n",
       "      <td>2013-04-21</td>\n",
       "      <td>ab981df9f4cf57feb4dc35fa5a3ac473</td>\n",
       "      <td>ZjU0NDVkYTliODE3NDgwNzgzZTk4ZWU3YmE1YTQ2NTY</td>\n",
       "      <td>zlob</td>\n",
       "      <td>troj</td>\n",
       "      <td>giw</td>\n",
       "    </tr>\n",
       "    <tr>\n",
       "      <th>136</th>\n",
       "      <td>2013-04-21</td>\n",
       "      <td>15f579ed0b1851491dc5f739d8a5e946</td>\n",
       "      <td>MDk3ZTVlMzRiNjIyNGY5NThmZmI2YjNjYjk1NGJiMDg</td>\n",
       "      <td>gen</td>\n",
       "      <td>troj</td>\n",
       "      <td>r28cddu</td>\n",
       "    </tr>\n",
       "    <tr>\n",
       "      <th>137</th>\n",
       "      <td>2013-04-21</td>\n",
       "      <td>42ea22bdf11cd218f2ccf7fcf26a1505</td>\n",
       "      <td>NGRmN2E0OWRlYjMwNDYxMWJhODcxNTc5NTAxYmY4MjU</td>\n",
       "      <td>generic</td>\n",
       "      <td>pak</td>\n",
       "      <td>001</td>\n",
       "    </tr>\n",
       "    <tr>\n",
       "      <th>138</th>\n",
       "      <td>2013-04-21</td>\n",
       "      <td>10cd33970ef81070d51ea486319087b0</td>\n",
       "      <td>ZjY2OGIxZDIwNTY4NDYyNWJmM2YzODkzOWMyZWQ5NTU</td>\n",
       "      <td>androm</td>\n",
       "      <td>bkdr</td>\n",
       "      <td>eo</td>\n",
       "    </tr>\n",
       "    <tr>\n",
       "      <th>143</th>\n",
       "      <td>2013-04-21</td>\n",
       "      <td>03e2d19036f41cb3744d880b8db6a361</td>\n",
       "      <td>NDNiYzMzM2U3OWIxNGM0M2E3MDIzYTMyNzMxYzVlZTM</td>\n",
       "      <td>gen</td>\n",
       "      <td>troj</td>\n",
       "      <td>r28cddu</td>\n",
       "    </tr>\n",
       "    <tr>\n",
       "      <th>149</th>\n",
       "      <td>2013-04-21</td>\n",
       "      <td>10cd33970ef81070d51ea486319087b0</td>\n",
       "      <td>MTA4NmQ1MjU1MzlkNGQ3MmFjZjlhMDlhMWNlMzM3MWE</td>\n",
       "      <td>androm</td>\n",
       "      <td>bkdr</td>\n",
       "      <td>eo</td>\n",
       "    </tr>\n",
       "    <tr>\n",
       "      <th>151</th>\n",
       "      <td>2013-04-21</td>\n",
       "      <td>20fd99a8879ce3230cfd38baef5b0a36</td>\n",
       "      <td>YTcwNTZjZDA0ZjUxNDIzNDlmYTEzM2I2ZDhkMzc1N2M</td>\n",
       "      <td>vbkrypt_bk08455d</td>\n",
       "      <td>ht</td>\n",
       "      <td>tomc</td>\n",
       "    </tr>\n",
       "    <tr>\n",
       "      <th>160</th>\n",
       "      <td>2013-04-22</td>\n",
       "      <td>50a0a044b5a7bd2e7ebf61f8b31d4407</td>\n",
       "      <td>NDk4MTM4NjQxYTgzNGUzNzhjNGI2NDI4YTFmYWU5NGI</td>\n",
       "      <td>spnr</td>\n",
       "      <td>troj</td>\n",
       "      <td>03dl13</td>\n",
       "    </tr>\n",
       "    <tr>\n",
       "      <th>170</th>\n",
       "      <td>2013-04-22</td>\n",
       "      <td>886614bddb6fa924554c0f9971f6f418</td>\n",
       "      <td>MzNjNmVkZTgwODMwNDk3ZThhMDEzNWRjNjY5Y2E5OGI</td>\n",
       "      <td>spnr</td>\n",
       "      <td>troj</td>\n",
       "      <td>0bcc13</td>\n",
       "    </tr>\n",
       "    <tr>\n",
       "      <th>180</th>\n",
       "      <td>2013-04-22</td>\n",
       "      <td>6b8e96cc7adaf886c7d6dbbb83be96df</td>\n",
       "      <td>MzBmZDQ0ZWE3MmU0NDQ2NGIwZTRhMDdjYzdmZDMzY2Q</td>\n",
       "      <td>spnr</td>\n",
       "      <td>troj</td>\n",
       "      <td>11cr13</td>\n",
       "    </tr>\n",
       "    <tr>\n",
       "      <th>186</th>\n",
       "      <td>2013-04-22</td>\n",
       "      <td>0a75c7c1de2c059e8bd0d1ca7f607c89</td>\n",
       "      <td>ODY2N2Q1MDkxNzlkNGM5ZTg3ZDE3ZDcwMThiYzNlYWE</td>\n",
       "      <td>ransom</td>\n",
       "      <td>troj</td>\n",
       "      <td>emy</td>\n",
       "    </tr>\n",
       "    <tr>\n",
       "      <th>235</th>\n",
       "      <td>2013-04-25</td>\n",
       "      <td>1676f23f0f47a2bd7bde95fe53730187</td>\n",
       "      <td>OWE1ZDM2NDUzN2NhNDg2MmJjZGRhMjgwNmMyYTgyMGY</td>\n",
       "      <td>spatet</td>\n",
       "      <td>tspy</td>\n",
       "      <td>smt</td>\n",
       "    </tr>\n",
       "    <tr>\n",
       "      <th>237</th>\n",
       "      <td>2013-04-25</td>\n",
       "      <td>21e8b1b44274e84005a36d3fa50c82fc</td>\n",
       "      <td>OGIwYjUwOTM4MGY5NDFlZjkzYzk4NmFjYWYyYjE2YmU</td>\n",
       "      <td>gen</td>\n",
       "      <td>troj</td>\n",
       "      <td>rcbcrdp</td>\n",
       "    </tr>\n",
       "    <tr>\n",
       "      <th>...</th>\n",
       "      <td>...</td>\n",
       "      <td>...</td>\n",
       "      <td>...</td>\n",
       "      <td>...</td>\n",
       "      <td>...</td>\n",
       "      <td>...</td>\n",
       "    </tr>\n",
       "    <tr>\n",
       "      <th>92103</th>\n",
       "      <td>2016-09-21</td>\n",
       "      <td>5d2c882adf8fb4a40165aec69f4668fb</td>\n",
       "      <td>N2E3NzJlNjkxYzhjNDMzM2E5YzgzNDllMmE1MDQ2ZDM</td>\n",
       "      <td>gen</td>\n",
       "      <td>troj</td>\n",
       "      <td>r00jc0dil16</td>\n",
       "    </tr>\n",
       "    <tr>\n",
       "      <th>92120</th>\n",
       "      <td>2016-09-21</td>\n",
       "      <td>b57e873d70b094db06f4b05590c8c09e</td>\n",
       "      <td>MDZjMjQ0ODYwOWU3NGM2YzkzZDg1MzdhYjAxOGRjYzM</td>\n",
       "      <td>injecto</td>\n",
       "      <td>troj</td>\n",
       "      <td>kaa</td>\n",
       "    </tr>\n",
       "    <tr>\n",
       "      <th>92250</th>\n",
       "      <td>2016-09-24</td>\n",
       "      <td>b8f8d86fe38aeafe58b9bf113c630988</td>\n",
       "      <td>YTRmMGFhMjg0ZjZmNDRlZmJkNjkxNWY4M2I4Yjk1Yjg</td>\n",
       "      <td>otorun-13</td>\n",
       "      <td>mal</td>\n",
       "      <td></td>\n",
       "    </tr>\n",
       "    <tr>\n",
       "      <th>92322</th>\n",
       "      <td>2016-09-26</td>\n",
       "      <td>2a1dd34c61f679aae43955ec55350a91</td>\n",
       "      <td>MDVlNWVjNDQ2MDNkNDQ4OTljNGJiZjE1ZGM4YzE2NDY</td>\n",
       "      <td>gen</td>\n",
       "      <td>troj</td>\n",
       "      <td>r01bc0dii16</td>\n",
       "    </tr>\n",
       "    <tr>\n",
       "      <th>92405</th>\n",
       "      <td>2016-09-28</td>\n",
       "      <td>ff35edacb8c847e85a6494e7858ecada</td>\n",
       "      <td>NGU2MjY1ZDQwNWM2NDhkNThmZTE0ODJiZDY0NTA5MzI</td>\n",
       "      <td>spatet</td>\n",
       "      <td>tspy</td>\n",
       "      <td>smt</td>\n",
       "    </tr>\n",
       "    <tr>\n",
       "      <th>92425</th>\n",
       "      <td>2016-09-29</td>\n",
       "      <td>c468d7024ac5ef9b365f7fc95c4fa930</td>\n",
       "      <td>MWNhZjg2MDU4Yzc0NGRmN2IyMTRiNzFkNTAxNmY5NzA</td>\n",
       "      <td>androm</td>\n",
       "      <td>bkdr</td>\n",
       "      <td>smxl1</td>\n",
       "    </tr>\n",
       "    <tr>\n",
       "      <th>92430</th>\n",
       "      <td>2016-09-29</td>\n",
       "      <td>fc6ee683f28c4d867b069841b45cde8b</td>\n",
       "      <td>MzBkOTIxZWQ5NDNjNGEwZGJlNzg0MjIwNDUxNzYzZDk</td>\n",
       "      <td>agent</td>\n",
       "      <td>hktl</td>\n",
       "      <td></td>\n",
       "    </tr>\n",
       "    <tr>\n",
       "      <th>92433</th>\n",
       "      <td>2016-09-29</td>\n",
       "      <td>1150c183552f82d9eb4e467e363447b7</td>\n",
       "      <td>YjZlYjc4ZGJmYTEzNDkwM2I2MWI3YTI0YWE4ODhhZTg</td>\n",
       "      <td>banload</td>\n",
       "      <td>troj</td>\n",
       "      <td>ywnrd</td>\n",
       "    </tr>\n",
       "    <tr>\n",
       "      <th>92434</th>\n",
       "      <td>2016-09-29</td>\n",
       "      <td>1150c183552f82d9eb4e467e363447b7</td>\n",
       "      <td>ODAxY2VmMWY2NWFiNDdjNDlmMDYyM2UxYTFkMmNhYzM</td>\n",
       "      <td>banload</td>\n",
       "      <td>troj</td>\n",
       "      <td>ywnrd</td>\n",
       "    </tr>\n",
       "    <tr>\n",
       "      <th>92435</th>\n",
       "      <td>2016-09-29</td>\n",
       "      <td>1150c183552f82d9eb4e467e363447b7</td>\n",
       "      <td>ZjYzZmQ1N2FiYWUwNGU0ZTk0MGY0ZTc4OGIwZjM4YmQ</td>\n",
       "      <td>banload</td>\n",
       "      <td>troj</td>\n",
       "      <td>ywnrd</td>\n",
       "    </tr>\n",
       "    <tr>\n",
       "      <th>92459</th>\n",
       "      <td>2016-09-29</td>\n",
       "      <td>e03cbd3a6e6dfc238d24e5700e9328e9</td>\n",
       "      <td>ZWI5OWQ1ZjMzZGI5NGE2NjliNDVhNzVkMzNhZWUyMTM</td>\n",
       "      <td>bertle</td>\n",
       "      <td>pe</td>\n",
       "      <td>a</td>\n",
       "    </tr>\n",
       "    <tr>\n",
       "      <th>92471</th>\n",
       "      <td>2016-09-30</td>\n",
       "      <td>6f86dd945e1b5c764bf752458559e0d0</td>\n",
       "      <td>YjZiMmE1ZmVmZDg2NGQ1Zjg5M2M1MDc2NGQ2OTkyNWE</td>\n",
       "      <td>gen</td>\n",
       "      <td>troj</td>\n",
       "      <td>r08nc0ckt13</td>\n",
       "    </tr>\n",
       "    <tr>\n",
       "      <th>92495</th>\n",
       "      <td>2016-09-30</td>\n",
       "      <td>038a3d79aa752fafbb0eae98e1727714</td>\n",
       "      <td>MTBhNzE2Nzc5ODdiNDY5MDg5ZWMyYjgxZDg1MmJjNjg</td>\n",
       "      <td>otorunn</td>\n",
       "      <td>mal</td>\n",
       "      <td></td>\n",
       "    </tr>\n",
       "    <tr>\n",
       "      <th>92499</th>\n",
       "      <td>2016-09-30</td>\n",
       "      <td>22639c8124ea46c4aa13038e5894c59c</td>\n",
       "      <td>ZjYxYzA3MWE0Y2RkNGFmNGI3ZDk4ZTAyMjU2MTYxMDY</td>\n",
       "      <td>injecto</td>\n",
       "      <td>troj</td>\n",
       "      <td>dqu</td>\n",
       "    </tr>\n",
       "    <tr>\n",
       "      <th>92506</th>\n",
       "      <td>2016-09-30</td>\n",
       "      <td>c5f02eed1713d7f43a318ffe708f5084</td>\n",
       "      <td>OWJmYjRkYjEyMWQ1NGQ4MThjNmQ5MjcwODJiNzdmZDc</td>\n",
       "      <td>spnr</td>\n",
       "      <td>troj</td>\n",
       "      <td>06hg14</td>\n",
       "    </tr>\n",
       "    <tr>\n",
       "      <th>92519</th>\n",
       "      <td>2016-10-01</td>\n",
       "      <td>515972eadbc1e199d59376407a23ab9c</td>\n",
       "      <td>YjRjY2RjMWUwNGVmNDVmZTg2YmM0Mjg0ZTUyNGZkYzk</td>\n",
       "      <td>banker</td>\n",
       "      <td>tspy</td>\n",
       "      <td>yyqr</td>\n",
       "    </tr>\n",
       "    <tr>\n",
       "      <th>92521</th>\n",
       "      <td>2016-10-01</td>\n",
       "      <td>515972eadbc1e199d59376407a23ab9c</td>\n",
       "      <td>YjZlYWRlZTFlNWRmNDM3Nzk1NWQ4MWRkYzgwNWZiNGU</td>\n",
       "      <td>banker</td>\n",
       "      <td>tspy</td>\n",
       "      <td>yyqr</td>\n",
       "    </tr>\n",
       "    <tr>\n",
       "      <th>92565</th>\n",
       "      <td>2016-10-03</td>\n",
       "      <td>f916cf9255f28b96fac7ffb0de7c10f7</td>\n",
       "      <td>MmQ2YjRhMjIwYjJlNDYwY2IzZjU5Y2Y0MWRiNTE0NzI</td>\n",
       "      <td>allaple</td>\n",
       "      <td>mal</td>\n",
       "      <td></td>\n",
       "    </tr>\n",
       "    <tr>\n",
       "      <th>92594</th>\n",
       "      <td>2016-10-03</td>\n",
       "      <td>ab0b4addcc70d8e719cd5796932ab4df</td>\n",
       "      <td>NmNjOGQwYTkwZTQ5NDJlMThhMDA5NDIwYmMwNjM1ZmE</td>\n",
       "      <td>gen</td>\n",
       "      <td>troj</td>\n",
       "      <td>r00wc0dh116</td>\n",
       "    </tr>\n",
       "    <tr>\n",
       "      <th>92606</th>\n",
       "      <td>2016-10-03</td>\n",
       "      <td>12e5d4dfbb4ac8c5cbc09e930a9ae6b1</td>\n",
       "      <td>YmY4MDY1NGU1M2Q4NGY4ZGEyYTgwNTViY2RhNjU2ZmY</td>\n",
       "      <td>frs</td>\n",
       "      <td>troj</td>\n",
       "      <td>bma000iu14</td>\n",
       "    </tr>\n",
       "    <tr>\n",
       "      <th>92636</th>\n",
       "      <td>2016-10-04</td>\n",
       "      <td>14ce606403ec0c4fa1e7edfd066f42e7</td>\n",
       "      <td>MTdjODNhMTFlYWFkNDIyN2EwNDc3ZDI1OGZhM2Y3Y2Y</td>\n",
       "      <td>sality</td>\n",
       "      <td>pe</td>\n",
       "      <td>rl</td>\n",
       "    </tr>\n",
       "    <tr>\n",
       "      <th>92665</th>\n",
       "      <td>2016-10-05</td>\n",
       "      <td>be124a5f40f7ae1fa39cdf8a9d87c382</td>\n",
       "      <td>OGMwZGMzYjNiMDg1NDdjOWFmNGY5YzU5ZTNiOTQ3NWM</td>\n",
       "      <td>malkryp</td>\n",
       "      <td>troj</td>\n",
       "      <td>sm2</td>\n",
       "    </tr>\n",
       "    <tr>\n",
       "      <th>92696</th>\n",
       "      <td>2016-10-06</td>\n",
       "      <td>b6c618df48fde91a4c4a66231da42476</td>\n",
       "      <td>ODk1NjQ0YTEzOTdiNDhlZjhhNTQ0NDUwZTgxNjlkNjM</td>\n",
       "      <td>crysis</td>\n",
       "      <td>ransom</td>\n",
       "      <td>f116ig</td>\n",
       "    </tr>\n",
       "    <tr>\n",
       "      <th>92706</th>\n",
       "      <td>2016-10-06</td>\n",
       "      <td>be124a5f40f7ae1fa39cdf8a9d87c382</td>\n",
       "      <td>YjhiZDMxZjc2YmQzNGYyNGE5ZThhMTdlNzc1MDE3ODE</td>\n",
       "      <td>malkryp</td>\n",
       "      <td>troj</td>\n",
       "      <td>sm2</td>\n",
       "    </tr>\n",
       "    <tr>\n",
       "      <th>92755</th>\n",
       "      <td>2016-10-07</td>\n",
       "      <td>947e92a9b6de6590c7a62a6f7432b5df</td>\n",
       "      <td>ODViNTU1YTU1OTY1NDgwYmI2MGVjOWFjMDYxMDlhZTY</td>\n",
       "      <td>vbfus-3</td>\n",
       "      <td>mal</td>\n",
       "      <td></td>\n",
       "    </tr>\n",
       "    <tr>\n",
       "      <th>92763</th>\n",
       "      <td>2016-10-07</td>\n",
       "      <td>b6c618df48fde91a4c4a66231da42476</td>\n",
       "      <td>YTM3ODJjMzc4MTUwNGNhYWJiZDkzNjM1OGMyOTM4NDc</td>\n",
       "      <td>crysis</td>\n",
       "      <td>ransom</td>\n",
       "      <td>f116ig</td>\n",
       "    </tr>\n",
       "    <tr>\n",
       "      <th>92781</th>\n",
       "      <td>2016-10-08</td>\n",
       "      <td>c12b31821ef1588a70d7dda5a6eb0821</td>\n",
       "      <td>M2M4MDU4YzkzNmUxNDhlMDg1ZWQ0MDQ0YWM4MzFiYjU</td>\n",
       "      <td>llac</td>\n",
       "      <td>tspy</td>\n",
       "      <td>sml</td>\n",
       "    </tr>\n",
       "    <tr>\n",
       "      <th>92819</th>\n",
       "      <td>2016-10-09</td>\n",
       "      <td>b2c90311ddb85ff0328050918c888284</td>\n",
       "      <td>MTBlZTU5YjM2NDM2NDdmYWI0ZDAxMjhkN2ZkY2ZkNDc</td>\n",
       "      <td>spatet</td>\n",
       "      <td>tspy</td>\n",
       "      <td>smt</td>\n",
       "    </tr>\n",
       "    <tr>\n",
       "      <th>92836</th>\n",
       "      <td>2016-10-09</td>\n",
       "      <td>750e2f1fe0432bed5dd1c8ee92759eaa</td>\n",
       "      <td>ZDQwNzhmODQxYWQ5NDZhZWFiMDc0M2QwZTBmOTc4ZjQ</td>\n",
       "      <td>gen</td>\n",
       "      <td>troj</td>\n",
       "      <td>r00xc0ci516</td>\n",
       "    </tr>\n",
       "    <tr>\n",
       "      <th>92843</th>\n",
       "      <td>2016-10-09</td>\n",
       "      <td>5f741cba676f4724aa6d77739a5cea3b</td>\n",
       "      <td>MDBiZWZmYWU5MTA1NDliZWI4N2ViNmMxMGE4ZTJjNWI</td>\n",
       "      <td>gen</td>\n",
       "      <td>troj</td>\n",
       "      <td>r00xc0ci516</td>\n",
       "    </tr>\n",
       "  </tbody>\n",
       "</table>\n",
       "<p>5156 rows × 6 columns</p>\n",
       "</div>"
      ],
      "text/plain": [
       "             date                               md5  \\\n",
       "12     2013-04-16  452e20bda5be890364fc3a9905278b1d   \n",
       "31     2013-04-17  8a41cd0a312259a1996e29c8609fa11b   \n",
       "36     2013-04-17  f0063edef419009b1564e5fba81157db   \n",
       "38     2013-04-17  e332e11cdafb7683fc186245460a5f2a   \n",
       "51     2013-04-18  8a41cd0a312259a1996e29c8609fa11b   \n",
       "57     2013-04-18  f5c927945db809946363775a1ee3992d   \n",
       "68     2013-04-18  77591ef66f98d6c7db7892b81b131530   \n",
       "92     2013-04-19  19c70de08fbb2ce178c25d4afccc7397   \n",
       "96     2013-04-20  241bb8a2ce3461c1edcf59801b0ef427   \n",
       "99     2013-04-20  9352259f72b8ef603ab644de70bc09c4   \n",
       "102    2013-04-20  5d8b6b7a57c07975becf64eaeefffd2c   \n",
       "104    2013-04-20  909232c3b85f8507109f9626a360ff42   \n",
       "105    2013-04-20  66c01d71c2561c699dcb549dcc0212e4   \n",
       "114    2013-04-20  1b26ec53cf1253de4624de68cd9d560e   \n",
       "121    2013-04-20  62f60eafbc3a8918a5a91dc3523a95a4   \n",
       "123    2013-04-20  d9e23fe79d2d0b18bd55d46a63bf62e9   \n",
       "127    2013-04-21  87a2a5e653fc8782e5ba4c957502973f   \n",
       "130    2013-04-21  ab981df9f4cf57feb4dc35fa5a3ac473   \n",
       "136    2013-04-21  15f579ed0b1851491dc5f739d8a5e946   \n",
       "137    2013-04-21  42ea22bdf11cd218f2ccf7fcf26a1505   \n",
       "138    2013-04-21  10cd33970ef81070d51ea486319087b0   \n",
       "143    2013-04-21  03e2d19036f41cb3744d880b8db6a361   \n",
       "149    2013-04-21  10cd33970ef81070d51ea486319087b0   \n",
       "151    2013-04-21  20fd99a8879ce3230cfd38baef5b0a36   \n",
       "160    2013-04-22  50a0a044b5a7bd2e7ebf61f8b31d4407   \n",
       "170    2013-04-22  886614bddb6fa924554c0f9971f6f418   \n",
       "180    2013-04-22  6b8e96cc7adaf886c7d6dbbb83be96df   \n",
       "186    2013-04-22  0a75c7c1de2c059e8bd0d1ca7f607c89   \n",
       "235    2013-04-25  1676f23f0f47a2bd7bde95fe53730187   \n",
       "237    2013-04-25  21e8b1b44274e84005a36d3fa50c82fc   \n",
       "...           ...                               ...   \n",
       "92103  2016-09-21  5d2c882adf8fb4a40165aec69f4668fb   \n",
       "92120  2016-09-21  b57e873d70b094db06f4b05590c8c09e   \n",
       "92250  2016-09-24  b8f8d86fe38aeafe58b9bf113c630988   \n",
       "92322  2016-09-26  2a1dd34c61f679aae43955ec55350a91   \n",
       "92405  2016-09-28  ff35edacb8c847e85a6494e7858ecada   \n",
       "92425  2016-09-29  c468d7024ac5ef9b365f7fc95c4fa930   \n",
       "92430  2016-09-29  fc6ee683f28c4d867b069841b45cde8b   \n",
       "92433  2016-09-29  1150c183552f82d9eb4e467e363447b7   \n",
       "92434  2016-09-29  1150c183552f82d9eb4e467e363447b7   \n",
       "92435  2016-09-29  1150c183552f82d9eb4e467e363447b7   \n",
       "92459  2016-09-29  e03cbd3a6e6dfc238d24e5700e9328e9   \n",
       "92471  2016-09-30  6f86dd945e1b5c764bf752458559e0d0   \n",
       "92495  2016-09-30  038a3d79aa752fafbb0eae98e1727714   \n",
       "92499  2016-09-30  22639c8124ea46c4aa13038e5894c59c   \n",
       "92506  2016-09-30  c5f02eed1713d7f43a318ffe708f5084   \n",
       "92519  2016-10-01  515972eadbc1e199d59376407a23ab9c   \n",
       "92521  2016-10-01  515972eadbc1e199d59376407a23ab9c   \n",
       "92565  2016-10-03  f916cf9255f28b96fac7ffb0de7c10f7   \n",
       "92594  2016-10-03  ab0b4addcc70d8e719cd5796932ab4df   \n",
       "92606  2016-10-03  12e5d4dfbb4ac8c5cbc09e930a9ae6b1   \n",
       "92636  2016-10-04  14ce606403ec0c4fa1e7edfd066f42e7   \n",
       "92665  2016-10-05  be124a5f40f7ae1fa39cdf8a9d87c382   \n",
       "92696  2016-10-06  b6c618df48fde91a4c4a66231da42476   \n",
       "92706  2016-10-06  be124a5f40f7ae1fa39cdf8a9d87c382   \n",
       "92755  2016-10-07  947e92a9b6de6590c7a62a6f7432b5df   \n",
       "92763  2016-10-07  b6c618df48fde91a4c4a66231da42476   \n",
       "92781  2016-10-08  c12b31821ef1588a70d7dda5a6eb0821   \n",
       "92819  2016-10-09  b2c90311ddb85ff0328050918c888284   \n",
       "92836  2016-10-09  750e2f1fe0432bed5dd1c8ee92759eaa   \n",
       "92843  2016-10-09  5f741cba676f4724aa6d77739a5cea3b   \n",
       "\n",
       "                                              link            family  prefix  \\\n",
       "12     YmRhMmY4YjBkNTM4NDllMTkyZjQzODg3N2ZmNTQwNDE           generic     pak   \n",
       "31     MzhmNGJkYzc3NWZiNGUwNzlmODNhNDZiMGJhNTJiMWY              spnr    troj   \n",
       "36     Mjk3NmYwOTI4Y2EzNDcxMTk2YjBjNGI2OTA1MDZjOTY            fareit    tspy   \n",
       "38     NmVhYTQ3OGM2YTc0NDgyOGIxODcwZjJjMzg3YjZjNzA               gen    troj   \n",
       "51     NzI3MGE2YmNlY2MzNGQ3ZWFhZGYxYTliODgyMzE0MGE              spnr    troj   \n",
       "57     ZDk0ZDFjY2QwZTI5NDU1OTg5MDBiMzhlMDIxYTljZjk              spnr    troj   \n",
       "68     YzA1NzIxMzQ2OTlhNGYwNjlmMDc1Yjg0MWEyOTc2NGI              spnr    troj   \n",
       "92     NDUyYTdiOWMwZGM1NDg4OGEwODhiYWViODhhYjM3NWI              spnr    troj   \n",
       "96     NmI0MWFhZmQyNGM5NDRlNmJjYTViYTZhNjEzMTE4MmM              spnr    troj   \n",
       "99     OWM0NWIwMjkzMGZhNDFlYTg4NDg0MzRiZGMyNTE3MDU               gen    troj   \n",
       "102    Y2JjYzdmMGRlYmU5NDI3Nzg1YTdkMzUwNGI3OTQzZTI          ircbrute    troj   \n",
       "104    NTA0N2IyMmViNjI3NDMyYjgxOGVmYzY5ZDcyYTM0ZmI           kryptik    troj   \n",
       "105    OWRjYTBkMjM0OTE4NGNhN2FiMzgxYjQ5MDMyMzQyMGU              spnr    troj   \n",
       "114    ZDUwYjIxOTMwZGYxNDk3MGFhYjZlYzA1ODM0NjcxZGQ             jorik    troj   \n",
       "121    ZjBkOWFhNTFiZWJkNGI0YWI1NWU1NmUxNDc5YmRkNjU               gen    troj   \n",
       "123    MmIwMDI0OWYyNzIxNDAxMjkzMjk4MDFkYTU3YTkxNDM              spnr    troj   \n",
       "127    NDhhMzMzNDAwZWVjNDgyNzg1OGMzZjVkYTUwOTY4ZTU               gen    troj   \n",
       "130    ZjU0NDVkYTliODE3NDgwNzgzZTk4ZWU3YmE1YTQ2NTY              zlob    troj   \n",
       "136    MDk3ZTVlMzRiNjIyNGY5NThmZmI2YjNjYjk1NGJiMDg               gen    troj   \n",
       "137    NGRmN2E0OWRlYjMwNDYxMWJhODcxNTc5NTAxYmY4MjU           generic     pak   \n",
       "138    ZjY2OGIxZDIwNTY4NDYyNWJmM2YzODkzOWMyZWQ5NTU            androm    bkdr   \n",
       "143    NDNiYzMzM2U3OWIxNGM0M2E3MDIzYTMyNzMxYzVlZTM               gen    troj   \n",
       "149    MTA4NmQ1MjU1MzlkNGQ3MmFjZjlhMDlhMWNlMzM3MWE            androm    bkdr   \n",
       "151    YTcwNTZjZDA0ZjUxNDIzNDlmYTEzM2I2ZDhkMzc1N2M  vbkrypt_bk08455d      ht   \n",
       "160    NDk4MTM4NjQxYTgzNGUzNzhjNGI2NDI4YTFmYWU5NGI              spnr    troj   \n",
       "170    MzNjNmVkZTgwODMwNDk3ZThhMDEzNWRjNjY5Y2E5OGI              spnr    troj   \n",
       "180    MzBmZDQ0ZWE3MmU0NDQ2NGIwZTRhMDdjYzdmZDMzY2Q              spnr    troj   \n",
       "186    ODY2N2Q1MDkxNzlkNGM5ZTg3ZDE3ZDcwMThiYzNlYWE            ransom    troj   \n",
       "235    OWE1ZDM2NDUzN2NhNDg2MmJjZGRhMjgwNmMyYTgyMGY            spatet    tspy   \n",
       "237    OGIwYjUwOTM4MGY5NDFlZjkzYzk4NmFjYWYyYjE2YmU               gen    troj   \n",
       "...                                            ...               ...     ...   \n",
       "92103  N2E3NzJlNjkxYzhjNDMzM2E5YzgzNDllMmE1MDQ2ZDM               gen    troj   \n",
       "92120  MDZjMjQ0ODYwOWU3NGM2YzkzZDg1MzdhYjAxOGRjYzM           injecto    troj   \n",
       "92250  YTRmMGFhMjg0ZjZmNDRlZmJkNjkxNWY4M2I4Yjk1Yjg         otorun-13     mal   \n",
       "92322  MDVlNWVjNDQ2MDNkNDQ4OTljNGJiZjE1ZGM4YzE2NDY               gen    troj   \n",
       "92405  NGU2MjY1ZDQwNWM2NDhkNThmZTE0ODJiZDY0NTA5MzI            spatet    tspy   \n",
       "92425  MWNhZjg2MDU4Yzc0NGRmN2IyMTRiNzFkNTAxNmY5NzA            androm    bkdr   \n",
       "92430  MzBkOTIxZWQ5NDNjNGEwZGJlNzg0MjIwNDUxNzYzZDk             agent    hktl   \n",
       "92433  YjZlYjc4ZGJmYTEzNDkwM2I2MWI3YTI0YWE4ODhhZTg           banload    troj   \n",
       "92434  ODAxY2VmMWY2NWFiNDdjNDlmMDYyM2UxYTFkMmNhYzM           banload    troj   \n",
       "92435  ZjYzZmQ1N2FiYWUwNGU0ZTk0MGY0ZTc4OGIwZjM4YmQ           banload    troj   \n",
       "92459  ZWI5OWQ1ZjMzZGI5NGE2NjliNDVhNzVkMzNhZWUyMTM            bertle      pe   \n",
       "92471  YjZiMmE1ZmVmZDg2NGQ1Zjg5M2M1MDc2NGQ2OTkyNWE               gen    troj   \n",
       "92495  MTBhNzE2Nzc5ODdiNDY5MDg5ZWMyYjgxZDg1MmJjNjg           otorunn     mal   \n",
       "92499  ZjYxYzA3MWE0Y2RkNGFmNGI3ZDk4ZTAyMjU2MTYxMDY           injecto    troj   \n",
       "92506  OWJmYjRkYjEyMWQ1NGQ4MThjNmQ5MjcwODJiNzdmZDc              spnr    troj   \n",
       "92519  YjRjY2RjMWUwNGVmNDVmZTg2YmM0Mjg0ZTUyNGZkYzk            banker    tspy   \n",
       "92521  YjZlYWRlZTFlNWRmNDM3Nzk1NWQ4MWRkYzgwNWZiNGU            banker    tspy   \n",
       "92565  MmQ2YjRhMjIwYjJlNDYwY2IzZjU5Y2Y0MWRiNTE0NzI           allaple     mal   \n",
       "92594  NmNjOGQwYTkwZTQ5NDJlMThhMDA5NDIwYmMwNjM1ZmE               gen    troj   \n",
       "92606  YmY4MDY1NGU1M2Q4NGY4ZGEyYTgwNTViY2RhNjU2ZmY               frs    troj   \n",
       "92636  MTdjODNhMTFlYWFkNDIyN2EwNDc3ZDI1OGZhM2Y3Y2Y            sality      pe   \n",
       "92665  OGMwZGMzYjNiMDg1NDdjOWFmNGY5YzU5ZTNiOTQ3NWM           malkryp    troj   \n",
       "92696  ODk1NjQ0YTEzOTdiNDhlZjhhNTQ0NDUwZTgxNjlkNjM            crysis  ransom   \n",
       "92706  YjhiZDMxZjc2YmQzNGYyNGE5ZThhMTdlNzc1MDE3ODE           malkryp    troj   \n",
       "92755  ODViNTU1YTU1OTY1NDgwYmI2MGVjOWFjMDYxMDlhZTY           vbfus-3     mal   \n",
       "92763  YTM3ODJjMzc4MTUwNGNhYWJiZDkzNjM1OGMyOTM4NDc            crysis  ransom   \n",
       "92781  M2M4MDU4YzkzNmUxNDhlMDg1ZWQ0MDQ0YWM4MzFiYjU              llac    tspy   \n",
       "92819  MTBlZTU5YjM2NDM2NDdmYWI0ZDAxMjhkN2ZkY2ZkNDc            spatet    tspy   \n",
       "92836  ZDQwNzhmODQxYWQ5NDZhZWFiMDc0M2QwZTBmOTc4ZjQ               gen    troj   \n",
       "92843  MDBiZWZmYWU5MTA1NDliZWI4N2ViNmMxMGE4ZTJjNWI               gen    troj   \n",
       "\n",
       "            suffix  \n",
       "12             001  \n",
       "31          11cp13  \n",
       "36             tpa  \n",
       "38         rcbochr  \n",
       "51          11cp13  \n",
       "57          02l111  \n",
       "68          0bda13  \n",
       "92          02k811  \n",
       "96          11j212  \n",
       "99         r27cccl  \n",
       "102             ip  \n",
       "104            jdr  \n",
       "105         15kl11  \n",
       "114            bwq  \n",
       "121        rcbcdbk  \n",
       "123         11cg12  \n",
       "127        rcbcdd3  \n",
       "130            giw  \n",
       "136        r28cddu  \n",
       "137            001  \n",
       "138             eo  \n",
       "143        r28cddu  \n",
       "149             eo  \n",
       "151           tomc  \n",
       "160         03dl13  \n",
       "170         0bcc13  \n",
       "180         11cr13  \n",
       "186            emy  \n",
       "235            smt  \n",
       "237        rcbcrdp  \n",
       "...            ...  \n",
       "92103  r00jc0dil16  \n",
       "92120          kaa  \n",
       "92250               \n",
       "92322  r01bc0dii16  \n",
       "92405          smt  \n",
       "92425        smxl1  \n",
       "92430               \n",
       "92433        ywnrd  \n",
       "92434        ywnrd  \n",
       "92435        ywnrd  \n",
       "92459            a  \n",
       "92471  r08nc0ckt13  \n",
       "92495               \n",
       "92499          dqu  \n",
       "92506       06hg14  \n",
       "92519         yyqr  \n",
       "92521         yyqr  \n",
       "92565               \n",
       "92594  r00wc0dh116  \n",
       "92606   bma000iu14  \n",
       "92636           rl  \n",
       "92665          sm2  \n",
       "92696       f116ig  \n",
       "92706          sm2  \n",
       "92755               \n",
       "92763       f116ig  \n",
       "92781          sml  \n",
       "92819          smt  \n",
       "92836  r00xc0ci516  \n",
       "92843  r00xc0ci516  \n",
       "\n",
       "[5156 rows x 6 columns]"
      ]
     },
     "metadata": {},
     "output_type": "display_data"
    }
   ],
   "source": [
    "display(trendmicro_class[trendmicro_class.link.isin(links)])"
   ]
  },
  {
   "cell_type": "markdown",
   "metadata": {
    "deletable": true,
    "editable": true
   },
   "source": [
    "## Testing\n",
    "\n",
    "Creating multiple LR and varying the ratio of malware/goodware in training/validation"
   ]
  },
  {
   "cell_type": "code",
   "execution_count": 25,
   "metadata": {
    "collapsed": false,
    "deletable": true,
    "editable": true,
    "scrolled": true
   },
   "outputs": [
    {
     "name": "stdout",
     "output_type": "stream",
     "text": [
      "\t\tDownscale of 0.1\n",
      "CC:\t0.9733\n",
      "DR:\t0.9670\n",
      "FP:\t0.2143\n",
      "FN:\t0.0033\n",
      "\n",
      "Malware stats:\n"
     ]
    },
    {
     "data": {
      "text/plain": [
       "count    91.000000\n",
       "mean      0.923375\n",
       "std       0.125254\n",
       "min       0.343109\n",
       "25%       0.911687\n",
       "50%       0.961884\n",
       "75%       0.999242\n",
       "max       0.999976\n",
       "dtype: float64"
      ]
     },
     "metadata": {},
     "output_type": "display_data"
    },
    {
     "name": "stdout",
     "output_type": "stream",
     "text": [
      "\n",
      "Goodware stats:\n"
     ]
    },
    {
     "data": {
      "text/plain": [
       "count    9.190000e+02\n",
       "mean     9.551196e-01\n",
       "std      1.291835e-01\n",
       "min      4.145330e-07\n",
       "25%      9.889712e-01\n",
       "50%      9.986451e-01\n",
       "75%      9.999345e-01\n",
       "max      1.000000e+00\n",
       "dtype: float64"
      ]
     },
     "metadata": {},
     "output_type": "display_data"
    },
    {
     "name": "stdout",
     "output_type": "stream",
     "text": [
      "\n",
      "\t\tDownscale of 0.2\n",
      "CC:\t0.9728\n",
      "DR:\t0.9672\n",
      "FP:\t0.1194\n",
      "FN:\t0.0067\n",
      "\n",
      "Malware stats:\n"
     ]
    },
    {
     "data": {
      "text/plain": [
       "count    183.000000\n",
       "mean       0.946750\n",
       "std        0.133062\n",
       "min        0.166689\n",
       "25%        0.975240\n",
       "50%        0.989928\n",
       "75%        0.999792\n",
       "max        0.999998\n",
       "dtype: float64"
      ]
     },
     "metadata": {},
     "output_type": "display_data"
    },
    {
     "name": "stdout",
     "output_type": "stream",
     "text": [
      "\n",
      "Goodware stats:\n"
     ]
    },
    {
     "data": {
      "text/plain": [
       "count    9.190000e+02\n",
       "mean     9.537578e-01\n",
       "std      1.336838e-01\n",
       "min      5.324228e-07\n",
       "25%      9.884742e-01\n",
       "50%      9.987501e-01\n",
       "75%      9.999301e-01\n",
       "max      1.000000e+00\n",
       "dtype: float64"
      ]
     },
     "metadata": {},
     "output_type": "display_data"
    },
    {
     "name": "stdout",
     "output_type": "stream",
     "text": [
      "\n",
      "\t\tDownscale of 0.3\n",
      "CC:\t0.9405\n",
      "DR:\t0.8436\n",
      "FP:\t0.1077\n",
      "FN:\t0.0460\n",
      "\n",
      "Malware stats:\n"
     ]
    },
    {
     "data": {
      "text/plain": [
       "count    275.000000\n",
       "mean       0.784474\n",
       "std        0.258038\n",
       "min        0.000040\n",
       "25%        0.665766\n",
       "50%        0.937410\n",
       "75%        0.977976\n",
       "max        0.999993\n",
       "dtype: float64"
      ]
     },
     "metadata": {},
     "output_type": "display_data"
    },
    {
     "name": "stdout",
     "output_type": "stream",
     "text": [
      "\n",
      "Goodware stats:\n"
     ]
    },
    {
     "data": {
      "text/plain": [
       "count    9.190000e+02\n",
       "mean     9.507944e-01\n",
       "std      1.400493e-01\n",
       "min      2.474486e-07\n",
       "25%      9.878421e-01\n",
       "50%      9.988241e-01\n",
       "75%      9.999410e-01\n",
       "max      1.000000e+00\n",
       "dtype: float64"
      ]
     },
     "metadata": {},
     "output_type": "display_data"
    },
    {
     "name": "stdout",
     "output_type": "stream",
     "text": [
      "\n",
      "\t\tDownscale of 0.4\n",
      "CC:\t0.9425\n",
      "DR:\t0.8965\n",
      "FP:\t0.0986\n",
      "FN:\t0.0413\n",
      "\n",
      "Malware stats:\n"
     ]
    },
    {
     "data": {
      "text/plain": [
       "count    367.000000\n",
       "mean       0.812444\n",
       "std        0.214908\n",
       "min        0.000109\n",
       "25%        0.733665\n",
       "50%        0.891672\n",
       "75%        0.974384\n",
       "max        0.999998\n",
       "dtype: float64"
      ]
     },
     "metadata": {},
     "output_type": "display_data"
    },
    {
     "name": "stdout",
     "output_type": "stream",
     "text": [
      "\n",
      "Goodware stats:\n"
     ]
    },
    {
     "data": {
      "text/plain": [
       "count    9.190000e+02\n",
       "mean     9.424077e-01\n",
       "std      1.557841e-01\n",
       "min      1.157998e-07\n",
       "25%      9.868106e-01\n",
       "50%      9.986945e-01\n",
       "75%      9.999302e-01\n",
       "max      1.000000e+00\n",
       "dtype: float64"
      ]
     },
     "metadata": {},
     "output_type": "display_data"
    },
    {
     "name": "stdout",
     "output_type": "stream",
     "text": [
      "\n",
      "\t\tDownscale of 0.5\n",
      "CC:\t0.9557\n",
      "DR:\t0.9586\n",
      "FP:\t0.0871\n",
      "FN:\t0.0212\n",
      "\n",
      "Malware stats:\n"
     ]
    },
    {
     "data": {
      "text/plain": [
       "count    459.000000\n",
       "mean       0.885942\n",
       "std        0.154557\n",
       "min        0.000092\n",
       "25%        0.847300\n",
       "50%        0.943381\n",
       "75%        0.986608\n",
       "max        0.999994\n",
       "dtype: float64"
      ]
     },
     "metadata": {},
     "output_type": "display_data"
    },
    {
     "name": "stdout",
     "output_type": "stream",
     "text": [
      "\n",
      "Goodware stats:\n"
     ]
    },
    {
     "data": {
      "text/plain": [
       "count    9.190000e+02\n",
       "mean     9.350745e-01\n",
       "std      1.704479e-01\n",
       "min      2.504779e-08\n",
       "25%      9.857028e-01\n",
       "50%      9.983330e-01\n",
       "75%      9.999145e-01\n",
       "max      1.000000e+00\n",
       "dtype: float64"
      ]
     },
     "metadata": {},
     "output_type": "display_data"
    },
    {
     "name": "stdout",
     "output_type": "stream",
     "text": [
      "\n",
      "\t\tDownscale of 0.6\n",
      "CC:\t0.9619\n",
      "DR:\t0.9855\n",
      "FP:\t0.0812\n",
      "FN:\t0.0091\n",
      "\n",
      "Malware stats:\n"
     ]
    },
    {
     "data": {
      "text/plain": [
       "count    551.000000\n",
       "mean       0.928139\n",
       "std        0.131975\n",
       "min        0.003943\n",
       "25%        0.941743\n",
       "50%        0.987624\n",
       "75%        0.989748\n",
       "max        0.999967\n",
       "dtype: float64"
      ]
     },
     "metadata": {},
     "output_type": "display_data"
    },
    {
     "name": "stdout",
     "output_type": "stream",
     "text": [
      "\n",
      "Goodware stats:\n"
     ]
    },
    {
     "data": {
      "text/plain": [
       "count    9.190000e+02\n",
       "mean     9.322786e-01\n",
       "std      1.775133e-01\n",
       "min      1.995510e-09\n",
       "25%      9.847260e-01\n",
       "50%      9.966825e-01\n",
       "75%      9.999166e-01\n",
       "max      1.000000e+00\n",
       "dtype: float64"
      ]
     },
     "metadata": {},
     "output_type": "display_data"
    },
    {
     "name": "stdout",
     "output_type": "stream",
     "text": [
      "\n",
      "\t\tDownscale of 0.7\n",
      "CC:\t0.9481\n",
      "DR:\t0.9549\n",
      "FP:\t0.0781\n",
      "FN:\t0.0324\n",
      "\n",
      "Malware stats:\n"
     ]
    },
    {
     "data": {
      "text/plain": [
       "count    643.000000\n",
       "mean       0.911130\n",
       "std        0.188441\n",
       "min        0.000003\n",
       "25%        0.934826\n",
       "50%        0.989122\n",
       "75%        0.993658\n",
       "max        0.999999\n",
       "dtype: float64"
      ]
     },
     "metadata": {},
     "output_type": "display_data"
    },
    {
     "name": "stdout",
     "output_type": "stream",
     "text": [
      "\n",
      "Goodware stats:\n"
     ]
    },
    {
     "data": {
      "text/plain": [
       "count    9.190000e+02\n",
       "mean     9.296589e-01\n",
       "std      1.834051e-01\n",
       "min      1.601904e-09\n",
       "25%      9.844658e-01\n",
       "50%      9.967028e-01\n",
       "75%      9.999298e-01\n",
       "max      1.000000e+00\n",
       "dtype: float64"
      ]
     },
     "metadata": {},
     "output_type": "display_data"
    },
    {
     "name": "stdout",
     "output_type": "stream",
     "text": [
      "\n",
      "\t\tDownscale of 0.8\n",
      "CC:\t0.9359\n",
      "DR:\t0.9306\n",
      "FP:\t0.0744\n",
      "FN:\t0.0557\n",
      "\n",
      "Malware stats:\n"
     ]
    },
    {
     "data": {
      "text/plain": [
       "count    735.000000\n",
       "mean       0.865953\n",
       "std        0.224399\n",
       "min        0.000002\n",
       "25%        0.869629\n",
       "50%        0.957270\n",
       "75%        0.992581\n",
       "max        0.999999\n",
       "dtype: float64"
      ]
     },
     "metadata": {},
     "output_type": "display_data"
    },
    {
     "name": "stdout",
     "output_type": "stream",
     "text": [
      "\n",
      "Goodware stats:\n"
     ]
    },
    {
     "data": {
      "text/plain": [
       "count    9.190000e+02\n",
       "mean     9.268092e-01\n",
       "std      1.878498e-01\n",
       "min      3.122876e-09\n",
       "25%      9.842688e-01\n",
       "50%      9.965614e-01\n",
       "75%      9.999373e-01\n",
       "max      1.000000e+00\n",
       "dtype: float64"
      ]
     },
     "metadata": {},
     "output_type": "display_data"
    },
    {
     "name": "stdout",
     "output_type": "stream",
     "text": [
      "\n",
      "\t\tDownscale of 0.9\n",
      "CC:\t0.9192\n",
      "DR:\t0.9081\n",
      "FP:\t0.0797\n",
      "FN:\t0.0817\n",
      "\n",
      "Malware stats:\n"
     ]
    },
    {
     "data": {
      "text/plain": [
       "count    8.270000e+02\n",
       "mean     8.538701e-01\n",
       "std      2.352986e-01\n",
       "min      7.891192e-07\n",
       "25%      8.636570e-01\n",
       "50%      9.501600e-01\n",
       "75%      9.862588e-01\n",
       "max      9.999992e-01\n",
       "dtype: float64"
      ]
     },
     "metadata": {},
     "output_type": "display_data"
    },
    {
     "name": "stdout",
     "output_type": "stream",
     "text": [
      "\n",
      "Goodware stats:\n"
     ]
    },
    {
     "data": {
      "text/plain": [
       "count    9.190000e+02\n",
       "mean     9.198976e-01\n",
       "std      2.008439e-01\n",
       "min      9.149481e-09\n",
       "25%      9.840403e-01\n",
       "50%      9.967235e-01\n",
       "75%      9.999305e-01\n",
       "max      1.000000e+00\n",
       "dtype: float64"
      ]
     },
     "metadata": {},
     "output_type": "display_data"
    },
    {
     "name": "stdout",
     "output_type": "stream",
     "text": [
      "\n",
      "\t\tDownscale of 1.0\n",
      "CC:\t0.9173\n",
      "DR:\t0.9064\n",
      "FP:\t0.0734\n",
      "FN:\t0.0916\n",
      "\n",
      "Malware stats:\n"
     ]
    },
    {
     "data": {
      "text/plain": [
       "count    9.190000e+02\n",
       "mean     8.527681e-01\n",
       "std      2.500917e-01\n",
       "min      4.674451e-07\n",
       "25%      8.359314e-01\n",
       "50%      9.682761e-01\n",
       "75%      9.892080e-01\n",
       "max      1.000000e+00\n",
       "dtype: float64"
      ]
     },
     "metadata": {},
     "output_type": "display_data"
    },
    {
     "name": "stdout",
     "output_type": "stream",
     "text": [
      "\n",
      "Goodware stats:\n"
     ]
    },
    {
     "data": {
      "text/plain": [
       "count    9.190000e+02\n",
       "mean     9.181464e-01\n",
       "std      2.040309e-01\n",
       "min      1.733618e-08\n",
       "25%      9.839213e-01\n",
       "50%      9.963814e-01\n",
       "75%      9.999386e-01\n",
       "max      1.000000e+00\n",
       "dtype: float64"
      ]
     },
     "metadata": {},
     "output_type": "display_data"
    },
    {
     "name": "stdout",
     "output_type": "stream",
     "text": [
      "\n"
     ]
    }
   ],
   "source": [
    "for i in np.arange(0.1, 1.1, 0.1):\n",
    "    print('\\t\\tDownscale of {:.1f}'.format(i))\n",
    "    # Training/Validation creation\n",
    "    training, validation = jcfg_helpers.train_test_split(\n",
    "    pd.concat([goodware, filtered_malware]),\n",
    "    validation_size = 0.25,\n",
    "    balanced = True,\n",
    "    malware_downscale = i)\n",
    "    #print('Malware in training: {}\\nGoodware in training: {}'.format(len(training[training.malware == 1]),\n",
    "    #                                                                 len(training[training.malware == 0])))\n",
    "    #print('Malware in validation: {}\\nGoodware in validation: {}'.format(len(validation[validation.malware == 1]),\n",
    "    #                                                                     len(validation[validation.malware == 0])))\n",
    "    \n",
    "    ################\n",
    "    # Feature Vector\n",
    "    cv_token_pattern = u'[^;]+'\n",
    "    min_df = 2\n",
    "    cv = CountVectorizer(token_pattern=cv_token_pattern, min_df=min_df)\n",
    "    train_X = cv.fit_transform(training.imports)\n",
    "    #print('Total features: {}'.format(len(cv.get_feature_names())))\n",
    "    \n",
    "    ################\n",
    "    # Logistic Regression\n",
    "    train_Y = training.malware\n",
    "    lr = LogisticRegression().fit(train_X, train_Y)\n",
    "\n",
    "    ################\n",
    "    # Scoring\n",
    "    test_X = cv.transform(validation.imports)\n",
    "    test_Y = validation.malware\n",
    "    score = confusion_matrix(test_Y, lr.predict(test_X))\n",
    "    fp_rate, fn_rate, cc_rate, det_rate = jcfg_helpers.calc_ratios(score)\n",
    "    print('CC:\\t{:.4f}'.format(cc_rate))\n",
    "    print('DR:\\t{:.4f}'.format(det_rate))\n",
    "    print('FP:\\t{:.4f}'.format(fp_rate))\n",
    "    print('FN:\\t{:.4f}'.format(fn_rate))\n",
    "    malware_only = lr.predict_proba(test_X[np.where(test_Y == 1)])\n",
    "    goodware_only = lr.predict_proba(test_X[np.where(test_Y == 0)])\n",
    "    print('\\nMalware stats:')\n",
    "    display(pd.Series(malware_only[:,1]).describe())\n",
    "    print('\\nGoodware stats:')\n",
    "    display(pd.Series(goodware_only[:,0]).describe())\n",
    "    print()"
   ]
  },
  {
   "cell_type": "markdown",
   "metadata": {
    "deletable": true,
    "editable": true
   },
   "source": [
    "## Dataset for Virus"
   ]
  },
  {
   "cell_type": "code",
   "execution_count": 18,
   "metadata": {
    "collapsed": false,
    "deletable": true,
    "editable": true
   },
   "outputs": [
    {
     "name": "stdout",
     "output_type": "stream",
     "text": [
      "Total malware: 4467\n"
     ]
    }
   ],
   "source": [
    "microsoft_class = pd.read_csv('data/microsoft_classification.csv')\n",
    "microsoft_class.fillna('', inplace=True)\n",
    "symantec_class = pd.read_csv('data/symantec_classification.csv')\n",
    "symantec_class.fillna('', inplace=True)\n",
    "trendmicro_class = pd.read_csv('data/trendmicro_classification.csv')\n",
    "trendmicro_class.fillna('', inplace=True)\n",
    "\n",
    "microsoft_filter = microsoft_class[microsoft_class.type == 'virus']\n",
    "symantec_filter = symantec_class[symantec_class.prefix == 'virusdoctor']\n",
    "trendmicro_filter = trendmicro_class[trendmicro_class.family == 'virus']\n",
    "\n",
    "links = pd.concat([microsoft_filter.link, symantec_filter.link, trendmicro_filter.link]).unique()\n",
    "\n",
    "filtered_malware = samples[samples.link.isin(links)]\n",
    "\n",
    "print('Total malware: {}'.format(len(filtered_malware)))"
   ]
  },
  {
   "cell_type": "markdown",
   "metadata": {
    "deletable": true,
    "editable": true
   },
   "source": [
    "## Testing\n",
    "\n",
    "Creating multiple LR and varying the ratio of malware/goodware in training/validation"
   ]
  },
  {
   "cell_type": "code",
   "execution_count": 19,
   "metadata": {
    "collapsed": false,
    "deletable": true,
    "editable": true,
    "scrolled": true
   },
   "outputs": [
    {
     "name": "stdout",
     "output_type": "stream",
     "text": [
      "\t\tDownscale of 0.1\n",
      "CC:\t0.8998\n",
      "DR:\t0.2432\n",
      "FP:\t0.5909\n",
      "FN:\t0.0724\n",
      "\n",
      "Malware stats:\n"
     ]
    },
    {
     "data": {
      "text/plain": [
       "count    111.000000\n",
       "mean       0.277960\n",
       "std        0.294748\n",
       "min        0.000009\n",
       "25%        0.016794\n",
       "50%        0.199848\n",
       "75%        0.466603\n",
       "max        0.940911\n",
       "dtype: float64"
      ]
     },
     "metadata": {},
     "output_type": "display_data"
    },
    {
     "name": "stdout",
     "output_type": "stream",
     "text": [
      "\n",
      "Goodware stats:\n"
     ]
    },
    {
     "data": {
      "text/plain": [
       "count    1116.000000\n",
       "mean        0.928899\n",
       "std         0.151273\n",
       "min         0.006975\n",
       "25%         0.945831\n",
       "50%         0.987215\n",
       "75%         0.996882\n",
       "max         1.000000\n",
       "dtype: float64"
      ]
     },
     "metadata": {},
     "output_type": "display_data"
    },
    {
     "name": "stdout",
     "output_type": "stream",
     "text": [
      "\n",
      "\t\tDownscale of 0.2\n",
      "CC:\t0.8656\n",
      "DR:\t0.5202\n",
      "FP:\t0.3862\n",
      "FN:\t0.0930\n",
      "\n",
      "Malware stats:\n"
     ]
    },
    {
     "data": {
      "text/plain": [
       "count    223.000000\n",
       "mean       0.507310\n",
       "std        0.369305\n",
       "min        0.001326\n",
       "25%        0.109795\n",
       "50%        0.620596\n",
       "75%        0.872086\n",
       "max        0.999913\n",
       "dtype: float64"
      ]
     },
     "metadata": {},
     "output_type": "display_data"
    },
    {
     "name": "stdout",
     "output_type": "stream",
     "text": [
      "\n",
      "Goodware stats:\n"
     ]
    },
    {
     "data": {
      "text/plain": [
       "count    1116.000000\n",
       "mean        0.889235\n",
       "std         0.201934\n",
       "min         0.001365\n",
       "25%         0.899302\n",
       "50%         0.985725\n",
       "75%         0.994126\n",
       "max         1.000000\n",
       "dtype: float64"
      ]
     },
     "metadata": {},
     "output_type": "display_data"
    },
    {
     "name": "stdout",
     "output_type": "stream",
     "text": [
      "\n",
      "\t\tDownscale of 0.3\n",
      "CC:\t0.8359\n",
      "DR:\t0.6138\n",
      "FP:\t0.3471\n",
      "FN:\t0.1136\n",
      "\n",
      "Malware stats:\n"
     ]
    },
    {
     "data": {
      "text/plain": [
       "count    334.000000\n",
       "mean       0.584147\n",
       "std        0.329397\n",
       "min        0.000032\n",
       "25%        0.330507\n",
       "50%        0.675649\n",
       "75%        0.862627\n",
       "max        0.999997\n",
       "dtype: float64"
      ]
     },
     "metadata": {},
     "output_type": "display_data"
    },
    {
     "name": "stdout",
     "output_type": "stream",
     "text": [
      "\n",
      "Goodware stats:\n"
     ]
    },
    {
     "data": {
      "text/plain": [
       "count    1116.000000\n",
       "mean        0.858803\n",
       "std         0.227991\n",
       "min         0.000291\n",
       "25%         0.858174\n",
       "50%         0.965826\n",
       "75%         0.990903\n",
       "max         1.000000\n",
       "dtype: float64"
      ]
     },
     "metadata": {},
     "output_type": "display_data"
    },
    {
     "name": "stdout",
     "output_type": "stream",
     "text": [
      "\n",
      "\t\tDownscale of 0.4\n",
      "CC:\t0.8342\n",
      "DR:\t0.7623\n",
      "FP:\t0.3103\n",
      "FN:\t0.0992\n",
      "\n",
      "Malware stats:\n"
     ]
    },
    {
     "data": {
      "text/plain": [
       "count    446.000000\n",
       "mean       0.696722\n",
       "std        0.317618\n",
       "min        0.000630\n",
       "25%        0.549515\n",
       "50%        0.816548\n",
       "75%        0.952437\n",
       "max        0.999998\n",
       "dtype: float64"
      ]
     },
     "metadata": {},
     "output_type": "display_data"
    },
    {
     "name": "stdout",
     "output_type": "stream",
     "text": [
      "\n",
      "Goodware stats:\n"
     ]
    },
    {
     "data": {
      "text/plain": [
       "count    1116.000000\n",
       "mean        0.831571\n",
       "std         0.255777\n",
       "min         0.000317\n",
       "25%         0.803936\n",
       "50%         0.963056\n",
       "75%         0.987075\n",
       "max         1.000000\n",
       "dtype: float64"
      ]
     },
     "metadata": {},
     "output_type": "display_data"
    },
    {
     "name": "stdout",
     "output_type": "stream",
     "text": [
      "\n",
      "\t\tDownscale of 0.5\n",
      "CC:\t0.8369\n",
      "DR:\t0.7939\n",
      "FP:\t0.2629\n",
      "FN:\t0.1072\n",
      "\n",
      "Malware stats:\n"
     ]
    },
    {
     "data": {
      "text/plain": [
       "count    558.000000\n",
       "mean       0.732025\n",
       "std        0.299664\n",
       "min        0.000379\n",
       "25%        0.627684\n",
       "50%        0.820537\n",
       "75%        0.965282\n",
       "max        1.000000\n",
       "dtype: float64"
      ]
     },
     "metadata": {},
     "output_type": "display_data"
    },
    {
     "name": "stdout",
     "output_type": "stream",
     "text": [
      "\n",
      "Goodware stats:\n"
     ]
    },
    {
     "data": {
      "text/plain": [
       "count    1116.000000\n",
       "mean        0.818433\n",
       "std         0.265190\n",
       "min         0.000121\n",
       "25%         0.767200\n",
       "50%         0.955143\n",
       "75%         0.986774\n",
       "max         1.000000\n",
       "dtype: float64"
      ]
     },
     "metadata": {},
     "output_type": "display_data"
    },
    {
     "name": "stdout",
     "output_type": "stream",
     "text": [
      "\n",
      "\t\tDownscale of 0.6\n",
      "CC:\t0.8101\n",
      "DR:\t0.7549\n",
      "FP:\t0.2574\n",
      "FN:\t0.1484\n",
      "\n",
      "Malware stats:\n"
     ]
    },
    {
     "data": {
      "text/plain": [
       "count    669.000000\n",
       "mean       0.689506\n",
       "std        0.321380\n",
       "min        0.000062\n",
       "25%        0.509943\n",
       "50%        0.828011\n",
       "75%        0.932222\n",
       "max        1.000000\n",
       "dtype: float64"
      ]
     },
     "metadata": {},
     "output_type": "display_data"
    },
    {
     "name": "stdout",
     "output_type": "stream",
     "text": [
      "\n",
      "Goodware stats:\n"
     ]
    },
    {
     "data": {
      "text/plain": [
       "count    1116.000000\n",
       "mean        0.806276\n",
       "std         0.271520\n",
       "min         0.000093\n",
       "25%         0.738359\n",
       "50%         0.947137\n",
       "75%         0.983236\n",
       "max         1.000000\n",
       "dtype: float64"
      ]
     },
     "metadata": {},
     "output_type": "display_data"
    },
    {
     "name": "stdout",
     "output_type": "stream",
     "text": [
      "\n",
      "\t\tDownscale of 0.7\n",
      "CC:\t0.7723\n",
      "DR:\t0.6991\n",
      "FP:\t0.2651\n",
      "FN:\t0.2036\n",
      "\n",
      "Malware stats:\n"
     ]
    },
    {
     "data": {
      "text/plain": [
       "count    7.810000e+02\n",
       "mean     6.517612e-01\n",
       "std      3.506729e-01\n",
       "min      3.827735e-10\n",
       "25%      3.251641e-01\n",
       "50%      8.201366e-01\n",
       "75%      9.357463e-01\n",
       "max      9.999986e-01\n",
       "dtype: float64"
      ]
     },
     "metadata": {},
     "output_type": "display_data"
    },
    {
     "name": "stdout",
     "output_type": "stream",
     "text": [
      "\n",
      "Goodware stats:\n"
     ]
    },
    {
     "data": {
      "text/plain": [
       "count    1116.000000\n",
       "mean        0.793152\n",
       "std         0.282060\n",
       "min         0.000031\n",
       "25%         0.718443\n",
       "50%         0.936643\n",
       "75%         0.977178\n",
       "max         1.000000\n",
       "dtype: float64"
      ]
     },
     "metadata": {},
     "output_type": "display_data"
    },
    {
     "name": "stdout",
     "output_type": "stream",
     "text": [
      "\n",
      "\t\tDownscale of 0.8\n",
      "CC:\t0.7535\n",
      "DR:\t0.6917\n",
      "FP:\t0.2628\n",
      "FN:\t0.2348\n",
      "\n",
      "Malware stats:\n"
     ]
    },
    {
     "data": {
      "text/plain": [
       "count    8.920000e+02\n",
       "mean     6.365694e-01\n",
       "std      3.531786e-01\n",
       "min      1.814998e-09\n",
       "25%      3.170079e-01\n",
       "50%      8.356416e-01\n",
       "75%      9.383500e-01\n",
       "max      9.998306e-01\n",
       "dtype: float64"
      ]
     },
     "metadata": {},
     "output_type": "display_data"
    },
    {
     "name": "stdout",
     "output_type": "stream",
     "text": [
      "\n",
      "Goodware stats:\n"
     ]
    },
    {
     "data": {
      "text/plain": [
       "count    1116.000000\n",
       "mean        0.774701\n",
       "std         0.298423\n",
       "min         0.000116\n",
       "25%         0.683425\n",
       "50%         0.934347\n",
       "75%         0.974287\n",
       "max         1.000000\n",
       "dtype: float64"
      ]
     },
     "metadata": {},
     "output_type": "display_data"
    },
    {
     "name": "stdout",
     "output_type": "stream",
     "text": [
      "\n",
      "\t\tDownscale of 0.9\n",
      "CC:\t0.7594\n",
      "DR:\t0.7211\n",
      "FP:\t0.2411\n",
      "FN:\t0.2401\n",
      "\n",
      "Malware stats:\n"
     ]
    },
    {
     "data": {
      "text/plain": [
       "count    1.004000e+03\n",
       "mean     6.677321e-01\n",
       "std      3.424561e-01\n",
       "min      8.378664e-09\n",
       "25%      3.875589e-01\n",
       "50%      8.498956e-01\n",
       "75%      9.613432e-01\n",
       "max      1.000000e+00\n",
       "dtype: float64"
      ]
     },
     "metadata": {},
     "output_type": "display_data"
    },
    {
     "name": "stdout",
     "output_type": "stream",
     "text": [
      "\n",
      "Goodware stats:\n"
     ]
    },
    {
     "data": {
      "text/plain": [
       "count    1116.000000\n",
       "mean        0.766688\n",
       "std         0.302338\n",
       "min         0.000190\n",
       "25%         0.661756\n",
       "50%         0.924666\n",
       "75%         0.973224\n",
       "max         1.000000\n",
       "dtype: float64"
      ]
     },
     "metadata": {},
     "output_type": "display_data"
    },
    {
     "name": "stdout",
     "output_type": "stream",
     "text": [
      "\n",
      "\t\tDownscale of 1.0\n",
      "CC:\t0.7836\n",
      "DR:\t0.7894\n",
      "FP:\t0.2197\n",
      "FN:\t0.2131\n",
      "\n",
      "Malware stats:\n"
     ]
    },
    {
     "data": {
      "text/plain": [
       "count    1.116000e+03\n",
       "mean     7.321270e-01\n",
       "std      3.007564e-01\n",
       "min      3.605102e-07\n",
       "25%      5.908487e-01\n",
       "50%      8.649940e-01\n",
       "75%      9.676963e-01\n",
       "max      1.000000e+00\n",
       "dtype: float64"
      ]
     },
     "metadata": {},
     "output_type": "display_data"
    },
    {
     "name": "stdout",
     "output_type": "stream",
     "text": [
      "\n",
      "Goodware stats:\n"
     ]
    },
    {
     "data": {
      "text/plain": [
       "count    1116.000000\n",
       "mean        0.746229\n",
       "std         0.310891\n",
       "min         0.000042\n",
       "25%         0.616377\n",
       "50%         0.895339\n",
       "75%         0.969030\n",
       "max         1.000000\n",
       "dtype: float64"
      ]
     },
     "metadata": {},
     "output_type": "display_data"
    },
    {
     "name": "stdout",
     "output_type": "stream",
     "text": [
      "\n"
     ]
    }
   ],
   "source": [
    "for i in np.arange(0.1, 1.1, 0.1):\n",
    "    print('\\t\\tDownscale of {:.1f}'.format(i))\n",
    "    # Training/Validation creation\n",
    "    training, validation = jcfg_helpers.train_test_split(\n",
    "    pd.concat([goodware, filtered_malware]),\n",
    "    validation_size = 0.25,\n",
    "    balanced = True,\n",
    "    malware_downscale = i)\n",
    "    #print('Malware in training: {}\\nGoodware in training: {}'.format(len(training[training.malware == 1]),\n",
    "    #                                                                 len(training[training.malware == 0])))\n",
    "    #print('Malware in validation: {}\\nGoodware in validation: {}'.format(len(validation[validation.malware == 1]),\n",
    "    #                                                                     len(validation[validation.malware == 0])))\n",
    "    \n",
    "    ################\n",
    "    # Feature Vector\n",
    "    cv_token_pattern = u'[^;]+'\n",
    "    min_df = 2\n",
    "    cv = CountVectorizer(token_pattern=cv_token_pattern, min_df=min_df)\n",
    "    train_X = cv.fit_transform(training.imports)\n",
    "    #print('Total features: {}'.format(len(cv.get_feature_names())))\n",
    "    \n",
    "    ################\n",
    "    # Logistic Regression\n",
    "    train_Y = training.malware\n",
    "    lr = LogisticRegression().fit(train_X, train_Y)\n",
    "\n",
    "    ################\n",
    "    # Scoring\n",
    "    test_X = cv.transform(validation.imports)\n",
    "    test_Y = validation.malware\n",
    "    score = confusion_matrix(test_Y, lr.predict(test_X))\n",
    "    fp_rate, fn_rate, cc_rate, det_rate = jcfg_helpers.calc_ratios(score)\n",
    "    print('CC:\\t{:.4f}'.format(cc_rate))\n",
    "    print('DR:\\t{:.4f}'.format(det_rate))\n",
    "    print('FP:\\t{:.4f}'.format(fp_rate))\n",
    "    print('FN:\\t{:.4f}'.format(fn_rate))\n",
    "    malware_only = lr.predict_proba(test_X[np.where(test_Y == 1)])\n",
    "    goodware_only = lr.predict_proba(test_X[np.where(test_Y == 0)])\n",
    "    print('\\nMalware stats:')\n",
    "    display(pd.Series(malware_only[:,1]).describe())\n",
    "    print('\\nGoodware stats:')\n",
    "    display(pd.Series(goodware_only[:,0]).describe())\n",
    "    print()"
   ]
  }
 ],
 "metadata": {
  "kernelspec": {
   "display_name": "Python 3",
   "language": "python",
   "name": "python3"
  },
  "language_info": {
   "codemirror_mode": {
    "name": "ipython",
    "version": 3
   },
   "file_extension": ".py",
   "mimetype": "text/x-python",
   "name": "python",
   "nbconvert_exporter": "python",
   "pygments_lexer": "ipython3",
   "version": "3.6.0"
  }
 },
 "nbformat": 4,
 "nbformat_minor": 2
}
