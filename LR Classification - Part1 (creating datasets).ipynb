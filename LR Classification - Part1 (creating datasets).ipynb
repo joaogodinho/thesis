{
 "cells": [
  {
   "cell_type": "markdown",
   "metadata": {},
   "source": [
    "# Malware classifier - Part 1\n",
    "\n",
    "The following creates a dataset based on static imports. Samples are extracted up to the last submission of sample **bbb445901d3ec280951ac12132afd87c**, split by the date of each submission of the target sample.\n",
    "\n",
    "The following code prepares the dataframe for usage"
   ]
  },
  {
   "cell_type": "code",
   "execution_count": 1,
   "metadata": {
    "collapsed": false,
    "scrolled": true
   },
   "outputs": [],
   "source": [
    "import lib.data_loading as jcfg_data_loading\n",
    "import lib.helpers as jcfg_helpers\n",
    "import pandas as pd\n",
    "from IPython.display import display\n",
    "\n",
    "# Target sample\n",
    "target_md5 = 'bbb445901d3ec280951ac12132afd87c'\n",
    "\n",
    "# All other frames are based on this one\n",
    "headers = jcfg_data_loading.loadHeadersCSV('data/header_analyses.csv')\n",
    "\n",
    "# Antivirus score to classify sample as malware\n",
    "AV_MLW_THRESHOLD = 0.8\n",
    "# Antivirus score to classify sample as goodware\n",
    "AV_GDW_THRESHOLD = 0.0\n",
    "\n",
    "# Filter PE32 samples only\n",
    "crit_pe32 = headers.file_type.map(lambda x: str(x).startswith('PE32 '))\n",
    "pe32 = headers[crit_pe32]\n",
    "pe32.is_copy = False\n",
    "\n",
    "# Normalize the AV classification\n",
    "pe32.antivirus = pe32.antivirus.apply(jcfg_helpers.normalize)\n",
    "\n",
    "# No full timestamp is available, so for same day submissions keep the one with the highest\n",
    "# AV score, might not always be true, but for the current test is not relevant\n",
    "pe32 = pe32.assign(colIndex=pe32.index)\n",
    "pe32.sort_values(by=['colIndex', 'md5', 'antivirus'], inplace=True)\n",
    "pe32.drop_duplicates(subset=['md5', 'colIndex'], inplace=True, keep='last')\n",
    "# Remove unneeded columns\n",
    "pe32.drop(['colIndex', 'file_name', 'file_type'], axis=1, inplace=True)"
   ]
  },
  {
   "cell_type": "markdown",
   "metadata": {},
   "source": [
    "Next we generate the dataset, split by the submissions of the sample to test"
   ]
  },
  {
   "cell_type": "code",
   "execution_count": 2,
   "metadata": {
    "collapsed": false,
    "scrolled": false
   },
   "outputs": [],
   "source": [
    "# Target submissions (remove last submission, AV score doesn't change\n",
    "# significantly and time difference is high )\n",
    "target_submissions = pe32[pe32.md5 == target_md5][:-1].index\n",
    "# display(target_submissions)\n",
    "## Used criteria\n",
    "# Unknown submissions\n",
    "crit_unknown = pe32.antivirus == -1\n",
    "# Goodware submissions\n",
    "crit_goodware = pe32.antivirus == AV_GDW_THRESHOLD\n",
    "# Malware submissions\n",
    "crit_malware = pe32.antivirus >= AV_MLW_THRESHOLD\n",
    "\n",
    "# Start filtering\n",
    "pe32_relevant = pe32[~crit_unknown & (crit_goodware | crit_malware) & (pe32.index <= target_submissions[-1])]\n",
    "pe32_relevant.is_copy = False\n",
    "# Remove full link, just keep submission ID\n",
    "pe32_relevant.link = pe32_relevant.link.apply(lambda x: x.split('/')[2])\n",
    "# Remove samples that were not downloaded (for some unknown reason)\n",
    "pe32_relevant = pe32_relevant[~pe32_relevant.link.isin(jcfg_data_loading.check_link(pe32_relevant.link.values))]\n",
    "\n",
    "# Add class\n",
    "pe32_relevant = pe32_relevant.assign(malware=0)\n",
    "crit_goodware = pe32_relevant.antivirus == AV_GDW_THRESHOLD\n",
    "crit_malware = pe32_relevant.antivirus >= AV_MLW_THRESHOLD\n",
    "pe32_relevant.loc[crit_goodware, 'malware'] = 0\n",
    "pe32_relevant.loc[crit_malware, 'malware'] = 1\n",
    "\n",
    "# Generate array where each n position contains samples up to the nth submission\n",
    "# of the target sample\n",
    "pe32_by_date = [pe32_relevant[pe32_relevant.index <= target_submissions[0]]]\n",
    "for idx, date in enumerate(target_submissions[1:]):\n",
    "    # idx is starting at 0 although we enumerate from the second position (no need to do idx - 1)\n",
    "    pe32_by_date.append(pe32_relevant[(pe32_relevant.index > target_submissions[idx]) & (pe32_relevant.index <= date)])"
   ]
  },
  {
   "cell_type": "markdown",
   "metadata": {},
   "source": [
    "Balance the dataset such that there is no more than a 20% difference between size of malware & goodware"
   ]
  },
  {
   "cell_type": "code",
   "execution_count": 3,
   "metadata": {
    "collapsed": false
   },
   "outputs": [],
   "source": [
    "for idx, data in enumerate(pe32_by_date):\n",
    "    good_size = len(data[data.antivirus == AV_GDW_THRESHOLD])\n",
    "    mal_size = len(data[data.antivirus >= AV_MLW_THRESHOLD])\n",
    "    diff = abs(good_size - mal_size) / min(good_size, mal_size)\n",
    "    if diff > 0.2:\n",
    "        # Take a sample from goodware with same size as malware\n",
    "        if good_size > mal_size:\n",
    "            temp = pe32_by_date[idx][data.antivirus == AV_GDW_THRESHOLD].sample(mal_size)\n",
    "            temp2= pe32_by_date[idx][data.antivirus >= AV_MLW_THRESHOLD]\n",
    "        # Take a sample from malware with same size as goodware\n",
    "        else:\n",
    "            temp2 = pe32_by_date[idx][data.antivirus == AV_GDW_THRESHOLD].sample(good_size)\n",
    "            temp= pe32_by_date[idx][data.antivirus >= AV_MLW_THRESHOLD]\n",
    "        pe32_by_date[idx] = pd.concat([temp, temp2])"
   ]
  },
  {
   "cell_type": "markdown",
   "metadata": {},
   "source": [
    "Extract the imports and set the data ready for training"
   ]
  },
  {
   "cell_type": "code",
   "execution_count": 4,
   "metadata": {
    "collapsed": false
   },
   "outputs": [],
   "source": [
    "pe32_by_date = list(map(\n",
    "        lambda y: y.assign(\n",
    "            imports=lambda x: [';'.join(jcfg_data_loading.parse_static_imports(l)) for l in x.link.values]),\n",
    "        pe32_by_date))\n",
    "for idx, data in enumerate(pe32_by_date):\n",
    "    data.index = data.md5\n",
    "    data.drop(['link', 'antivirus', 'md5'], inplace=True, axis=1)"
   ]
  },
  {
   "cell_type": "markdown",
   "metadata": {},
   "source": [
    "Save the datasets for good measure"
   ]
  },
  {
   "cell_type": "code",
   "execution_count": 5,
   "metadata": {
    "collapsed": false
   },
   "outputs": [],
   "source": [
    "for idx, data in enumerate(pe32_by_date):\n",
    "    data.to_csv(path_or_buf='dataset' + str(idx) + '.csv')"
   ]
  }
 ],
 "metadata": {
  "kernelspec": {
   "display_name": "Python 3",
   "language": "python",
   "name": "python3"
  },
  "language_info": {
   "codemirror_mode": {
    "name": "ipython",
    "version": 3
   },
   "file_extension": ".py",
   "mimetype": "text/x-python",
   "name": "python",
   "nbconvert_exporter": "python",
   "pygments_lexer": "ipython3",
   "version": "3.5.2"
  }
 },
 "nbformat": 4,
 "nbformat_minor": 1
}
