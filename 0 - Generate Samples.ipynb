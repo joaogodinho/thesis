{
 "cells": [
  {
   "cell_type": "markdown",
   "metadata": {
    "deletable": true,
    "editable": true
   },
   "source": [
    "# Generate Samples\n",
    "\n",
    "Generates a CSV with date, md5, link and filetype of all PE32 samples that were downloaded."
   ]
  },
  {
   "cell_type": "code",
   "execution_count": 1,
   "metadata": {
    "collapsed": false,
    "deletable": true,
    "editable": true
   },
   "outputs": [
    {
     "name": "stdout",
     "output_type": "stream",
     "text": [
      "Filtered 388702 out of 642698 samples (60.48%)\n",
      "Downloaded 388513 out of 388702 samples (99.95%)\n",
      "CSV Created\n"
     ]
    }
   ],
   "source": [
    "import pandas as pd\n",
    "from os import walk\n",
    "\n",
    "headers = pd.read_csv(filepath_or_buffer='data/header_analyses.csv')\n",
    "ori_len = len(headers)\n",
    "\n",
    "# Filter PE32 samples\n",
    "crit_pe32 = headers.file_type.map(lambda x: str(x).startswith('PE32 '))\n",
    "headers = headers[crit_pe32]\n",
    "new_len = len(headers)\n",
    "\n",
    "# Remove unwanted columns\n",
    "headers.drop(['antivirus', 'file_name'], inplace=True, axis=1)\n",
    "# Keep just submission ID\n",
    "headers.link = headers.link.apply(lambda x: x.split('/')[2])\n",
    "\n",
    "print('Filtered {} out of {} samples ({:.2f}%)'.format(new_len, ori_len, new_len/ori_len * 100))\n",
    "\n",
    "# Get all downloaded samples\n",
    "[(_, __, downloaded)] = walk('data/analyses_gz')\n",
    "\n",
    "# Get the links\n",
    "links = list(headers.link)\n",
    "\n",
    "# Get the intersection \n",
    "available = set(downloaded).intersection(links)\n",
    "\n",
    "print('Downloaded {} out of {} samples ({:.2f}%)'.format(len(available), len(links), len(available)/len(links) * 100))\n",
    "\n",
    "# Create the final CSV with the downloaded samples, ordered by date (index)\n",
    "samples = headers[headers.link.isin(available)]\n",
    "samples.is_copy = False\n",
    "samples['date'] = pd.to_datetime(samples['date'], format='%d/%m/%Y')\n",
    "samples = samples.set_index('date')\n",
    "samples.to_csv(path_or_buf='data/mined_data/pe32_samples.csv')\n",
    "\n",
    "print('CSV Created')"
   ]
  }
 ],
 "metadata": {
  "kernelspec": {
   "display_name": "Python 3",
   "language": "python",
   "name": "python3"
  },
  "language_info": {
   "codemirror_mode": {
    "name": "ipython",
    "version": 3
   },
   "file_extension": ".py",
   "mimetype": "text/x-python",
   "name": "python",
   "nbconvert_exporter": "python",
   "pygments_lexer": "ipython3",
   "version": "3.6.0"
  }
 },
 "nbformat": 4,
 "nbformat_minor": 2
}
