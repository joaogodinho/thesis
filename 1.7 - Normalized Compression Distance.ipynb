{
 "cells": [
  {
   "cell_type": "markdown",
   "metadata": {},
   "source": [
    "# Normalized Compression Distance\n",
    "\n",
    "Checking how NDC works with the imports"
   ]
  },
  {
   "cell_type": "code",
   "execution_count": 13,
   "metadata": {
    "collapsed": false
   },
   "outputs": [
    {
     "name": "stdout",
     "output_type": "stream",
     "text": [
      "Total samples: 102382\n",
      "Total malware: 67873\n",
      "Total goodware: 34509\n"
     ]
    }
   ],
   "source": [
    "import pandas as pd\n",
    "import numpy as np\n",
    "import datetime\n",
    "from IPython.display import display\n",
    "from itertools import combinations\n",
    "import lib.helpers as jcfg_helpers\n",
    "\n",
    "samples = pd.read_csv('data/pe32_imports_labeled.csv')\n",
    "samples['date'] = pd.to_datetime(samples['date'], format='%Y/%m/%d')\n",
    "samples = samples.set_index('date').sort_index()\n",
    "# Filter samples with at least x imports\n",
    "# samples = samples[samples.imports.str.count(';') > 19]\n",
    "goodware = samples[samples.malware == 0]\n",
    "malware = samples[samples.malware == 1]\n",
    "print('Total samples: {}'.format(len(samples)))\n",
    "print('Total malware: {}'.format(len(malware)))\n",
    "print('Total goodware: {}'.format(len(goodware)))"
   ]
  },
  {
   "cell_type": "code",
   "execution_count": 16,
   "metadata": {
    "collapsed": false
   },
   "outputs": [
    {
     "data": {
      "text/plain": [
       "499500"
      ]
     },
     "execution_count": 16,
     "metadata": {},
     "output_type": "execute_result"
    }
   ],
   "source": [
    "malware_subset = malware.sample(n=1000)\n",
    "\n",
    "len(list(combinations(malware_subset.imports, 2)))"
   ]
  },
  {
   "cell_type": "code",
   "execution_count": 2,
   "metadata": {
    "collapsed": false
   },
   "outputs": [
    {
     "ename": "SyntaxError",
     "evalue": "invalid syntax (<ipython-input-2-987af937b7d4>, line 1)",
     "output_type": "error",
     "traceback": [
      "\u001b[0;36m  File \u001b[0;32m\"<ipython-input-2-987af937b7d4>\"\u001b[0;36m, line \u001b[0;32m1\u001b[0m\n\u001b[0;31m    jcfg_helpers.\u001b[0m\n\u001b[0m                 ^\u001b[0m\n\u001b[0;31mSyntaxError\u001b[0m\u001b[0;31m:\u001b[0m invalid syntax\n"
     ]
    }
   ],
   "source": [
    "print('[{0}] Starting batches...'.format(datetime.datetime.now()))\n",
    "print('[{0}] Sending count tasks...'.format(datetime.datetime.now()))\n",
    "jobs = group([simple_heuristic.s(\n",
    "    list(common_features),\n",
    "    list(malware_features),\n",
    "    list(goodware_features),\n",
    "    batch.to_json(orient='records')) for batch in batches])\n",
    "print('[{0}] Done sending, waiting...'.format(datetime.datetime.now()))\n",
    "result = jobs.apply_async()\n",
    "result.join()\n",
    "print('[{0}] All tasks done.'.format(datetime.datetime.now()))"
   ]
  },
  {
   "cell_type": "code",
   "execution_count": null,
   "metadata": {
    "collapsed": true
   },
   "outputs": [],
   "source": []
  }
 ],
 "metadata": {
  "kernelspec": {
   "display_name": "Python 3",
   "language": "python",
   "name": "python3"
  },
  "language_info": {
   "codemirror_mode": {
    "name": "ipython",
    "version": 3
   },
   "file_extension": ".py",
   "mimetype": "text/x-python",
   "name": "python",
   "nbconvert_exporter": "python",
   "pygments_lexer": "ipython3",
   "version": "3.6.0"
  }
 },
 "nbformat": 4,
 "nbformat_minor": 2
}
