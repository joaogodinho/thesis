{
 "cells": [
  {
   "cell_type": "markdown",
   "metadata": {
    "deletable": true,
    "editable": true
   },
   "source": [
    "# LR Filtered Dataset\n",
    "\n",
    "Testing the classifier when using a filtered dataset (selected malware types e.g. virus, trojan, worm)"
   ]
  },
  {
   "cell_type": "code",
   "execution_count": 2,
   "metadata": {
    "collapsed": false,
    "deletable": true,
    "editable": true
   },
   "outputs": [
    {
     "name": "stdout",
     "output_type": "stream",
     "text": [
      "Total goodware: 34509\n",
      "Total malware: 67873\n"
     ]
    }
   ],
   "source": [
    "import pandas as pd\n",
    "import numpy as np\n",
    "import math\n",
    "from IPython.display import display\n",
    "from sklearn.feature_extraction.text import CountVectorizer\n",
    "from sklearn.linear_model import LogisticRegression\n",
    "from sklearn.metrics import confusion_matrix\n",
    "import lib.helpers as jcfg_helpers\n",
    "\n",
    "\n",
    "samples = pd.read_csv('data/pe32_imports_labeled.csv')\n",
    "samples['date'] = pd.to_datetime(samples['date'], format='%Y/%m/%d')\n",
    "samples = samples.set_index('date').sort_index()\n",
    "\n",
    "goodware = samples[samples.malware == 0]\n",
    "malware = samples[samples.malware == 1]\n",
    "\n",
    "print('Total goodware: {}'.format(len(goodware)))\n",
    "print('Total malware: {}'.format(len(malware)))"
   ]
  },
  {
   "cell_type": "markdown",
   "metadata": {
    "deletable": true,
    "editable": true
   },
   "source": [
    "## Dataset for Trojans"
   ]
  },
  {
   "cell_type": "code",
   "execution_count": 2,
   "metadata": {
    "collapsed": false,
    "deletable": true,
    "editable": true,
    "scrolled": false
   },
   "outputs": [
    {
     "name": "stdout",
     "output_type": "stream",
     "text": [
      "Total malware: 41870\n"
     ]
    }
   ],
   "source": [
    "microsoft_class = pd.read_csv('data/microsoft_classification.csv')\n",
    "microsoft_class.fillna('', inplace=True)\n",
    "symantec_class = pd.read_csv('data/symantec_classification.csv')\n",
    "symantec_class.fillna('', inplace=True)\n",
    "trendmicro_class = pd.read_csv('data/trendmicro_classification.csv')\n",
    "trendmicro_class.fillna('', inplace=True)\n",
    "\n",
    "microsoft_filter = microsoft_class[microsoft_class.type == 'trojan']\n",
    "symantec_filter = symantec_class[symantec_class.prefix == 'trojan']\n",
    "trendmicro_filter = trendmicro_class[trendmicro_class.prefix == 'troj']\n",
    "\n",
    "links = pd.concat([microsoft_filter.link, symantec_filter.link, trendmicro_filter.link]).unique()\n",
    "\n",
    "filtered_malware = samples[samples.link.isin(links)]\n",
    "\n",
    "print('Total malware: {}'.format(len(filtered_malware)))"
   ]
  },
  {
   "cell_type": "markdown",
   "metadata": {
    "deletable": true,
    "editable": true
   },
   "source": [
    "## Testing\n",
    "\n",
    "Creating multiple LR and varying the ratio of malware/goodware in training/validation"
   ]
  },
  {
   "cell_type": "code",
   "execution_count": 12,
   "metadata": {
    "collapsed": false,
    "deletable": true,
    "editable": true,
    "scrolled": true
   },
   "outputs": [
    {
     "name": "stdout",
     "output_type": "stream",
     "text": [
      "\t\tDownscale of 0.1\n",
      "CC:\t0.9150\n",
      "DR:\t0.3082\n",
      "FP:\t0.4426\n",
      "FN:\t0.0661\n",
      "\n",
      "Malware stats:\n"
     ]
    },
    {
     "data": {
      "text/plain": [
       "count    3.310000e+02\n",
       "mean     3.633775e-01\n",
       "std      3.564969e-01\n",
       "min      2.154350e-07\n",
       "25%      5.470049e-02\n",
       "50%      2.420007e-01\n",
       "75%      6.038979e-01\n",
       "max      9.999999e-01\n",
       "dtype: float64"
      ]
     },
     "metadata": {},
     "output_type": "display_data"
    },
    {
     "name": "stdout",
     "output_type": "stream",
     "text": [
      "\n",
      "Goodware stats:\n"
     ]
    },
    {
     "data": {
      "text/plain": [
       "count    3318.000000\n",
       "mean        0.942601\n",
       "std         0.132651\n",
       "min         0.024514\n",
       "25%         0.945300\n",
       "50%         0.989109\n",
       "75%         0.999479\n",
       "max         1.000000\n",
       "dtype: float64"
      ]
     },
     "metadata": {},
     "output_type": "display_data"
    },
    {
     "name": "stdout",
     "output_type": "stream",
     "text": [
      "\n",
      "\t\tDownscale of 0.2\n",
      "CC:\t0.8963\n",
      "DR:\t0.5415\n",
      "FP:\t0.2329\n",
      "FN:\t0.0865\n",
      "\n",
      "Malware stats:\n"
     ]
    },
    {
     "data": {
      "text/plain": [
       "count    6.630000e+02\n",
       "mean     5.489624e-01\n",
       "std      3.640254e-01\n",
       "min      8.770690e-08\n",
       "25%      1.589174e-01\n",
       "50%      6.108304e-01\n",
       "75%      9.280080e-01\n",
       "max      1.000000e+00\n",
       "dtype: float64"
      ]
     },
     "metadata": {},
     "output_type": "display_data"
    },
    {
     "name": "stdout",
     "output_type": "stream",
     "text": [
      "\n",
      "Goodware stats:\n"
     ]
    },
    {
     "data": {
      "text/plain": [
       "count    3318.000000\n",
       "mean        0.912766\n",
       "std         0.150912\n",
       "min         0.005487\n",
       "25%         0.841083\n",
       "50%         0.982173\n",
       "75%         0.999632\n",
       "max         1.000000\n",
       "dtype: float64"
      ]
     },
     "metadata": {},
     "output_type": "display_data"
    },
    {
     "name": "stdout",
     "output_type": "stream",
     "text": [
      "\n",
      "\t\tDownscale of 0.3\n",
      "CC:\t0.8855\n",
      "DR:\t0.6583\n",
      "FP:\t0.1904\n",
      "FN:\t0.0970\n",
      "\n",
      "Malware stats:\n"
     ]
    },
    {
     "data": {
      "text/plain": [
       "count    9.950000e+02\n",
       "mean     6.780235e-01\n",
       "std      3.185661e-01\n",
       "min      7.130759e-10\n",
       "25%      3.296162e-01\n",
       "50%      7.444049e-01\n",
       "75%      9.825324e-01\n",
       "max      1.000000e+00\n",
       "dtype: float64"
      ]
     },
     "metadata": {},
     "output_type": "display_data"
    },
    {
     "name": "stdout",
     "output_type": "stream",
     "text": [
      "\n",
      "Goodware stats:\n"
     ]
    },
    {
     "data": {
      "text/plain": [
       "count    3318.000000\n",
       "mean        0.870535\n",
       "std         0.191155\n",
       "min         0.001401\n",
       "25%         0.670384\n",
       "50%         0.981594\n",
       "75%         0.999399\n",
       "max         1.000000\n",
       "dtype: float64"
      ]
     },
     "metadata": {},
     "output_type": "display_data"
    },
    {
     "name": "stdout",
     "output_type": "stream",
     "text": [
      "\n",
      "\t\tDownscale of 0.4\n",
      "CC:\t0.8637\n",
      "DR:\t0.6534\n",
      "FP:\t0.1663\n",
      "FN:\t0.1276\n",
      "\n",
      "Malware stats:\n"
     ]
    },
    {
     "data": {
      "text/plain": [
       "count    1327.000000\n",
       "mean        0.665938\n",
       "std         0.329939\n",
       "min         0.000001\n",
       "25%         0.385686\n",
       "50%         0.775968\n",
       "75%         0.988356\n",
       "max         1.000000\n",
       "dtype: float64"
      ]
     },
     "metadata": {},
     "output_type": "display_data"
    },
    {
     "name": "stdout",
     "output_type": "stream",
     "text": [
      "\n",
      "Goodware stats:\n"
     ]
    },
    {
     "data": {
      "text/plain": [
       "count    3318.000000\n",
       "mean        0.850287\n",
       "std         0.212208\n",
       "min         0.002386\n",
       "25%         0.614314\n",
       "50%         0.975537\n",
       "75%         0.998951\n",
       "max         1.000000\n",
       "dtype: float64"
      ]
     },
     "metadata": {},
     "output_type": "display_data"
    },
    {
     "name": "stdout",
     "output_type": "stream",
     "text": [
      "\n",
      "\t\tDownscale of 0.5\n",
      "CC:\t0.8583\n",
      "DR:\t0.7179\n",
      "FP:\t0.1660\n",
      "FN:\t0.1319\n",
      "\n",
      "Malware stats:\n"
     ]
    },
    {
     "data": {
      "text/plain": [
       "count    1.659000e+03\n",
       "mean     6.869545e-01\n",
       "std      2.992347e-01\n",
       "min      2.741793e-09\n",
       "25%      4.114548e-01\n",
       "50%      7.588778e-01\n",
       "75%      9.662130e-01\n",
       "max      1.000000e+00\n",
       "dtype: float64"
      ]
     },
     "metadata": {},
     "output_type": "display_data"
    },
    {
     "name": "stdout",
     "output_type": "stream",
     "text": [
      "\n",
      "Goodware stats:\n"
     ]
    },
    {
     "data": {
      "text/plain": [
       "count    3318.000000\n",
       "mean        0.830215\n",
       "std         0.227503\n",
       "min         0.000844\n",
       "25%         0.588545\n",
       "50%         0.961805\n",
       "75%         0.998540\n",
       "max         1.000000\n",
       "dtype: float64"
      ]
     },
     "metadata": {},
     "output_type": "display_data"
    },
    {
     "name": "stdout",
     "output_type": "stream",
     "text": [
      "\n",
      "\t\tDownscale of 0.6\n",
      "CC:\t0.8668\n",
      "DR:\t0.8010\n",
      "FP:\t0.1633\n",
      "FN:\t0.1164\n",
      "\n",
      "Malware stats:\n"
     ]
    },
    {
     "data": {
      "text/plain": [
       "count    1990.000000\n",
       "mean        0.730033\n",
       "std         0.253779\n",
       "min         0.000011\n",
       "25%         0.619831\n",
       "50%         0.798213\n",
       "75%         0.942779\n",
       "max         1.000000\n",
       "dtype: float64"
      ]
     },
     "metadata": {},
     "output_type": "display_data"
    },
    {
     "name": "stdout",
     "output_type": "stream",
     "text": [
      "\n",
      "Goodware stats:\n"
     ]
    },
    {
     "data": {
      "text/plain": [
       "count    3318.000000\n",
       "mean        0.805407\n",
       "std         0.247039\n",
       "min         0.000088\n",
       "25%         0.546928\n",
       "50%         0.955000\n",
       "75%         0.997711\n",
       "max         1.000000\n",
       "dtype: float64"
      ]
     },
     "metadata": {},
     "output_type": "display_data"
    },
    {
     "name": "stdout",
     "output_type": "stream",
     "text": [
      "\n",
      "\t\tDownscale of 0.7\n",
      "CC:\t0.8342\n",
      "DR:\t0.7476\n",
      "FP:\t0.1674\n",
      "FN:\t0.1648\n",
      "\n",
      "Malware stats:\n"
     ]
    },
    {
     "data": {
      "text/plain": [
       "count    2.322000e+03\n",
       "mean     7.513755e-01\n",
       "std      2.661164e-01\n",
       "min      4.983562e-08\n",
       "25%      4.784336e-01\n",
       "50%      8.500344e-01\n",
       "75%      9.836111e-01\n",
       "max      1.000000e+00\n",
       "dtype: float64"
      ]
     },
     "metadata": {},
     "output_type": "display_data"
    },
    {
     "name": "stdout",
     "output_type": "stream",
     "text": [
      "\n",
      "Goodware stats:\n"
     ]
    },
    {
     "data": {
      "text/plain": [
       "count    3318.000000\n",
       "mean        0.796193\n",
       "std         0.256222\n",
       "min         0.000030\n",
       "25%         0.536700\n",
       "50%         0.947498\n",
       "75%         0.997998\n",
       "max         1.000000\n",
       "dtype: float64"
      ]
     },
     "metadata": {},
     "output_type": "display_data"
    },
    {
     "name": "stdout",
     "output_type": "stream",
     "text": [
      "\n",
      "\t\tDownscale of 0.8\n",
      "CC:\t0.7989\n",
      "DR:\t0.6737\n",
      "FP:\t0.1578\n",
      "FN:\t0.2250\n",
      "\n",
      "Malware stats:\n"
     ]
    },
    {
     "data": {
      "text/plain": [
       "count    2.654000e+03\n",
       "mean     7.414045e-01\n",
       "std      2.812362e-01\n",
       "min      6.415496e-10\n",
       "25%      4.840918e-01\n",
       "50%      8.644190e-01\n",
       "75%      9.941780e-01\n",
       "max      1.000000e+00\n",
       "dtype: float64"
      ]
     },
     "metadata": {},
     "output_type": "display_data"
    },
    {
     "name": "stdout",
     "output_type": "stream",
     "text": [
      "\n",
      "Goodware stats:\n"
     ]
    },
    {
     "data": {
      "text/plain": [
       "count    3318.000000\n",
       "mean        0.787304\n",
       "std         0.262844\n",
       "min         0.000005\n",
       "25%         0.515908\n",
       "50%         0.936831\n",
       "75%         0.998052\n",
       "max         1.000000\n",
       "dtype: float64"
      ]
     },
     "metadata": {},
     "output_type": "display_data"
    },
    {
     "name": "stdout",
     "output_type": "stream",
     "text": [
      "\n",
      "\t\tDownscale of 0.9\n",
      "CC:\t0.7824\n",
      "DR:\t0.8684\n",
      "FP:\t0.2741\n",
      "FN:\t0.1439\n",
      "\n",
      "Malware stats:\n"
     ]
    },
    {
     "data": {
      "text/plain": [
       "count    2.986000e+03\n",
       "mean     7.367667e-01\n",
       "std      2.801853e-01\n",
       "min      1.178909e-09\n",
       "25%      5.112202e-01\n",
       "50%      8.667157e-01\n",
       "75%      9.831193e-01\n",
       "max      1.000000e+00\n",
       "dtype: float64"
      ]
     },
     "metadata": {},
     "output_type": "display_data"
    },
    {
     "name": "stdout",
     "output_type": "stream",
     "text": [
      "\n",
      "Goodware stats:\n"
     ]
    },
    {
     "data": {
      "text/plain": [
       "count    3.318000e+03\n",
       "mean     7.731386e-01\n",
       "std      2.750734e-01\n",
       "min      2.318087e-08\n",
       "25%      4.887798e-01\n",
       "50%      9.282055e-01\n",
       "75%      9.980447e-01\n",
       "max      1.000000e+00\n",
       "dtype: float64"
      ]
     },
     "metadata": {},
     "output_type": "display_data"
    },
    {
     "name": "stdout",
     "output_type": "stream",
     "text": [
      "\n",
      "\t\tDownscale of 1.0\n",
      "CC:\t0.7819\n",
      "DR:\t0.8677\n",
      "FP:\t0.2593\n",
      "FN:\t0.1597\n",
      "\n",
      "Malware stats:\n"
     ]
    },
    {
     "data": {
      "text/plain": [
       "count    3.318000e+03\n",
       "mean     7.214340e-01\n",
       "std      2.671056e-01\n",
       "min      2.697429e-10\n",
       "25%      5.520293e-01\n",
       "50%      8.297241e-01\n",
       "75%      9.601650e-01\n",
       "max      1.000000e+00\n",
       "dtype: float64"
      ]
     },
     "metadata": {},
     "output_type": "display_data"
    },
    {
     "name": "stdout",
     "output_type": "stream",
     "text": [
      "\n",
      "Goodware stats:\n"
     ]
    },
    {
     "data": {
      "text/plain": [
       "count    3.318000e+03\n",
       "mean     7.575619e-01\n",
       "std      2.871125e-01\n",
       "min      1.954325e-08\n",
       "25%      4.479707e-01\n",
       "50%      9.216381e-01\n",
       "75%      9.974889e-01\n",
       "max      1.000000e+00\n",
       "dtype: float64"
      ]
     },
     "metadata": {},
     "output_type": "display_data"
    },
    {
     "name": "stdout",
     "output_type": "stream",
     "text": [
      "\n"
     ]
    }
   ],
   "source": [
    "for i in np.arange(0.1, 1.1, 0.1):\n",
    "    print('\\t\\tDownscale of {:.1f}'.format(i))\n",
    "    # Training/Validation creation\n",
    "    training, validation = jcfg_helpers.train_test_split(\n",
    "    pd.concat([goodware, filtered_malware]),\n",
    "    validation_size = 0.25,\n",
    "    balanced = True,\n",
    "    malware_downscale = i)\n",
    "    #print('Malware in training: {}\\nGoodware in training: {}'.format(len(training[training.malware == 1]),\n",
    "    #                                                                 len(training[training.malware == 0])))\n",
    "    #print('Malware in validation: {}\\nGoodware in validation: {}'.format(len(validation[validation.malware == 1]),\n",
    "    #                                                                     len(validation[validation.malware == 0])))\n",
    "    \n",
    "    ################\n",
    "    # Feature Vector\n",
    "    cv_token_pattern = u'[^;]+'\n",
    "    min_df = 2\n",
    "    cv = CountVectorizer(token_pattern=cv_token_pattern, min_df=min_df)\n",
    "    train_X = cv.fit_transform(training.imports)\n",
    "    #print('Total features: {}'.format(len(cv.get_feature_names())))\n",
    "    \n",
    "    ################\n",
    "    # Logistic Regression\n",
    "    train_Y = training.malware\n",
    "    lr = LogisticRegression().fit(train_X, train_Y)\n",
    "\n",
    "    ################\n",
    "    # Scoring\n",
    "    test_X = cv.transform(validation.imports)\n",
    "    test_Y = validation.malware\n",
    "    score = confusion_matrix(test_Y, lr.predict(test_X))\n",
    "    fp_rate, fn_rate, cc_rate, det_rate = jcfg_helpers.calc_ratios(score)\n",
    "    print('CC:\\t{:.4f}'.format(cc_rate))\n",
    "    print('DR:\\t{:.4f}'.format(det_rate))\n",
    "    print('FP:\\t{:.4f}'.format(fp_rate))\n",
    "    print('FN:\\t{:.4f}'.format(fn_rate))\n",
    "    malware_only = lr.predict_proba(test_X[np.where(test_Y == 1)])\n",
    "    goodware_only = lr.predict_proba(test_X[np.where(test_Y == 0)])\n",
    "    print('\\nMalware stats:')\n",
    "    display(pd.Series(malware_only[:,1]).describe())\n",
    "    print('\\nGoodware stats:')\n",
    "    display(pd.Series(goodware_only[:,0]).describe())\n",
    "    print()"
   ]
  },
  {
   "cell_type": "markdown",
   "metadata": {
    "deletable": true,
    "editable": true
   },
   "source": [
    "## Dataset for Backdoors"
   ]
  },
  {
   "cell_type": "code",
   "execution_count": 20,
   "metadata": {
    "collapsed": false,
    "deletable": true,
    "editable": true
   },
   "outputs": [
    {
     "name": "stdout",
     "output_type": "stream",
     "text": [
      "Total malware: 13273\n"
     ]
    }
   ],
   "source": [
    "microsoft_class = pd.read_csv('data/microsoft_classification.csv')\n",
    "microsoft_class.fillna('', inplace=True)\n",
    "symantec_class = pd.read_csv('data/symantec_classification.csv')\n",
    "symantec_class.fillna('', inplace=True)\n",
    "trendmicro_class = pd.read_csv('data/trendmicro_classification.csv')\n",
    "trendmicro_class.fillna('', inplace=True)\n",
    "\n",
    "microsoft_filter = microsoft_class[microsoft_class.type == 'backdoor']\n",
    "symantec_filter = symantec_class[symantec_class.prefix == 'backdoor']\n",
    "trendmicro_filter = trendmicro_class[trendmicro_class.prefix == 'bkdr']\n",
    "\n",
    "links = pd.concat([microsoft_filter.link, symantec_filter.link, trendmicro_filter.link]).unique()\n",
    "\n",
    "filtered_malware = samples[samples.link.isin(links)]\n",
    "\n",
    "print('Total malware: {}'.format(len(filtered_malware)))"
   ]
  },
  {
   "cell_type": "markdown",
   "metadata": {
    "deletable": true,
    "editable": true
   },
   "source": [
    "## Testing\n",
    "\n",
    "Creating multiple LR and varying the ratio of malware/goodware in training/validation"
   ]
  },
  {
   "cell_type": "code",
   "execution_count": 9,
   "metadata": {
    "collapsed": false,
    "deletable": true,
    "editable": true,
    "scrolled": true
   },
   "outputs": [
    {
     "name": "stdout",
     "output_type": "stream",
     "text": [
      "\t\tDownscale of 0.1\n",
      "CC:\t0.9150\n",
      "DR:\t0.3082\n",
      "FP:\t0.4426\n",
      "FN:\t0.0661\n",
      "\n",
      "Malware stats:\n"
     ]
    },
    {
     "data": {
      "text/plain": [
       "count    3.310000e+02\n",
       "mean     3.633775e-01\n",
       "std      3.564969e-01\n",
       "min      2.154350e-07\n",
       "25%      5.470049e-02\n",
       "50%      2.420007e-01\n",
       "75%      6.038979e-01\n",
       "max      9.999999e-01\n",
       "dtype: float64"
      ]
     },
     "metadata": {},
     "output_type": "display_data"
    },
    {
     "name": "stdout",
     "output_type": "stream",
     "text": [
      "\n",
      "Goodware stats:\n"
     ]
    },
    {
     "data": {
      "text/plain": [
       "count    3318.000000\n",
       "mean        0.942601\n",
       "std         0.132651\n",
       "min         0.024514\n",
       "25%         0.945300\n",
       "50%         0.989109\n",
       "75%         0.999479\n",
       "max         1.000000\n",
       "dtype: float64"
      ]
     },
     "metadata": {},
     "output_type": "display_data"
    },
    {
     "name": "stdout",
     "output_type": "stream",
     "text": [
      "\n",
      "\t\tDownscale of 0.2\n",
      "CC:\t0.8963\n",
      "DR:\t0.5415\n",
      "FP:\t0.2329\n",
      "FN:\t0.0865\n",
      "\n",
      "Malware stats:\n"
     ]
    },
    {
     "data": {
      "text/plain": [
       "count    6.630000e+02\n",
       "mean     5.489624e-01\n",
       "std      3.640254e-01\n",
       "min      8.770690e-08\n",
       "25%      1.589174e-01\n",
       "50%      6.108304e-01\n",
       "75%      9.280080e-01\n",
       "max      1.000000e+00\n",
       "dtype: float64"
      ]
     },
     "metadata": {},
     "output_type": "display_data"
    },
    {
     "name": "stdout",
     "output_type": "stream",
     "text": [
      "\n",
      "Goodware stats:\n"
     ]
    },
    {
     "data": {
      "text/plain": [
       "count    3318.000000\n",
       "mean        0.912766\n",
       "std         0.150912\n",
       "min         0.005487\n",
       "25%         0.841083\n",
       "50%         0.982173\n",
       "75%         0.999632\n",
       "max         1.000000\n",
       "dtype: float64"
      ]
     },
     "metadata": {},
     "output_type": "display_data"
    },
    {
     "name": "stdout",
     "output_type": "stream",
     "text": [
      "\n",
      "\t\tDownscale of 0.30000000000000004\n",
      "CC:\t0.8855\n",
      "DR:\t0.6583\n",
      "FP:\t0.1904\n",
      "FN:\t0.0970\n",
      "\n",
      "Malware stats:\n"
     ]
    },
    {
     "data": {
      "text/plain": [
       "count    9.950000e+02\n",
       "mean     6.780235e-01\n",
       "std      3.185661e-01\n",
       "min      7.130759e-10\n",
       "25%      3.296162e-01\n",
       "50%      7.444049e-01\n",
       "75%      9.825324e-01\n",
       "max      1.000000e+00\n",
       "dtype: float64"
      ]
     },
     "metadata": {},
     "output_type": "display_data"
    },
    {
     "name": "stdout",
     "output_type": "stream",
     "text": [
      "\n",
      "Goodware stats:\n"
     ]
    },
    {
     "data": {
      "text/plain": [
       "count    3318.000000\n",
       "mean        0.870535\n",
       "std         0.191155\n",
       "min         0.001401\n",
       "25%         0.670384\n",
       "50%         0.981594\n",
       "75%         0.999399\n",
       "max         1.000000\n",
       "dtype: float64"
      ]
     },
     "metadata": {},
     "output_type": "display_data"
    },
    {
     "name": "stdout",
     "output_type": "stream",
     "text": [
      "\n",
      "\t\tDownscale of 0.4\n",
      "CC:\t0.8637\n",
      "DR:\t0.6534\n",
      "FP:\t0.1663\n",
      "FN:\t0.1276\n",
      "\n",
      "Malware stats:\n"
     ]
    },
    {
     "data": {
      "text/plain": [
       "count    1327.000000\n",
       "mean        0.665938\n",
       "std         0.329939\n",
       "min         0.000001\n",
       "25%         0.385686\n",
       "50%         0.775968\n",
       "75%         0.988356\n",
       "max         1.000000\n",
       "dtype: float64"
      ]
     },
     "metadata": {},
     "output_type": "display_data"
    },
    {
     "name": "stdout",
     "output_type": "stream",
     "text": [
      "\n",
      "Goodware stats:\n"
     ]
    },
    {
     "data": {
      "text/plain": [
       "count    3318.000000\n",
       "mean        0.850287\n",
       "std         0.212208\n",
       "min         0.002386\n",
       "25%         0.614314\n",
       "50%         0.975537\n",
       "75%         0.998951\n",
       "max         1.000000\n",
       "dtype: float64"
      ]
     },
     "metadata": {},
     "output_type": "display_data"
    },
    {
     "name": "stdout",
     "output_type": "stream",
     "text": [
      "\n",
      "\t\tDownscale of 0.5\n",
      "CC:\t0.8583\n",
      "DR:\t0.7179\n",
      "FP:\t0.1660\n",
      "FN:\t0.1319\n",
      "\n",
      "Malware stats:\n"
     ]
    },
    {
     "data": {
      "text/plain": [
       "count    1.659000e+03\n",
       "mean     6.869545e-01\n",
       "std      2.992347e-01\n",
       "min      2.741793e-09\n",
       "25%      4.114548e-01\n",
       "50%      7.588778e-01\n",
       "75%      9.662130e-01\n",
       "max      1.000000e+00\n",
       "dtype: float64"
      ]
     },
     "metadata": {},
     "output_type": "display_data"
    },
    {
     "name": "stdout",
     "output_type": "stream",
     "text": [
      "\n",
      "Goodware stats:\n"
     ]
    },
    {
     "data": {
      "text/plain": [
       "count    3318.000000\n",
       "mean        0.830215\n",
       "std         0.227503\n",
       "min         0.000844\n",
       "25%         0.588545\n",
       "50%         0.961805\n",
       "75%         0.998540\n",
       "max         1.000000\n",
       "dtype: float64"
      ]
     },
     "metadata": {},
     "output_type": "display_data"
    },
    {
     "name": "stdout",
     "output_type": "stream",
     "text": [
      "\n",
      "\t\tDownscale of 0.6\n",
      "CC:\t0.8668\n",
      "DR:\t0.8010\n",
      "FP:\t0.1633\n",
      "FN:\t0.1164\n",
      "\n",
      "Malware stats:\n"
     ]
    },
    {
     "data": {
      "text/plain": [
       "count    1990.000000\n",
       "mean        0.730033\n",
       "std         0.253779\n",
       "min         0.000011\n",
       "25%         0.619831\n",
       "50%         0.798213\n",
       "75%         0.942779\n",
       "max         1.000000\n",
       "dtype: float64"
      ]
     },
     "metadata": {},
     "output_type": "display_data"
    },
    {
     "name": "stdout",
     "output_type": "stream",
     "text": [
      "\n",
      "Goodware stats:\n"
     ]
    },
    {
     "data": {
      "text/plain": [
       "count    3318.000000\n",
       "mean        0.805407\n",
       "std         0.247039\n",
       "min         0.000088\n",
       "25%         0.546928\n",
       "50%         0.955000\n",
       "75%         0.997711\n",
       "max         1.000000\n",
       "dtype: float64"
      ]
     },
     "metadata": {},
     "output_type": "display_data"
    },
    {
     "name": "stdout",
     "output_type": "stream",
     "text": [
      "\n",
      "\t\tDownscale of 0.7000000000000001\n",
      "CC:\t0.8342\n",
      "DR:\t0.7476\n",
      "FP:\t0.1674\n",
      "FN:\t0.1648\n",
      "\n",
      "Malware stats:\n"
     ]
    },
    {
     "data": {
      "text/plain": [
       "count    2.322000e+03\n",
       "mean     7.513755e-01\n",
       "std      2.661164e-01\n",
       "min      4.983562e-08\n",
       "25%      4.784336e-01\n",
       "50%      8.500344e-01\n",
       "75%      9.836111e-01\n",
       "max      1.000000e+00\n",
       "dtype: float64"
      ]
     },
     "metadata": {},
     "output_type": "display_data"
    },
    {
     "name": "stdout",
     "output_type": "stream",
     "text": [
      "\n",
      "Goodware stats:\n"
     ]
    },
    {
     "data": {
      "text/plain": [
       "count    3318.000000\n",
       "mean        0.796193\n",
       "std         0.256222\n",
       "min         0.000030\n",
       "25%         0.536700\n",
       "50%         0.947498\n",
       "75%         0.997998\n",
       "max         1.000000\n",
       "dtype: float64"
      ]
     },
     "metadata": {},
     "output_type": "display_data"
    },
    {
     "name": "stdout",
     "output_type": "stream",
     "text": [
      "\n",
      "\t\tDownscale of 0.8\n",
      "CC:\t0.7989\n",
      "DR:\t0.6737\n",
      "FP:\t0.1578\n",
      "FN:\t0.2250\n",
      "\n",
      "Malware stats:\n"
     ]
    },
    {
     "data": {
      "text/plain": [
       "count    2.654000e+03\n",
       "mean     7.414045e-01\n",
       "std      2.812362e-01\n",
       "min      6.415496e-10\n",
       "25%      4.840918e-01\n",
       "50%      8.644190e-01\n",
       "75%      9.941780e-01\n",
       "max      1.000000e+00\n",
       "dtype: float64"
      ]
     },
     "metadata": {},
     "output_type": "display_data"
    },
    {
     "name": "stdout",
     "output_type": "stream",
     "text": [
      "\n",
      "Goodware stats:\n"
     ]
    },
    {
     "data": {
      "text/plain": [
       "count    3318.000000\n",
       "mean        0.787304\n",
       "std         0.262844\n",
       "min         0.000005\n",
       "25%         0.515908\n",
       "50%         0.936831\n",
       "75%         0.998052\n",
       "max         1.000000\n",
       "dtype: float64"
      ]
     },
     "metadata": {},
     "output_type": "display_data"
    },
    {
     "name": "stdout",
     "output_type": "stream",
     "text": [
      "\n",
      "\t\tDownscale of 0.9\n",
      "CC:\t0.7824\n",
      "DR:\t0.8684\n",
      "FP:\t0.2741\n",
      "FN:\t0.1439\n",
      "\n",
      "Malware stats:\n"
     ]
    },
    {
     "data": {
      "text/plain": [
       "count    2.986000e+03\n",
       "mean     7.367667e-01\n",
       "std      2.801853e-01\n",
       "min      1.178909e-09\n",
       "25%      5.112202e-01\n",
       "50%      8.667157e-01\n",
       "75%      9.831193e-01\n",
       "max      1.000000e+00\n",
       "dtype: float64"
      ]
     },
     "metadata": {},
     "output_type": "display_data"
    },
    {
     "name": "stdout",
     "output_type": "stream",
     "text": [
      "\n",
      "Goodware stats:\n"
     ]
    },
    {
     "data": {
      "text/plain": [
       "count    3.318000e+03\n",
       "mean     7.731386e-01\n",
       "std      2.750734e-01\n",
       "min      2.318087e-08\n",
       "25%      4.887798e-01\n",
       "50%      9.282055e-01\n",
       "75%      9.980447e-01\n",
       "max      1.000000e+00\n",
       "dtype: float64"
      ]
     },
     "metadata": {},
     "output_type": "display_data"
    },
    {
     "name": "stdout",
     "output_type": "stream",
     "text": [
      "\n",
      "\t\tDownscale of 1.0\n",
      "CC:\t0.7819\n",
      "DR:\t0.8677\n",
      "FP:\t0.2593\n",
      "FN:\t0.1597\n",
      "\n",
      "Malware stats:\n"
     ]
    },
    {
     "data": {
      "text/plain": [
       "count    3.318000e+03\n",
       "mean     7.214340e-01\n",
       "std      2.671056e-01\n",
       "min      2.697429e-10\n",
       "25%      5.520293e-01\n",
       "50%      8.297241e-01\n",
       "75%      9.601650e-01\n",
       "max      1.000000e+00\n",
       "dtype: float64"
      ]
     },
     "metadata": {},
     "output_type": "display_data"
    },
    {
     "name": "stdout",
     "output_type": "stream",
     "text": [
      "\n",
      "Goodware stats:\n"
     ]
    },
    {
     "data": {
      "text/plain": [
       "count    3.318000e+03\n",
       "mean     7.575619e-01\n",
       "std      2.871125e-01\n",
       "min      1.954325e-08\n",
       "25%      4.479707e-01\n",
       "50%      9.216381e-01\n",
       "75%      9.974889e-01\n",
       "max      1.000000e+00\n",
       "dtype: float64"
      ]
     },
     "metadata": {},
     "output_type": "display_data"
    },
    {
     "name": "stdout",
     "output_type": "stream",
     "text": [
      "\n"
     ]
    }
   ],
   "source": [
    "for i in np.arange(0.1, 1.1, 0.1):\n",
    "    print('\\t\\tDownscale of {:.1f}'.format(i))\n",
    "    # Training/Validation creation\n",
    "    training, validation = jcfg_helpers.train_test_split(\n",
    "    pd.concat([goodware, filtered_malware]),\n",
    "    validation_size = 0.25,\n",
    "    balanced = True,\n",
    "    malware_downscale = i)\n",
    "    #print('Malware in training: {}\\nGoodware in training: {}'.format(len(training[training.malware == 1]),\n",
    "    #                                                                 len(training[training.malware == 0])))\n",
    "    #print('Malware in validation: {}\\nGoodware in validation: {}'.format(len(validation[validation.malware == 1]),\n",
    "    #                                                                     len(validation[validation.malware == 0])))\n",
    "    \n",
    "    ################\n",
    "    # Feature Vector\n",
    "    cv_token_pattern = u'[^;]+'\n",
    "    min_df = 2\n",
    "    cv = CountVectorizer(token_pattern=cv_token_pattern, min_df=min_df)\n",
    "    train_X = cv.fit_transform(training.imports)\n",
    "    #print('Total features: {}'.format(len(cv.get_feature_names())))\n",
    "    \n",
    "    ################\n",
    "    # Logistic Regression\n",
    "    train_Y = training.malware\n",
    "    lr = LogisticRegression().fit(train_X, train_Y)\n",
    "\n",
    "    ################\n",
    "    # Scoring\n",
    "    test_X = cv.transform(validation.imports)\n",
    "    test_Y = validation.malware\n",
    "    score = confusion_matrix(test_Y, lr.predict(test_X))\n",
    "    fp_rate, fn_rate, cc_rate, det_rate = jcfg_helpers.calc_ratios(score)\n",
    "    print('CC:\\t{:.4f}'.format(cc_rate))\n",
    "    print('DR:\\t{:.4f}'.format(det_rate))\n",
    "    print('FP:\\t{:.4f}'.format(fp_rate))\n",
    "    print('FN:\\t{:.4f}'.format(fn_rate))\n",
    "    malware_only = lr.predict_proba(test_X[np.where(test_Y == 1)])\n",
    "    goodware_only = lr.predict_proba(test_X[np.where(test_Y == 0)])\n",
    "    print('\\nMalware stats:')\n",
    "    display(pd.Series(malware_only[:,1]).describe())\n",
    "    print('\\nGoodware stats:')\n",
    "    display(pd.Series(goodware_only[:,0]).describe())\n",
    "    print()"
   ]
  },
  {
   "cell_type": "markdown",
   "metadata": {
    "deletable": true,
    "editable": true
   },
   "source": [
    "## Dataset for Worms"
   ]
  },
  {
   "cell_type": "code",
   "execution_count": 15,
   "metadata": {
    "collapsed": false,
    "deletable": true,
    "editable": true
   },
   "outputs": [
    {
     "name": "stdout",
     "output_type": "stream",
     "text": [
      "Total malware: 9418\n"
     ]
    }
   ],
   "source": [
    "microsoft_class = pd.read_csv('data/microsoft_classification.csv')\n",
    "microsoft_class.fillna('', inplace=True)\n",
    "symantec_class = pd.read_csv('data/symantec_classification.csv')\n",
    "symantec_class.fillna('', inplace=True)\n",
    "trendmicro_class = pd.read_csv('data/trendmicro_classification.csv')\n",
    "trendmicro_class.fillna('', inplace=True)\n",
    "\n",
    "microsoft_filter = microsoft_class[microsoft_class.type == 'worm']\n",
    "symantec_filter = symantec_class[symantec_class.suffix == 'worm']\n",
    "trendmicro_filter = trendmicro_class[trendmicro_class.prefix == 'worm']\n",
    "\n",
    "links = pd.concat([microsoft_filter.link, symantec_filter.link, trendmicro_filter.link]).unique()\n",
    "\n",
    "filtered_malware = samples[samples.link.isin(links)]\n",
    "\n",
    "print('Total malware: {}'.format(len(filtered_malware)))"
   ]
  },
  {
   "cell_type": "markdown",
   "metadata": {
    "deletable": true,
    "editable": true
   },
   "source": [
    "## Testing\n",
    "\n",
    "Creating multiple LR and varying the ratio of malware/goodware in training/validation"
   ]
  },
  {
   "cell_type": "code",
   "execution_count": 16,
   "metadata": {
    "collapsed": false,
    "deletable": true,
    "editable": true,
    "scrolled": true
   },
   "outputs": [
    {
     "name": "stdout",
     "output_type": "stream",
     "text": [
      "\t\tDownscale of 0.1\n",
      "CC:\t0.9289\n",
      "DR:\t0.4596\n",
      "FP:\t0.3455\n",
      "FN:\t0.0524\n",
      "\n",
      "Malware stats:\n"
     ]
    },
    {
     "data": {
      "text/plain": [
       "count    235.000000\n",
       "mean       0.458184\n",
       "std        0.354555\n",
       "min        0.000011\n",
       "25%        0.100127\n",
       "50%        0.464396\n",
       "75%        0.795255\n",
       "max        0.999970\n",
       "dtype: float64"
      ]
     },
     "metadata": {},
     "output_type": "display_data"
    },
    {
     "name": "stdout",
     "output_type": "stream",
     "text": [
      "\n",
      "Goodware stats:\n"
     ]
    },
    {
     "data": {
      "text/plain": [
       "count    2354.000000\n",
       "mean        0.953813\n",
       "std         0.126771\n",
       "min         0.000100\n",
       "25%         0.971733\n",
       "50%         0.996608\n",
       "75%         0.999780\n",
       "max         1.000000\n",
       "dtype: float64"
      ]
     },
     "metadata": {},
     "output_type": "display_data"
    },
    {
     "name": "stdout",
     "output_type": "stream",
     "text": [
      "\n",
      "\t\tDownscale of 0.2\n",
      "CC:\t0.9359\n",
      "DR:\t0.8043\n",
      "FP:\t0.1906\n",
      "FN:\t0.0390\n",
      "\n",
      "Malware stats:\n"
     ]
    },
    {
     "data": {
      "text/plain": [
       "count    470.000000\n",
       "mean       0.785789\n",
       "std        0.298460\n",
       "min        0.003958\n",
       "25%        0.644103\n",
       "50%        0.960739\n",
       "75%        0.995203\n",
       "max        1.000000\n",
       "dtype: float64"
      ]
     },
     "metadata": {},
     "output_type": "display_data"
    },
    {
     "name": "stdout",
     "output_type": "stream",
     "text": [
      "\n",
      "Goodware stats:\n"
     ]
    },
    {
     "data": {
      "text/plain": [
       "count    2.354000e+03\n",
       "mean     9.415555e-01\n",
       "std      1.480760e-01\n",
       "min      5.405406e-08\n",
       "25%      9.652621e-01\n",
       "50%      9.964590e-01\n",
       "75%      9.997266e-01\n",
       "max      1.000000e+00\n",
       "dtype: float64"
      ]
     },
     "metadata": {},
     "output_type": "display_data"
    },
    {
     "name": "stdout",
     "output_type": "stream",
     "text": [
      "\n",
      "\t\tDownscale of 0.3\n",
      "CC:\t0.9402\n",
      "DR:\t0.8909\n",
      "FP:\t0.1442\n",
      "FN:\t0.0331\n",
      "\n",
      "Malware stats:\n"
     ]
    },
    {
     "data": {
      "text/plain": [
       "count    7.060000e+02\n",
       "mean     7.919611e-01\n",
       "std      2.518206e-01\n",
       "min      4.732057e-08\n",
       "25%      6.992951e-01\n",
       "50%      8.934974e-01\n",
       "75%      9.864473e-01\n",
       "max      9.999998e-01\n",
       "dtype: float64"
      ]
     },
     "metadata": {},
     "output_type": "display_data"
    },
    {
     "name": "stdout",
     "output_type": "stream",
     "text": [
      "\n",
      "Goodware stats:\n"
     ]
    },
    {
     "data": {
      "text/plain": [
       "count    2.354000e+03\n",
       "mean     9.334788e-01\n",
       "std      1.656524e-01\n",
       "min      1.070076e-09\n",
       "25%      9.627645e-01\n",
       "50%      9.950599e-01\n",
       "75%      9.997185e-01\n",
       "max      1.000000e+00\n",
       "dtype: float64"
      ]
     },
     "metadata": {},
     "output_type": "display_data"
    },
    {
     "name": "stdout",
     "output_type": "stream",
     "text": [
      "\n",
      "\t\tDownscale of 0.4\n",
      "CC:\t0.9381\n",
      "DR:\t0.9171\n",
      "FP:\t0.1274\n",
      "FN:\t0.0338\n",
      "\n",
      "Malware stats:\n"
     ]
    },
    {
     "data": {
      "text/plain": [
       "count    9.410000e+02\n",
       "mean     8.307211e-01\n",
       "std      2.111391e-01\n",
       "min      7.631981e-07\n",
       "25%      8.015404e-01\n",
       "50%      8.853044e-01\n",
       "75%      9.818147e-01\n",
       "max      9.999999e-01\n",
       "dtype: float64"
      ]
     },
     "metadata": {},
     "output_type": "display_data"
    },
    {
     "name": "stdout",
     "output_type": "stream",
     "text": [
      "\n",
      "Goodware stats:\n"
     ]
    },
    {
     "data": {
      "text/plain": [
       "count    2.354000e+03\n",
       "mean     9.227005e-01\n",
       "std      1.827241e-01\n",
       "min      4.060330e-10\n",
       "25%      9.545321e-01\n",
       "50%      9.941348e-01\n",
       "75%      9.996809e-01\n",
       "max      1.000000e+00\n",
       "dtype: float64"
      ]
     },
     "metadata": {},
     "output_type": "display_data"
    },
    {
     "name": "stdout",
     "output_type": "stream",
     "text": [
      "\n",
      "\t\tDownscale of 0.5\n",
      "CC:\t0.9439\n",
      "DR:\t0.9482\n",
      "FP:\t0.1093\n",
      "FN:\t0.0268\n",
      "\n",
      "Malware stats:\n"
     ]
    },
    {
     "data": {
      "text/plain": [
       "count    1177.000000\n",
       "mean        0.886166\n",
       "std         0.172799\n",
       "min         0.000037\n",
       "25%         0.890899\n",
       "50%         0.932763\n",
       "75%         0.988963\n",
       "max         1.000000\n",
       "dtype: float64"
      ]
     },
     "metadata": {},
     "output_type": "display_data"
    },
    {
     "name": "stdout",
     "output_type": "stream",
     "text": [
      "\n",
      "Goodware stats:\n"
     ]
    },
    {
     "data": {
      "text/plain": [
       "count    2.354000e+03\n",
       "mean     9.162957e-01\n",
       "std      1.926773e-01\n",
       "min      3.016032e-12\n",
       "25%      9.473496e-01\n",
       "50%      9.940020e-01\n",
       "75%      9.996967e-01\n",
       "max      1.000000e+00\n",
       "dtype: float64"
      ]
     },
     "metadata": {},
     "output_type": "display_data"
    },
    {
     "name": "stdout",
     "output_type": "stream",
     "text": [
      "\n",
      "\t\tDownscale of 0.6\n",
      "CC:\t0.9373\n",
      "DR:\t0.9476\n",
      "FP:\t0.1080\n",
      "FN:\t0.0327\n",
      "\n",
      "Malware stats:\n"
     ]
    },
    {
     "data": {
      "text/plain": [
       "count    1412.000000\n",
       "mean        0.874777\n",
       "std         0.190467\n",
       "min         0.000002\n",
       "25%         0.829165\n",
       "50%         0.925224\n",
       "75%         0.992236\n",
       "max         1.000000\n",
       "dtype: float64"
      ]
     },
     "metadata": {},
     "output_type": "display_data"
    },
    {
     "name": "stdout",
     "output_type": "stream",
     "text": [
      "\n",
      "Goodware stats:\n"
     ]
    },
    {
     "data": {
      "text/plain": [
       "count    2.354000e+03\n",
       "mean     9.117562e-01\n",
       "std      2.005343e-01\n",
       "min      1.154410e-12\n",
       "25%      9.443304e-01\n",
       "50%      9.944057e-01\n",
       "75%      9.997307e-01\n",
       "max      1.000000e+00\n",
       "dtype: float64"
      ]
     },
     "metadata": {},
     "output_type": "display_data"
    },
    {
     "name": "stdout",
     "output_type": "stream",
     "text": [
      "\n",
      "\t\tDownscale of 0.7\n",
      "CC:\t0.9053\n",
      "DR:\t0.8731\n",
      "FP:\t0.1057\n",
      "FN:\t0.0873\n",
      "\n",
      "Malware stats:\n"
     ]
    },
    {
     "data": {
      "text/plain": [
       "count    1.647000e+03\n",
       "mean     7.949810e-01\n",
       "std      2.558930e-01\n",
       "min      1.854896e-08\n",
       "25%      7.906064e-01\n",
       "50%      8.765433e-01\n",
       "75%      9.546134e-01\n",
       "max      1.000000e+00\n",
       "dtype: float64"
      ]
     },
     "metadata": {},
     "output_type": "display_data"
    },
    {
     "name": "stdout",
     "output_type": "stream",
     "text": [
      "\n",
      "Goodware stats:\n"
     ]
    },
    {
     "data": {
      "text/plain": [
       "count    2.354000e+03\n",
       "mean     9.083963e-01\n",
       "std      2.059550e-01\n",
       "min      3.272937e-13\n",
       "25%      9.386038e-01\n",
       "50%      9.938040e-01\n",
       "75%      9.997438e-01\n",
       "max      1.000000e+00\n",
       "dtype: float64"
      ]
     },
     "metadata": {},
     "output_type": "display_data"
    },
    {
     "name": "stdout",
     "output_type": "stream",
     "text": [
      "\n",
      "\t\tDownscale of 0.8\n",
      "CC:\t0.8867\n",
      "DR:\t0.8338\n",
      "FP:\t0.0961\n",
      "FN:\t0.1252\n",
      "\n",
      "Malware stats:\n"
     ]
    },
    {
     "data": {
      "text/plain": [
       "count    1.883000e+03\n",
       "mean     7.713083e-01\n",
       "std      2.799545e-01\n",
       "min      9.965926e-08\n",
       "25%      7.662966e-01\n",
       "50%      8.681887e-01\n",
       "75%      9.602606e-01\n",
       "max      1.000000e+00\n",
       "dtype: float64"
      ]
     },
     "metadata": {},
     "output_type": "display_data"
    },
    {
     "name": "stdout",
     "output_type": "stream",
     "text": [
      "\n",
      "Goodware stats:\n"
     ]
    },
    {
     "data": {
      "text/plain": [
       "count    2.354000e+03\n",
       "mean     9.040380e-01\n",
       "std      2.121797e-01\n",
       "min      1.439737e-12\n",
       "25%      9.346576e-01\n",
       "50%      9.939272e-01\n",
       "75%      9.997099e-01\n",
       "max      1.000000e+00\n",
       "dtype: float64"
      ]
     },
     "metadata": {},
     "output_type": "display_data"
    },
    {
     "name": "stdout",
     "output_type": "stream",
     "text": [
      "\n",
      "\t\tDownscale of 0.9\n",
      "CC:\t0.8904\n",
      "DR:\t0.8602\n",
      "FP:\t0.0962\n",
      "FN:\t0.1205\n",
      "\n",
      "Malware stats:\n"
     ]
    },
    {
     "data": {
      "text/plain": [
       "count    2118.000000\n",
       "mean        0.791400\n",
       "std         0.283141\n",
       "min         0.000006\n",
       "25%         0.787496\n",
       "50%         0.907688\n",
       "75%         0.985182\n",
       "max         1.000000\n",
       "dtype: float64"
      ]
     },
     "metadata": {},
     "output_type": "display_data"
    },
    {
     "name": "stdout",
     "output_type": "stream",
     "text": [
      "\n",
      "Goodware stats:\n"
     ]
    },
    {
     "data": {
      "text/plain": [
       "count    2.354000e+03\n",
       "mean     8.915860e-01\n",
       "std      2.229390e-01\n",
       "min      2.915446e-13\n",
       "25%      9.152757e-01\n",
       "50%      9.907384e-01\n",
       "75%      9.996770e-01\n",
       "max      1.000000e+00\n",
       "dtype: float64"
      ]
     },
     "metadata": {},
     "output_type": "display_data"
    },
    {
     "name": "stdout",
     "output_type": "stream",
     "text": [
      "\n",
      "\t\tDownscale of 1.0\n",
      "CC:\t0.8717\n",
      "DR:\t0.8309\n",
      "FP:\t0.0953\n",
      "FN:\t0.1563\n",
      "\n",
      "Malware stats:\n"
     ]
    },
    {
     "data": {
      "text/plain": [
       "count    2.354000e+03\n",
       "mean     7.933651e-01\n",
       "std      3.097255e-01\n",
       "min      3.634418e-09\n",
       "25%      7.942247e-01\n",
       "50%      9.336490e-01\n",
       "75%      9.880253e-01\n",
       "max      1.000000e+00\n",
       "dtype: float64"
      ]
     },
     "metadata": {},
     "output_type": "display_data"
    },
    {
     "name": "stdout",
     "output_type": "stream",
     "text": [
      "\n",
      "Goodware stats:\n"
     ]
    },
    {
     "data": {
      "text/plain": [
       "count    2.354000e+03\n",
       "mean     8.842927e-01\n",
       "std      2.302343e-01\n",
       "min      1.227907e-13\n",
       "25%      9.018958e-01\n",
       "50%      9.897749e-01\n",
       "75%      9.996078e-01\n",
       "max      1.000000e+00\n",
       "dtype: float64"
      ]
     },
     "metadata": {},
     "output_type": "display_data"
    },
    {
     "name": "stdout",
     "output_type": "stream",
     "text": [
      "\n"
     ]
    }
   ],
   "source": [
    "for i in np.arange(0.1, 1.1, 0.1):\n",
    "    print('\\t\\tDownscale of {:.1f}'.format(i))\n",
    "    # Training/Validation creation\n",
    "    training, validation = jcfg_helpers.train_test_split(\n",
    "    pd.concat([goodware, filtered_malware]),\n",
    "    validation_size = 0.25,\n",
    "    balanced = True,\n",
    "    malware_downscale = i)\n",
    "    #print('Malware in training: {}\\nGoodware in training: {}'.format(len(training[training.malware == 1]),\n",
    "    #                                                                 len(training[training.malware == 0])))\n",
    "    #print('Malware in validation: {}\\nGoodware in validation: {}'.format(len(validation[validation.malware == 1]),\n",
    "    #                                                                     len(validation[validation.malware == 0])))\n",
    "    \n",
    "    ################\n",
    "    # Feature Vector\n",
    "    cv_token_pattern = u'[^;]+'\n",
    "    min_df = 2\n",
    "    cv = CountVectorizer(token_pattern=cv_token_pattern, min_df=min_df)\n",
    "    train_X = cv.fit_transform(training.imports)\n",
    "    #print('Total features: {}'.format(len(cv.get_feature_names())))\n",
    "    \n",
    "    ################\n",
    "    # Logistic Regression\n",
    "    train_Y = training.malware\n",
    "    lr = LogisticRegression().fit(train_X, train_Y)\n",
    "\n",
    "    ################\n",
    "    # Scoring\n",
    "    test_X = cv.transform(validation.imports)\n",
    "    test_Y = validation.malware\n",
    "    score = confusion_matrix(test_Y, lr.predict(test_X))\n",
    "    fp_rate, fn_rate, cc_rate, det_rate = jcfg_helpers.calc_ratios(score)\n",
    "    print('CC:\\t{:.4f}'.format(cc_rate))\n",
    "    print('DR:\\t{:.4f}'.format(det_rate))\n",
    "    print('FP:\\t{:.4f}'.format(fp_rate))\n",
    "    print('FN:\\t{:.4f}'.format(fn_rate))\n",
    "    malware_only = lr.predict_proba(test_X[np.where(test_Y == 1)])\n",
    "    goodware_only = lr.predict_proba(test_X[np.where(test_Y == 0)])\n",
    "    print('\\nMalware stats:')\n",
    "    display(pd.Series(malware_only[:,1]).describe())\n",
    "    print('\\nGoodware stats:')\n",
    "    display(pd.Series(goodware_only[:,0]).describe())\n",
    "    print()"
   ]
  },
  {
   "cell_type": "markdown",
   "metadata": {
    "deletable": true,
    "editable": true
   },
   "source": [
    "## Dataset for Virus"
   ]
  },
  {
   "cell_type": "code",
   "execution_count": 18,
   "metadata": {
    "collapsed": false,
    "deletable": true,
    "editable": true
   },
   "outputs": [
    {
     "name": "stdout",
     "output_type": "stream",
     "text": [
      "Total malware: 4467\n"
     ]
    }
   ],
   "source": [
    "microsoft_class = pd.read_csv('data/microsoft_classification.csv')\n",
    "microsoft_class.fillna('', inplace=True)\n",
    "symantec_class = pd.read_csv('data/symantec_classification.csv')\n",
    "symantec_class.fillna('', inplace=True)\n",
    "trendmicro_class = pd.read_csv('data/trendmicro_classification.csv')\n",
    "trendmicro_class.fillna('', inplace=True)\n",
    "\n",
    "microsoft_filter = microsoft_class[microsoft_class.type == 'virus']\n",
    "symantec_filter = symantec_class[symantec_class.prefix == 'virusdoctor']\n",
    "trendmicro_filter = trendmicro_class[trendmicro_class.family == 'virus']\n",
    "\n",
    "links = pd.concat([microsoft_filter.link, symantec_filter.link, trendmicro_filter.link]).unique()\n",
    "\n",
    "filtered_malware = samples[samples.link.isin(links)]\n",
    "\n",
    "print('Total malware: {}'.format(len(filtered_malware)))"
   ]
  },
  {
   "cell_type": "markdown",
   "metadata": {
    "deletable": true,
    "editable": true
   },
   "source": [
    "## Testing\n",
    "\n",
    "Creating multiple LR and varying the ratio of malware/goodware in training/validation"
   ]
  },
  {
   "cell_type": "code",
   "execution_count": 19,
   "metadata": {
    "collapsed": false,
    "deletable": true,
    "editable": true,
    "scrolled": true
   },
   "outputs": [
    {
     "name": "stdout",
     "output_type": "stream",
     "text": [
      "\t\tDownscale of 0.1\n",
      "CC:\t0.8998\n",
      "DR:\t0.2432\n",
      "FP:\t0.5909\n",
      "FN:\t0.0724\n",
      "\n",
      "Malware stats:\n"
     ]
    },
    {
     "data": {
      "text/plain": [
       "count    111.000000\n",
       "mean       0.277960\n",
       "std        0.294748\n",
       "min        0.000009\n",
       "25%        0.016794\n",
       "50%        0.199848\n",
       "75%        0.466603\n",
       "max        0.940911\n",
       "dtype: float64"
      ]
     },
     "metadata": {},
     "output_type": "display_data"
    },
    {
     "name": "stdout",
     "output_type": "stream",
     "text": [
      "\n",
      "Goodware stats:\n"
     ]
    },
    {
     "data": {
      "text/plain": [
       "count    1116.000000\n",
       "mean        0.928899\n",
       "std         0.151273\n",
       "min         0.006975\n",
       "25%         0.945831\n",
       "50%         0.987215\n",
       "75%         0.996882\n",
       "max         1.000000\n",
       "dtype: float64"
      ]
     },
     "metadata": {},
     "output_type": "display_data"
    },
    {
     "name": "stdout",
     "output_type": "stream",
     "text": [
      "\n",
      "\t\tDownscale of 0.2\n",
      "CC:\t0.8656\n",
      "DR:\t0.5202\n",
      "FP:\t0.3862\n",
      "FN:\t0.0930\n",
      "\n",
      "Malware stats:\n"
     ]
    },
    {
     "data": {
      "text/plain": [
       "count    223.000000\n",
       "mean       0.507310\n",
       "std        0.369305\n",
       "min        0.001326\n",
       "25%        0.109795\n",
       "50%        0.620596\n",
       "75%        0.872086\n",
       "max        0.999913\n",
       "dtype: float64"
      ]
     },
     "metadata": {},
     "output_type": "display_data"
    },
    {
     "name": "stdout",
     "output_type": "stream",
     "text": [
      "\n",
      "Goodware stats:\n"
     ]
    },
    {
     "data": {
      "text/plain": [
       "count    1116.000000\n",
       "mean        0.889235\n",
       "std         0.201934\n",
       "min         0.001365\n",
       "25%         0.899302\n",
       "50%         0.985725\n",
       "75%         0.994126\n",
       "max         1.000000\n",
       "dtype: float64"
      ]
     },
     "metadata": {},
     "output_type": "display_data"
    },
    {
     "name": "stdout",
     "output_type": "stream",
     "text": [
      "\n",
      "\t\tDownscale of 0.3\n",
      "CC:\t0.8359\n",
      "DR:\t0.6138\n",
      "FP:\t0.3471\n",
      "FN:\t0.1136\n",
      "\n",
      "Malware stats:\n"
     ]
    },
    {
     "data": {
      "text/plain": [
       "count    334.000000\n",
       "mean       0.584147\n",
       "std        0.329397\n",
       "min        0.000032\n",
       "25%        0.330507\n",
       "50%        0.675649\n",
       "75%        0.862627\n",
       "max        0.999997\n",
       "dtype: float64"
      ]
     },
     "metadata": {},
     "output_type": "display_data"
    },
    {
     "name": "stdout",
     "output_type": "stream",
     "text": [
      "\n",
      "Goodware stats:\n"
     ]
    },
    {
     "data": {
      "text/plain": [
       "count    1116.000000\n",
       "mean        0.858803\n",
       "std         0.227991\n",
       "min         0.000291\n",
       "25%         0.858174\n",
       "50%         0.965826\n",
       "75%         0.990903\n",
       "max         1.000000\n",
       "dtype: float64"
      ]
     },
     "metadata": {},
     "output_type": "display_data"
    },
    {
     "name": "stdout",
     "output_type": "stream",
     "text": [
      "\n",
      "\t\tDownscale of 0.4\n",
      "CC:\t0.8342\n",
      "DR:\t0.7623\n",
      "FP:\t0.3103\n",
      "FN:\t0.0992\n",
      "\n",
      "Malware stats:\n"
     ]
    },
    {
     "data": {
      "text/plain": [
       "count    446.000000\n",
       "mean       0.696722\n",
       "std        0.317618\n",
       "min        0.000630\n",
       "25%        0.549515\n",
       "50%        0.816548\n",
       "75%        0.952437\n",
       "max        0.999998\n",
       "dtype: float64"
      ]
     },
     "metadata": {},
     "output_type": "display_data"
    },
    {
     "name": "stdout",
     "output_type": "stream",
     "text": [
      "\n",
      "Goodware stats:\n"
     ]
    },
    {
     "data": {
      "text/plain": [
       "count    1116.000000\n",
       "mean        0.831571\n",
       "std         0.255777\n",
       "min         0.000317\n",
       "25%         0.803936\n",
       "50%         0.963056\n",
       "75%         0.987075\n",
       "max         1.000000\n",
       "dtype: float64"
      ]
     },
     "metadata": {},
     "output_type": "display_data"
    },
    {
     "name": "stdout",
     "output_type": "stream",
     "text": [
      "\n",
      "\t\tDownscale of 0.5\n",
      "CC:\t0.8369\n",
      "DR:\t0.7939\n",
      "FP:\t0.2629\n",
      "FN:\t0.1072\n",
      "\n",
      "Malware stats:\n"
     ]
    },
    {
     "data": {
      "text/plain": [
       "count    558.000000\n",
       "mean       0.732025\n",
       "std        0.299664\n",
       "min        0.000379\n",
       "25%        0.627684\n",
       "50%        0.820537\n",
       "75%        0.965282\n",
       "max        1.000000\n",
       "dtype: float64"
      ]
     },
     "metadata": {},
     "output_type": "display_data"
    },
    {
     "name": "stdout",
     "output_type": "stream",
     "text": [
      "\n",
      "Goodware stats:\n"
     ]
    },
    {
     "data": {
      "text/plain": [
       "count    1116.000000\n",
       "mean        0.818433\n",
       "std         0.265190\n",
       "min         0.000121\n",
       "25%         0.767200\n",
       "50%         0.955143\n",
       "75%         0.986774\n",
       "max         1.000000\n",
       "dtype: float64"
      ]
     },
     "metadata": {},
     "output_type": "display_data"
    },
    {
     "name": "stdout",
     "output_type": "stream",
     "text": [
      "\n",
      "\t\tDownscale of 0.6\n",
      "CC:\t0.8101\n",
      "DR:\t0.7549\n",
      "FP:\t0.2574\n",
      "FN:\t0.1484\n",
      "\n",
      "Malware stats:\n"
     ]
    },
    {
     "data": {
      "text/plain": [
       "count    669.000000\n",
       "mean       0.689506\n",
       "std        0.321380\n",
       "min        0.000062\n",
       "25%        0.509943\n",
       "50%        0.828011\n",
       "75%        0.932222\n",
       "max        1.000000\n",
       "dtype: float64"
      ]
     },
     "metadata": {},
     "output_type": "display_data"
    },
    {
     "name": "stdout",
     "output_type": "stream",
     "text": [
      "\n",
      "Goodware stats:\n"
     ]
    },
    {
     "data": {
      "text/plain": [
       "count    1116.000000\n",
       "mean        0.806276\n",
       "std         0.271520\n",
       "min         0.000093\n",
       "25%         0.738359\n",
       "50%         0.947137\n",
       "75%         0.983236\n",
       "max         1.000000\n",
       "dtype: float64"
      ]
     },
     "metadata": {},
     "output_type": "display_data"
    },
    {
     "name": "stdout",
     "output_type": "stream",
     "text": [
      "\n",
      "\t\tDownscale of 0.7\n",
      "CC:\t0.7723\n",
      "DR:\t0.6991\n",
      "FP:\t0.2651\n",
      "FN:\t0.2036\n",
      "\n",
      "Malware stats:\n"
     ]
    },
    {
     "data": {
      "text/plain": [
       "count    7.810000e+02\n",
       "mean     6.517612e-01\n",
       "std      3.506729e-01\n",
       "min      3.827735e-10\n",
       "25%      3.251641e-01\n",
       "50%      8.201366e-01\n",
       "75%      9.357463e-01\n",
       "max      9.999986e-01\n",
       "dtype: float64"
      ]
     },
     "metadata": {},
     "output_type": "display_data"
    },
    {
     "name": "stdout",
     "output_type": "stream",
     "text": [
      "\n",
      "Goodware stats:\n"
     ]
    },
    {
     "data": {
      "text/plain": [
       "count    1116.000000\n",
       "mean        0.793152\n",
       "std         0.282060\n",
       "min         0.000031\n",
       "25%         0.718443\n",
       "50%         0.936643\n",
       "75%         0.977178\n",
       "max         1.000000\n",
       "dtype: float64"
      ]
     },
     "metadata": {},
     "output_type": "display_data"
    },
    {
     "name": "stdout",
     "output_type": "stream",
     "text": [
      "\n",
      "\t\tDownscale of 0.8\n",
      "CC:\t0.7535\n",
      "DR:\t0.6917\n",
      "FP:\t0.2628\n",
      "FN:\t0.2348\n",
      "\n",
      "Malware stats:\n"
     ]
    },
    {
     "data": {
      "text/plain": [
       "count    8.920000e+02\n",
       "mean     6.365694e-01\n",
       "std      3.531786e-01\n",
       "min      1.814998e-09\n",
       "25%      3.170079e-01\n",
       "50%      8.356416e-01\n",
       "75%      9.383500e-01\n",
       "max      9.998306e-01\n",
       "dtype: float64"
      ]
     },
     "metadata": {},
     "output_type": "display_data"
    },
    {
     "name": "stdout",
     "output_type": "stream",
     "text": [
      "\n",
      "Goodware stats:\n"
     ]
    },
    {
     "data": {
      "text/plain": [
       "count    1116.000000\n",
       "mean        0.774701\n",
       "std         0.298423\n",
       "min         0.000116\n",
       "25%         0.683425\n",
       "50%         0.934347\n",
       "75%         0.974287\n",
       "max         1.000000\n",
       "dtype: float64"
      ]
     },
     "metadata": {},
     "output_type": "display_data"
    },
    {
     "name": "stdout",
     "output_type": "stream",
     "text": [
      "\n",
      "\t\tDownscale of 0.9\n",
      "CC:\t0.7594\n",
      "DR:\t0.7211\n",
      "FP:\t0.2411\n",
      "FN:\t0.2401\n",
      "\n",
      "Malware stats:\n"
     ]
    },
    {
     "data": {
      "text/plain": [
       "count    1.004000e+03\n",
       "mean     6.677321e-01\n",
       "std      3.424561e-01\n",
       "min      8.378664e-09\n",
       "25%      3.875589e-01\n",
       "50%      8.498956e-01\n",
       "75%      9.613432e-01\n",
       "max      1.000000e+00\n",
       "dtype: float64"
      ]
     },
     "metadata": {},
     "output_type": "display_data"
    },
    {
     "name": "stdout",
     "output_type": "stream",
     "text": [
      "\n",
      "Goodware stats:\n"
     ]
    },
    {
     "data": {
      "text/plain": [
       "count    1116.000000\n",
       "mean        0.766688\n",
       "std         0.302338\n",
       "min         0.000190\n",
       "25%         0.661756\n",
       "50%         0.924666\n",
       "75%         0.973224\n",
       "max         1.000000\n",
       "dtype: float64"
      ]
     },
     "metadata": {},
     "output_type": "display_data"
    },
    {
     "name": "stdout",
     "output_type": "stream",
     "text": [
      "\n",
      "\t\tDownscale of 1.0\n",
      "CC:\t0.7836\n",
      "DR:\t0.7894\n",
      "FP:\t0.2197\n",
      "FN:\t0.2131\n",
      "\n",
      "Malware stats:\n"
     ]
    },
    {
     "data": {
      "text/plain": [
       "count    1.116000e+03\n",
       "mean     7.321270e-01\n",
       "std      3.007564e-01\n",
       "min      3.605102e-07\n",
       "25%      5.908487e-01\n",
       "50%      8.649940e-01\n",
       "75%      9.676963e-01\n",
       "max      1.000000e+00\n",
       "dtype: float64"
      ]
     },
     "metadata": {},
     "output_type": "display_data"
    },
    {
     "name": "stdout",
     "output_type": "stream",
     "text": [
      "\n",
      "Goodware stats:\n"
     ]
    },
    {
     "data": {
      "text/plain": [
       "count    1116.000000\n",
       "mean        0.746229\n",
       "std         0.310891\n",
       "min         0.000042\n",
       "25%         0.616377\n",
       "50%         0.895339\n",
       "75%         0.969030\n",
       "max         1.000000\n",
       "dtype: float64"
      ]
     },
     "metadata": {},
     "output_type": "display_data"
    },
    {
     "name": "stdout",
     "output_type": "stream",
     "text": [
      "\n"
     ]
    }
   ],
   "source": [
    "for i in np.arange(0.1, 1.1, 0.1):\n",
    "    print('\\t\\tDownscale of {:.1f}'.format(i))\n",
    "    # Training/Validation creation\n",
    "    training, validation = jcfg_helpers.train_test_split(\n",
    "    pd.concat([goodware, filtered_malware]),\n",
    "    validation_size = 0.25,\n",
    "    balanced = True,\n",
    "    malware_downscale = i)\n",
    "    #print('Malware in training: {}\\nGoodware in training: {}'.format(len(training[training.malware == 1]),\n",
    "    #                                                                 len(training[training.malware == 0])))\n",
    "    #print('Malware in validation: {}\\nGoodware in validation: {}'.format(len(validation[validation.malware == 1]),\n",
    "    #                                                                     len(validation[validation.malware == 0])))\n",
    "    \n",
    "    ################\n",
    "    # Feature Vector\n",
    "    cv_token_pattern = u'[^;]+'\n",
    "    min_df = 2\n",
    "    cv = CountVectorizer(token_pattern=cv_token_pattern, min_df=min_df)\n",
    "    train_X = cv.fit_transform(training.imports)\n",
    "    #print('Total features: {}'.format(len(cv.get_feature_names())))\n",
    "    \n",
    "    ################\n",
    "    # Logistic Regression\n",
    "    train_Y = training.malware\n",
    "    lr = LogisticRegression().fit(train_X, train_Y)\n",
    "\n",
    "    ################\n",
    "    # Scoring\n",
    "    test_X = cv.transform(validation.imports)\n",
    "    test_Y = validation.malware\n",
    "    score = confusion_matrix(test_Y, lr.predict(test_X))\n",
    "    fp_rate, fn_rate, cc_rate, det_rate = jcfg_helpers.calc_ratios(score)\n",
    "    print('CC:\\t{:.4f}'.format(cc_rate))\n",
    "    print('DR:\\t{:.4f}'.format(det_rate))\n",
    "    print('FP:\\t{:.4f}'.format(fp_rate))\n",
    "    print('FN:\\t{:.4f}'.format(fn_rate))\n",
    "    malware_only = lr.predict_proba(test_X[np.where(test_Y == 1)])\n",
    "    goodware_only = lr.predict_proba(test_X[np.where(test_Y == 0)])\n",
    "    print('\\nMalware stats:')\n",
    "    display(pd.Series(malware_only[:,1]).describe())\n",
    "    print('\\nGoodware stats:')\n",
    "    display(pd.Series(goodware_only[:,0]).describe())\n",
    "    print()"
   ]
  }
 ],
 "metadata": {
  "kernelspec": {
   "display_name": "Python 3",
   "language": "python",
   "name": "python3"
  },
  "language_info": {
   "codemirror_mode": {
    "name": "ipython",
    "version": 3
   },
   "file_extension": ".py",
   "mimetype": "text/x-python",
   "name": "python",
   "nbconvert_exporter": "python",
   "pygments_lexer": "ipython3",
   "version": "3.6.0"
  }
 },
 "nbformat": 4,
 "nbformat_minor": 2
}
