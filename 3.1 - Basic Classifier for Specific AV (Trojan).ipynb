{
 "cells": [
  {
   "cell_type": "markdown",
   "metadata": {
    "deletable": true,
    "editable": true
   },
   "source": [
    "# Basic Classifiser for Specific AV\n",
    "\n",
    "Create a basic classifier for specific vendors, meaning it trains and validates the samples based on a single vendor."
   ]
  },
  {
   "cell_type": "code",
   "execution_count": 1,
   "metadata": {
    "collapsed": true,
    "deletable": true,
    "editable": true
   },
   "outputs": [],
   "source": [
    "import pandas as pd\n",
    "import numpy as np\n",
    "import lib.data_loading as jcfg_data_loading\n",
    "import lib.helpers as jcfg_helpers\n",
    "import matplotlib.pyplot as plt\n",
    "from IPython.display import display\n",
    "from sklearn.feature_extraction.text import CountVectorizer\n",
    "from sklearn.linear_model import LogisticRegression\n",
    "from sklearn.model_selection import train_test_split\n",
    "from sklearn.metrics import confusion_matrix\n",
    "\n",
    "\n",
    "test_size = 0.50\n",
    "\n",
    "# Use the original samples to remove all but the last submission of duplicated samples\n",
    "samples = pd.read_csv('data/mined_data/pe32_samples.csv')\n",
    "samples = jcfg_data_loading.set_pd_datetime_index(samples)\n",
    "samples.drop_duplicates(subset='md5', inplace=True, keep='last')"
   ]
  },
  {
   "cell_type": "markdown",
   "metadata": {
    "deletable": true,
    "editable": true
   },
   "source": [
    "## Microsoft Classifier\n",
    "\n",
    "**Ignoring temporal consistency**, train and test a classifier for microsoft only samples"
   ]
  },
  {
   "cell_type": "code",
   "execution_count": 2,
   "metadata": {
    "collapsed": false,
    "deletable": true,
    "editable": true,
    "scrolled": true
   },
   "outputs": [
    {
     "name": "stdout",
     "output_type": "stream",
     "text": [
      "Malware in dataset: 15926\n",
      "Goodware in dataset: 154556\n"
     ]
    }
   ],
   "source": [
    "# Load the needed CSVs\n",
    "static_imports = pd.read_csv('data/mined_data/pe32_static_imports.csv', dtype=str)\n",
    "static_imports = static_imports.set_index('link')\n",
    "\n",
    "microsoft_samples = pd.read_csv('data/mined_data/microsoft_classification.csv', dtype=str)\n",
    "microsoft_samples = microsoft_samples.set_index('link')\n",
    "\n",
    "# Join the microsoft samples with the imports\n",
    "dataset = microsoft_samples.join(static_imports).dropna(subset=['imports'])\n",
    "dataset.drop(['info', 'variant', 'family', 'platform'], axis=1, inplace=True)\n",
    "# Remove dups\n",
    "dataset = dataset[dataset.index.isin(samples.link)]\n",
    "\n",
    "dataset.type.fillna(value=0, inplace=True)\n",
    "\n",
    "\n",
    "# Filter types of malware\n",
    "dataset = dataset[(dataset.type == 'trojan') | (dataset.type == 0)]\n",
    "\n",
    "\n",
    "dataset.type = dataset.type.replace(to_replace=None, value=1, regex=r'.+').astype(int)\n",
    "dataset.rename(columns={'type': 'malware'}, inplace=True)\n",
    "\n",
    "print('Malware in dataset: {}'.format(len(dataset[dataset.malware == 1])))\n",
    "print('Goodware in dataset: {}'.format(len(dataset[dataset.malware == 0])))"
   ]
  },
  {
   "cell_type": "code",
   "execution_count": 3,
   "metadata": {
    "collapsed": false,
    "deletable": true,
    "editable": true
   },
   "outputs": [
    {
     "name": "stdout",
     "output_type": "stream",
     "text": [
      "Statistics on malware imports:\n"
     ]
    },
    {
     "data": {
      "text/plain": [
       "count    15926.000000\n",
       "mean        88.010863\n",
       "std        117.295228\n",
       "min          1.000000\n",
       "25%         11.000000\n",
       "50%         56.000000\n",
       "75%        114.000000\n",
       "max       3036.000000\n",
       "Name: imports, dtype: float64"
      ]
     },
     "metadata": {},
     "output_type": "display_data"
    },
    {
     "name": "stdout",
     "output_type": "stream",
     "text": [
      "\n",
      "Statistics on goodware imports:\n"
     ]
    },
    {
     "data": {
      "text/plain": [
       "count    154556.000000\n",
       "mean        124.116689\n",
       "std         176.287262\n",
       "min           1.000000\n",
       "25%          19.000000\n",
       "50%          83.000000\n",
       "75%         154.000000\n",
       "max       13325.000000\n",
       "Name: imports, dtype: float64"
      ]
     },
     "metadata": {},
     "output_type": "display_data"
    }
   ],
   "source": [
    "# How imports vary on malware/goodware\n",
    "microsoft_malware = dataset[dataset.malware == 1]\n",
    "microsoft_goodware = dataset[dataset.malware == 0]\n",
    "\n",
    "mcm_count = microsoft_malware.imports.apply(lambda x: len(x.split(';')))\n",
    "mcg_count = microsoft_goodware.imports.apply(lambda x: len(x.split(';')))\n",
    "\n",
    "print('Statistics on malware imports:')\n",
    "display(mcm_count.describe())\n",
    "print('\\nStatistics on goodware imports:')\n",
    "display(mcg_count.describe())"
   ]
  },
  {
   "cell_type": "code",
   "execution_count": 4,
   "metadata": {
    "collapsed": false,
    "deletable": true,
    "editable": true
   },
   "outputs": [
    {
     "name": "stdout",
     "output_type": "stream",
     "text": [
      "CC:\t0.9193\n",
      "DR:\t0.2702\n",
      "FP:\t0.3261\n",
      "FN:\t0.0711\n",
      "\n",
      "Malware stats:\n"
     ]
    },
    {
     "data": {
      "text/plain": [
       "count    7.995000e+03\n",
       "mean     3.386372e-01\n",
       "std      3.228336e-01\n",
       "min      5.765555e-12\n",
       "25%      6.123047e-02\n",
       "50%      2.286145e-01\n",
       "75%      5.504453e-01\n",
       "max      1.000000e+00\n",
       "dtype: float64"
      ]
     },
     "metadata": {},
     "output_type": "display_data"
    },
    {
     "name": "stdout",
     "output_type": "stream",
     "text": [
      "\n",
      "Goodware stats:\n"
     ]
    },
    {
     "data": {
      "text/plain": [
       "count    77246.000000\n",
       "mean         0.932180\n",
       "std          0.111091\n",
       "min          0.000002\n",
       "25%          0.936263\n",
       "50%          0.965116\n",
       "75%          0.996058\n",
       "max          1.000000\n",
       "dtype: float64"
      ]
     },
     "metadata": {},
     "output_type": "display_data"
    },
    {
     "data": {
      "image/png": "[encoded data removed]",
      "text/plain": [
       "<matplotlib.figure.Figure at 0x7f4e02c97da0>"
      ]
     },
     "metadata": {},
     "output_type": "display_data"
    },
    {
     "name": "stdout",
     "output_type": "stream",
     "text": [
      "CPU times: user 1min 4s, sys: 1 s, total: 1min 5s\n",
      "Wall time: 1min 4s\n"
     ]
    }
   ],
   "source": [
    "%%time\n",
    "# Raw LR, use all imports, dataset balanced as is (more goodware than malware)\n",
    "# Split into train and test (this also shuffles the data)\n",
    "(train, test) = train_test_split(dataset, test_size=test_size)\n",
    "\n",
    "# Generate the count vectorizer\n",
    "cv_token_pattern = u'[^;]+'\n",
    "cv = CountVectorizer(token_pattern=cv_token_pattern)\n",
    "train_X = cv.fit_transform(train.imports)\n",
    "train_Y = train.malware\n",
    "test_X = cv.transform(test.imports)\n",
    "test_Y = test.malware\n",
    "\n",
    "# Logistic Regression training\n",
    "lr = LogisticRegression().fit(train_X, train_Y)\n",
    "\n",
    "score = confusion_matrix(test_Y, lr.predict(test_X))\n",
    "fp_rate, fn_rate, cc_rate, det_rate = jcfg_helpers.calc_ratios(score)\n",
    "print('CC:\\t{:.4f}'.format(cc_rate))\n",
    "print('DR:\\t{:.4f}'.format(det_rate))\n",
    "print('FP:\\t{:.4f}'.format(fp_rate))\n",
    "print('FN:\\t{:.4f}'.format(fn_rate))\n",
    "\n",
    "malware_only = lr.predict_proba(test_X[np.where(test_Y == 1)])\n",
    "goodware_only = lr.predict_proba(test_X[np.where(test_Y == 0)])\n",
    "print('\\nMalware stats:')\n",
    "display(pd.Series(malware_only[:,1]).describe())\n",
    "print('\\nGoodware stats:')\n",
    "display(pd.Series(goodware_only[:,0]).describe())\n",
    "\n",
    "plt.figure(figsize=(10, 4), dpi=100)\n",
    "plt.subplot(211)\n",
    "plt.hist(goodware_only[:,0], bins=20, alpha=0.75)\n",
    "plt.subplot(212)\n",
    "plt.hist(malware_only[:,1], bins=20, alpha=0.75)\n",
    "plt.show()"
   ]
  },
  {
   "cell_type": "code",
   "execution_count": 5,
   "metadata": {
    "collapsed": false,
    "deletable": true,
    "editable": true
   },
   "outputs": [
    {
     "name": "stdout",
     "output_type": "stream",
     "text": [
      "Malware in dataset: 15926\n",
      "Goodware in dataset: 15926\n",
      "CC:\t0.7444\n",
      "DR:\t0.7099\n",
      "FP:\t0.2372\n",
      "FN:\t0.2715\n",
      "\n",
      "Malware stats:\n"
     ]
    },
    {
     "data": {
      "text/plain": [
       "count    7.967000e+03\n",
       "mean     6.887968e-01\n",
       "std      2.804966e-01\n",
       "min      5.566813e-09\n",
       "25%      4.280878e-01\n",
       "50%      7.799776e-01\n",
       "75%      9.416667e-01\n",
       "max      1.000000e+00\n",
       "dtype: float64"
      ]
     },
     "metadata": {},
     "output_type": "display_data"
    },
    {
     "name": "stdout",
     "output_type": "stream",
     "text": [
      "\n",
      "Goodware stats:\n"
     ]
    },
    {
     "data": {
      "text/plain": [
       "count    7.959000e+03\n",
       "mean     6.872679e-01\n",
       "std      2.776652e-01\n",
       "min      6.305179e-11\n",
       "25%      5.529609e-01\n",
       "50%      7.357631e-01\n",
       "75%      9.524787e-01\n",
       "max      1.000000e+00\n",
       "dtype: float64"
      ]
     },
     "metadata": {},
     "output_type": "display_data"
    },
    {
     "data": {
      "image/png": "[encoded data removed]",
      "text/plain": [
       "<matplotlib.figure.Figure at 0x7f4de17a1780>"
      ]
     },
     "metadata": {},
     "output_type": "display_data"
    },
    {
     "name": "stdout",
     "output_type": "stream",
     "text": [
      "CPU times: user 14.6 s, sys: 377 ms, total: 15 s\n",
      "Wall time: 14.5 s\n"
     ]
    }
   ],
   "source": [
    "%%time\n",
    "# Use all imports, but balance the datasets\n",
    "malware_count = len(dataset[dataset.malware == 1])\n",
    "goodware_count = len(dataset[dataset.malware == 0])\n",
    "\n",
    "limiting = min(malware_count, goodware_count)\n",
    "malware = dataset[dataset.malware == 1].sample(n=limiting)\n",
    "goodware = dataset[dataset.malware == 0].sample(n=limiting)\n",
    "\n",
    "# Recreate the dataset, now balanced\n",
    "dataset2 = pd.concat([malware, goodware])\n",
    "\n",
    "print('Malware in dataset: {}'.format(len(dataset2[dataset2.malware == 1])))\n",
    "print('Goodware in dataset: {}'.format(len(dataset2[dataset2.malware == 0])))\n",
    "\n",
    "# Split into train and test (this also shuffles the data)\n",
    "(train, test) = train_test_split(dataset2, test_size=test_size)\n",
    "\n",
    "# Generate the count vectorizer\n",
    "cv_token_pattern = u'[^;]+'\n",
    "cv = CountVectorizer(token_pattern=cv_token_pattern)\n",
    "train_X = cv.fit_transform(train.imports)\n",
    "train_Y = train.malware\n",
    "test_X = cv.transform(test.imports)\n",
    "test_Y = test.malware\n",
    "\n",
    "# Logistic Regression training\n",
    "lr = LogisticRegression().fit(train_X, train_Y)\n",
    "\n",
    "score = confusion_matrix(test_Y, lr.predict(test_X))\n",
    "fp_rate, fn_rate, cc_rate, det_rate = jcfg_helpers.calc_ratios(score)\n",
    "print('CC:\\t{:.4f}'.format(cc_rate))\n",
    "print('DR:\\t{:.4f}'.format(det_rate))\n",
    "print('FP:\\t{:.4f}'.format(fp_rate))\n",
    "print('FN:\\t{:.4f}'.format(fn_rate))\n",
    "\n",
    "malware_only = lr.predict_proba(test_X[np.where(test_Y == 1)])\n",
    "goodware_only = lr.predict_proba(test_X[np.where(test_Y == 0)])\n",
    "print('\\nMalware stats:')\n",
    "display(pd.Series(malware_only[:,1]).describe())\n",
    "print('\\nGoodware stats:')\n",
    "display(pd.Series(goodware_only[:,0]).describe())\n",
    "\n",
    "plt.figure(figsize=(10, 4), dpi=100)\n",
    "plt.subplot(211)\n",
    "plt.hist(goodware_only[:,0], bins=20, alpha=0.75)\n",
    "plt.subplot(212)\n",
    "plt.hist(malware_only[:,1], bins=20, alpha=0.75)\n",
    "plt.show()"
   ]
  },
  {
   "cell_type": "code",
   "execution_count": 6,
   "metadata": {
    "collapsed": false,
    "deletable": true,
    "editable": true
   },
   "outputs": [
    {
     "name": "stdout",
     "output_type": "stream",
     "text": [
      "Malware in dataset: 15926\n",
      "Goodware in dataset: 7963\n",
      "CC:\t0.7627\n",
      "DR:\t0.8844\n",
      "FP:\t0.2152\n",
      "FN:\t0.3027\n",
      "\n",
      "Malware stats:\n"
     ]
    },
    {
     "data": {
      "text/plain": [
       "count    7917.000000\n",
       "mean        0.788972\n",
       "std         0.231006\n",
       "min         0.000108\n",
       "25%         0.624393\n",
       "50%         0.880369\n",
       "75%         0.973425\n",
       "max         1.000000\n",
       "dtype: float64"
      ]
     },
     "metadata": {},
     "output_type": "display_data"
    },
    {
     "name": "stdout",
     "output_type": "stream",
     "text": [
      "\n",
      "Goodware stats:\n"
     ]
    },
    {
     "data": {
      "text/plain": [
       "count    4.028000e+03\n",
       "mean     5.678821e-01\n",
       "std      3.251170e-01\n",
       "min      4.286438e-11\n",
       "25%      3.349494e-01\n",
       "50%      5.558842e-01\n",
       "75%      9.104774e-01\n",
       "max      1.000000e+00\n",
       "dtype: float64"
      ]
     },
     "metadata": {},
     "output_type": "display_data"
    },
    {
     "data": {
      "image/png": "[encoded data removed]",
      "text/plain": [
       "<matplotlib.figure.Figure at 0x7f4de12c2828>"
      ]
     },
     "metadata": {},
     "output_type": "display_data"
    },
    {
     "name": "stdout",
     "output_type": "stream",
     "text": [
      "CPU times: user 5.38 s, sys: 303 ms, total: 5.68 s\n",
      "Wall time: 5.33 s\n"
     ]
    }
   ],
   "source": [
    "%%time\n",
    "# Use all imports, but use more malware for training (more goodware version is default)\n",
    "malware_count = len(dataset[dataset.malware == 1])\n",
    "goodware_count = len(dataset[dataset.malware == 0])\n",
    "\n",
    "limiting = min(malware_count, goodware_count)\n",
    "malware = dataset[dataset.malware == 1].sample(n=limiting)\n",
    "# Use 50% less goodware\n",
    "goodware = dataset[dataset.malware == 0].sample(n=int(limiting * 0.5))\n",
    "\n",
    "# Recreate the dataset, now balanced\n",
    "dataset3 = pd.concat([malware, goodware])\n",
    "\n",
    "print('Malware in dataset: {}'.format(len(dataset3[dataset3.malware == 1])))\n",
    "print('Goodware in dataset: {}'.format(len(dataset3[dataset3.malware == 0])))\n",
    "\n",
    "# Split into train and test (this also shuffles the data)\n",
    "(train, test) = train_test_split(dataset3, test_size=test_size)\n",
    "\n",
    "# Generate the count vectorizer\n",
    "cv_token_pattern = u'[^;]+'\n",
    "cv = CountVectorizer(token_pattern=cv_token_pattern)\n",
    "train_X = cv.fit_transform(train.imports)\n",
    "train_Y = train.malware\n",
    "test_X = cv.transform(test.imports)\n",
    "test_Y = test.malware\n",
    "\n",
    "# Logistic Regression training\n",
    "lr = LogisticRegression().fit(train_X, train_Y)\n",
    "\n",
    "score = confusion_matrix(test_Y, lr.predict(test_X))\n",
    "fp_rate, fn_rate, cc_rate, det_rate = jcfg_helpers.calc_ratios(score)\n",
    "print('CC:\\t{:.4f}'.format(cc_rate))\n",
    "print('DR:\\t{:.4f}'.format(det_rate))\n",
    "print('FP:\\t{:.4f}'.format(fp_rate))\n",
    "print('FN:\\t{:.4f}'.format(fn_rate))\n",
    "\n",
    "malware_only = lr.predict_proba(test_X[np.where(test_Y == 1)])\n",
    "goodware_only = lr.predict_proba(test_X[np.where(test_Y == 0)])\n",
    "print('\\nMalware stats:')\n",
    "display(pd.Series(malware_only[:,1]).describe())\n",
    "print('\\nGoodware stats:')\n",
    "display(pd.Series(goodware_only[:,0]).describe())\n",
    "\n",
    "plt.figure(figsize=(10, 4), dpi=100)\n",
    "plt.subplot(211)\n",
    "plt.hist(goodware_only[:,0], bins=20, alpha=0.75)\n",
    "plt.subplot(212)\n",
    "plt.hist(malware_only[:,1], bins=20, alpha=0.75)\n",
    "plt.show()"
   ]
  },
  {
   "cell_type": "code",
   "execution_count": 7,
   "metadata": {
    "collapsed": false,
    "deletable": true,
    "editable": true
   },
   "outputs": [
    {
     "name": "stdout",
     "output_type": "stream",
     "text": [
      "Malware in dataset: 13443\n",
      "Goodware in dataset: 116125\n",
      "CC:\t0.9137\n",
      "DR:\t0.3259\n",
      "FP:\t0.3456\n",
      "FN:\t0.0724\n",
      "\n",
      "Malware stats:\n"
     ]
    },
    {
     "data": {
      "text/plain": [
       "count    6.607000e+03\n",
       "mean     3.912913e-01\n",
       "std      3.298923e-01\n",
       "min      4.738641e-07\n",
       "25%      1.036558e-01\n",
       "50%      2.823920e-01\n",
       "75%      6.661971e-01\n",
       "max      1.000000e+00\n",
       "dtype: float64"
      ]
     },
     "metadata": {},
     "output_type": "display_data"
    },
    {
     "name": "stdout",
     "output_type": "stream",
     "text": [
      "\n",
      "Goodware stats:\n"
     ]
    },
    {
     "data": {
      "text/plain": [
       "count    5.817700e+04\n",
       "mean     9.263193e-01\n",
       "std      1.286894e-01\n",
       "min      7.531238e-07\n",
       "25%      9.155128e-01\n",
       "50%      9.752420e-01\n",
       "75%      9.976169e-01\n",
       "max      1.000000e+00\n",
       "dtype: float64"
      ]
     },
     "metadata": {},
     "output_type": "display_data"
    },
    {
     "data": {
      "image/png": "[encoded data removed]",
      "text/plain": [
       "<matplotlib.figure.Figure at 0x7f4df4463c50>"
      ]
     },
     "metadata": {},
     "output_type": "display_data"
    },
    {
     "name": "stdout",
     "output_type": "stream",
     "text": [
      "CPU times: user 35.4 s, sys: 563 ms, total: 36 s\n",
      "Wall time: 35.4 s\n"
     ]
    }
   ],
   "source": [
    "%%time\n",
    "# Use between 2 and 300 imports (+/- mean + std for goodware), without balancing\n",
    "# Filter samples by the number of imports\n",
    "dataset4 = dataset[dataset.imports.map(lambda x: len(x.split(';')) <= 300 and len(x.split(';')) > 1)]\n",
    "\n",
    "print('Malware in dataset: {}'.format(len(dataset4[dataset4.malware == 1])))\n",
    "print('Goodware in dataset: {}'.format(len(dataset4[dataset4.malware == 0])))\n",
    "\n",
    "# Split into train and test (this also shuffles the data)\n",
    "(train, test) = train_test_split(dataset4, test_size=test_size)\n",
    "\n",
    "# Generate the count vectorizer\n",
    "cv_token_pattern = u'[^;]+'\n",
    "cv = CountVectorizer(token_pattern=cv_token_pattern)\n",
    "train_X = cv.fit_transform(train.imports)\n",
    "train_Y = train.malware\n",
    "test_X = cv.transform(test.imports)\n",
    "test_Y = test.malware\n",
    "\n",
    "# Logistic Regression training\n",
    "lr = LogisticRegression().fit(train_X, train_Y)\n",
    "\n",
    "score = confusion_matrix(test_Y, lr.predict(test_X))\n",
    "fp_rate, fn_rate, cc_rate, det_rate = jcfg_helpers.calc_ratios(score)\n",
    "print('CC:\\t{:.4f}'.format(cc_rate))\n",
    "print('DR:\\t{:.4f}'.format(det_rate))\n",
    "print('FP:\\t{:.4f}'.format(fp_rate))\n",
    "print('FN:\\t{:.4f}'.format(fn_rate))\n",
    "\n",
    "malware_only = lr.predict_proba(test_X[np.where(test_Y == 1)])\n",
    "goodware_only = lr.predict_proba(test_X[np.where(test_Y == 0)])\n",
    "print('\\nMalware stats:')\n",
    "display(pd.Series(malware_only[:,1]).describe())\n",
    "print('\\nGoodware stats:')\n",
    "display(pd.Series(goodware_only[:,0]).describe())\n",
    "\n",
    "plt.figure(figsize=(10, 4), dpi=100)\n",
    "plt.subplot(211)\n",
    "plt.hist(goodware_only[:,0], bins=20, alpha=0.75)\n",
    "plt.subplot(212)\n",
    "plt.hist(malware_only[:,1], bins=20, alpha=0.75)\n",
    "plt.show()"
   ]
  },
  {
   "cell_type": "code",
   "execution_count": 8,
   "metadata": {
    "collapsed": false,
    "deletable": true,
    "editable": true
   },
   "outputs": [
    {
     "name": "stdout",
     "output_type": "stream",
     "text": [
      "Malware in dataset: 13443\n",
      "Goodware in dataset: 13443\n",
      "CC:\t0.7644\n",
      "DR:\t0.7719\n",
      "FP:\t0.2375\n",
      "FN:\t0.2336\n",
      "\n",
      "Malware stats:\n"
     ]
    },
    {
     "data": {
      "text/plain": [
       "count    6759.000000\n",
       "mean        0.713526\n",
       "std         0.275928\n",
       "min         0.000015\n",
       "25%         0.543170\n",
       "50%         0.789332\n",
       "75%         0.955695\n",
       "max         1.000000\n",
       "dtype: float64"
      ]
     },
     "metadata": {},
     "output_type": "display_data"
    },
    {
     "name": "stdout",
     "output_type": "stream",
     "text": [
      "\n",
      "Goodware stats:\n"
     ]
    },
    {
     "data": {
      "text/plain": [
       "count    6.684000e+03\n",
       "mean     7.129766e-01\n",
       "std      2.966445e-01\n",
       "min      3.069738e-09\n",
       "25%      5.147786e-01\n",
       "50%      7.976875e-01\n",
       "75%      9.821498e-01\n",
       "max      1.000000e+00\n",
       "dtype: float64"
      ]
     },
     "metadata": {},
     "output_type": "display_data"
    },
    {
     "data": {
      "image/png": "[encoded data removed]",
      "text/plain": [
       "<matplotlib.figure.Figure at 0x7f4dbe19f550>"
      ]
     },
     "metadata": {},
     "output_type": "display_data"
    },
    {
     "name": "stdout",
     "output_type": "stream",
     "text": [
      "CPU times: user 5.93 s, sys: 287 ms, total: 6.22 s\n",
      "Wall time: 5.88 s\n"
     ]
    }
   ],
   "source": [
    "%%time\n",
    "# Use between 2 and 300 imports, balanced dataset\n",
    "dataset5 = dataset[dataset.imports.map(lambda x: len(x.split(';')) <= 300 and len(x.split(';')) > 1)]\n",
    "malware_count = len(dataset5[dataset5.malware == 1])\n",
    "goodware_count = len(dataset5[dataset5.malware == 0])\n",
    "\n",
    "limiting = min(malware_count, goodware_count)\n",
    "malware = dataset5[dataset5.malware == 1].sample(n=limiting)\n",
    "goodware = dataset5[dataset5.malware == 0].sample(n=limiting)\n",
    "\n",
    "# Recreate the dataset, now balanced\n",
    "dataset5 = pd.concat([malware, goodware])\n",
    "\n",
    "print('Malware in dataset: {}'.format(len(dataset5[dataset5.malware == 1])))\n",
    "print('Goodware in dataset: {}'.format(len(dataset5[dataset5.malware == 0])))\n",
    "\n",
    "# Split into train and test (this also shuffles the data)\n",
    "(train, test) = train_test_split(dataset5, test_size=test_size)\n",
    "\n",
    "# Generate the count vectorizer\n",
    "cv_token_pattern = u'[^;]+'\n",
    "cv = CountVectorizer(token_pattern=cv_token_pattern)\n",
    "train_X = cv.fit_transform(train.imports)\n",
    "train_Y = train.malware\n",
    "test_X = cv.transform(test.imports)\n",
    "test_Y = test.malware\n",
    "\n",
    "# Logistic Regression training\n",
    "lr = LogisticRegression().fit(train_X, train_Y)\n",
    "\n",
    "score = confusion_matrix(test_Y, lr.predict(test_X))\n",
    "fp_rate, fn_rate, cc_rate, det_rate = jcfg_helpers.calc_ratios(score)\n",
    "print('CC:\\t{:.4f}'.format(cc_rate))\n",
    "print('DR:\\t{:.4f}'.format(det_rate))\n",
    "print('FP:\\t{:.4f}'.format(fp_rate))\n",
    "print('FN:\\t{:.4f}'.format(fn_rate))\n",
    "\n",
    "malware_only = lr.predict_proba(test_X[np.where(test_Y == 1)])\n",
    "goodware_only = lr.predict_proba(test_X[np.where(test_Y == 0)])\n",
    "print('\\nMalware stats:')\n",
    "display(pd.Series(malware_only[:,1]).describe())\n",
    "print('\\nGoodware stats:')\n",
    "display(pd.Series(goodware_only[:,0]).describe())\n",
    "\n",
    "plt.figure(figsize=(10, 4), dpi=100)\n",
    "plt.subplot(211)\n",
    "plt.hist(goodware_only[:,0], bins=20, alpha=0.75)\n",
    "plt.subplot(212)\n",
    "plt.hist(malware_only[:,1], bins=20, alpha=0.75)\n",
    "plt.show()"
   ]
  },
  {
   "cell_type": "code",
   "execution_count": 9,
   "metadata": {
    "collapsed": false,
    "deletable": true,
    "editable": true
   },
   "outputs": [
    {
     "name": "stdout",
     "output_type": "stream",
     "text": [
      "Malware in dataset: 13443\n",
      "Goodware in dataset: 6721\n",
      "CC:\t0.7919\n",
      "DR:\t0.8766\n",
      "FP:\t0.1773\n",
      "FN:\t0.2835\n",
      "\n",
      "Malware stats:\n"
     ]
    },
    {
     "data": {
      "text/plain": [
       "count    6718.000000\n",
       "mean        0.809379\n",
       "std         0.226133\n",
       "min         0.000479\n",
       "25%         0.736694\n",
       "50%         0.885633\n",
       "75%         0.978829\n",
       "max         1.000000\n",
       "dtype: float64"
      ]
     },
     "metadata": {},
     "output_type": "display_data"
    },
    {
     "name": "stdout",
     "output_type": "stream",
     "text": [
      "\n",
      "Goodware stats:\n"
     ]
    },
    {
     "data": {
      "text/plain": [
       "count    3.364000e+03\n",
       "mean     6.003381e-01\n",
       "std      3.399025e-01\n",
       "min      1.075987e-08\n",
       "25%      2.830864e-01\n",
       "50%      6.116472e-01\n",
       "75%      9.562759e-01\n",
       "max      9.999906e-01\n",
       "dtype: float64"
      ]
     },
     "metadata": {},
     "output_type": "display_data"
    },
    {
     "data": {
      "image/png": "[encoded data removed]",
      "text/plain": [
       "<matplotlib.figure.Figure at 0x7f4df4fd19b0>"
      ]
     },
     "metadata": {},
     "output_type": "display_data"
    },
    {
     "name": "stdout",
     "output_type": "stream",
     "text": [
      "CPU times: user 5.09 s, sys: 283 ms, total: 5.37 s\n",
      "Wall time: 5.03 s\n"
     ]
    }
   ],
   "source": [
    "%%time\n",
    "# Use up to 300 imports, but with more malware than goodware\n",
    "dataset6 = dataset[dataset.imports.map(lambda x: len(x.split(';')) <= 300 and len(x.split(';')) > 1)]\n",
    "malware_count = len(dataset6[dataset6.malware == 1])\n",
    "goodware_count = len(dataset6[dataset6.malware == 0])\n",
    "\n",
    "limiting = min(malware_count, goodware_count)\n",
    "malware = dataset6[dataset6.malware == 1].sample(n=limiting)\n",
    "# Use 50% less goodware\n",
    "goodware = dataset6[dataset6.malware == 0].sample(n=int(limiting * 0.5))\n",
    "\n",
    "# Recreate the dataset, now balanced\n",
    "dataset6 = pd.concat([malware, goodware])\n",
    "\n",
    "print('Malware in dataset: {}'.format(len(dataset6[dataset6.malware == 1])))\n",
    "print('Goodware in dataset: {}'.format(len(dataset6[dataset6.malware == 0])))\n",
    "\n",
    "# Split into train and test (this also shuffles the data)\n",
    "(train, test) = train_test_split(dataset6, test_size=test_size)\n",
    "\n",
    "# Generate the count vectorizer\n",
    "cv_token_pattern = u'[^;]+'\n",
    "cv = CountVectorizer(token_pattern=cv_token_pattern)\n",
    "train_X = cv.fit_transform(train.imports)\n",
    "train_Y = train.malware\n",
    "test_X = cv.transform(test.imports)\n",
    "test_Y = test.malware\n",
    "\n",
    "# Logistic Regression training\n",
    "lr = LogisticRegression().fit(train_X, train_Y)\n",
    "\n",
    "score = confusion_matrix(test_Y, lr.predict(test_X))\n",
    "fp_rate, fn_rate, cc_rate, det_rate = jcfg_helpers.calc_ratios(score)\n",
    "print('CC:\\t{:.4f}'.format(cc_rate))\n",
    "print('DR:\\t{:.4f}'.format(det_rate))\n",
    "print('FP:\\t{:.4f}'.format(fp_rate))\n",
    "print('FN:\\t{:.4f}'.format(fn_rate))\n",
    "\n",
    "malware_only = lr.predict_proba(test_X[np.where(test_Y == 1)])\n",
    "goodware_only = lr.predict_proba(test_X[np.where(test_Y == 0)])\n",
    "print('\\nMalware stats:')\n",
    "display(pd.Series(malware_only[:,1]).describe())\n",
    "print('\\nGoodware stats:')\n",
    "display(pd.Series(goodware_only[:,0]).describe())\n",
    "\n",
    "plt.figure(figsize=(10, 4), dpi=100)\n",
    "plt.subplot(211)\n",
    "plt.hist(goodware_only[:,0], bins=20, alpha=0.75)\n",
    "plt.subplot(212)\n",
    "plt.hist(malware_only[:,1], bins=20, alpha=0.75)\n",
    "plt.show()"
   ]
  }
 ],
 "metadata": {
  "kernelspec": {
   "display_name": "Python 3",
   "language": "python",
   "name": "python3"
  },
  "language_info": {
   "codemirror_mode": {
    "name": "ipython",
    "version": 3
   },
   "file_extension": ".py",
   "mimetype": "text/x-python",
   "name": "python",
   "nbconvert_exporter": "python",
   "pygments_lexer": "ipython3",
   "version": "3.6.0"
  }
 },
 "nbformat": 4,
 "nbformat_minor": 2
}
