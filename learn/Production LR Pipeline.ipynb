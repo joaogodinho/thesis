{
 "cells": [
  {
   "cell_type": "code",
   "execution_count": 1,
   "metadata": {},
   "outputs": [],
   "source": [
    "import pandas as pd\n",
    "import numpy as np\n",
    "import re\n",
    "from sklearn.feature_extraction.text import CountVectorizer\n",
    "from sklearn.pipeline import Pipeline\n",
    "from sklearn.externals import joblib\n",
    "from sklearn.preprocessing import QuantileTransformer\n",
    "from sklearn.linear_model import LogisticRegression"
   ]
  },
  {
   "cell_type": "code",
   "execution_count": 2,
   "metadata": {},
   "outputs": [],
   "source": [
    "data_folder = '../data/csv_data/'\n",
    "extension = '.csv.gz'\n",
    "build_path = lambda x: data_folder + x + extension\n",
    "\n",
    "cv_token_pattern = u'[^;]+'\n",
    "\n",
    "real_dataset = pd.read_csv(build_path('real_dataset')).set_index('link')\n",
    "real_dataset = real_dataset.astype(float)"
   ]
  },
  {
   "cell_type": "markdown",
   "metadata": {},
   "source": [
    "# Static Imports Pipeline"
   ]
  },
  {
   "cell_type": "code",
   "execution_count": 3,
   "metadata": {},
   "outputs": [],
   "source": [
    "df = pd.read_csv(build_path('malwr_imports')).set_index('link').dropna()\n",
    "df = df[df.index.isin(real_dataset.index)]\n",
    "\n",
    "vocabulary = ['ADVAPI32.DLL', 'ADVAPI32.dll', 'COMCTL32.DLL', 'COMCTL32.dll',\n",
    "       'COMDLG32.dll', 'CRYPT32.dll', 'GDI32.DLL', 'GDI32.dll',\n",
    "       'IMM32.dll', 'IPHLPAPI.DLL', 'KERNEL32.DLL', 'KERNEL32.dll',\n",
    "       'MFC42.DLL', 'MPR.dll', 'MSIMG32.dll', 'MSVBVM60.DLL',\n",
    "       'MSVCRT.dll', 'NETAPI32.dll', 'OLEAUT32.dll', 'PSAPI.DLL',\n",
    "       'RPCRT4.dll', 'SETUPAPI.dll', 'SHELL32.DLL', 'SHELL32.dll',\n",
    "       'SHFolder.dll', 'SHLWAPI.dll', 'URLMON.DLL', 'USER32.DLL',\n",
    "       'USER32.dll', 'USERENV.dll', 'UxTheme.dll', 'VERSION.dll',\n",
    "       'WINHTTP.dll', 'WININET.dll', 'WINMM.dll', 'WINSPOOL.DRV',\n",
    "       'WS2_32.DLL', 'WS2_32.dll', 'WSOCK32.dll', 'WTSAPI32.dll',\n",
    "       'advapi32.dll', 'comctl32.dll', 'comdlg32.dll', 'gdi32.dll',\n",
    "       'gdiplus.dll', 'kernel32.dll', 'msacm32.dll', 'mscoree.dll',\n",
    "       'msimg32.dll', 'msvcrt.dll', 'netapi32.dll', 'ntdll.dll',\n",
    "       'ole32.dll', 'oleaut32.dll', 'oledlg.dll', 'shell32.dll',\n",
    "       'shlwapi.dll', 'urlmon.dll', 'user32.dll', 'version.dll',\n",
    "       'wininet.dll', 'winmm.dll', 'winspool.drv', 'wsock32.dll']\n",
    "\n",
    "static_pipe = Pipeline(steps=[('cv', CountVectorizer(\n",
    "    token_pattern=cv_token_pattern, lowercase=False, binary=True, vocabulary=vocabulary))])"
   ]
  },
  {
   "cell_type": "code",
   "execution_count": 4,
   "metadata": {},
   "outputs": [
    {
     "data": {
      "text/plain": [
       "['static_pipe.pk']"
      ]
     },
     "execution_count": 4,
     "metadata": {},
     "output_type": "execute_result"
    }
   ],
   "source": [
    "static_pipe.fit(df.imports)\n",
    "joblib.dump(static_pipe, 'static_pipe.pk', compress=9, protocol=2)"
   ]
  },
  {
   "cell_type": "markdown",
   "metadata": {},
   "source": [
    "# Categories Pipeline"
   ]
  },
  {
   "cell_type": "code",
   "execution_count": 3,
   "metadata": {},
   "outputs": [],
   "source": [
    "df2 = pd.read_csv(build_path('malwr_behav_categories')).set_index('link').fillna(0)\n",
    "df2 = df2[df2.index.isin(real_dataset.index)]\n",
    "categories_pipe = Pipeline(steps=[('qt', QuantileTransformer(output_distribution='normal'))])"
   ]
  },
  {
   "cell_type": "code",
   "execution_count": 12,
   "metadata": {},
   "outputs": [
    {
     "name": "stdout",
     "output_type": "stream",
     "text": [
      "['anomaly', 'device', 'filesystem', 'hooking', 'misc', 'network', 'process', 'registry', 'services', 'socket', 'synchronization', 'system', 'threading', 'windows']\n"
     ]
    }
   ],
   "source": [
    "print(list(df2.columns))"
   ]
  },
  {
   "cell_type": "code",
   "execution_count": 6,
   "metadata": {
    "scrolled": true
   },
   "outputs": [
    {
     "data": {
      "text/plain": [
       "['categories_pipe.pk']"
      ]
     },
     "execution_count": 6,
     "metadata": {},
     "output_type": "execute_result"
    }
   ],
   "source": [
    "categories_pipe.fit(df2)\n",
    "joblib.dump(categories_pipe, 'categories_pipe.pk', compress=9, protocol=2)"
   ]
  },
  {
   "cell_type": "markdown",
   "metadata": {},
   "source": [
    "# API Calls Pipeline"
   ]
  },
  {
   "cell_type": "code",
   "execution_count": 6,
   "metadata": {},
   "outputs": [],
   "source": [
    "df3 = pd.read_csv(build_path('malwr_behav_api_calls')).set_index('link').fillna(0)\n",
    "df3 = df3[df3.index.isin(real_dataset.index)]\n",
    "api_pipe = Pipeline(steps=[('qt', QuantileTransformer(output_distribution='normal'))])"
   ]
  },
  {
   "cell_type": "code",
   "execution_count": 14,
   "metadata": {},
   "outputs": [
    {
     "name": "stdout",
     "output_type": "stream",
     "text": [
      "['ControlService', 'CopyFileA', 'CopyFileExW', 'CopyFileW', 'CreateDirectoryExW', 'CreateDirectoryW', 'CreateProcessInternalW', 'CreateRemoteThread', 'CreateServiceA', 'CreateServiceW', 'CreateThread', 'DeleteFileA', 'DeleteFileW', 'DeleteService', 'DeviceIoControl', 'DnsQuery_A', 'DnsQuery_UTF8', 'DnsQuery_W', 'ExitProcess', 'ExitThread', 'ExitWindowsEx', 'FindFirstFileExA', 'FindFirstFileExW', 'FindWindowA', 'FindWindowExA', 'FindWindowExW', 'FindWindowW', 'GetAddrInfoW', 'GetCursorPos', 'GetSystemMetrics', 'HttpOpenRequestA', 'HttpOpenRequestW', 'HttpSendRequestA', 'HttpSendRequestW', 'InternetCloseHandle', 'InternetConnectA', 'InternetConnectW', 'InternetOpenA', 'InternetOpenUrlA', 'InternetOpenUrlW', 'InternetOpenW', 'InternetReadFile', 'InternetWriteFile', 'IsDebuggerPresent', 'LdrGetDllHandle', 'LdrGetProcedureAddress', 'LdrLoadDll', 'LookupPrivilegeValueW', 'MoveFileWithProgressW', 'NtCreateDirectoryObject', 'NtCreateFile', 'NtCreateKey', 'NtCreateMutant', 'NtCreateNamedPipeFile', 'NtCreateProcess', 'NtCreateProcessEx', 'NtCreateSection', 'NtCreateThread', 'NtDelayExecution', 'NtDeleteFile', 'NtDeleteKey', 'NtDeleteValueKey', 'NtDeviceIoControlFile', 'NtEnumerateKey', 'NtEnumerateValueKey', 'NtFreeVirtualMemory', 'NtGetContextThread', 'NtLoadKey', 'NtMakePermanentObject', 'NtMakeTemporaryObject', 'NtOpenDirectoryObject', 'NtOpenFile', 'NtOpenKey', 'NtOpenMutant', 'NtOpenSection', 'NtOpenThread', 'NtProtectVirtualMemory', 'NtQueryDirectoryFile', 'NtQueryInformationFile', 'NtQueryKey', 'NtQueryValueKey', 'NtReadFile', 'NtReadVirtualMemory', 'NtRenameKey', 'NtReplaceKey', 'NtResumeThread', 'NtSaveKey', 'NtSaveKeyEx', 'NtSetContextThread', 'NtSetInformationFile', 'NtSetValueKey', 'NtSuspendThread', 'NtTerminateProcess', 'NtTerminateThread', 'NtWriteFile', 'NtWriteVirtualMemory', 'OpenSCManagerA', 'OpenSCManagerW', 'OpenServiceA', 'OpenServiceW', 'ReadProcessMemory', 'RegCloseKey', 'RegCreateKeyExA', 'RegCreateKeyExW', 'RegDeleteKeyA', 'RegDeleteKeyW', 'RegDeleteValueA', 'RegDeleteValueW', 'RegEnumKeyExA', 'RegEnumKeyExW', 'RegEnumKeyW', 'RegEnumValueA', 'RegEnumValueW', 'RegOpenKeyExA', 'RegOpenKeyExW', 'RegQueryInfoKeyA', 'RegQueryInfoKeyW', 'RegQueryValueExA', 'RegQueryValueExW', 'RegSetValueExA', 'RegSetValueExW', 'RemoveDirectoryA', 'RemoveDirectoryW', 'RtlCreateUserProcess', 'RtlCreateUserThread', 'SetWindowsHookExA', 'SetWindowsHookExW', 'ShellExecuteExW', 'StartServiceA', 'StartServiceW', 'TransmitFile', 'URLDownloadToFileW', 'UnhookWindowsHookEx', 'VirtualProtectEx', 'WSARecv', 'WSARecvFrom', 'WSASend', 'WSASendTo', 'WSASocketA', 'WSASocketW', 'WSAStartup', 'WriteConsoleA', 'WriteConsoleW', 'WriteProcessMemory', 'ZwMapViewOfSection', '__anomaly__', 'accept', 'bind', 'closesocket', 'connect', 'getaddrinfo', 'gethostbyname', 'ioctlsocket', 'listen', 'recv', 'recvfrom', 'select', 'send', 'sendto', 'setsockopt', 'shutdown', 'socket', 'system']\n"
     ]
    }
   ],
   "source": [
    "print(list(df3.columns))"
   ]
  },
  {
   "cell_type": "code",
   "execution_count": 8,
   "metadata": {
    "scrolled": true
   },
   "outputs": [
    {
     "data": {
      "text/plain": [
       "['api_pipe.pk']"
      ]
     },
     "execution_count": 8,
     "metadata": {},
     "output_type": "execute_result"
    }
   ],
   "source": [
    "api_pipe.fit(df3)\n",
    "joblib.dump(api_pipe, 'api_pipe.pk', compress=9, protocol=2)"
   ]
  },
  {
   "cell_type": "markdown",
   "metadata": {},
   "source": [
    "# Signatures Pipeline"
   ]
  },
  {
   "cell_type": "code",
   "execution_count": 9,
   "metadata": {},
   "outputs": [],
   "source": [
    "# df = pd.read_csv(build_path('malwr_signatures')).set_index('link').fillna(0)\n",
    "# df = df[df.index.isin(real_dataset.index)]\n",
    "# signatures_pipe = Pipeline"
   ]
  },
  {
   "cell_type": "markdown",
   "metadata": {},
   "source": [
    "# Base Classifiers"
   ]
  },
  {
   "cell_type": "code",
   "execution_count": 67,
   "metadata": {},
   "outputs": [],
   "source": [
    "classes = ['other', 'ransom', 'spyware', 'trojan', 'virus', 'worm']\n",
    "static = pd.DataFrame(static_pipe.transform(df.sort_index().imports).todense())\n",
    "cats = pd.DataFrame(categories_pipe.transform(df2.sort_index()))\n",
    "apis = pd.DataFrame(api_pipe.transform(df3.sort_index()))\n",
    "features = static.join(cats, rsuffix='_').join(apis, rsuffix='__')"
   ]
  },
  {
   "cell_type": "code",
   "execution_count": 79,
   "metadata": {},
   "outputs": [],
   "source": [
    "layer0_features = pd.DataFrame(columns=classes, index=df.sort_index().index)"
   ]
  },
  {
   "cell_type": "code",
   "execution_count": 81,
   "metadata": {
    "scrolled": false
   },
   "outputs": [
    {
     "name": "stdout",
     "output_type": "stream",
     "text": [
      "CPU times: user 6min 10s, sys: 4.59 s, total: 6min 14s\n",
      "Wall time: 6min 11s\n"
     ]
    }
   ],
   "source": [
    "%%time\n",
    "for c in classes:\n",
    "    mal = real_dataset[c].sort_index()\n",
    "    mal[mal.notnull()] = 1\n",
    "    mal.fillna(0, inplace=True)\n",
    "    # cria pipeline para esta classe\n",
    "    # treina classificador\n",
    "    # guarda classificador\n",
    "    \n",
    "    class_pipe = Pipeline(steps=[('lr', LogisticRegression())])\n",
    "    class_pipe.fit(features, mal)\n",
    "    layer0_features.loc[:, c] = class_pipe.predict_proba(features)[:,1]\n",
    "    joblib.dump(class_pipe, 'class_{}.pk'.format(c), compress=9, protocol=2)"
   ]
  },
  {
   "cell_type": "code",
   "execution_count": 89,
   "metadata": {},
   "outputs": [],
   "source": [
    "malware = real_dataset.dropna(how='all').index\n",
    "goodware = real_dataset[~real_dataset.index.isin(malware)].index"
   ]
  },
  {
   "cell_type": "code",
   "execution_count": 96,
   "metadata": {},
   "outputs": [],
   "source": [
    "layer0_features.loc[malware, 'malware'] = 1\n",
    "layer0_features.loc[goodware, 'malware'] = 0"
   ]
  },
  {
   "cell_type": "code",
   "execution_count": 114,
   "metadata": {},
   "outputs": [
    {
     "data": {
      "text/plain": [
       "['class_layer1.pk']"
      ]
     },
     "execution_count": 114,
     "metadata": {},
     "output_type": "execute_result"
    }
   ],
   "source": [
    "layer1_pipe = Pipeline(steps=[('lr', LogisticRegression())])\n",
    "layer1_pipe.fit(layer0_features.drop('malware', axis=1), layer0_features.malware)\n",
    "joblib.dump(layer1_pipe, 'class_layer1.pk', compress=9, protocol=2)"
   ]
  }
 ],
 "metadata": {
  "kernelspec": {
   "display_name": "Python 3",
   "language": "python",
   "name": "python3"
  },
  "language_info": {
   "codemirror_mode": {
    "name": "ipython",
    "version": 3
   },
   "file_extension": ".py",
   "mimetype": "text/x-python",
   "name": "python",
   "nbconvert_exporter": "python",
   "pygments_lexer": "ipython3",
   "version": "3.6.5"
  }
 },
 "nbformat": 4,
 "nbformat_minor": 2
}
