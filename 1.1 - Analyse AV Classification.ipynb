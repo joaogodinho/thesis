{
 "cells": [
  {
   "cell_type": "markdown",
   "metadata": {
    "deletable": true,
    "editable": true
   },
   "source": [
    "# Analyse AV Classification\n",
    "\n",
    "Check the statistics on the generated CSV from 1.0"
   ]
  },
  {
   "cell_type": "code",
   "execution_count": 15,
   "metadata": {
    "collapsed": false,
    "deletable": true,
    "editable": true
   },
   "outputs": [
    {
     "name": "stdout",
     "output_type": "stream",
     "text": [
      "Statistics on the vendors presence:\n"
     ]
    },
    {
     "data": {
      "text/plain": [
       "count    96.000000\n",
       "mean      0.402133\n",
       "std       0.323634\n",
       "min       0.000010\n",
       "25%       0.007171\n",
       "50%       0.535635\n",
       "75%       0.718583\n",
       "max       0.732732\n",
       "dtype: float64"
      ]
     },
     "metadata": {},
     "output_type": "display_data"
    },
    {
     "name": "stdout",
     "output_type": "stream",
     "text": [
      "High presence vendors\n"
     ]
    },
    {
     "data": {
      "text/plain": [
       "k7gw                    0.704924\n",
       "f-secure                0.707389\n",
       "malwarebytes            0.708082\n",
       "emsisoft                0.709832\n",
       "eset-nod32              0.712396\n",
       "nano-antivirus          0.712494\n",
       "microworld-escan        0.712555\n",
       "panda                   0.715062\n",
       "trendmicro-housecall    0.715366\n",
       "ahnlab-v3               0.717268\n",
       "vipre                   0.718179\n",
       "jiangmin                0.718215\n",
       "drweb                   0.718259\n",
       "antiy-avl               0.719556\n",
       "sophos                  0.720244\n",
       "trendmicro              0.721227\n",
       "superantispyware        0.724748\n",
       "symantec                0.725144\n",
       "mcafee-gw-edition       0.725641\n",
       "kaspersky               0.726727\n",
       "vba32                   0.727469\n",
       "avg                     0.727772\n",
       "avast                   0.728300\n",
       "comodo                  0.728617\n",
       "nprotect                0.728949\n",
       "microsoft               0.729144\n",
       "mcafee                  0.730261\n",
       "clamav                  0.730660\n",
       "k7antivirus             0.730665\n",
       "f-prot                  0.730681\n",
       "gdata                   0.731559\n",
       "ikarus                  0.731813\n",
       "virobot                 0.731994\n",
       "fortinet                0.732436\n",
       "cat-quickheal           0.732650\n",
       "bitdefender             0.732663\n",
       "thehacker               0.732732\n",
       "dtype: float64"
      ]
     },
     "metadata": {},
     "output_type": "display_data"
    }
   ],
   "source": [
    "import pandas as pd\n",
    "from IPython.display import display\n",
    "\n",
    "av_class = pd.read_csv('data/mined_data/pe32_static_av.csv', dtype=str)\n",
    "av_class = av_class.set_index('link')\n",
    "\n",
    "# Calculate the presence of each AV\n",
    "av_presence = av_class.count() / len(av_class)\n",
    "print('Statistics on the vendors presence:')\n",
    "display(av_presence.describe())\n",
    "\n",
    "# Calculate vendors that classify over 70% of samples\n",
    "high_vendors = av_presence[av_presence > 0.7].sort_values()\n",
    "print('High presence vendors')\n",
    "display(high_vendors)"
   ]
  }
 ],
 "metadata": {
  "kernelspec": {
   "display_name": "Python 3",
   "language": "python",
   "name": "python3"
  },
  "language_info": {
   "codemirror_mode": {
    "name": "ipython",
    "version": 3
   },
   "file_extension": ".py",
   "mimetype": "text/x-python",
   "name": "python",
   "nbconvert_exporter": "python",
   "pygments_lexer": "ipython3",
   "version": "3.6.0"
  }
 },
 "nbformat": 4,
 "nbformat_minor": 2
}
