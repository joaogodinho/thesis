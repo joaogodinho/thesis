{
 "cells": [
  {
   "cell_type": "markdown",
   "metadata": {
    "deletable": true,
    "editable": true
   },
   "source": [
    "# Extract Imports\n",
    "\n",
    "Similar to 1.0, but extracts the imports.\n",
    "\n",
    "This is using Celery, make sure it's running (`celery -A tasks worker --loglevel=info -Ofair`).\n",
    "\n",
    "Result is saved in multiple files, as a checkpoint feature, joining is done afterwords."
   ]
  },
  {
   "cell_type": "code",
   "execution_count": null,
   "metadata": {
    "collapsed": false,
    "deletable": true,
    "editable": true,
    "scrolled": true
   },
   "outputs": [],
   "source": [
    "import numpy as np\n",
    "import pandas as pd\n",
    "import datetime\n",
    "from IPython.display import display\n",
    "from tasks import extract_imports, join_dataframes\n",
    "from celery import group\n",
    "\n",
    "pe32 = pd.read_csv('data/pe32_samples.csv')\n",
    "pe32['date'] = pd.to_datetime(pe32['date'], format='%Y/%m/%d')\n",
    "# Set date as index\n",
    "pe32 = pe32.set_index('date')\n",
    "\n",
    "\n",
    "# Splitting in batches of ~10000 samples\n",
    "n_batches = int(len(pe32) / 10000)\n",
    "idx = 0\n",
    "batches = np.array_split(pe32, n_batches)\n",
    "\n",
    "for batch in batches:\n",
    "    print('[{0}] Starting batch {1}...'.format(datetime.datetime.now(), idx))\n",
    "    # Split into 5000 tasks\n",
    "    n_tasks = 1000\n",
    "    buckets = np.array_split(batch, n_tasks)\n",
    "\n",
    "    print('[{0}] Sending parse tasks...'.format(datetime.datetime.now()))\n",
    "    jobs = group([extract_imports.s(b.link.values.tolist()) for b in buckets if len(b) > 0])\n",
    "    print('[{0}] Done sending, waiting...'.format(datetime.datetime.now()))\n",
    "    result = jobs.apply_async()\n",
    "    result.join()\n",
    "    print('[{0}] All tasks done.'.format(datetime.datetime.now()))\n",
    "    \n",
    "    # Join all frames into one (reduce job) and save to CSV\n",
    "    while len(result.get()) > 1:\n",
    "        n_tasks = max(int(n_tasks / 64), 1)\n",
    "        buckets = np.array_split(result.get(), n_tasks)\n",
    "        print('[{0}] Sending {1} join tasks...'.format(datetime.datetime.now(), len(buckets)))\n",
    "        jobs = group([join_dataframes.s(b.tolist()) for b in buckets if len(b) > 0])\n",
    "        print('[{0}] Done sending, waiting...'.format(datetime.datetime.now()))\n",
    "        result = jobs.apply_async()\n",
    "        result.join()\n",
    "        print('[{0}] Join done.'.format(datetime.datetime.now()))\n",
    "    \n",
    "    print('[{0}] Joining...'.format(datetime.datetime.now()))\n",
    "    batch.join(pd.read_json(result.get()[0]), on='link').to_csv(path_or_buf='data/checkpoints/pe32_static_imports_{0}.csv'.format(idx))\n",
    "    idx += 1\n",
    "    print('[{0}] Done.'.format(datetime.datetime.now()))"
   ]
  },
  {
   "cell_type": "markdown",
   "metadata": {
    "deletable": true,
    "editable": true
   },
   "source": [
    "The following joins all checkpoints."
   ]
  },
  {
   "cell_type": "code",
   "execution_count": null,
   "metadata": {
    "collapsed": false,
    "deletable": true,
    "editable": true
   },
   "outputs": [],
   "source": [
    "import numpy as np\n",
    "import pandas as pd\n",
    "import datetime\n",
    "from IPython.display import display\n",
    "\n",
    "pe32 = pd.read_csv('data/pe32_samples.csv')\n",
    "pe32['date'] = pd.to_datetime(pe32['date'], format='%Y/%m/%d')\n",
    "# Set date as index\n",
    "pe32 = pe32.set_index('date')\n",
    "\n",
    "n_checkpoints = int(len(pe32) / 10000)\n",
    "chkpnt_path = 'data/checkpoints/pe32_static_imports_{0}.csv'\n",
    "\n",
    "result = []\n",
    "for checkpoint in range(n_checkpoints):\n",
    "    df = pd.read_csv(chkpnt_path.format(checkpoint), dtype=str)\n",
    "    df['date'] = pd.to_datetime(df['date'], format='%Y/%m/%d')\n",
    "    df = df.set_index('date')\n",
    "    result.append(df)\n",
    "\n",
    "result = pd.concat(result)\n",
    "# Re order columns, for readability\n",
    "cols = list(result.columns.values)\n",
    "del cols[cols.index('md5')]\n",
    "del cols[cols.index('link')]\n",
    "cols = ['md5', 'link'] + cols\n",
    "result = result[cols]\n",
    "# Save to file\n",
    "result.to_csv(path_or_buf='data/pe32_static_imports.csv')"
   ]
  }
 ],
 "metadata": {
  "kernelspec": {
   "display_name": "Python 3",
   "language": "python",
   "name": "python3"
  },
  "language_info": {
   "codemirror_mode": {
    "name": "ipython",
    "version": 3
   },
   "file_extension": ".py",
   "mimetype": "text/x-python",
   "name": "python",
   "nbconvert_exporter": "python",
   "pygments_lexer": "ipython3",
   "version": "3.6.0"
  }
 },
 "nbformat": 4,
 "nbformat_minor": 2
}
