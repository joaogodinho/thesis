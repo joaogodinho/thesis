{
 "cells": [
  {
   "cell_type": "markdown",
   "metadata": {
    "deletable": true,
    "editable": true
   },
   "source": [
    "# Basic Classifiser for Specific AV\n",
    "\n",
    "Create a basic classifier for specific vendors, meaning it trains and validates the samples based on a single vendor."
   ]
  },
  {
   "cell_type": "code",
   "execution_count": 1,
   "metadata": {
    "collapsed": true,
    "deletable": true,
    "editable": true
   },
   "outputs": [],
   "source": [
    "import pandas as pd\n",
    "import numpy as np\n",
    "import lib.data_loading as jcfg_data_loading\n",
    "import lib.helpers as jcfg_helpers\n",
    "import matplotlib.pyplot as plt\n",
    "from IPython.display import display\n",
    "from sklearn.feature_extraction.text import CountVectorizer\n",
    "from sklearn.linear_model import LogisticRegression\n",
    "from sklearn.model_selection import train_test_split\n",
    "from sklearn.metrics import confusion_matrix\n",
    "\n",
    "\n",
    "test_size = 0.50\n",
    "\n",
    "# Use the original samples to remove all but the last submission of duplicated samples\n",
    "samples = pd.read_csv('data/mined_data/pe32_samples.csv')\n",
    "samples = jcfg_data_loading.set_pd_datetime_index(samples)\n",
    "samples.drop_duplicates(subset='md5', inplace=True, keep='last')"
   ]
  },
  {
   "cell_type": "markdown",
   "metadata": {
    "deletable": true,
    "editable": true
   },
   "source": [
    "## Microsoft Classifier\n",
    "\n",
    "**Ignoring temporal consistency**, train and test a classifier for microsoft only samples"
   ]
  },
  {
   "cell_type": "code",
   "execution_count": 2,
   "metadata": {
    "collapsed": false,
    "deletable": true,
    "editable": true,
    "scrolled": true
   },
   "outputs": [
    {
     "name": "stdout",
     "output_type": "stream",
     "text": [
      "Malware in dataset: 5774\n",
      "Goodware in dataset: 154556\n"
     ]
    }
   ],
   "source": [
    "# Load the needed CSVs\n",
    "static_imports = pd.read_csv('data/mined_data/pe32_static_imports.csv', dtype=str)\n",
    "static_imports = static_imports.set_index('link')\n",
    "\n",
    "microsoft_samples = pd.read_csv('data/mined_data/microsoft_classification.csv', dtype=str)\n",
    "microsoft_samples = microsoft_samples.set_index('link')\n",
    "\n",
    "# Join the microsoft samples with the imports\n",
    "dataset = microsoft_samples.join(static_imports).dropna(subset=['imports'])\n",
    "dataset.drop(['info', 'variant', 'family', 'platform'], axis=1, inplace=True)\n",
    "# Remove dups\n",
    "dataset = dataset[dataset.index.isin(samples.link)]\n",
    "\n",
    "dataset.type.fillna(value=0, inplace=True)\n",
    "\n",
    "\n",
    "# Filter types of malware\n",
    "dataset = dataset[(dataset.type == 'virus') | (dataset.type == 0)]\n",
    "\n",
    "\n",
    "dataset.type = dataset.type.replace(to_replace=None, value=1, regex=r'.+').astype(int)\n",
    "dataset.rename(columns={'type': 'malware'}, inplace=True)\n",
    "\n",
    "print('Malware in dataset: {}'.format(len(dataset[dataset.malware == 1])))\n",
    "print('Goodware in dataset: {}'.format(len(dataset[dataset.malware == 0])))"
   ]
  },
  {
   "cell_type": "code",
   "execution_count": 3,
   "metadata": {
    "collapsed": false,
    "deletable": true,
    "editable": true
   },
   "outputs": [
    {
     "name": "stdout",
     "output_type": "stream",
     "text": [
      "Statistics on malware imports:\n"
     ]
    },
    {
     "data": {
      "text/plain": [
       "count    5774.000000\n",
       "mean       98.721683\n",
       "std       132.584928\n",
       "min         1.000000\n",
       "25%         8.000000\n",
       "50%        60.000000\n",
       "75%       130.000000\n",
       "max      2777.000000\n",
       "Name: imports, dtype: float64"
      ]
     },
     "metadata": {},
     "output_type": "display_data"
    },
    {
     "name": "stdout",
     "output_type": "stream",
     "text": [
      "\n",
      "Statistics on goodware imports:\n"
     ]
    },
    {
     "data": {
      "text/plain": [
       "count    154556.000000\n",
       "mean        124.116689\n",
       "std         176.287262\n",
       "min           1.000000\n",
       "25%          19.000000\n",
       "50%          83.000000\n",
       "75%         154.000000\n",
       "max       13325.000000\n",
       "Name: imports, dtype: float64"
      ]
     },
     "metadata": {},
     "output_type": "display_data"
    }
   ],
   "source": [
    "# How imports vary on malware/goodware\n",
    "microsoft_malware = dataset[dataset.malware == 1]\n",
    "microsoft_goodware = dataset[dataset.malware == 0]\n",
    "\n",
    "mcm_count = microsoft_malware.imports.apply(lambda x: len(x.split(';')))\n",
    "mcg_count = microsoft_goodware.imports.apply(lambda x: len(x.split(';')))\n",
    "\n",
    "print('Statistics on malware imports:')\n",
    "display(mcm_count.describe())\n",
    "print('\\nStatistics on goodware imports:')\n",
    "display(mcg_count.describe())"
   ]
  },
  {
   "cell_type": "code",
   "execution_count": 4,
   "metadata": {
    "collapsed": false,
    "deletable": true,
    "editable": true
   },
   "outputs": [
    {
     "name": "stdout",
     "output_type": "stream",
     "text": [
      "CC:\t0.9683\n",
      "DR:\t0.2970\n",
      "FP:\t0.3614\n",
      "FN:\t0.0260\n",
      "\n",
      "Malware stats:\n"
     ]
    },
    {
     "data": {
      "text/plain": [
       "count    2.916000e+03\n",
       "mean     3.550851e-01\n",
       "std      3.324489e-01\n",
       "min      1.139733e-11\n",
       "25%      5.955879e-02\n",
       "50%      2.358782e-01\n",
       "75%      6.307922e-01\n",
       "max      9.983976e-01\n",
       "dtype: float64"
      ]
     },
     "metadata": {},
     "output_type": "display_data"
    },
    {
     "name": "stdout",
     "output_type": "stream",
     "text": [
      "\n",
      "Goodware stats:\n"
     ]
    },
    {
     "data": {
      "text/plain": [
       "count    77249.000000\n",
       "mean         0.974686\n",
       "std          0.076575\n",
       "min          0.000021\n",
       "25%          0.987145\n",
       "50%          0.997611\n",
       "75%          0.998496\n",
       "max          1.000000\n",
       "dtype: float64"
      ]
     },
     "metadata": {},
     "output_type": "display_data"
    },
    {
     "data": {
      "image/png": "[encoded data removed]",
      "text/plain": [
       "<matplotlib.figure.Figure at 0x7f19b1dc1dd8>"
      ]
     },
     "metadata": {},
     "output_type": "display_data"
    },
    {
     "name": "stdout",
     "output_type": "stream",
     "text": [
      "CPU times: user 52.7 s, sys: 863 ms, total: 53.5 s\n",
      "Wall time: 52.8 s\n"
     ]
    }
   ],
   "source": [
    "%%time\n",
    "# Raw LR, use all imports, dataset balanced as is (more goodware than malware)\n",
    "# Split into train and test (this also shuffles the data)\n",
    "(train, test) = train_test_split(dataset, test_size=test_size)\n",
    "\n",
    "# Generate the count vectorizer\n",
    "cv_token_pattern = u'[^;]+'\n",
    "cv = CountVectorizer(token_pattern=cv_token_pattern)\n",
    "train_X = cv.fit_transform(train.imports)\n",
    "train_Y = train.malware\n",
    "test_X = cv.transform(test.imports)\n",
    "test_Y = test.malware\n",
    "\n",
    "# Logistic Regression training\n",
    "lr = LogisticRegression().fit(train_X, train_Y)\n",
    "\n",
    "score = confusion_matrix(test_Y, lr.predict(test_X))\n",
    "fp_rate, fn_rate, cc_rate, det_rate = jcfg_helpers.calc_ratios(score)\n",
    "print('CC:\\t{:.4f}'.format(cc_rate))\n",
    "print('DR:\\t{:.4f}'.format(det_rate))\n",
    "print('FP:\\t{:.4f}'.format(fp_rate))\n",
    "print('FN:\\t{:.4f}'.format(fn_rate))\n",
    "\n",
    "malware_only = lr.predict_proba(test_X[np.where(test_Y == 1)])\n",
    "goodware_only = lr.predict_proba(test_X[np.where(test_Y == 0)])\n",
    "print('\\nMalware stats:')\n",
    "display(pd.Series(malware_only[:,1]).describe())\n",
    "print('\\nGoodware stats:')\n",
    "display(pd.Series(goodware_only[:,0]).describe())\n",
    "\n",
    "plt.figure(figsize=(10, 4), dpi=100)\n",
    "plt.subplot(211)\n",
    "plt.hist(goodware_only[:,0], bins=20, alpha=0.75)\n",
    "plt.subplot(212)\n",
    "plt.hist(malware_only[:,1], bins=20, alpha=0.75)\n",
    "plt.show()"
   ]
  },
  {
   "cell_type": "code",
   "execution_count": 5,
   "metadata": {
    "collapsed": false,
    "deletable": true,
    "editable": true
   },
   "outputs": [
    {
     "name": "stdout",
     "output_type": "stream",
     "text": [
      "Malware in dataset: 5774\n",
      "Goodware in dataset: 5774\n",
      "CC:\t0.8256\n",
      "DR:\t0.8376\n",
      "FP:\t0.1814\n",
      "FN:\t0.1671\n",
      "\n",
      "Malware stats:\n"
     ]
    },
    {
     "data": {
      "text/plain": [
       "count    2.894000e+03\n",
       "mean     7.783873e-01\n",
       "std      2.773597e-01\n",
       "min      2.078946e-12\n",
       "25%      7.149849e-01\n",
       "50%      8.844439e-01\n",
       "75%      9.782627e-01\n",
       "max      9.999989e-01\n",
       "dtype: float64"
      ]
     },
     "metadata": {},
     "output_type": "display_data"
    },
    {
     "name": "stdout",
     "output_type": "stream",
     "text": [
      "\n",
      "Goodware stats:\n"
     ]
    },
    {
     "data": {
      "text/plain": [
       "count    2880.000000\n",
       "mean        0.768791\n",
       "std         0.295686\n",
       "min         0.000056\n",
       "25%         0.677362\n",
       "50%         0.935412\n",
       "75%         0.962930\n",
       "max         1.000000\n",
       "dtype: float64"
      ]
     },
     "metadata": {},
     "output_type": "display_data"
    },
    {
     "data": {
      "image/png": "[encoded data removed]",
      "text/plain": [
       "<matplotlib.figure.Figure at 0x7f1990919438>"
      ]
     },
     "metadata": {},
     "output_type": "display_data"
    },
    {
     "name": "stdout",
     "output_type": "stream",
     "text": [
      "CPU times: user 2.01 s, sys: 433 ms, total: 2.44 s\n",
      "Wall time: 1.95 s\n"
     ]
    }
   ],
   "source": [
    "%%time\n",
    "# Use all imports, but balance the datasets\n",
    "malware_count = len(dataset[dataset.malware == 1])\n",
    "goodware_count = len(dataset[dataset.malware == 0])\n",
    "\n",
    "limiting = min(malware_count, goodware_count)\n",
    "malware = dataset[dataset.malware == 1].sample(n=limiting)\n",
    "goodware = dataset[dataset.malware == 0].sample(n=limiting)\n",
    "\n",
    "# Recreate the dataset, now balanced\n",
    "dataset2 = pd.concat([malware, goodware])\n",
    "\n",
    "print('Malware in dataset: {}'.format(len(dataset2[dataset2.malware == 1])))\n",
    "print('Goodware in dataset: {}'.format(len(dataset2[dataset2.malware == 0])))\n",
    "\n",
    "# Split into train and test (this also shuffles the data)\n",
    "(train, test) = train_test_split(dataset2, test_size=test_size)\n",
    "\n",
    "# Generate the count vectorizer\n",
    "cv_token_pattern = u'[^;]+'\n",
    "cv = CountVectorizer(token_pattern=cv_token_pattern)\n",
    "train_X = cv.fit_transform(train.imports)\n",
    "train_Y = train.malware\n",
    "test_X = cv.transform(test.imports)\n",
    "test_Y = test.malware\n",
    "\n",
    "# Logistic Regression training\n",
    "lr = LogisticRegression().fit(train_X, train_Y)\n",
    "\n",
    "score = confusion_matrix(test_Y, lr.predict(test_X))\n",
    "fp_rate, fn_rate, cc_rate, det_rate = jcfg_helpers.calc_ratios(score)\n",
    "print('CC:\\t{:.4f}'.format(cc_rate))\n",
    "print('DR:\\t{:.4f}'.format(det_rate))\n",
    "print('FP:\\t{:.4f}'.format(fp_rate))\n",
    "print('FN:\\t{:.4f}'.format(fn_rate))\n",
    "\n",
    "malware_only = lr.predict_proba(test_X[np.where(test_Y == 1)])\n",
    "goodware_only = lr.predict_proba(test_X[np.where(test_Y == 0)])\n",
    "print('\\nMalware stats:')\n",
    "display(pd.Series(malware_only[:,1]).describe())\n",
    "print('\\nGoodware stats:')\n",
    "display(pd.Series(goodware_only[:,0]).describe())\n",
    "\n",
    "plt.figure(figsize=(10, 4), dpi=100)\n",
    "plt.subplot(211)\n",
    "plt.hist(goodware_only[:,0], bins=20, alpha=0.75)\n",
    "plt.subplot(212)\n",
    "plt.hist(malware_only[:,1], bins=20, alpha=0.75)\n",
    "plt.show()"
   ]
  },
  {
   "cell_type": "code",
   "execution_count": 6,
   "metadata": {
    "collapsed": false,
    "deletable": true,
    "editable": true
   },
   "outputs": [
    {
     "name": "stdout",
     "output_type": "stream",
     "text": [
      "Malware in dataset: 5774\n",
      "Goodware in dataset: 2887\n",
      "CC:\t0.8308\n",
      "DR:\t0.8937\n",
      "FP:\t0.1397\n",
      "FN:\t0.2379\n",
      "\n",
      "Malware stats:\n"
     ]
    },
    {
     "data": {
      "text/plain": [
       "count    2.915000e+03\n",
       "mean     8.456506e-01\n",
       "std      2.357148e-01\n",
       "min      3.739576e-10\n",
       "25%      8.437717e-01\n",
       "50%      9.353975e-01\n",
       "75%      9.880996e-01\n",
       "max      1.000000e+00\n",
       "dtype: float64"
      ]
     },
     "metadata": {},
     "output_type": "display_data"
    },
    {
     "name": "stdout",
     "output_type": "stream",
     "text": [
      "\n",
      "Goodware stats:\n"
     ]
    },
    {
     "data": {
      "text/plain": [
       "count    1416.000000\n",
       "mean        0.661410\n",
       "std         0.337951\n",
       "min         0.000006\n",
       "25%         0.372517\n",
       "50%         0.839399\n",
       "75%         0.940063\n",
       "max         0.999999\n",
       "dtype: float64"
      ]
     },
     "metadata": {},
     "output_type": "display_data"
    },
    {
     "data": {
      "image/png": "[encoded data removed]",
      "text/plain": [
       "<matplotlib.figure.Figure at 0x7f1990919f28>"
      ]
     },
     "metadata": {},
     "output_type": "display_data"
    },
    {
     "name": "stdout",
     "output_type": "stream",
     "text": [
      "CPU times: user 1.56 s, sys: 280 ms, total: 1.84 s\n",
      "Wall time: 1.49 s\n"
     ]
    }
   ],
   "source": [
    "%%time\n",
    "# Use all imports, but use more malware for training (more goodware version is default)\n",
    "malware_count = len(dataset[dataset.malware == 1])\n",
    "goodware_count = len(dataset[dataset.malware == 0])\n",
    "\n",
    "limiting = min(malware_count, goodware_count)\n",
    "malware = dataset[dataset.malware == 1].sample(n=limiting)\n",
    "# Use 50% less goodware\n",
    "goodware = dataset[dataset.malware == 0].sample(n=int(limiting * 0.5))\n",
    "\n",
    "# Recreate the dataset, now balanced\n",
    "dataset3 = pd.concat([malware, goodware])\n",
    "\n",
    "print('Malware in dataset: {}'.format(len(dataset3[dataset3.malware == 1])))\n",
    "print('Goodware in dataset: {}'.format(len(dataset3[dataset3.malware == 0])))\n",
    "\n",
    "# Split into train and test (this also shuffles the data)\n",
    "(train, test) = train_test_split(dataset3, test_size=test_size)\n",
    "\n",
    "# Generate the count vectorizer\n",
    "cv_token_pattern = u'[^;]+'\n",
    "cv = CountVectorizer(token_pattern=cv_token_pattern)\n",
    "train_X = cv.fit_transform(train.imports)\n",
    "train_Y = train.malware\n",
    "test_X = cv.transform(test.imports)\n",
    "test_Y = test.malware\n",
    "\n",
    "# Logistic Regression training\n",
    "lr = LogisticRegression().fit(train_X, train_Y)\n",
    "\n",
    "score = confusion_matrix(test_Y, lr.predict(test_X))\n",
    "fp_rate, fn_rate, cc_rate, det_rate = jcfg_helpers.calc_ratios(score)\n",
    "print('CC:\\t{:.4f}'.format(cc_rate))\n",
    "print('DR:\\t{:.4f}'.format(det_rate))\n",
    "print('FP:\\t{:.4f}'.format(fp_rate))\n",
    "print('FN:\\t{:.4f}'.format(fn_rate))\n",
    "\n",
    "malware_only = lr.predict_proba(test_X[np.where(test_Y == 1)])\n",
    "goodware_only = lr.predict_proba(test_X[np.where(test_Y == 0)])\n",
    "print('\\nMalware stats:')\n",
    "display(pd.Series(malware_only[:,1]).describe())\n",
    "print('\\nGoodware stats:')\n",
    "display(pd.Series(goodware_only[:,0]).describe())\n",
    "\n",
    "plt.figure(figsize=(10, 4), dpi=100)\n",
    "plt.subplot(211)\n",
    "plt.hist(goodware_only[:,0], bins=20, alpha=0.75)\n",
    "plt.subplot(212)\n",
    "plt.hist(malware_only[:,1], bins=20, alpha=0.75)\n",
    "plt.show()"
   ]
  },
  {
   "cell_type": "code",
   "execution_count": 7,
   "metadata": {
    "collapsed": false,
    "deletable": true,
    "editable": true
   },
   "outputs": [
    {
     "name": "stdout",
     "output_type": "stream",
     "text": [
      "Malware in dataset: 5196\n",
      "Goodware in dataset: 116125\n",
      "CC:\t0.9645\n",
      "DR:\t0.3268\n",
      "FP:\t0.3349\n",
      "FN:\t0.0291\n",
      "\n",
      "Malware stats:\n"
     ]
    },
    {
     "data": {
      "text/plain": [
       "count    2.570000e+03\n",
       "mean     3.808320e-01\n",
       "std      3.347671e-01\n",
       "min      7.816116e-08\n",
       "25%      8.331130e-02\n",
       "50%      2.722230e-01\n",
       "75%      6.720015e-01\n",
       "max      9.974078e-01\n",
       "dtype: float64"
      ]
     },
     "metadata": {},
     "output_type": "display_data"
    },
    {
     "name": "stdout",
     "output_type": "stream",
     "text": [
      "\n",
      "Goodware stats:\n"
     ]
    },
    {
     "data": {
      "text/plain": [
       "count    58091.000000\n",
       "mean         0.969900\n",
       "std          0.083941\n",
       "min          0.000407\n",
       "25%          0.983536\n",
       "50%          0.995260\n",
       "75%          0.998804\n",
       "max          1.000000\n",
       "dtype: float64"
      ]
     },
     "metadata": {},
     "output_type": "display_data"
    },
    {
     "data": {
      "image/png": "[encoded data removed]",
      "text/plain": [
       "<matplotlib.figure.Figure at 0x7f1990919710>"
      ]
     },
     "metadata": {},
     "output_type": "display_data"
    },
    {
     "name": "stdout",
     "output_type": "stream",
     "text": [
      "CPU times: user 21.4 s, sys: 470 ms, total: 21.9 s\n",
      "Wall time: 21.4 s\n"
     ]
    }
   ],
   "source": [
    "%%time\n",
    "# Use between 2 and 300 imports (+/- mean + std for goodware), without balancing\n",
    "# Filter samples by the number of imports\n",
    "dataset4 = dataset[dataset.imports.map(lambda x: len(x.split(';')) <= 300 and len(x.split(';')) > 1)]\n",
    "\n",
    "print('Malware in dataset: {}'.format(len(dataset4[dataset4.malware == 1])))\n",
    "print('Goodware in dataset: {}'.format(len(dataset4[dataset4.malware == 0])))\n",
    "\n",
    "# Split into train and test (this also shuffles the data)\n",
    "(train, test) = train_test_split(dataset4, test_size=test_size)\n",
    "\n",
    "# Generate the count vectorizer\n",
    "cv_token_pattern = u'[^;]+'\n",
    "cv = CountVectorizer(token_pattern=cv_token_pattern)\n",
    "train_X = cv.fit_transform(train.imports)\n",
    "train_Y = train.malware\n",
    "test_X = cv.transform(test.imports)\n",
    "test_Y = test.malware\n",
    "\n",
    "# Logistic Regression training\n",
    "lr = LogisticRegression().fit(train_X, train_Y)\n",
    "\n",
    "score = confusion_matrix(test_Y, lr.predict(test_X))\n",
    "fp_rate, fn_rate, cc_rate, det_rate = jcfg_helpers.calc_ratios(score)\n",
    "print('CC:\\t{:.4f}'.format(cc_rate))\n",
    "print('DR:\\t{:.4f}'.format(det_rate))\n",
    "print('FP:\\t{:.4f}'.format(fp_rate))\n",
    "print('FN:\\t{:.4f}'.format(fn_rate))\n",
    "\n",
    "malware_only = lr.predict_proba(test_X[np.where(test_Y == 1)])\n",
    "goodware_only = lr.predict_proba(test_X[np.where(test_Y == 0)])\n",
    "print('\\nMalware stats:')\n",
    "display(pd.Series(malware_only[:,1]).describe())\n",
    "print('\\nGoodware stats:')\n",
    "display(pd.Series(goodware_only[:,0]).describe())\n",
    "\n",
    "plt.figure(figsize=(10, 4), dpi=100)\n",
    "plt.subplot(211)\n",
    "plt.hist(goodware_only[:,0], bins=20, alpha=0.75)\n",
    "plt.subplot(212)\n",
    "plt.hist(malware_only[:,1], bins=20, alpha=0.75)\n",
    "plt.show()"
   ]
  },
  {
   "cell_type": "code",
   "execution_count": 8,
   "metadata": {
    "collapsed": false,
    "deletable": true,
    "editable": true
   },
   "outputs": [
    {
     "name": "stdout",
     "output_type": "stream",
     "text": [
      "Malware in dataset: 5196\n",
      "Goodware in dataset: 5196\n",
      "CC:\t0.8216\n",
      "DR:\t0.8431\n",
      "FP:\t0.1907\n",
      "FN:\t0.1649\n",
      "\n",
      "Malware stats:\n"
     ]
    },
    {
     "data": {
      "text/plain": [
       "count    2607.000000\n",
       "mean        0.779025\n",
       "std         0.273227\n",
       "min         0.000101\n",
       "25%         0.703282\n",
       "50%         0.905261\n",
       "75%         0.976633\n",
       "max         1.000000\n",
       "dtype: float64"
      ]
     },
     "metadata": {},
     "output_type": "display_data"
    },
    {
     "name": "stdout",
     "output_type": "stream",
     "text": [
      "\n",
      "Goodware stats:\n"
     ]
    },
    {
     "data": {
      "text/plain": [
       "count    2589.000000\n",
       "mean        0.755858\n",
       "std         0.291395\n",
       "min         0.000008\n",
       "25%         0.617451\n",
       "50%         0.891215\n",
       "75%         0.975909\n",
       "max         0.999997\n",
       "dtype: float64"
      ]
     },
     "metadata": {},
     "output_type": "display_data"
    },
    {
     "data": {
      "image/png": "[encoded data removed]",
      "text/plain": [
       "<matplotlib.figure.Figure at 0x7f19902db198>"
      ]
     },
     "metadata": {},
     "output_type": "display_data"
    },
    {
     "name": "stdout",
     "output_type": "stream",
     "text": [
      "CPU times: user 3.22 s, sys: 297 ms, total: 3.52 s\n",
      "Wall time: 3.19 s\n"
     ]
    }
   ],
   "source": [
    "%%time\n",
    "# Use between 2 and 300 imports, balanced dataset\n",
    "dataset5 = dataset[dataset.imports.map(lambda x: len(x.split(';')) <= 300 and len(x.split(';')) > 1)]\n",
    "malware_count = len(dataset5[dataset5.malware == 1])\n",
    "goodware_count = len(dataset5[dataset5.malware == 0])\n",
    "\n",
    "limiting = min(malware_count, goodware_count)\n",
    "malware = dataset5[dataset5.malware == 1].sample(n=limiting)\n",
    "goodware = dataset5[dataset5.malware == 0].sample(n=limiting)\n",
    "\n",
    "# Recreate the dataset, now balanced\n",
    "dataset5 = pd.concat([malware, goodware])\n",
    "\n",
    "print('Malware in dataset: {}'.format(len(dataset5[dataset5.malware == 1])))\n",
    "print('Goodware in dataset: {}'.format(len(dataset5[dataset5.malware == 0])))\n",
    "\n",
    "# Split into train and test (this also shuffles the data)\n",
    "(train, test) = train_test_split(dataset5, test_size=test_size)\n",
    "\n",
    "# Generate the count vectorizer\n",
    "cv_token_pattern = u'[^;]+'\n",
    "cv = CountVectorizer(token_pattern=cv_token_pattern)\n",
    "train_X = cv.fit_transform(train.imports)\n",
    "train_Y = train.malware\n",
    "test_X = cv.transform(test.imports)\n",
    "test_Y = test.malware\n",
    "\n",
    "# Logistic Regression training\n",
    "lr = LogisticRegression().fit(train_X, train_Y)\n",
    "\n",
    "score = confusion_matrix(test_Y, lr.predict(test_X))\n",
    "fp_rate, fn_rate, cc_rate, det_rate = jcfg_helpers.calc_ratios(score)\n",
    "print('CC:\\t{:.4f}'.format(cc_rate))\n",
    "print('DR:\\t{:.4f}'.format(det_rate))\n",
    "print('FP:\\t{:.4f}'.format(fp_rate))\n",
    "print('FN:\\t{:.4f}'.format(fn_rate))\n",
    "\n",
    "malware_only = lr.predict_proba(test_X[np.where(test_Y == 1)])\n",
    "goodware_only = lr.predict_proba(test_X[np.where(test_Y == 0)])\n",
    "print('\\nMalware stats:')\n",
    "display(pd.Series(malware_only[:,1]).describe())\n",
    "print('\\nGoodware stats:')\n",
    "display(pd.Series(goodware_only[:,0]).describe())\n",
    "\n",
    "plt.figure(figsize=(10, 4), dpi=100)\n",
    "plt.subplot(211)\n",
    "plt.hist(goodware_only[:,0], bins=20, alpha=0.75)\n",
    "plt.subplot(212)\n",
    "plt.hist(malware_only[:,1], bins=20, alpha=0.75)\n",
    "plt.show()"
   ]
  },
  {
   "cell_type": "code",
   "execution_count": 9,
   "metadata": {
    "collapsed": false,
    "deletable": true,
    "editable": true
   },
   "outputs": [
    {
     "name": "stdout",
     "output_type": "stream",
     "text": [
      "Malware in dataset: 5196\n",
      "Goodware in dataset: 2598\n",
      "CC:\t0.8250\n",
      "DR:\t0.8970\n",
      "FP:\t0.1522\n",
      "FN:\t0.2285\n",
      "\n",
      "Malware stats:\n"
     ]
    },
    {
     "data": {
      "text/plain": [
       "count    2583.000000\n",
       "mean        0.849248\n",
       "std         0.233324\n",
       "min         0.000012\n",
       "25%         0.847989\n",
       "50%         0.940800\n",
       "75%         0.986302\n",
       "max         1.000000\n",
       "dtype: float64"
      ]
     },
     "metadata": {},
     "output_type": "display_data"
    },
    {
     "name": "stdout",
     "output_type": "stream",
     "text": [
      "\n",
      "Goodware stats:\n"
     ]
    },
    {
     "data": {
      "text/plain": [
       "count    1314.000000\n",
       "mean        0.650396\n",
       "std         0.338298\n",
       "min         0.000186\n",
       "25%         0.355462\n",
       "50%         0.765926\n",
       "75%         0.945210\n",
       "max         0.999969\n",
       "dtype: float64"
      ]
     },
     "metadata": {},
     "output_type": "display_data"
    },
    {
     "data": {
      "image/png": "[encoded data removed]",
      "text/plain": [
       "<matplotlib.figure.Figure at 0x7f19903f6898>"
      ]
     },
     "metadata": {},
     "output_type": "display_data"
    },
    {
     "name": "stdout",
     "output_type": "stream",
     "text": [
      "CPU times: user 3.58 s, sys: 430 ms, total: 4.01 s\n",
      "Wall time: 3.53 s\n"
     ]
    }
   ],
   "source": [
    "%%time\n",
    "# Use up to 300 imports, but with more malware than goodware\n",
    "dataset6 = dataset[dataset.imports.map(lambda x: len(x.split(';')) <= 300 and len(x.split(';')) > 1)]\n",
    "malware_count = len(dataset6[dataset6.malware == 1])\n",
    "goodware_count = len(dataset6[dataset6.malware == 0])\n",
    "\n",
    "limiting = min(malware_count, goodware_count)\n",
    "malware = dataset6[dataset6.malware == 1].sample(n=limiting)\n",
    "# Use 50% less goodware\n",
    "goodware = dataset6[dataset6.malware == 0].sample(n=int(limiting * 0.5))\n",
    "\n",
    "# Recreate the dataset, now balanced\n",
    "dataset6 = pd.concat([malware, goodware])\n",
    "\n",
    "print('Malware in dataset: {}'.format(len(dataset6[dataset6.malware == 1])))\n",
    "print('Goodware in dataset: {}'.format(len(dataset6[dataset6.malware == 0])))\n",
    "\n",
    "# Split into train and test (this also shuffles the data)\n",
    "(train, test) = train_test_split(dataset6, test_size=test_size)\n",
    "\n",
    "# Generate the count vectorizer\n",
    "cv_token_pattern = u'[^;]+'\n",
    "cv = CountVectorizer(token_pattern=cv_token_pattern)\n",
    "train_X = cv.fit_transform(train.imports)\n",
    "train_Y = train.malware\n",
    "test_X = cv.transform(test.imports)\n",
    "test_Y = test.malware\n",
    "\n",
    "# Logistic Regression training\n",
    "lr = LogisticRegression().fit(train_X, train_Y)\n",
    "\n",
    "score = confusion_matrix(test_Y, lr.predict(test_X))\n",
    "fp_rate, fn_rate, cc_rate, det_rate = jcfg_helpers.calc_ratios(score)\n",
    "print('CC:\\t{:.4f}'.format(cc_rate))\n",
    "print('DR:\\t{:.4f}'.format(det_rate))\n",
    "print('FP:\\t{:.4f}'.format(fp_rate))\n",
    "print('FN:\\t{:.4f}'.format(fn_rate))\n",
    "\n",
    "malware_only = lr.predict_proba(test_X[np.where(test_Y == 1)])\n",
    "goodware_only = lr.predict_proba(test_X[np.where(test_Y == 0)])\n",
    "print('\\nMalware stats:')\n",
    "display(pd.Series(malware_only[:,1]).describe())\n",
    "print('\\nGoodware stats:')\n",
    "display(pd.Series(goodware_only[:,0]).describe())\n",
    "\n",
    "plt.figure(figsize=(10, 4), dpi=100)\n",
    "plt.subplot(211)\n",
    "plt.hist(goodware_only[:,0], bins=20, alpha=0.75)\n",
    "plt.subplot(212)\n",
    "plt.hist(malware_only[:,1], bins=20, alpha=0.75)\n",
    "plt.show()"
   ]
  }
 ],
 "metadata": {
  "kernelspec": {
   "display_name": "Python 3",
   "language": "python",
   "name": "python3"
  },
  "language_info": {
   "codemirror_mode": {
    "name": "ipython",
    "version": 3
   },
   "file_extension": ".py",
   "mimetype": "text/x-python",
   "name": "python",
   "nbconvert_exporter": "python",
   "pygments_lexer": "ipython3",
   "version": "3.6.0"
  }
 },
 "nbformat": 4,
 "nbformat_minor": 2
}
