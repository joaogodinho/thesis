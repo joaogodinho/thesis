{
 "cells": [
  {
   "cell_type": "markdown",
   "metadata": {},
   "source": [
    "Comparing the speed of loading GZ into memory and extract vs. loading HTML"
   ]
  },
  {
   "cell_type": "code",
   "execution_count": 25,
   "metadata": {
    "collapsed": false
   },
   "outputs": [],
   "source": [
    "from os import listdir\n",
    "from os.path import isfile, join\n",
    "\n",
    "gz_path = \"data/analyses_gz\"\n",
    "html_path = \"data/analyses_html\"\n",
    "\n",
    "samples = listdir(html_path)[1000:2000]"
   ]
  },
  {
   "cell_type": "code",
   "execution_count": 26,
   "metadata": {
    "collapsed": false
   },
   "outputs": [],
   "source": [
    "import timeit\n",
    "import gzip\n",
    "\n",
    "def load_html(files):\n",
    "    content = []\n",
    "    for f in files:\n",
    "        with open(html_path + '/' + f, 'r') as html:\n",
    "            content.append(html.read())\n",
    "    return content\n",
    "\n",
    "def load_gz(files):\n",
    "    content = []\n",
    "    for f in files:\n",
    "        with gzip.open(gz_path + '/' + f, 'rb') as gz:\n",
    "            content.append(gz.read())\n",
    "    return content\n",
    "\n",
    "def timeit_func():\n",
    "    return load_html(samples)\n",
    "\n",
    "def timeit_func2():\n",
    "    return load_gz(samples)"
   ]
  },
  {
   "cell_type": "code",
   "execution_count": 27,
   "metadata": {
    "collapsed": false
   },
   "outputs": [
    {
     "name": "stdout",
     "output_type": "stream",
     "text": [
      "37.07515105799985\n",
      "21.72949497100035\n"
     ]
    }
   ],
   "source": [
    "print(timeit.timeit(timeit_func, number=1))\n",
    "print(timeit.timeit(timeit_func2, number=1))"
   ]
  },
  {
   "cell_type": "markdown",
   "metadata": {
    "collapsed": true
   },
   "source": [
    "Extracting in memory is faster when the files are not cached"
   ]
  },
  {
   "cell_type": "code",
   "execution_count": null,
   "metadata": {
    "collapsed": true
   },
   "outputs": [],
   "source": []
  }
 ],
 "metadata": {
  "kernelspec": {
   "display_name": "Python 3",
   "language": "python",
   "name": "python3"
  },
  "language_info": {
   "codemirror_mode": {
    "name": "ipython",
    "version": 3
   },
   "file_extension": ".py",
   "mimetype": "text/x-python",
   "name": "python",
   "nbconvert_exporter": "python",
   "pygments_lexer": "ipython3",
   "version": "3.5.2"
  }
 },
 "nbformat": 4,
 "nbformat_minor": 1
}
