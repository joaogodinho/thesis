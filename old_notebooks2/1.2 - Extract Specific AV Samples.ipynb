{
 "cells": [
  {
   "cell_type": "markdown",
   "metadata": {
    "deletable": true,
    "editable": true
   },
   "source": [
    "# Extract Specific AV Samples\n",
    "\n",
    "Extract samples from specific vendors, meaning samples they classify as either goodware or malware."
   ]
  },
  {
   "cell_type": "code",
   "execution_count": 1,
   "metadata": {
    "collapsed": true,
    "deletable": true,
    "editable": true
   },
   "outputs": [],
   "source": [
    "import pandas as pd\n",
    "from IPython.display import display\n",
    "\n",
    "av_class = pd.read_csv('data/mined_data/pe32_static_av.csv', dtype=str)\n",
    "av_class = av_class.set_index('link')"
   ]
  },
  {
   "cell_type": "markdown",
   "metadata": {
    "deletable": true,
    "editable": true
   },
   "source": [
    "## Microsoft Samples"
   ]
  },
  {
   "cell_type": "code",
   "execution_count": 2,
   "metadata": {
    "collapsed": false,
    "deletable": true,
    "editable": true,
    "scrolled": false
   },
   "outputs": [
    {
     "name": "stdout",
     "output_type": "stream",
     "text": [
      "Microsoft total samples: 283282\n",
      "Malware count: 90808 (32.06%)\n",
      "Goodware count: 192474 (67.94%)\n",
      "\n",
      "Types:\n"
     ]
    },
    {
     "data": {
      "text/plain": [
       "trojan              0.209288\n",
       "backdoor            0.176383\n",
       "worm                0.128612\n",
       "trojandownloader    0.106191\n",
       "virus               0.068926\n",
       "virtool             0.063827\n",
       "pws                 0.061702\n",
       "adware              0.040910\n",
       "trojanspy           0.032607\n",
       "ransom              0.029601\n",
       "trojandropper       0.027553\n",
       "hacktool            0.020978\n",
       "rogue               0.007841\n",
       "ddos                0.004548\n",
       "softwarebundler     0.004350\n",
       "trojanproxy         0.004229\n",
       "browsermodifier     0.002654\n",
       "monitoringtool      0.002269\n",
       "dialer              0.001498\n",
       "exploit             0.001498\n",
       "spammer             0.001399\n",
       "trojanclicker       0.001178\n",
       "program             0.000606\n",
       "constructor         0.000562\n",
       "joke                0.000209\n",
       "tool                0.000187\n",
       "settingsmodifier    0.000099\n",
       "spyware             0.000088\n",
       "dos                 0.000066\n",
       "remoteaccess        0.000033\n",
       "misleading          0.000022\n",
       "Name: type, dtype: float64"
      ]
     },
     "metadata": {},
     "output_type": "display_data"
    },
    {
     "name": "stdout",
     "output_type": "stream",
     "text": [
      "\n",
      "Platforms:\n"
     ]
    },
    {
     "data": {
      "text/plain": [
       "win32         0.918388\n",
       "msil          0.070071\n",
       "winnt         0.005803\n",
       "autoit        0.002368\n",
       "bat           0.000870\n",
       "vbs           0.000529\n",
       "win95         0.000341\n",
       "win64         0.000264\n",
       "js            0.000253\n",
       "inf           0.000176\n",
       "html          0.000154\n",
       "irc           0.000121\n",
       "dos           0.000121\n",
       "o97m          0.000110\n",
       "androidos     0.000077\n",
       "python        0.000077\n",
       "java          0.000066\n",
       "powershell    0.000033\n",
       "w97m          0.000033\n",
       "php           0.000022\n",
       "wm            0.000011\n",
       "winreg        0.000011\n",
       "win16         0.000011\n",
       "Name: platform, dtype: float64"
      ]
     },
     "metadata": {},
     "output_type": "display_data"
    }
   ],
   "source": [
    "microsoft_re = r'(?P<type>\\w+):(?P<platform>\\w+)/(?P<family>\\w+)(\\.(?P<variant>\\S+))?(!(?P<info>\\S+))?'\n",
    "microsoft_samples = av_class.filter(items=['microsoft']).dropna()\n",
    "microsoft_clean = microsoft_samples[microsoft_samples.microsoft == 'clean']\n",
    "microsoft_malware = microsoft_samples[microsoft_samples.microsoft != 'clean']\n",
    "\n",
    "print('Microsoft total samples: {}'.format(len(microsoft_samples)))\n",
    "print('Malware count: {} ({:.2f}%)'.format(len(microsoft_malware), len(microsoft_malware) / len(microsoft_samples) * 100))\n",
    "print('Goodware count: {} ({:.2f}%)'.format(len(microsoft_clean), len(microsoft_clean) / len(microsoft_samples) * 100))\n",
    "\n",
    "# Create a dataframe with the correct naming\n",
    "microsoft_naming = microsoft_malware.microsoft.str.extract(microsoft_re, expand=True)\n",
    "microsoft_naming.drop([3, 5], axis=1, inplace=True)\n",
    "\n",
    "print('\\nTypes:')\n",
    "display(microsoft_naming['type'].value_counts() / len(microsoft_malware))\n",
    "print('\\nPlatforms:')\n",
    "display(microsoft_naming['platform'].value_counts() / len(microsoft_malware))\n",
    "\n",
    "\n",
    "# Save the naming with the clean samples\n",
    "pd.concat([microsoft_clean, microsoft_naming]).drop(['microsoft'], axis=1).to_csv(path_or_buf='data/mined_data/microsoft_classification.csv')"
   ]
  }
 ],
 "metadata": {
  "kernelspec": {
   "display_name": "Python 3",
   "language": "python",
   "name": "python3"
  },
  "language_info": {
   "codemirror_mode": {
    "name": "ipython",
    "version": 3
   },
   "file_extension": ".py",
   "mimetype": "text/x-python",
   "name": "python",
   "nbconvert_exporter": "python",
   "pygments_lexer": "ipython3",
   "version": "3.6.1"
  }
 },
 "nbformat": 4,
 "nbformat_minor": 2
}
