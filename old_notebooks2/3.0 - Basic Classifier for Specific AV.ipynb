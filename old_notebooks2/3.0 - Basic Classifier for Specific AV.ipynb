{
 "cells": [
  {
   "cell_type": "markdown",
   "metadata": {
    "deletable": true,
    "editable": true
   },
   "source": [
    "# Basic Classifiser for Specific AV\n",
    "\n",
    "Create a basic classifier for specific vendors, meaning it trains and validates the samples based on a single vendor."
   ]
  },
  {
   "cell_type": "code",
   "execution_count": 1,
   "metadata": {
    "collapsed": true,
    "deletable": true,
    "editable": true
   },
   "outputs": [],
   "source": [
    "import pandas as pd\n",
    "import numpy as np\n",
    "import lib.data_loading as jcfg_data_loading\n",
    "import lib.helpers as jcfg_helpers\n",
    "import matplotlib.pyplot as plt\n",
    "from IPython.display import display\n",
    "from sklearn.feature_extraction.text import CountVectorizer\n",
    "from sklearn.linear_model import LogisticRegression\n",
    "from sklearn.model_selection import train_test_split\n",
    "from sklearn.metrics import confusion_matrix\n",
    "\n",
    "\n",
    "test_size = 0.25\n",
    "\n",
    "# Use the original samples to remove all but the last submission of duplicated samples\n",
    "samples = pd.read_csv('data/mined_data/pe32_samples.csv')\n",
    "samples = jcfg_data_loading.set_pd_datetime_index(samples)\n",
    "samples.drop_duplicates(subset='md5', inplace=True, keep='last')"
   ]
  },
  {
   "cell_type": "markdown",
   "metadata": {
    "deletable": true,
    "editable": true
   },
   "source": [
    "## Microsoft Classifier\n",
    "\n",
    "**Ignoring temporal consistency**, train and test a classifier for microsoft only samples"
   ]
  },
  {
   "cell_type": "code",
   "execution_count": 2,
   "metadata": {
    "collapsed": false,
    "deletable": true,
    "editable": true,
    "scrolled": true
   },
   "outputs": [
    {
     "name": "stdout",
     "output_type": "stream",
     "text": [
      "Malware in dataset: 76495\n",
      "Goodware in dataset: 154556\n"
     ]
    }
   ],
   "source": [
    "# Load the needed CSVs\n",
    "static_imports = pd.read_csv('data/mined_data/pe32_static_imports.csv', dtype=str)\n",
    "static_imports = static_imports.set_index('link')\n",
    "\n",
    "microsoft_samples = pd.read_csv('data/mined_data/microsoft_classification.csv', dtype=str)\n",
    "microsoft_samples = microsoft_samples.set_index('link')\n",
    "\n",
    "# Join the microsoft samples with the imports\n",
    "dataset = microsoft_samples.join(static_imports).dropna(subset=['imports'])\n",
    "dataset.drop(['info', 'variant', 'family', 'platform'], axis=1, inplace=True)\n",
    "# Remove dups\n",
    "dataset = dataset[dataset.index.isin(samples.link)]\n",
    "\n",
    "dataset.type.fillna(value=0, inplace=True)\n",
    "\n",
    "# Filter types of malware\n",
    "# dataset = dataset[(dataset.type == 'backdoor') | (dataset.type == 0)]\n",
    "\n",
    "dataset.type = dataset.type.replace(to_replace=None, value=1, regex=r'.+').astype(int)\n",
    "dataset.rename(columns={'type': 'malware'}, inplace=True)\n",
    "\n",
    "print('Malware in dataset: {}'.format(len(dataset[dataset.malware == 1])))\n",
    "print('Goodware in dataset: {}'.format(len(dataset[dataset.malware == 0])))"
   ]
  },
  {
   "cell_type": "code",
   "execution_count": 3,
   "metadata": {
    "collapsed": false,
    "deletable": true,
    "editable": true
   },
   "outputs": [
    {
     "name": "stdout",
     "output_type": "stream",
     "text": [
      "Statistics on malware imports:\n"
     ]
    },
    {
     "data": {
      "text/plain": [
       "count    76495.000000\n",
       "mean        85.337918\n",
       "std        120.880587\n",
       "min          1.000000\n",
       "25%          8.000000\n",
       "50%         44.000000\n",
       "75%        112.000000\n",
       "max       3036.000000\n",
       "Name: imports, dtype: float64"
      ]
     },
     "metadata": {},
     "output_type": "display_data"
    },
    {
     "name": "stdout",
     "output_type": "stream",
     "text": [
      "\n",
      "Statistics on goodware imports:\n"
     ]
    },
    {
     "data": {
      "text/plain": [
       "count    154556.000000\n",
       "mean        124.116689\n",
       "std         176.287262\n",
       "min           1.000000\n",
       "25%          19.000000\n",
       "50%          83.000000\n",
       "75%         154.000000\n",
       "max       13325.000000\n",
       "Name: imports, dtype: float64"
      ]
     },
     "metadata": {},
     "output_type": "display_data"
    }
   ],
   "source": [
    "# How imports vary on malware/goodware\n",
    "microsoft_malware = dataset[dataset.malware == 1]\n",
    "microsoft_goodware = dataset[dataset.malware == 0]\n",
    "\n",
    "mcm_count = microsoft_malware.imports.apply(lambda x: len(x.split(';')))\n",
    "mcg_count = microsoft_goodware.imports.apply(lambda x: len(x.split(';')))\n",
    "\n",
    "print('Statistics on malware imports:')\n",
    "display(mcm_count.describe())\n",
    "print('\\nStatistics on goodware imports:')\n",
    "display(mcg_count.describe())"
   ]
  },
  {
   "cell_type": "code",
   "execution_count": 4,
   "metadata": {
    "collapsed": false,
    "deletable": true,
    "editable": true
   },
   "outputs": [
    {
     "name": "stdout",
     "output_type": "stream",
     "text": [
      "CC:\t0.7824\n",
      "DR:\t0.5716\n",
      "FP:\t0.2841\n",
      "FN:\t0.1936\n",
      "\n",
      "Malware stats:\n"
     ]
    },
    {
     "data": {
      "text/plain": [
       "count    1.918400e+04\n",
       "mean     5.529724e-01\n",
       "std      2.782297e-01\n",
       "min      1.618519e-08\n",
       "25%      3.065721e-01\n",
       "50%      5.807358e-01\n",
       "75%      7.773153e-01\n",
       "max      1.000000e+00\n",
       "dtype: float64"
      ]
     },
     "metadata": {},
     "output_type": "display_data"
    },
    {
     "name": "stdout",
     "output_type": "stream",
     "text": [
      "\n",
      "Goodware stats:\n"
     ]
    },
    {
     "data": {
      "text/plain": [
       "count    38579.000000\n",
       "mean         0.778747\n",
       "std          0.205259\n",
       "min          0.000015\n",
       "25%          0.693428\n",
       "50%          0.788753\n",
       "75%          0.962985\n",
       "max          1.000000\n",
       "dtype: float64"
      ]
     },
     "metadata": {},
     "output_type": "display_data"
    },
    {
     "data": {
      "image/png": "[encoded data removed]",
      "text/plain": [
       "<matplotlib.figure.Figure at 0x7f82c6d0f710>"
      ]
     },
     "metadata": {},
     "output_type": "display_data"
    },
    {
     "name": "stdout",
     "output_type": "stream",
     "text": [
      "CPU times: user 3min 17s, sys: 920 ms, total: 3min 18s\n",
      "Wall time: 3min 17s\n"
     ]
    }
   ],
   "source": [
    "%%time\n",
    "# Raw LR, use all imports, dataset balanced as is (more goodware than malware)\n",
    "# Split into train and test (this also shuffles the data)\n",
    "(train, test) = train_test_split(dataset, test_size=test_size)\n",
    "\n",
    "# Generate the count vectorizer\n",
    "cv_token_pattern = u'[^;]+'\n",
    "cv = CountVectorizer(token_pattern=cv_token_pattern)\n",
    "train_X = cv.fit_transform(train.imports)\n",
    "train_Y = train.malware\n",
    "test_X = cv.transform(test.imports)\n",
    "test_Y = test.malware\n",
    "\n",
    "# Logistic Regression training\n",
    "lr = LogisticRegression().fit(train_X, train_Y)\n",
    "\n",
    "score = confusion_matrix(test_Y, lr.predict(test_X))\n",
    "fp_rate, fn_rate, cc_rate, det_rate = jcfg_helpers.calc_ratios(score)\n",
    "print('CC:\\t{:.4f}'.format(cc_rate))\n",
    "print('DR:\\t{:.4f}'.format(det_rate))\n",
    "print('FP:\\t{:.4f}'.format(fp_rate))\n",
    "print('FN:\\t{:.4f}'.format(fn_rate))\n",
    "\n",
    "malware_only = lr.predict_proba(test_X[np.where(test_Y == 1)])\n",
    "goodware_only = lr.predict_proba(test_X[np.where(test_Y == 0)])\n",
    "print('\\nMalware stats:')\n",
    "display(pd.Series(malware_only[:,1]).describe())\n",
    "print('\\nGoodware stats:')\n",
    "display(pd.Series(goodware_only[:,0]).describe())\n",
    "\n",
    "plt.figure(figsize=(10, 4), dpi=100)\n",
    "plt.subplot(211)\n",
    "plt.hist(goodware_only[:,0], bins=20, alpha=0.75)\n",
    "plt.subplot(212)\n",
    "plt.hist(malware_only[:,1], bins=20, alpha=0.75)\n",
    "plt.show()"
   ]
  },
  {
   "cell_type": "code",
   "execution_count": 5,
   "metadata": {
    "collapsed": false,
    "deletable": true,
    "editable": true
   },
   "outputs": [
    {
     "name": "stdout",
     "output_type": "stream",
     "text": [
      "Malware in dataset: 76495\n",
      "Goodware in dataset: 76495\n",
      "CC:\t0.7400\n",
      "DR:\t0.6918\n",
      "FP:\t0.2373\n",
      "FN:\t0.2786\n",
      "\n",
      "Malware stats:\n"
     ]
    },
    {
     "data": {
      "text/plain": [
       "count    1.899700e+04\n",
       "mean     6.780426e-01\n",
       "std      2.470366e-01\n",
       "min      1.701677e-11\n",
       "25%      4.725611e-01\n",
       "50%      7.497619e-01\n",
       "75%      8.856013e-01\n",
       "max      1.000000e+00\n",
       "dtype: float64"
      ]
     },
     "metadata": {},
     "output_type": "display_data"
    },
    {
     "name": "stdout",
     "output_type": "stream",
     "text": [
      "\n",
      "Goodware stats:\n"
     ]
    },
    {
     "data": {
      "text/plain": [
       "count    1.925100e+04\n",
       "mean     6.723212e-01\n",
       "std      2.594752e-01\n",
       "min      1.712317e-08\n",
       "25%      5.274389e-01\n",
       "50%      6.427257e-01\n",
       "75%      9.298762e-01\n",
       "max      1.000000e+00\n",
       "dtype: float64"
      ]
     },
     "metadata": {},
     "output_type": "display_data"
    },
    {
     "data": {
      "image/png": "[encoded data removed]",
      "text/plain": [
       "<matplotlib.figure.Figure at 0x7f82b2853e10>"
      ]
     },
     "metadata": {},
     "output_type": "display_data"
    },
    {
     "name": "stdout",
     "output_type": "stream",
     "text": [
      "CPU times: user 1min 59s, sys: 413 ms, total: 2min\n",
      "Wall time: 1min 59s\n"
     ]
    }
   ],
   "source": [
    "%%time\n",
    "# Use all imports, but balance the datasets\n",
    "malware_count = len(dataset[dataset.malware == 1])\n",
    "goodware_count = len(dataset[dataset.malware == 0])\n",
    "\n",
    "limiting = min(malware_count, goodware_count)\n",
    "malware = dataset[dataset.malware == 1].sample(n=limiting)\n",
    "goodware = dataset[dataset.malware == 0].sample(n=limiting)\n",
    "\n",
    "# Recreate the dataset, now balanced\n",
    "dataset2 = pd.concat([malware, goodware])\n",
    "\n",
    "print('Malware in dataset: {}'.format(len(dataset2[dataset2.malware == 1])))\n",
    "print('Goodware in dataset: {}'.format(len(dataset2[dataset2.malware == 0])))\n",
    "\n",
    "# Split into train and test (this also shuffles the data)\n",
    "(train, test) = train_test_split(dataset2, test_size=test_size)\n",
    "\n",
    "# Generate the count vectorizer\n",
    "cv_token_pattern = u'[^;]+'\n",
    "cv = CountVectorizer(token_pattern=cv_token_pattern)\n",
    "train_X = cv.fit_transform(train.imports)\n",
    "train_Y = train.malware\n",
    "test_X = cv.transform(test.imports)\n",
    "test_Y = test.malware\n",
    "\n",
    "# Logistic Regression training\n",
    "lr = LogisticRegression().fit(train_X, train_Y)\n",
    "\n",
    "score = confusion_matrix(test_Y, lr.predict(test_X))\n",
    "fp_rate, fn_rate, cc_rate, det_rate = jcfg_helpers.calc_ratios(score)\n",
    "print('CC:\\t{:.4f}'.format(cc_rate))\n",
    "print('DR:\\t{:.4f}'.format(det_rate))\n",
    "print('FP:\\t{:.4f}'.format(fp_rate))\n",
    "print('FN:\\t{:.4f}'.format(fn_rate))\n",
    "\n",
    "malware_only = lr.predict_proba(test_X[np.where(test_Y == 1)])\n",
    "goodware_only = lr.predict_proba(test_X[np.where(test_Y == 0)])\n",
    "print('\\nMalware stats:')\n",
    "display(pd.Series(malware_only[:,1]).describe())\n",
    "print('\\nGoodware stats:')\n",
    "display(pd.Series(goodware_only[:,0]).describe())\n",
    "\n",
    "plt.figure(figsize=(10, 4), dpi=100)\n",
    "plt.subplot(211)\n",
    "plt.hist(goodware_only[:,0], bins=20, alpha=0.75)\n",
    "plt.subplot(212)\n",
    "plt.hist(malware_only[:,1], bins=20, alpha=0.75)\n",
    "plt.show()"
   ]
  },
  {
   "cell_type": "code",
   "execution_count": 6,
   "metadata": {
    "collapsed": false,
    "deletable": true,
    "editable": true
   },
   "outputs": [
    {
     "name": "stdout",
     "output_type": "stream",
     "text": [
      "Malware in dataset: 76495\n",
      "Goodware in dataset: 38247\n",
      "CC:\t0.7704\n",
      "DR:\t0.9201\n",
      "FP:\t0.2243\n",
      "FN:\t0.2493\n",
      "\n",
      "Malware stats:\n"
     ]
    },
    {
     "data": {
      "text/plain": [
       "count    19039.000000\n",
       "mean         0.779839\n",
       "std          0.204052\n",
       "min          0.000004\n",
       "25%          0.646825\n",
       "50%          0.857294\n",
       "75%          0.937932\n",
       "max          1.000000\n",
       "dtype: float64"
      ]
     },
     "metadata": {},
     "output_type": "display_data"
    },
    {
     "name": "stdout",
     "output_type": "stream",
     "text": [
      "\n",
      "Goodware stats:\n"
     ]
    },
    {
     "data": {
      "text/plain": [
       "count    9.647000e+03\n",
       "mean     5.557763e-01\n",
       "std      2.992010e-01\n",
       "min      1.002123e-07\n",
       "25%      3.531746e-01\n",
       "50%      4.604271e-01\n",
       "75%      8.838963e-01\n",
       "max      1.000000e+00\n",
       "dtype: float64"
      ]
     },
     "metadata": {},
     "output_type": "display_data"
    },
    {
     "data": {
      "image/png": "[encoded data removed]",
      "text/plain": [
       "<matplotlib.figure.Figure at 0x7f82dacb6e48>"
      ]
     },
     "metadata": {},
     "output_type": "display_data"
    },
    {
     "name": "stdout",
     "output_type": "stream",
     "text": [
      "CPU times: user 1min 11s, sys: 330 ms, total: 1min 11s\n",
      "Wall time: 1min 11s\n"
     ]
    }
   ],
   "source": [
    "%%time\n",
    "# Use all imports, but use more malware for training (more goodware version is default)\n",
    "malware_count = len(dataset[dataset.malware == 1])\n",
    "goodware_count = len(dataset[dataset.malware == 0])\n",
    "\n",
    "limiting = min(malware_count, goodware_count)\n",
    "malware = dataset[dataset.malware == 1].sample(n=limiting)\n",
    "# Use 50% less goodware\n",
    "goodware = dataset[dataset.malware == 0].sample(n=int(limiting * 0.5))\n",
    "\n",
    "# Recreate the dataset, now balanced\n",
    "dataset3 = pd.concat([malware, goodware])\n",
    "\n",
    "print('Malware in dataset: {}'.format(len(dataset3[dataset3.malware == 1])))\n",
    "print('Goodware in dataset: {}'.format(len(dataset3[dataset3.malware == 0])))\n",
    "\n",
    "# Split into train and test (this also shuffles the data)\n",
    "(train, test) = train_test_split(dataset3, test_size=test_size)\n",
    "\n",
    "# Generate the count vectorizer\n",
    "cv_token_pattern = u'[^;]+'\n",
    "cv = CountVectorizer(token_pattern=cv_token_pattern)\n",
    "train_X = cv.fit_transform(train.imports)\n",
    "train_Y = train.malware\n",
    "test_X = cv.transform(test.imports)\n",
    "test_Y = test.malware\n",
    "\n",
    "# Logistic Regression training\n",
    "lr = LogisticRegression().fit(train_X, train_Y)\n",
    "\n",
    "score = confusion_matrix(test_Y, lr.predict(test_X))\n",
    "fp_rate, fn_rate, cc_rate, det_rate = jcfg_helpers.calc_ratios(score)\n",
    "print('CC:\\t{:.4f}'.format(cc_rate))\n",
    "print('DR:\\t{:.4f}'.format(det_rate))\n",
    "print('FP:\\t{:.4f}'.format(fp_rate))\n",
    "print('FN:\\t{:.4f}'.format(fn_rate))\n",
    "\n",
    "malware_only = lr.predict_proba(test_X[np.where(test_Y == 1)])\n",
    "goodware_only = lr.predict_proba(test_X[np.where(test_Y == 0)])\n",
    "print('\\nMalware stats:')\n",
    "display(pd.Series(malware_only[:,1]).describe())\n",
    "print('\\nGoodware stats:')\n",
    "display(pd.Series(goodware_only[:,0]).describe())\n",
    "\n",
    "plt.figure(figsize=(10, 4), dpi=100)\n",
    "plt.subplot(211)\n",
    "plt.hist(goodware_only[:,0], bins=20, alpha=0.75)\n",
    "plt.subplot(212)\n",
    "plt.hist(malware_only[:,1], bins=20, alpha=0.75)\n",
    "plt.show()"
   ]
  },
  {
   "cell_type": "code",
   "execution_count": 7,
   "metadata": {
    "collapsed": false,
    "deletable": true,
    "editable": true
   },
   "outputs": [
    {
     "name": "stdout",
     "output_type": "stream",
     "text": [
      "Malware in dataset: 63786\n",
      "Goodware in dataset: 116125\n",
      "CC:\t0.7863\n",
      "DR:\t0.6493\n",
      "FP:\t0.2793\n",
      "FN:\t0.1829\n",
      "\n",
      "Malware stats:\n"
     ]
    },
    {
     "data": {
      "text/plain": [
       "count    1.595900e+04\n",
       "mean     6.002115e-01\n",
       "std      2.714033e-01\n",
       "min      5.613875e-07\n",
       "25%      3.564562e-01\n",
       "50%      6.497297e-01\n",
       "75%      8.214613e-01\n",
       "max      9.999995e-01\n",
       "dtype: float64"
      ]
     },
     "metadata": {},
     "output_type": "display_data"
    },
    {
     "name": "stdout",
     "output_type": "stream",
     "text": [
      "\n",
      "Goodware stats:\n"
     ]
    },
    {
     "data": {
      "text/plain": [
       "count    29019.000000\n",
       "mean         0.778693\n",
       "std          0.227170\n",
       "min          0.000017\n",
       "25%          0.677956\n",
       "50%          0.851618\n",
       "75%          0.981903\n",
       "max          1.000000\n",
       "dtype: float64"
      ]
     },
     "metadata": {},
     "output_type": "display_data"
    },
    {
     "data": {
      "image/png": "[encoded data removed]",
      "text/plain": [
       "<matplotlib.figure.Figure at 0x7f82daa04278>"
      ]
     },
     "metadata": {},
     "output_type": "display_data"
    },
    {
     "name": "stdout",
     "output_type": "stream",
     "text": [
      "CPU times: user 1min 5s, sys: 370 ms, total: 1min 5s\n",
      "Wall time: 1min 5s\n"
     ]
    }
   ],
   "source": [
    "%%time\n",
    "# Use between 2 and 300 imports (+/- mean + std for goodware), without balancing\n",
    "# Filter samples by the number of imports\n",
    "dataset4 = dataset[dataset.imports.map(lambda x: len(x.split(';')) <= 300 and len(x.split(';')) > 1)]\n",
    "\n",
    "print('Malware in dataset: {}'.format(len(dataset4[dataset4.malware == 1])))\n",
    "print('Goodware in dataset: {}'.format(len(dataset4[dataset4.malware == 0])))\n",
    "\n",
    "# Split into train and test (this also shuffles the data)\n",
    "(train, test) = train_test_split(dataset4, test_size=test_size)\n",
    "\n",
    "# Generate the count vectorizer\n",
    "cv_token_pattern = u'[^;]+'\n",
    "cv = CountVectorizer(token_pattern=cv_token_pattern)\n",
    "train_X = cv.fit_transform(train.imports) \n",
    "train_Y = train.malware\n",
    "test_X = cv.transform(test.imports)\n",
    "test_Y = test.malware\n",
    "\n",
    "# Logistic Regression training\n",
    "lr = LogisticRegression().fit(train_X, train_Y)\n",
    "\n",
    "score = confusion_matrix(test_Y, lr.predict(test_X))\n",
    "fp_rate, fn_rate, cc_rate, det_rate = jcfg_helpers.calc_ratios(score)\n",
    "print('CC:\\t{:.4f}'.format(cc_rate))\n",
    "print('DR:\\t{:.4f}'.format(det_rate))\n",
    "print('FP:\\t{:.4f}'.format(fp_rate))\n",
    "print('FN:\\t{:.4f}'.format(fn_rate))\n",
    "\n",
    "malware_only = lr.predict_proba(test_X[np.where(test_Y == 1)])\n",
    "goodware_only = lr.predict_proba(test_X[np.where(test_Y == 0)])\n",
    "print('\\nMalware stats:')\n",
    "display(pd.Series(malware_only[:,1]).describe())\n",
    "print('\\nGoodware stats:')\n",
    "display(pd.Series(goodware_only[:,0]).describe())\n",
    "\n",
    "plt.figure(figsize=(10, 4), dpi=100)\n",
    "plt.subplot(211)\n",
    "plt.hist(goodware_only[:,0], bins=20, alpha=0.75)\n",
    "plt.subplot(212)\n",
    "plt.hist(malware_only[:,1], bins=20, alpha=0.75)\n",
    "plt.show()"
   ]
  },
  {
   "cell_type": "code",
   "execution_count": 8,
   "metadata": {
    "collapsed": false,
    "deletable": true,
    "editable": true
   },
   "outputs": [
    {
     "name": "stdout",
     "output_type": "stream",
     "text": [
      "Malware in dataset: 63786\n",
      "Goodware in dataset: 63786\n",
      "CC:\t0.7608\n",
      "DR:\t0.7540\n",
      "FP:\t0.2383\n",
      "FN:\t0.2401\n",
      "\n",
      "Malware stats:\n"
     ]
    },
    {
     "data": {
      "text/plain": [
       "count    1.583100e+04\n",
       "mean     6.964079e-01\n",
       "std      2.467603e-01\n",
       "min      4.630831e-08\n",
       "25%      5.071860e-01\n",
       "50%      7.668294e-01\n",
       "75%      8.941941e-01\n",
       "max      9.999999e-01\n",
       "dtype: float64"
      ]
     },
     "metadata": {},
     "output_type": "display_data"
    },
    {
     "name": "stdout",
     "output_type": "stream",
     "text": [
      "\n",
      "Goodware stats:\n"
     ]
    },
    {
     "data": {
      "text/plain": [
       "count    16062.000000\n",
       "mean         0.696955\n",
       "std          0.274528\n",
       "min          0.000001\n",
       "25%          0.528338\n",
       "50%          0.759231\n",
       "75%          0.963664\n",
       "max          1.000000\n",
       "dtype: float64"
      ]
     },
     "metadata": {},
     "output_type": "display_data"
    },
    {
     "data": {
      "image/png": "[encoded data removed]",
      "text/plain": [
       "<matplotlib.figure.Figure at 0x7f82dacb6400>"
      ]
     },
     "metadata": {},
     "output_type": "display_data"
    },
    {
     "name": "stdout",
     "output_type": "stream",
     "text": [
      "CPU times: user 39.7 s, sys: 317 ms, total: 40 s\n",
      "Wall time: 39.6 s\n"
     ]
    }
   ],
   "source": [
    "%%time\n",
    "# Use between 2 and 300 imports, balanced dataset\n",
    "dataset5 = dataset[dataset.imports.map(lambda x: len(x.split(';')) <= 300 and len(x.split(';')) > 1)]\n",
    "malware_count = len(dataset5[dataset5.malware == 1])\n",
    "goodware_count = len(dataset5[dataset5.malware == 0])\n",
    "\n",
    "limiting = min(malware_count, goodware_count)\n",
    "malware = dataset5[dataset5.malware == 1].sample(n=limiting)\n",
    "goodware = dataset5[dataset5.malware == 0].sample(n=limiting)\n",
    "\n",
    "# Recreate the dataset, now balanced\n",
    "dataset5 = pd.concat([malware, goodware])\n",
    "\n",
    "print('Malware in dataset: {}'.format(len(dataset5[dataset5.malware == 1])))\n",
    "print('Goodware in dataset: {}'.format(len(dataset5[dataset5.malware == 0])))\n",
    "\n",
    "# Split into train and test (this also shuffles the data)\n",
    "(train, test) = train_test_split(dataset5, test_size=test_size)\n",
    "\n",
    "# Generate the count vectorizer\n",
    "cv_token_pattern = u'[^;]+'\n",
    "cv = CountVectorizer(token_pattern=cv_token_pattern)\n",
    "train_X = cv.fit_transform(train.imports)\n",
    "train_Y = train.malware\n",
    "test_X = cv.transform(test.imports)\n",
    "test_Y = test.malware\n",
    "\n",
    "# Logistic Regression training\n",
    "lr = LogisticRegression().fit(train_X, train_Y)\n",
    "\n",
    "score = confusion_matrix(test_Y, lr.predict(test_X))\n",
    "fp_rate, fn_rate, cc_rate, det_rate = jcfg_helpers.calc_ratios(score)\n",
    "print('CC:\\t{:.4f}'.format(cc_rate))\n",
    "print('DR:\\t{:.4f}'.format(det_rate))\n",
    "print('FP:\\t{:.4f}'.format(fp_rate))\n",
    "print('FN:\\t{:.4f}'.format(fn_rate))\n",
    "\n",
    "malware_only = lr.predict_proba(test_X[np.where(test_Y == 1)])\n",
    "goodware_only = lr.predict_proba(test_X[np.where(test_Y == 0)])\n",
    "print('\\nMalware stats:')\n",
    "display(pd.Series(malware_only[:,1]).describe())\n",
    "print('\\nGoodware stats:')\n",
    "display(pd.Series(goodware_only[:,0]).describe())\n",
    "\n",
    "plt.figure(figsize=(10, 4), dpi=100)\n",
    "plt.subplot(211)\n",
    "plt.hist(goodware_only[:,0], bins=20, alpha=0.75)\n",
    "plt.subplot(212)\n",
    "plt.hist(malware_only[:,1], bins=20, alpha=0.75)\n",
    "plt.show()"
   ]
  },
  {
   "cell_type": "code",
   "execution_count": 9,
   "metadata": {
    "collapsed": false,
    "deletable": true,
    "editable": true
   },
   "outputs": [
    {
     "name": "stdout",
     "output_type": "stream",
     "text": [
      "Malware in dataset: 63786\n",
      "Goodware in dataset: 31893\n",
      "CC:\t0.7953\n",
      "DR:\t0.9066\n",
      "FP:\t0.1899\n",
      "FN:\t0.2489\n",
      "\n",
      "Malware stats:\n"
     ]
    },
    {
     "data": {
      "text/plain": [
       "count    16007.000000\n",
       "mean         0.796882\n",
       "std          0.207741\n",
       "min          0.000103\n",
       "25%          0.687016\n",
       "50%          0.872823\n",
       "75%          0.949256\n",
       "max          1.000000\n",
       "dtype: float64"
      ]
     },
     "metadata": {},
     "output_type": "display_data"
    },
    {
     "name": "stdout",
     "output_type": "stream",
     "text": [
      "\n",
      "Goodware stats:\n"
     ]
    },
    {
     "data": {
      "text/plain": [
       "count    7.913000e+03\n",
       "mean     5.934078e-01\n",
       "std      3.156480e-01\n",
       "min      5.681199e-07\n",
       "25%      3.502384e-01\n",
       "50%      5.974897e-01\n",
       "75%      9.304101e-01\n",
       "max      1.000000e+00\n",
       "dtype: float64"
      ]
     },
     "metadata": {},
     "output_type": "display_data"
    },
    {
     "data": {
      "image/png": "[encoded data removed]",
      "text/plain": [
       "<matplotlib.figure.Figure at 0x7f82da5e2cc0>"
      ]
     },
     "metadata": {},
     "output_type": "display_data"
    },
    {
     "name": "stdout",
     "output_type": "stream",
     "text": [
      "CPU times: user 34.1 s, sys: 280 ms, total: 34.4 s\n",
      "Wall time: 34 s\n",
      "Parser   : 113 ms\n"
     ]
    }
   ],
   "source": [
    "%%time\n",
    "# Use up to 300 imports, but with more malware than goodware\n",
    "dataset6 = dataset[dataset.imports.map(lambda x: len(x.split(';')) <= 300 and len(x.split(';')) > 1)]\n",
    "malware_count = len(dataset6[dataset6.malware == 1])\n",
    "goodware_count = len(dataset6[dataset6.malware == 0])\n",
    "\n",
    "limiting = min(malware_count, goodware_count)\n",
    "malware = dataset6[dataset6.malware == 1].sample(n=limiting)\n",
    "# Use 50% less goodware\n",
    "goodware = dataset6[dataset6.malware == 0].sample(n=int(limiting * 0.5))\n",
    "\n",
    "# Recreate the dataset, now balanced\n",
    "dataset6 = pd.concat([malware, goodware])\n",
    "\n",
    "print('Malware in dataset: {}'.format(len(dataset6[dataset6.malware == 1])))\n",
    "print('Goodware in dataset: {}'.format(len(dataset6[dataset6.malware == 0])))\n",
    "\n",
    "# Split into train and test (this also shuffles the data)\n",
    "(train, test) = train_test_split(dataset6, test_size=test_size)\n",
    "\n",
    "# Generate the count vectorizer\n",
    "cv_token_pattern = u'[^;]+'\n",
    "cv = CountVectorizer(token_pattern=cv_token_pattern)\n",
    "train_X = cv.fit_transform(train.imports)\n",
    "train_Y = train.malware\n",
    "test_X = cv.transform(test.imports)\n",
    "test_Y = test.malware\n",
    "\n",
    "# Logistic Regression training\n",
    "lr = LogisticRegression().fit(train_X, train_Y)\n",
    "\n",
    "score = confusion_matrix(test_Y, lr.predict(test_X))\n",
    "fp_rate, fn_rate, cc_rate, det_rate = jcfg_helpers.calc_ratios(score)\n",
    "print('CC:\\t{:.4f}'.format(cc_rate))\n",
    "print('DR:\\t{:.4f}'.format(det_rate))\n",
    "print('FP:\\t{:.4f}'.format(fp_rate))\n",
    "print('FN:\\t{:.4f}'.format(fn_rate))\n",
    "\n",
    "malware_only = lr.predict_proba(test_X[np.where(test_Y == 1)])\n",
    "goodware_only = lr.predict_proba(test_X[np.where(test_Y == 0)])\n",
    "print('\\nMalware stats:')\n",
    "display(pd.Series(malware_only[:,1]).describe())\n",
    "print('\\nGoodware stats:')\n",
    "display(pd.Series(goodware_only[:,0]).describe())\n",
    "\n",
    "plt.figure(figsize=(10, 4), dpi=100)\n",
    "plt.subplot(211)\n",
    "plt.hist(goodware_only[:,0], bins=20, alpha=0.75)\n",
    "plt.subplot(212)\n",
    "plt.hist(malware_only[:,1], bins=20, alpha=0.75)\n",
    "plt.show()"
   ]
  }
 ],
 "metadata": {
  "kernelspec": {
   "display_name": "Python 3",
   "language": "python",
   "name": "python3"
  },
  "language_info": {
   "codemirror_mode": {
    "name": "ipython",
    "version": 3
   },
   "file_extension": ".py",
   "mimetype": "text/x-python",
   "name": "python",
   "nbconvert_exporter": "python",
   "pygments_lexer": "ipython3",
   "version": "3.6.1"
  }
 },
 "nbformat": 4,
 "nbformat_minor": 2
}
