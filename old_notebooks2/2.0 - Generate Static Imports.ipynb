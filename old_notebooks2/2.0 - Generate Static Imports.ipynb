{
 "cells": [
  {
   "cell_type": "markdown",
   "metadata": {
    "deletable": true,
    "editable": true
   },
   "source": [
    "# Generate Static Imports\n",
    "\n",
    "Extracts the imports from the samples, generating a CSV with link and imports.\n",
    "\n",
    "**This notebook uses celery** (`celery -A tasks worker --loglevel=info -Ofair`)"
   ]
  },
  {
   "cell_type": "code",
   "execution_count": 6,
   "metadata": {
    "collapsed": false,
    "deletable": true,
    "editable": true,
    "scrolled": true
   },
   "outputs": [
    {
     "name": "stdout",
     "output_type": "stream",
     "text": [
      "Total batches: 77\n",
      "Starting batch 1...\n",
      "Jobs done.\n",
      "Creating checkpoint...\n",
      "Checkpoint done.\n"
     ]
    }
   ],
   "source": [
    "%%time\n",
    "import pandas as pd\n",
    "import lib.data_loading as jcfg_data_loading\n",
    "import tasks as jcfg_celery_tasks\n",
    "import numpy as np\n",
    "from celery import group\n",
    "\n",
    "samples = pd.read_csv('data/mined_data/pe32_samples.csv')\n",
    "samples = jcfg_data_loading.set_pd_datetime_index(samples)\n",
    "\n",
    "# Splitting in batches of ~5000 samples\n",
    "n_batches = int(len(samples) / 5000)\n",
    "batches = np.array_split(samples.link, n_batches)\n",
    "\n",
    "print('Total batches: {}'.format(n_batches))\n",
    "\n",
    "# For each batch, use celery to inflate the gzip and extract the classification\n",
    "for idx, batch in enumerate(batches):\n",
    "    print('Starting batch {}...'.format(idx + 1))\n",
    "    \n",
    "    # Creates ~5000 jobs and wait for them to finish\n",
    "    jobs = group([jcfg_celery_tasks.extract_imports.s(link) for link in batch])\n",
    "    result = jobs.apply_async()\n",
    "    result.join()\n",
    "    print('Jobs done.')    \n",
    "    \n",
    "    print('Creating checkpoint...')\n",
    "    imports = np.array(list(zip(batch, result.get())))\n",
    "    imp_frame = pd.DataFrame(data=list(imports[:,1]), index=imports[:,0])\n",
    "    imp_frame.index.name = 'link'\n",
    "    imp_frame.columns = ['imports']\n",
    "    imp_frame.to_csv(path_or_buf='data/checkpoints/pe32_static_imports_{}.csv'.format(idx + 1))\n",
    "    imports = []\n",
    "    print('Checkpoint done.')"
   ]
  },
  {
   "cell_type": "code",
   "execution_count": null,
   "metadata": {
    "collapsed": true,
    "deletable": true,
    "editable": true
   },
   "outputs": [],
   "source": [
    "# Concatenate the checkpoints\n",
    "result = []\n",
    "for cp in range(1, 77):\n",
    "    result.append(pd.read_csv('data/checkpoints/pe32_static_imports_{}.csv'.format(cp), dtype=str))\n",
    "    \n",
    "final = pd.concat(result)\n",
    "final = final.set_index('link')\n",
    "final.dropna(inplace=True)\n",
    "final.to_csv(path_or_buf='data/mined_data/pe32_static_imports.csv')"
   ]
  }
 ],
 "metadata": {
  "kernelspec": {
   "display_name": "Python 3",
   "language": "python",
   "name": "python3"
  },
  "language_info": {
   "codemirror_mode": {
    "name": "ipython",
    "version": 3
   },
   "file_extension": ".py",
   "mimetype": "text/x-python",
   "name": "python",
   "nbconvert_exporter": "python",
   "pygments_lexer": "ipython3",
   "version": "3.6.0"
  }
 },
 "nbformat": 4,
 "nbformat_minor": 2
}
