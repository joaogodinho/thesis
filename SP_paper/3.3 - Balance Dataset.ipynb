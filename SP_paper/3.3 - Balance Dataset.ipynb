{
 "cells": [
  {
   "cell_type": "markdown",
   "metadata": {},
   "source": [
    "# Balance Dataset\n",
    "\n",
    "Given the dataset is unbalanced (much more malware than goodware), the classifier results may not be optimal. In this notebook we try to balance the dataset by applying the K-Means to the malware samples and selecting the samples closest to the centroids."
   ]
  },
  {
   "cell_type": "code",
   "execution_count": 44,
   "metadata": {
    "collapsed": true
   },
   "outputs": [],
   "source": [
    "from IPython.display import display\n",
    "import pandas as pd\n",
    "import numpy as np\n",
    "import math\n",
    "import re\n",
    "import matplotlib.pyplot as plt\n",
    "from sklearn.feature_extraction.text import CountVectorizer\n",
    "from sklearn.cluster import KMeans\n",
    "from sklearn.decomposition import PCA\n",
    "from sklearn.preprocessing import scale\n",
    "\n",
    "data_folder = '../data/'\n",
    "final_dataset_file = data_folder + 'dataset_v1.csv.gz'\n",
    "selected_imports_file = data_folder + 'selected_imports.csv.gz'\n",
    "new_dataset_file = data_folder + 'dataset_v2.csv.gz'\n",
    "\n",
    "cv_token_pattern = u'[^;]+'\n",
    "vec_stop_words = ['*invalid*']\n",
    "# Remove imports' extension\n",
    "def token_preprocessor(s):\n",
    "    return re.split('\\..{0,3}', s)[0]"
   ]
  },
  {
   "cell_type": "code",
   "execution_count": 2,
   "metadata": {
    "collapsed": true
   },
   "outputs": [],
   "source": [
    "# Load dataset\n",
    "dataset = pd.read_csv(final_dataset_file)\n",
    "dataset = dataset.set_index('link')\n",
    "\n",
    "# Load the selected features\n",
    "features = pd.read_csv(selected_imports_file)\n",
    "features = features['0'].values"
   ]
  },
  {
   "cell_type": "code",
   "execution_count": 50,
   "metadata": {
    "collapsed": false
   },
   "outputs": [
    {
     "data": {
      "text/plain": [
       "CountVectorizer(analyzer='word', binary=False, decode_error='strict',\n",
       "        dtype=<class 'numpy.int64'>, encoding='utf-8', input='content',\n",
       "        lowercase=True, max_df=1.0, max_features=None, min_df=1,\n",
       "        ngram_range=(1, 1),\n",
       "        preprocessor=<function token_preprocessor at 0x7fef86d1e158>,\n",
       "        stop_words=['*invalid*'], strip_accents=None,\n",
       "        token_pattern='[^;]+', tokenizer=None,\n",
       "        vocabulary=array(['steam_api', 'pshed', ..., 'vcl60', 'version'], dtype=object))"
      ]
     },
     "execution_count": 50,
     "metadata": {},
     "output_type": "execute_result"
    }
   ],
   "source": [
    "cv = CountVectorizer(token_pattern=cv_token_pattern, stop_words=vec_stop_words,\n",
    "                     preprocessor=token_preprocessor, vocabulary=featTures)\n",
    "cv.fit(dataset.dlls)"
   ]
  },
  {
   "cell_type": "code",
   "execution_count": 51,
   "metadata": {
    "collapsed": false
   },
   "outputs": [],
   "source": [
    "# The limit is given by the size of goodware samples\n",
    "upper_limit = len(dataset[dataset.malware == 0])\n",
    "malware = dataset[dataset.malware == 1]\n",
    "malware_vectors = cv.transform(malware.dlls)"
   ]
  },
  {
   "cell_type": "markdown",
   "metadata": {},
   "source": [
    "## K-Means"
   ]
  },
  {
   "cell_type": "code",
   "execution_count": 52,
   "metadata": {
    "collapsed": false
   },
   "outputs": [
    {
     "data": {
      "text/plain": [
       "KMeans(algorithm='auto', copy_x=True, init='k-means++', max_iter=300,\n",
       "    n_clusters=3, n_init=300, n_jobs=-1, precompute_distances='auto',\n",
       "    random_state=None, tol=0.0001, verbose=0)"
      ]
     },
     "execution_count": 52,
     "metadata": {},
     "output_type": "execute_result"
    }
   ],
   "source": [
    "# Feature reduction\n",
    "\n",
    "reduced_data = PCA(n_components=2).fit_transform(malware_vectors.toarray())\n",
    "# Clustering\n",
    "kmeans = KMeans(init='k-means++', n_clusters=3, n_init=300, n_jobs=-1, max_iter=300)\n",
    "kmeans.fit(reduced_data)"
   ]
  },
  {
   "cell_type": "code",
   "execution_count": 53,
   "metadata": {
    "collapsed": false
   },
   "outputs": [
    {
     "data": {
      "image/png": "[encoded data removed]",
      "text/plain": [
       "<matplotlib.figure.Figure at 0x7fef5e654ac8>"
      ]
     },
     "metadata": {},
     "output_type": "display_data"
    }
   ],
   "source": [
    "# Visualize K-Means\n",
    "\n",
    "# Step size of the mesh. Decrease to increase the quality of the VQ.\n",
    "h = .02     # point in the mesh [x_min, x_max]x[y_min, y_max].\n",
    "\n",
    "# Plot the decision boundary. For that, we will assign a color to each\n",
    "x_min, x_max = reduced_data[:, 0].min() - 1, reduced_data[:, 0].max() + 1\n",
    "y_min, y_max = reduced_data[:, 1].min() - 1, reduced_data[:, 1].max() + 1\n",
    "xx, yy = np.meshgrid(np.arange(x_min, x_max, h), np.arange(y_min, y_max, h))\n",
    "\n",
    "# Obtain labels for each point in mesh. Use last trained model.\n",
    "Z = kmeans.predict(np.c_[xx.ravel(), yy.ravel()])\n",
    "\n",
    "# Put the result into a color plot\n",
    "Z = Z.reshape(xx.shape)\n",
    "plt.figure(figsize=(10, 4), dpi=100)\n",
    "plt.clf()\n",
    "plt.imshow(Z, interpolation='nearest',\n",
    "           extent=(xx.min(), xx.max(), yy.min(), yy.max()),\n",
    "           cmap=plt.cm.Paired,\n",
    "           aspect='auto', origin='lower')\n",
    "\n",
    "plt.plot(reduced_data[:, 0], reduced_data[:, 1], 'k.', markersize=1)\n",
    "# Plot the centroids as a white X\n",
    "centroids = kmeans.cluster_centers_\n",
    "plt.scatter(centroids[:, 0], centroids[:, 1],\n",
    "            marker='x', s=169, linewidths=3,\n",
    "            color='w', zorder=10)\n",
    "plt.xlim(x_min, x_max)\n",
    "plt.ylim(y_min, y_max)\n",
    "plt.xticks(())\n",
    "plt.yticks(())\n",
    "plt.show()"
   ]
  },
  {
   "cell_type": "code",
   "execution_count": 54,
   "metadata": {
    "collapsed": false,
    "scrolled": false
   },
   "outputs": [],
   "source": [
    "# Get roughly the same number of samples from each cluster\n",
    "clustered_samples = kmeans.predict(reduced_data)\n",
    "malware.is_copy = False\n",
    "malware.loc[:,'cluster'] = clustered_samples"
   ]
  },
  {
   "cell_type": "code",
   "execution_count": 55,
   "metadata": {
    "collapsed": false
   },
   "outputs": [],
   "source": [
    "n_split = int(upper_limit/3)\n",
    "\n",
    "new_dataset = malware[malware.cluster == 0][:n_split]\n",
    "new_dataset = new_dataset.append(malware[malware.cluster == 1][:n_split])\n",
    "new_dataset = new_dataset.append(malware[malware.cluster == 2][:n_split])\n",
    "new_dataset.drop('cluster', axis=1, inplace=True)\n",
    "new_dataset = new_dataset.append(dataset[dataset.malware == 0])"
   ]
  },
  {
   "cell_type": "code",
   "execution_count": 56,
   "metadata": {
    "collapsed": false
   },
   "outputs": [],
   "source": [
    "new_dataset.to_csv(new_dataset_file, compression='gzip')"
   ]
  }
 ],
 "metadata": {
  "kernelspec": {
   "display_name": "Python 3",
   "language": "python",
   "name": "python3"
  },
  "language_info": {
   "codemirror_mode": {
    "name": "ipython",
    "version": 3
   },
   "file_extension": ".py",
   "mimetype": "text/x-python",
   "name": "python",
   "nbconvert_exporter": "python",
   "pygments_lexer": "ipython3",
   "version": "3.6.2"
  }
 },
 "nbformat": 4,
 "nbformat_minor": 2
}
