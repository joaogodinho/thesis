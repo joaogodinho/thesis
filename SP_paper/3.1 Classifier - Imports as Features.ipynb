{
 "cells": [
  {
   "cell_type": "markdown",
   "metadata": {
    "deletable": true,
    "editable": true
   },
   "source": [
    "# Classifier - Imports as Features\n",
    "\n",
    "The remaining step before being able to train a classifier is to choose the features for the samples. In this case we'll use the static imports (DLL imports) from the binary files.\n",
    "\n",
    "We start with a simple analysis to the number of features."
   ]
  },
  {
   "cell_type": "code",
   "execution_count": 1,
   "metadata": {
    "collapsed": true,
    "deletable": true,
    "editable": true
   },
   "outputs": [],
   "source": [
    "from IPython.display import display\n",
    "import pandas as pd\n",
    "import numpy as np\n",
    "import math\n",
    "import re\n",
    "import matplotlib.pyplot as plt\n",
    "from sklearn.feature_extraction.text import TfidfVectorizer\n",
    "from sklearn.feature_extraction.text import CountVectorizer\n",
    "\n",
    "malware_threshold = 5\n",
    "data_folder = '../data/'\n",
    "vendors_file = data_folder + 'vendors.csv.gz'\n",
    "reports_file = data_folder + 'reports.csv.gz'\n",
    "dlls_file = data_folder + 'dlls.csv.gz'\n",
    "selected_imports_file = data_folder + 'selected_imports.csv.gz'\n",
    "# From notebook 2\n",
    "top_vendors = [\"ESET-NOD32\", \"McAfee-GW-Edition\", \"McAfee\", \"Sophos\",\n",
    "               \"VIPRE\", \"GData\", \"Kaspersky\", \"AVG\", \"BitDefender\",\n",
    "               \"Avast\", \"TrendMicro-HouseCall\", \"Fortinet\", \"Emsisoft\",\n",
    "               \"DrWeb\", \"Ikarus\", \"F-Secure\", \"MicroWorld-eScan\",\n",
    "               \"Symantec\", \"K7AntiVirus\", \"K7GW\"]\n",
    "\n",
    "tfidf_token_pattern = u'[^;]+'\n",
    "vec_stop_words = ['*invalid*']\n",
    "# Remove imports' extension\n",
    "def token_preprocessor(s):\n",
    "    return re.split('\\..{0,3}', s)[0]\n"
   ]
  },
  {
   "cell_type": "code",
   "execution_count": 2,
   "metadata": {
    "collapsed": false,
    "deletable": true,
    "editable": true
   },
   "outputs": [],
   "source": [
    "# Contains all header information\n",
    "reports = pd.read_csv(reports_file)\n",
    "reports = reports.set_index('link')\n",
    "# Sanity check\n",
    "assert len(reports[~reports.file_type.str.startswith('PE32')]) == 0\n",
    "reports.drop(['file_name', 'file_size', 'file_type'], axis=1, inplace=True)\n",
    "reports.date = pd.to_datetime(reports.date, infer_datetime_format=True)\n",
    "# Now it contains:\n",
    "# reports = (link, md5, date)\n",
    "\n",
    "# Contains link as vendors classification\n",
    "vendors = pd.read_csv(vendors_file, dtype=str)\n",
    "vendors = vendors.set_index('link')\n",
    "vendors.dropna(how='all', inplace=True)\n",
    "\n",
    "# Contains imports\n",
    "imports = pd.read_csv(dlls_file)\n",
    "imports = imports.set_index('link')\n",
    "\n",
    "# Joins on link\n",
    "# reports_vendors = (link, md5, date, ..vendors..)\n",
    "reports_vendors = reports.join(vendors, how='inner')"
   ]
  },
  {
   "cell_type": "code",
   "execution_count": 3,
   "metadata": {
    "collapsed": false,
    "deletable": true,
    "editable": true
   },
   "outputs": [],
   "source": [
    "# Filter columns for top vendors only\n",
    "reports_vendors = reports_vendors[['md5', 'date'] + top_vendors]\n",
    "# Order by date\n",
    "reports_vendors.sort_values(by='date', inplace=True)\n",
    "# Keep the last duplicates\n",
    "reports_vendors.drop_duplicates(subset='md5', keep='last', inplace=True)\n",
    "# Turn clean into NaN\n",
    "reports_vendors.replace('Clean', np.nan, inplace=True)"
   ]
  },
  {
   "cell_type": "markdown",
   "metadata": {
    "deletable": true,
    "editable": true
   },
   "source": [
    "## Filter malware/goodware"
   ]
  },
  {
   "cell_type": "code",
   "execution_count": 4,
   "metadata": {
    "collapsed": false,
    "deletable": true,
    "editable": true
   },
   "outputs": [],
   "source": [
    "goodware = reports_vendors[reports_vendors.count(axis=1) == 2].index\n",
    "malware = reports_vendors[reports_vendors.count(axis=1) >= malware_threshold + 2].index"
   ]
  },
  {
   "cell_type": "code",
   "execution_count": 5,
   "metadata": {
    "collapsed": false,
    "deletable": true,
    "editable": true,
    "scrolled": true
   },
   "outputs": [],
   "source": [
    "# Get the labeled imports\n",
    "imports = imports[imports.index.isin(list(goodware) + list(malware))].dropna()"
   ]
  },
  {
   "cell_type": "markdown",
   "metadata": {
    "deletable": true,
    "editable": true
   },
   "source": [
    "## Imports Statistics"
   ]
  },
  {
   "cell_type": "code",
   "execution_count": 6,
   "metadata": {
    "collapsed": false,
    "deletable": true,
    "editable": true,
    "scrolled": true
   },
   "outputs": [
    {
     "data": {
      "text/plain": [
       "'Available samples with imports: 194970'"
      ]
     },
     "metadata": {},
     "output_type": "display_data"
    },
    {
     "data": {
      "text/plain": [
       "'Goodware samples: 49543'"
      ]
     },
     "metadata": {},
     "output_type": "display_data"
    },
    {
     "data": {
      "text/plain": [
       "'Malware samples: 145427'"
      ]
     },
     "metadata": {},
     "output_type": "display_data"
    }
   ],
   "source": [
    "display('Available samples with imports: {}'.format(len(imports)))\n",
    "display('Goodware samples: {}'.format(len(imports[imports.index.isin(goodware)])))\n",
    "display('Malware samples: {}'.format(len(imports[imports.index.isin(malware)])))"
   ]
  },
  {
   "cell_type": "code",
   "execution_count": 7,
   "metadata": {
    "collapsed": false,
    "deletable": true,
    "editable": true,
    "scrolled": false
   },
   "outputs": [
    {
     "data": {
      "text/plain": [
       "'Number of unique goodware imports: 1024'"
      ]
     },
     "metadata": {},
     "output_type": "display_data"
    },
    {
     "data": {
      "text/plain": [
       "'Number of unique malware imports: 432'"
      ]
     },
     "metadata": {},
     "output_type": "display_data"
    },
    {
     "data": {
      "text/plain": [
       "'Goodware only imports: 807'"
      ]
     },
     "metadata": {},
     "output_type": "display_data"
    },
    {
     "data": {
      "text/plain": [
       "'Malware only imports: 215'"
      ]
     },
     "metadata": {},
     "output_type": "display_data"
    },
    {
     "data": {
      "text/plain": [
       "'Common imports: 217'"
      ]
     },
     "metadata": {},
     "output_type": "display_data"
    }
   ],
   "source": [
    "# Create CountVectorizer to analyse good/malware imports\n",
    "cv_goodware = CountVectorizer(token_pattern=tfidf_token_pattern, preprocessor=token_preprocessor,\n",
    "                              stop_words=vec_stop_words)\n",
    "cv_malware = CountVectorizer(token_pattern=tfidf_token_pattern, preprocessor=token_preprocessor,\n",
    "                             stop_words=vec_stop_words)\n",
    "\n",
    "cv_goodware.fit(imports[imports.index.isin(goodware)].dlls)\n",
    "cv_malware.fit(imports[imports.index.isin(malware)].dlls)\n",
    "\n",
    "goodware_imports = cv_goodware.get_feature_names()\n",
    "malware_imports = cv_malware.get_feature_names()\n",
    "\n",
    "goodware_only_imports = set(goodware_imports).difference(malware_imports)\n",
    "malware_only_imports = set(malware_imports).difference(goodware_imports)\n",
    "common_imports = set(goodware_imports).intersection(malware_imports)\n",
    "\n",
    "display('Number of unique goodware imports: {}'.format(len(goodware_imports)))\n",
    "display('Number of unique malware imports: {}'.format(len(malware_imports)))\n",
    "display('Goodware only imports: {}'.format(len(goodware_only_imports)))\n",
    "display('Malware only imports: {}'.format(len(malware_only_imports)))\n",
    "display('Common imports: {}'.format(len(common_imports)))"
   ]
  },
  {
   "cell_type": "markdown",
   "metadata": {
    "deletable": true,
    "editable": true
   },
   "source": [
    "### Frequency of exclusive imports"
   ]
  },
  {
   "cell_type": "code",
   "execution_count": 8,
   "metadata": {
    "collapsed": false,
    "deletable": true,
    "editable": true
   },
   "outputs": [],
   "source": [
    "# Create CountVectorizer for goodware only imports, generate frequency matrix\n",
    "cv_goodware = CountVectorizer(token_pattern=tfidf_token_pattern, vocabulary=goodware_only_imports,\n",
    "                              preprocessor=token_preprocessor, stop_words=vec_stop_words)\n",
    "matrix_tf_goodware = cv_goodware.fit_transform(imports[imports.index.isin(goodware)].dlls)\n",
    "matrix_goodware = np.sum(matrix_tf_goodware, axis=0, dtype=int)\n",
    "matrix_goodware = np.divide(matrix_goodware, np.amax(matrix_goodware))\n",
    "matrix_goodware = np.array_split(np.array(matrix_goodware)[0], int(math.sqrt(len(cv_goodware.get_feature_names()))*0.5))\n",
    "\n",
    "# Create CountVectorizer for malware only imports, generate frequency matrix\n",
    "cv_malware = CountVectorizer(token_pattern=tfidf_token_pattern, vocabulary=malware_only_imports,\n",
    "                             preprocessor=token_preprocessor, stop_words=vec_stop_words)\n",
    "matrix_tf_malware = cv_malware.fit_transform(imports[imports.index.isin(malware)].dlls)\n",
    "matrix_malware = np.sum(matrix_tf_malware, axis=0, dtype=int)\n",
    "matrix_malware = np.divide(matrix_malware, np.amax(matrix_malware))\n",
    "matrix_malware = np.array_split(np.array(matrix_malware)[0], int(math.sqrt(len(cv_malware.get_feature_names()))*0.5))"
   ]
  },
  {
   "cell_type": "markdown",
   "metadata": {
    "deletable": true,
    "editable": true
   },
   "source": [
    "#### Goodware imports\n",
    "\n",
    "The following graph shows the presence of each import for goodware samples. A darker square means a more frequent import, whereas a lighter square means less frequent."
   ]
  },
  {
   "cell_type": "code",
   "execution_count": 9,
   "metadata": {
    "collapsed": false,
    "deletable": true,
    "editable": true
   },
   "outputs": [
    {
     "data": {
      "image/png": "[encoded data removed]",
      "text/plain": [
       "<matplotlib.figure.Figure at 0x7f7639037a90>"
      ]
     },
     "metadata": {},
     "output_type": "display_data"
    }
   ],
   "source": [
    "fig, ax1 = plt.subplots(figsize=(30, 30))\n",
    "ax1.set_title('Presence of each common import, darker is more frequent')\n",
    "plt.imshow(pd.DataFrame(matrix_goodware).fillna(0), cmap='binary', vmin=0, vmax=1)\n",
    "plt.show()"
   ]
  },
  {
   "cell_type": "markdown",
   "metadata": {},
   "source": [
    "#### Malware imports\n",
    "\n",
    "The following graph shows the presence of each import for malware samples. A darker square means a more frequent import, whereas a lighter square means less frequent."
   ]
  },
  {
   "cell_type": "code",
   "execution_count": 10,
   "metadata": {
    "collapsed": false,
    "scrolled": false
   },
   "outputs": [
    {
     "data": {
      "image/png": "[encoded data removed]",
      "text/plain": [
       "<matplotlib.figure.Figure at 0x7f75d76bc898>"
      ]
     },
     "metadata": {},
     "output_type": "display_data"
    }
   ],
   "source": [
    "fig, ax1 = plt.subplots(figsize=(30, 30))\n",
    "ax1.set_title('Presence of each malware import, darker is more frequent')\n",
    "plt.imshow(pd.DataFrame(matrix_malware).fillna(0), cmap='binary', vmin=0, vmax=1)\n",
    "plt.show()"
   ]
  },
  {
   "cell_type": "markdown",
   "metadata": {
    "deletable": true,
    "editable": true
   },
   "source": [
    "### Common imports\n",
    "\n",
    "#### Frequency"
   ]
  },
  {
   "cell_type": "markdown",
   "metadata": {},
   "source": [
    "The following graph shows the presence of each common import for all samples. A darker square means a more frequent import, whereas a lighter square means less frequent."
   ]
  },
  {
   "cell_type": "code",
   "execution_count": 11,
   "metadata": {
    "collapsed": false
   },
   "outputs": [],
   "source": [
    "# Create CountVectorizer with only common imports\n",
    "cv_common = CountVectorizer(token_pattern=tfidf_token_pattern, vocabulary=common_imports,\n",
    "                            preprocessor=token_preprocessor, stop_words=vec_stop_words)\n",
    "matrix_tf_common = cv_common.fit_transform(imports.dlls)\n",
    "matrix_common = np.sum(matrix_tf_common, axis=0, dtype=int)\n",
    "matrix_common = np.divide(matrix_common, np.amax(matrix_common))\n",
    "matrix_common = np.array_split(np.array(matrix_common)[0], int(math.sqrt(len(cv_common.get_feature_names()))*0.5))"
   ]
  },
  {
   "cell_type": "code",
   "execution_count": 12,
   "metadata": {
    "collapsed": false
   },
   "outputs": [
    {
     "data": {
      "image/png": "[encoded data removed]",
      "text/plain": [
       "<matplotlib.figure.Figure at 0x7f75d760c470>"
      ]
     },
     "metadata": {},
     "output_type": "display_data"
    }
   ],
   "source": [
    "fig, ax1 = plt.subplots(figsize=(30, 30))\n",
    "ax1.set_title('Presence of each common import, darker is more frequent')\n",
    "plt.imshow(pd.DataFrame(matrix_common).fillna(0), cmap='binary', vmin=0, vmax=1)\n",
    "plt.show()"
   ]
  },
  {
   "cell_type": "markdown",
   "metadata": {},
   "source": [
    "#### Difference in common imports"
   ]
  },
  {
   "cell_type": "code",
   "execution_count": 13,
   "metadata": {
    "collapsed": false,
    "deletable": true,
    "editable": true,
    "scrolled": false
   },
   "outputs": [],
   "source": [
    "cv_common = CountVectorizer(token_pattern=tfidf_token_pattern, vocabulary=common_imports,\n",
    "                            preprocessor=token_preprocessor, stop_words=vec_stop_words)\n",
    "cv_common.fit(imports.dlls)\n",
    "\n",
    "matrix_goodware = np.sum(cv_common.transform(imports[imports.index.isin(goodware)].dlls), axis=0, dtype=int)\n",
    "matrix_malware = np.sum(cv_common.transform(imports[imports.index.isin(malware)].dlls), axis=0, dtype=int)\n",
    "\n",
    "# Normalize the matrixes against presence of imports for each class\n",
    "matrix_goodware = np.divide(matrix_goodware, len(imports[imports.index.isin(goodware)]))\n",
    "matrix_malware = np.divide(matrix_malware, len(imports[imports.index.isin(malware)]))\n",
    "\n",
    "# Normalize by the sum of both matrices\n",
    "matrix_divisor = np.add(matrix_goodware, matrix_malware)\n",
    "matrix_goodware = np.divide(matrix_goodware, matrix_divisor)\n",
    "matrix_malware = np.divide(matrix_malware, matrix_divisor)\n",
    "\n",
    "# Create difference matrix\n",
    "matrix = np.subtract(matrix_malware, matrix_goodware)\n",
    "matrix2 = np.array_split(np.array(matrix)[0], int(math.sqrt(len(cv_common.get_feature_names()))*0.5))"
   ]
  },
  {
   "cell_type": "markdown",
   "metadata": {},
   "source": [
    "The following graph shows the tendency for each feature individually. Darker reds means the feature is more present in malware, whereas darker blues indicate a feature is more present in goodware."
   ]
  },
  {
   "cell_type": "code",
   "execution_count": 14,
   "metadata": {
    "collapsed": false,
    "deletable": true,
    "editable": true
   },
   "outputs": [
    {
     "data": {
      "image/png": "[encoded data removed]",
      "text/plain": [
       "<matplotlib.figure.Figure at 0x7f75d7603470>"
      ]
     },
     "metadata": {},
     "output_type": "display_data"
    }
   ],
   "source": [
    "fig, ax1 = plt.subplots(figsize=(30, 30))\n",
    "ax1.set_title('Difference for common imports, red favor malware, blue favor goodware')\n",
    "plt.imshow(pd.DataFrame(matrix2), cmap='seismic', vmin=-1, vmax=1)\n",
    "plt.show()"
   ]
  },
  {
   "cell_type": "markdown",
   "metadata": {},
   "source": [
    "## Feature Selection\n",
    "\n",
    "We can filter down the number of imports to 200 from each class (goodware and malware) for a total of 400 exclusive imports."
   ]
  },
  {
   "cell_type": "code",
   "execution_count": 15,
   "metadata": {
    "collapsed": false,
    "scrolled": false
   },
   "outputs": [],
   "source": [
    "# Filter top 200 from malware/goodware only imports\n",
    "import_goodware = pd.Series(index=cv_goodware.vocabulary_.keys(),\n",
    "                            data=np.array(np.sum(matrix_tf_goodware, axis=0, dtype=int))[0],\n",
    "                            dtype=int)\n",
    "top_goodware_imports = import_goodware.sort_values(ascending=False)[:200].index\n",
    "\n",
    "import_malware = pd.Series(index=cv_malware.vocabulary_.keys(),\n",
    "                            data=np.array(np.sum(matrix_tf_malware, axis=0, dtype=int))[0],\n",
    "                            dtype=int)\n",
    "top_malware_imports = import_malware.sort_values(ascending=False)[:200].index"
   ]
  },
  {
   "cell_type": "code",
   "execution_count": 16,
   "metadata": {
    "collapsed": false,
    "scrolled": false
   },
   "outputs": [],
   "source": [
    "# Filter top 200 from common imports\n",
    "import_common = pd.Series(index=cv_common.vocabulary_.keys(),\n",
    "                          data=np.array(np.abs(matrix))[0])\n",
    "top_common_imports = import_common[:200].index"
   ]
  },
  {
   "cell_type": "code",
   "execution_count": 17,
   "metadata": {
    "collapsed": false
   },
   "outputs": [],
   "source": [
    "# Selected imports\n",
    "selected_imports = pd.DataFrame(list(top_goodware_imports) + list(top_malware_imports) + list(top_common_imports))\n",
    "selected_imports.to_csv(selected_imports_file, compression='gzip')"
   ]
  },
  {
   "cell_type": "markdown",
   "metadata": {},
   "source": [
    "## Conclusion\n",
    "\n",
    "We provided a simple metric for import selection. Split the imports into common and exclusive imports. Exclusive imports for malware/goodware are selected based on their frequency in the corresponding class, in this case the top 200 more frequent and selected.\n",
    "\n",
    "For common imports, a comparison between the frequency they appear in malware vs goodware is made. Common imports that are mode one-sided are more descriptive, hence the top 200 more descritive imports are selected."
   ]
  }
 ],
 "metadata": {
  "kernelspec": {
   "display_name": "Python 3",
   "language": "python",
   "name": "python3"
  },
  "language_info": {
   "codemirror_mode": {
    "name": "ipython",
    "version": 3
   },
   "file_extension": ".py",
   "mimetype": "text/x-python",
   "name": "python",
   "nbconvert_exporter": "python",
   "pygments_lexer": "ipython3",
   "version": "3.6.1"
  }
 },
 "nbformat": 4,
 "nbformat_minor": 2
}
