{
 "cells": [
  {
   "cell_type": "markdown",
   "metadata": {
    "deletable": true,
    "editable": true
   },
   "source": [
    "# Classifier - Unbalanced\n",
    "\n",
    "Having the features selected, we can now obtain a model to classify the samples. We'll start with an unbalanced dataset."
   ]
  },
  {
   "cell_type": "code",
   "execution_count": 22,
   "metadata": {
    "collapsed": true,
    "deletable": true,
    "editable": true
   },
   "outputs": [],
   "source": [
    "from IPython.display import display\n",
    "import pandas as pd\n",
    "import numpy as np\n",
    "import math\n",
    "import re\n",
    "import matplotlib.pyplot as plt\n",
    "from sklearn.feature_extraction.text import CountVectorizer\n",
    "from sklearn.linear_model import LogisticRegression\n",
    "from sklearn import svm\n",
    "from sklearn.metrics import roc_curve, auc\n",
    "from sklearn.model_selection import StratifiedKFold\n",
    "from sklearn.model_selection import train_test_split\n",
    "from scipy import interp\n",
    "\n",
    "data_folder = '../data/'\n",
    "final_dataset_file = data_folder + 'dataset_v1.csv.gz'\n",
    "selected_imports_file = data_folder + 'selected_imports.csv.gz'\n",
    "\n",
    "cv_token_pattern = u'[^;]+'\n",
    "vec_stop_words = ['*invalid*']\n",
    "# Remove imports' extension\n",
    "def token_preprocessor(s):\n",
    "    return re.split('\\..{0,3}', s)[0]"
   ]
  },
  {
   "cell_type": "code",
   "execution_count": 23,
   "metadata": {
    "collapsed": true,
    "deletable": true,
    "editable": true
   },
   "outputs": [],
   "source": [
    "# Load dataset\n",
    "dataset = pd.read_csv(final_dataset_file)\n",
    "dataset = dataset.set_index('link')\n",
    "\n",
    "# Load the selected features\n",
    "features = pd.read_csv(selected_imports_file)\n",
    "features = features['0'].values"
   ]
  },
  {
   "cell_type": "markdown",
   "metadata": {
    "deletable": true,
    "editable": true
   },
   "source": [
    "## Create the dataset"
   ]
  },
  {
   "cell_type": "code",
   "execution_count": 24,
   "metadata": {
    "collapsed": false,
    "deletable": true,
    "editable": true,
    "scrolled": true
   },
   "outputs": [
    {
     "data": {
      "text/plain": [
       "CountVectorizer(analyzer='word', binary=False, decode_error='strict',\n",
       "        dtype=<class 'numpy.int64'>, encoding='utf-8', input='content',\n",
       "        lowercase=True, max_df=1.0, max_features=None, min_df=1,\n",
       "        ngram_range=(1, 1),\n",
       "        preprocessor=<function token_preprocessor at 0x7fd913d0b400>,\n",
       "        stop_words=['*invalid*'], strip_accents=None,\n",
       "        token_pattern='[^;]+', tokenizer=None,\n",
       "        vocabulary=array(['steam_api', 'pshed', ..., 'vcl60', 'version'], dtype=object))"
      ]
     },
     "execution_count": 24,
     "metadata": {},
     "output_type": "execute_result"
    }
   ],
   "source": [
    "goodware = reports_vendors[reports_vendors.count(axis=1) == 2].index\n",
    "malware = reports_vendors[reports_vendors.count(axis=1) >= malware_threshold + 2].index\n",
    "\n",
    "# Get the labeled imports\n",
    "dataset = imports[imports.index.isin(list(goodware) + list(malware))].dropna()\n",
    "# Label them\n",
    "dataset.loc[:,'malware'] = 0\n",
    "dataset.loc[dataset.index.isin(malware),'malware'] = 1\n",
    "\n",
    "cv = CountVectorizer(token_pattern=cv_token_pattern, stop_words=vec_stop_words,\n",
    "                     preprocessor=token_preprocessor, vocabulary=features)\n",
    "cv.fit(dataset.dlls)"
   ]
  },
  {
   "cell_type": "code",
   "execution_count": 4,
   "metadata": {
    "collapsed": false
   },
   "outputs": [
    {
     "data": {
      "text/plain": [
       "array([ 0.        ,  0.98094777,  1.        ])"
      ]
     },
     "metadata": {},
     "output_type": "display_data"
    },
    {
     "data": {
      "text/plain": [
       "array([ 0.        ,  0.99705688,  1.        ])"
      ]
     },
     "metadata": {},
     "output_type": "display_data"
    },
    {
     "data": {
      "text/plain": [
       "array([2, 1, 0])"
      ]
     },
     "metadata": {},
     "output_type": "display_data"
    },
    {
     "name": "stdout",
     "output_type": "stream",
     "text": [
      "CPU times: user 9min 39s, sys: 43.3 ms, total: 9min 39s\n",
      "Wall time: 9min 40s\n"
     ]
    }
   ],
   "source": [
    "%%time\n",
    "# classifier =  svm.SVC()\n",
    "# X_train, X_test, y_train, y_test = train_test_split(cv.transform(dataset.dlls),\n",
    "#                                                     dataset.malware,\n",
    "#                                                     test_size=0.25)\n",
    "\n",
    "# prediction = classifier.fit(X_train, y_train).predict(X_test)\n",
    "# fpr, tpr, thresholds = roc_curve(y_test, prediction)\n",
    "# display(fpr, tpr, thresholds)\n",
    "# display(auc(fpr, tpr))"
   ]
  },
  {
   "cell_type": "code",
   "execution_count": null,
   "metadata": {
    "collapsed": false,
    "deletable": true,
    "editable": true,
    "scrolled": false
   },
   "outputs": [],
   "source": [
    "%%time\n",
    "# Trying ROC\n",
    "skf = StratifiedKFold(n_splits=10)\n",
    "# classifier =  LogisticRegression()\n",
    "classifier =  svm.SVC(probability=True)\n",
    "\n",
    "tprs = []\n",
    "aucs = []\n",
    "mean_fpr = np.linspace(0, 1, 100)\n",
    "X = cv.transform(dataset.dlls)\n",
    "y = dataset.malware\n",
    "plt.figure(figsize=(10, 4), dpi=100)\n",
    "\n",
    "i = 0\n",
    "for train, test in skf.split(X, y):\n",
    "    probas_ = classifier.fit(X[train], y[train]).predict_proba(X[test])\n",
    "    # Compute ROC curve and area the curve\n",
    "    fpr, tpr, thresholds = roc_curve(y[test], probas_[:, 1])\n",
    "    tprs.append(interp(mean_fpr, fpr, tpr))\n",
    "    tprs[-1][0] = 0.0\n",
    "    roc_auc = auc(fpr, tpr)\n",
    "    aucs.append(roc_auc)\n",
    "    plt.plot(fpr, tpr, lw=1, alpha=0.3,\n",
    "             label='ROC fold %d (AUC = %0.2f)' % (i, roc_auc))\n",
    "\n",
    "    i += 1\n",
    "plt.plot([0, 1], [0, 1], linestyle='--', lw=2, color='r',\n",
    "         label='Luck', alpha=.8)\n",
    "\n",
    "mean_tpr = np.mean(tprs, axis=0)\n",
    "mean_tpr[-1] = 1.0\n",
    "mean_auc = auc(mean_fpr, mean_tpr)\n",
    "std_auc = np.std(aucs)\n",
    "plt.plot(mean_fpr, mean_tpr, color='b',\n",
    "         label=r'Mean ROC (AUC = %0.2f $\\pm$ %0.2f)' % (mean_auc, std_auc),\n",
    "         lw=2, alpha=.8)\n",
    "\n",
    "std_tpr = np.std(tprs, axis=0)\n",
    "tprs_upper = np.minimum(mean_tpr + std_tpr, 1)\n",
    "tprs_lower = np.maximum(mean_tpr - std_tpr, 0)\n",
    "plt.fill_between(mean_fpr, tprs_lower, tprs_upper, color='grey', alpha=.2,\n",
    "                 label=r'$\\pm$ 1 std. dev.')\n",
    "\n",
    "plt.xlim([-0.05, 1.05])\n",
    "plt.ylim([-0.05, 1.05])\n",
    "plt.xlabel('False Positive Rate')\n",
    "plt.ylabel('True Positive Rate')\n",
    "plt.title('Receiver operating characteristic example')\n",
    "plt.legend(loc=\"lower right\")\n",
    "plt.show()"
   ]
  }
 ],
 "metadata": {
  "kernelspec": {
   "display_name": "Python 3",
   "language": "python",
   "name": "python3"
  },
  "language_info": {
   "codemirror_mode": {
    "name": "ipython",
    "version": 3
   },
   "file_extension": ".py",
   "mimetype": "text/x-python",
   "name": "python",
   "nbconvert_exporter": "python",
   "pygments_lexer": "ipython3",
   "version": "3.6.1"
  }
 },
 "nbformat": 4,
 "nbformat_minor": 2
}
