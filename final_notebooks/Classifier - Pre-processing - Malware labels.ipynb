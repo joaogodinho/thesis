{
 "cells": [
  {
   "cell_type": "markdown",
   "metadata": {
    "deletable": true,
    "editable": true
   },
   "source": [
    "# Pre-processing - Malware labels\n",
    "\n",
    "This notebook starts the classification process.\n",
    "\n",
    "The first approach is to classify the samples as malware or goodware, based on the top vendors.\n",
    "\n",
    "Before doing so, we take the top vendors and check for variation in first and last classifications, like in \"Data Labeling - Choosing vendors\". This allows us to re-iterate over the chosen threshold for malware (at least 5 vendors)."
   ]
  },
  {
   "cell_type": "code",
   "execution_count": 47,
   "metadata": {
    "collapsed": true,
    "deletable": true,
    "editable": true
   },
   "outputs": [],
   "source": [
    "from IPython.display import display\n",
    "import pandas as pd\n",
    "import numpy as np\n",
    "import matplotlib.pyplot as plt\n",
    "\n",
    "data_folder = '../data/'\n",
    "selected_vendors_file = data_folder + 'vendors_selected.csv.gz'\n",
    "vendors_file = data_folder + 'vendors.csv.gz'\n",
    "reports_file = data_folder + 'reports.csv.gz'\n",
    "malware_file = data_folder + 'malware_samples.csv.gz'\n",
    "goodware_file = data_folder + 'goodware_samples.csv.gz'"
   ]
  },
  {
   "cell_type": "code",
   "execution_count": 14,
   "metadata": {
    "collapsed": false,
    "deletable": true,
    "editable": true
   },
   "outputs": [],
   "source": [
    "reports = pd.read_csv(reports_file)\n",
    "reports.set_index('link', inplace=True)\n",
    "reports.drop(['file_name', 'file_size', 'file_type'], axis=1, inplace=True)\n",
    "reports.date = pd.to_datetime(reports.date, infer_datetime_format=True)\n",
    "\n",
    "selected_vendors = pd.read_csv(selected_vendors_file)\n",
    "selected_vendors.set_index('link', inplace=True)\n",
    "\n",
    "reports_vendors = reports.join(selected_vendors, how='inner')"
   ]
  },
  {
   "cell_type": "code",
   "execution_count": 16,
   "metadata": {
    "collapsed": false,
    "deletable": true,
    "editable": true
   },
   "outputs": [
    {
     "name": "stdout",
     "output_type": "stream",
     "text": [
      "CPU times: user 3min 19s, sys: 125 ms, total: 3min 19s\n",
      "Wall time: 3min 19s\n"
     ]
    }
   ],
   "source": [
    "%%time\n",
    "md5_dups = set(reports_vendors[reports_vendors.md5.duplicated()].md5)\n",
    "reports_duplicated = reports_vendors[reports_vendors.md5.isin(md5_dups)]\n",
    "vendors_count = reports_duplicated.replace('Clean', np.nan)\n",
    "vendors_count = vendors_count.groupby(['md5', 'date']).count().sum(axis=1).reset_index('date')\n",
    "\n",
    "# For differences in first and last submission\n",
    "differences_fl = []\n",
    "# Calculate the pairwise difference between reports\n",
    "for md5 in vendors_count.index.unique():\n",
    "    temp = vendors_count[vendors_count.index == md5].sort_values('date', ascending=False)\n",
    "    count = list(temp[0])\n",
    "    if sum(count) == 0:\n",
    "        continue\n",
    "    differences_fl += [count[0] - count[-1]]"
   ]
  },
  {
   "cell_type": "markdown",
   "metadata": {
    "deletable": true,
    "editable": true
   },
   "source": [
    "The following graph represents the proportion of differences between last and first scan, showing that the tendency is for vendors to increase the number of positive classifications (favor false negatives), rather than decreasing the number of positive classifications (favor false positives)."
   ]
  },
  {
   "cell_type": "code",
   "execution_count": 17,
   "metadata": {
    "collapsed": false,
    "deletable": true,
    "editable": true
   },
   "outputs": [
    {
     "data": {
      "image/png": "[encoded data removed]",
      "text/plain": [
       "<matplotlib.figure.Figure at 0x7fea0fd07400>"
      ]
     },
     "metadata": {},
     "output_type": "display_data"
    }
   ],
   "source": [
    "diff_fl_percent = pd.Series(differences_fl)\n",
    "diff_fl_percent = diff_fl_percent.value_counts().sort_index().divide(len(diff_fl_percent))\n",
    "ax2 = diff_fl_percent.plot.bar(figsize=((30, 10)), ylim=(0, 0.1),\n",
    "                               title='Classification differences between last and first scan')\n",
    "ax2.set_xlabel('Vendors variation')\n",
    "ax2.set_ylabel('Proportion of samples')\n",
    "plt.show()"
   ]
  },
  {
   "cell_type": "code",
   "execution_count": 35,
   "metadata": {
    "collapsed": false,
    "deletable": true,
    "editable": true
   },
   "outputs": [
    {
     "data": {
      "text/plain": [
       "'Samples that go from 3 vendors to none: 0.88%'"
      ]
     },
     "metadata": {},
     "output_type": "display_data"
    },
    {
     "data": {
      "text/plain": [
       "'Samples that go from 3 vendors to one: 1.35%'"
      ]
     },
     "metadata": {},
     "output_type": "display_data"
    }
   ],
   "source": [
    "display('Samples that go from 3 vendors to none: {:.2f}%'.format(\n",
    "    diff_fl_percent[diff_fl_percent.index < -3].sum()*100))\n",
    "display('Samples that go from 3 vendors to one: {:.2f}%'.format(\n",
    "    diff_fl_percent[diff_fl_percent.index < -2].sum()*100))"
   ]
  },
  {
   "cell_type": "markdown",
   "metadata": {
    "deletable": true,
    "editable": true
   },
   "source": [
    "Choosing a threshold $V=3$ gives a confidence of $1 - \\sum_{n=-2}^{-\\infty} P(n) = 1 - 0.0135 = 0.9865$ that a sample will not become clean (i.e. at least one vendor will still classify it as malware)."
   ]
  },
  {
   "cell_type": "markdown",
   "metadata": {},
   "source": [
    "The following filters the samples into malware (if at least 3 vendors classify it as malware) and goodware (if all vendors classify it as clean)"
   ]
  },
  {
   "cell_type": "code",
   "execution_count": 13,
   "metadata": {
    "collapsed": false,
    "deletable": true,
    "editable": true,
    "scrolled": true
   },
   "outputs": [],
   "source": [
    "reports_vendors = reports_vendors.sort_values('date').drop_duplicates(keep='last', subset='md5')\n",
    "reports_vendors.replace('Clean', np.nan, inplace=True)\n",
    "# Threshold is 3, + 2 for md5 and date column\n",
    "malware_samples = reports_vendors[reports_vendors.count(axis=1) >= 3 + 2]\n",
    "goodware_samples = reports_vendors[reports_vendors.count(axis=1) == 2]"
   ]
  },
  {
   "cell_type": "code",
   "execution_count": 46,
   "metadata": {
    "collapsed": false,
    "scrolled": false
   },
   "outputs": [
    {
     "data": {
      "text/plain": [
       "'Malware samples: 169830'"
      ]
     },
     "metadata": {},
     "output_type": "display_data"
    },
    {
     "data": {
      "text/plain": [
       "'Goodware samples: 44719'"
      ]
     },
     "metadata": {},
     "output_type": "display_data"
    }
   ],
   "source": [
    "display('Malware samples: {}'.format(len(malware_samples)))\n",
    "display('Goodware samples: {}'.format(len(goodware_samples)))"
   ]
  },
  {
   "cell_type": "code",
   "execution_count": 48,
   "metadata": {
    "collapsed": true
   },
   "outputs": [],
   "source": [
    "malware_samples.to_csv(malware_file, compression='gzip')\n",
    "goodware_samples.to_csv(goodware_file, compression='gzip')"
   ]
  },
  {
   "cell_type": "markdown",
   "metadata": {},
   "source": [
    "Create the train and test dataset such that the number of malware and goodware is balanced."
   ]
  },
  {
   "cell_type": "code",
   "execution_count": 70,
   "metadata": {
    "collapsed": false
   },
   "outputs": [],
   "source": [
    "upper_limit = len(goodware_samples) if len(goodware_samples) < len(malware_samples) else len(malware_samples)\n",
    "test_size = 0.25\n",
    "train_size = 1 - test_size\n",
    "\n",
    "malware_train = pd.DataFrame(malware_samples[:int(upper_limit * train_size)].index)\n",
    "malware_train['malware'] = 1\n",
    "malware_train.set_index('link', inplace=True)\n",
    "goodware_train = pd.DataFrame(goodware_samples[:int(upper_limit * train_size)].index)\n",
    "goodware_train['malware'] = 0\n",
    "goodware_train.set_index('link', inplace=True)\n",
    "train = pd.concat([malware_train, goodware_train])\n",
    "\n",
    "malware_test = pd.DataFrame(malware_samples[int(upper_limit * train_size):\n",
    "                                            int(upper_limit * train_size) + int(upper_limit * test_size)].index)\n",
    "malware_test['malware'] = 1\n",
    "malware_test.set_index('link', inplace=True)\n",
    "goodware_test = pd.DataFrame(goodware_samples[int(upper_limit * train_size):\n",
    "                                              int(upper_limit * train_size) + int(upper_limit * test_size)].index)\n",
    "goodware_test['malware'] = 0\n",
    "goodware_test.set_index('link', inplace=True)\n",
    "test = pd.concat([malware_test, goodware_test])"
   ]
  }
 ],
 "metadata": {
  "kernelspec": {
   "display_name": "Python 3",
   "language": "python",
   "name": "python3"
  },
  "language_info": {
   "codemirror_mode": {
    "name": "ipython",
    "version": 3
   },
   "file_extension": ".py",
   "mimetype": "text/x-python",
   "name": "python",
   "nbconvert_exporter": "python",
   "pygments_lexer": "ipython3",
   "version": "3.6.1"
  }
 },
 "nbformat": 4,
 "nbformat_minor": 2
}
