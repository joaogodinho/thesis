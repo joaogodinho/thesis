{
 "cells": [
  {
   "cell_type": "markdown",
   "metadata": {
    "deletable": true,
    "editable": true
   },
   "source": [
    "# Normalize AV Classifcation\n",
    "\n",
    "Trying to figure out the naming convention each vendor uses, this allows a finer filter on choosing malware."
   ]
  },
  {
   "cell_type": "code",
   "execution_count": 49,
   "metadata": {
    "collapsed": false,
    "deletable": true,
    "editable": true
   },
   "outputs": [
    {
     "name": "stdout",
     "output_type": "stream",
     "text": [
      "Total samples: 388513\n"
     ]
    }
   ],
   "source": [
    "import pandas as pd\n",
    "import numpy as np\n",
    "import datetime\n",
    "import re\n",
    "from IPython.display import display\n",
    "from sklearn.feature_extraction.text import CountVectorizer\n",
    "\n",
    "pe32_av = pd.read_csv('data/pe32_static_av.csv', dtype=str)\n",
    "pe32_av['date'] = pd.to_datetime(pe32_av['date'], format='%Y/%m/%d')\n",
    "pe32_av = pe32_av.set_index('date').sort_index()\n",
    "\n",
    "# Filter vendors with high presence\n",
    "vendors_presence = pd.Series.from_csv('data/vendors_presence.csv')\n",
    "vendors = vendors_presence[vendors_presence > 0.7].keys()\n",
    "\n",
    "# Remove unused columns\n",
    "pe32_av.drop([v for v in pe32_av.columns[2:] if v not in vendors], axis=1, inplace=True)\n",
    "pe32_av.fillna('clean', inplace=True)\n",
    "\n",
    "print('Total samples: {}'.format(len(pe32_av)))"
   ]
  },
  {
   "cell_type": "code",
   "execution_count": 51,
   "metadata": {
    "collapsed": false,
    "deletable": true,
    "editable": true,
    "scrolled": false
   },
   "outputs": [
    {
     "data": {
      "text/plain": [
       "'ahnlab-v3, antiy-avl, avast, avg, bitdefender, cat-quickheal, clamav, comodo, drweb, emsisoft, eset-nod32, f-prot, f-secure, fortinet, gdata, ikarus, jiangmin, k7antivirus, k7gw, kaspersky, malwarebytes, mcafee, mcafee-gw-edition, microsoft, microworld-escan, nano-antivirus, nprotect, panda, sophos, superantispyware, symantec, thehacker, trendmicro, trendmicro-housecall, vba32, vipre, virobot'"
      ]
     },
     "metadata": {},
     "output_type": "display_data"
    }
   ],
   "source": [
    "# Vendors to filter\n",
    "display(', '.join(vendors))"
   ]
  },
  {
   "cell_type": "markdown",
   "metadata": {
    "deletable": true,
    "editable": true
   },
   "source": [
    "## Known Naming\n",
    "\n",
    "Start with vendors that provide their naming convention"
   ]
  },
  {
   "cell_type": "markdown",
   "metadata": {
    "deletable": true,
    "editable": true
   },
   "source": [
    "### Microsoft\n",
    "\n",
    "`TYPE DELIM PLATFORM DELIM FAMILY DELIM VARIANT DELIM INFO`\n",
    "\n",
    "e.g.: `Backdoor:Win32/Caphaw.D!lnk`"
   ]
  },
  {
   "cell_type": "code",
   "execution_count": 169,
   "metadata": {
    "collapsed": false,
    "deletable": true,
    "editable": true,
    "scrolled": false
   },
   "outputs": [
    {
     "data": {
      "text/plain": [
       "type\n",
       "trojan              19005\n",
       "backdoor            16017\n",
       "worm                11679\n",
       "trojandownloader     9643\n",
       "virus                6259\n",
       "virtool              5796\n",
       "pws                  5603\n",
       "adware               3715\n",
       "trojanspy            2961\n",
       "ransom               2688\n",
       "trojandropper        2502\n",
       "hacktool             1905\n",
       "rogue                 712\n",
       "ddos                  413\n",
       "softwarebundler       395\n",
       "trojanproxy           384\n",
       "browsermodifier       241\n",
       "monitoringtool        206\n",
       "dialer                136\n",
       "exploit               136\n",
       "spammer               127\n",
       "trojanclicker         107\n",
       "program                55\n",
       "constructor            51\n",
       "joke                   19\n",
       "tool                   17\n",
       "settingsmodifier        9\n",
       "spyware                 8\n",
       "dos                     6\n",
       "remoteaccess            3\n",
       "misleading              2\n",
       "Name: md5, dtype: int64"
      ]
     },
     "metadata": {},
     "output_type": "display_data"
    },
    {
     "data": {
      "text/plain": [
       "90808"
      ]
     },
     "metadata": {},
     "output_type": "display_data"
    }
   ],
   "source": [
    "microsoft_samples = pe32_av[list(pe32_av.columns[:2]) + ['microsoft']]\n",
    "microsoft_samples = microsoft_samples[microsoft_samples != 'clean'].dropna()\n",
    "\n",
    "microsoft_re = re.compile(r'((?P<type>[^:]+):)?(?P<platform>[^/]+)/(?P<family>[^.!]+)(\\.(?P<variant>[^!]+))?(!(?P<info>.+))?')\n",
    "\n",
    "def microsoft_parse_naming(x):\n",
    "    match = re.match(microsoft_re, x)\n",
    "    name = dict()\n",
    "    attr = ['platform', 'type', 'family', 'variant', 'info']\n",
    "    for a in attr:\n",
    "        name[a] = match.group(a) if match.group(a) else None\n",
    "    return name\n",
    "\n",
    "parsed_micro = pd.DataFrame(list(map(microsoft_parse_naming, microsoft_samples.microsoft)), index=microsoft_samples.link)\n",
    "microsoft_samples = microsoft_samples.join(parsed_micro, on='link').drop(['microsoft'], axis=1)\n",
    "\n",
    "microsoft_samples.to_csv(path_or_buf='data/microsoft_classification.csv')\n",
    "\n",
    "display(microsoft_samples.groupby('type').count().md5.sort_values(ascending=False))\n",
    "display(len(microsoft_samples))"
   ]
  },
  {
   "cell_type": "markdown",
   "metadata": {},
   "source": [
    "### Trendmicro\n",
    "\n",
    "`PREFIX_THREATNAME.SUFFIX`\n",
    "\n",
    "e.g.: `troj_fakeav.smby`"
   ]
  },
  {
   "cell_type": "code",
   "execution_count": 170,
   "metadata": {
    "collapsed": false,
    "scrolled": false
   },
   "outputs": [
    {
     "data": {
      "text/plain": [
       "prefix\n",
       "troj            52525\n",
       "bkdr             7760\n",
       "worm             7703\n",
       "pe               6209\n",
       "tspy             4905\n",
       "mal              4177\n",
       "pak              3826\n",
       "adw              1274\n",
       "ransom           1087\n",
       "hktl              993\n",
       "cryp              530\n",
       "crck              497\n",
       "possible          227\n",
       "rtkt              182\n",
       "dial              136\n",
       "pua               134\n",
       "heurspy           128\n",
       "hb                114\n",
       "hs                 59\n",
       "gray               51\n",
       "joke               43\n",
       "spyw               40\n",
       "ht                 35\n",
       "ddos               24\n",
       "h2                 24\n",
       "ptch               22\n",
       "adware             20\n",
       "dialer             14\n",
       "vbs                13\n",
       "hackingtools       13\n",
       "heur               12\n",
       "test               11\n",
       "crackingapps        8\n",
       "spyware             7\n",
       "js                  6\n",
       "rap                 5\n",
       "freeloader          4\n",
       "apw                 3\n",
       "brex                3\n",
       "jokeprograms        3\n",
       "java                3\n",
       "expl                3\n",
       "reg                 2\n",
       "w2km                2\n",
       "lnk                 1\n",
       "bat                 1\n",
       "atvx                1\n",
       "le                  1\n",
       "w97m                1\n",
       "downloader          1\n",
       "Name: md5, dtype: int64"
      ]
     },
     "metadata": {},
     "output_type": "display_data"
    },
    {
     "data": {
      "text/plain": [
       "92865"
      ]
     },
     "metadata": {},
     "output_type": "display_data"
    }
   ],
   "source": [
    "trendmicro_samples = pe32_av[list(pe32_av.columns[:2]) + ['trendmicro']]\n",
    "trendmicro_samples = trendmicro_samples[trendmicro_samples != 'clean'].dropna()\n",
    "\n",
    "trendmicro_re = re.compile(r'((?P<prefix>[^_]+)_)?(?P<family>[^.]+)(\\.(?P<suffix>(.+)))?')\n",
    "\n",
    "def trendmicro_parse_naming(x):\n",
    "    match = re.match(trendmicro_re, x)\n",
    "    name = dict()\n",
    "    attr = ['prefix', 'family', 'suffix']\n",
    "    for a in attr:\n",
    "        name[a] = match.group(a) if match.group(a) else None\n",
    "    return name\n",
    "\n",
    "parsed_trend = pd.DataFrame(list(map(trendmicro_parse_naming, trendmicro_samples.trendmicro)), index=trendmicro_samples.link)\n",
    "trendmicro_samples = trendmicro_samples.join(parsed_trend, on='link').drop(['trendmicro'], axis=1)\n",
    "\n",
    "trendmicro_samples.to_csv(path_or_buf='data/trendmicro_classification.csv')\n",
    "\n",
    "display(trendmicro_samples.groupby('prefix').count().md5.sort_values(ascending=False))\n",
    "display(len(trendmicro_samples))"
   ]
  },
  {
   "cell_type": "markdown",
   "metadata": {},
   "source": [
    "### Symantec\n",
    "\n",
    "`PREFIX_THREATNAME.SUFFIX[!variant]`\n",
    "\n",
    "e.g.: `troj_fakeav.smby`"
   ]
  },
  {
   "cell_type": "code",
   "execution_count": 166,
   "metadata": {
    "collapsed": false,
    "scrolled": false
   },
   "outputs": [
    {
     "data": {
      "text/plain": [
       "prefix\n",
       "trojan                34065\n",
       "ws                    20860\n",
       "w32                   17004\n",
       "backdoor               9622\n",
       "suspicious             7009\n",
       "infostealer            5928\n",
       "downloader             5527\n",
       "trojan horse           5212\n",
       "adware                 3958\n",
       "packed                 2903\n",
       "sape                   2111\n",
       "heur                   1789\n",
       "hacktool                778\n",
       "pua                     668\n",
       "smg                     371\n",
       "bloodhound              313\n",
       "spyware                 310\n",
       "securityrisk            265\n",
       "dialer                  198\n",
       "ransom                   96\n",
       "passwordrevealer         72\n",
       "w95                      64\n",
       "yontoo                   63\n",
       "download                 50\n",
       "meterpreter              43\n",
       "searchprotect            37\n",
       "secshieldfraud           33\n",
       "netcat                   32\n",
       "virusdoctor              29\n",
       "bitcoinminer             29\n",
       "                      ...  \n",
       "fake bleem trojan         1\n",
       "torntv                    1\n",
       "iminent                   1\n",
       "iframe                    1\n",
       "iepatch                   1\n",
       "icqpws                    1\n",
       "jailbreak                 1\n",
       "lsadump                   1\n",
       "ultradefragger            1\n",
       "malwaredoctor             1\n",
       "superoptimizer            1\n",
       "monday                    1\n",
       "fanta                     1\n",
       "msil                      1\n",
       "easyspywarecleaner        1\n",
       "speedypcpro               1\n",
       "driversupport             1\n",
       "mycleanerpc               1\n",
       "drivernavigator           1\n",
       "sudoplanet                1\n",
       "diskknight                1\n",
       "dirdos                    1\n",
       "dialuppwd                 1\n",
       "ocx                       1\n",
       "w98                       1\n",
       "spywareprotect2009        1\n",
       "cuki                      1\n",
       "trojan generator          1\n",
       "couponbar                 1\n",
       "craagle                   1\n",
       "Name: md5, dtype: int64"
      ]
     },
     "metadata": {},
     "output_type": "display_data"
    },
    {
     "data": {
      "text/plain": [
       "120092"
      ]
     },
     "metadata": {},
     "output_type": "display_data"
    }
   ],
   "source": [
    "symantec_samples = pe32_av[list(pe32_av.columns[:2]) + ['symantec']]\n",
    "symantec_samples = symantec_samples[symantec_samples != 'clean'].dropna()\n",
    "\n",
    "symantec_re = re.compile(r'(?P<prefix>[^.!]+)(\\.(?P<family>[^!.]+))?(\\.(?P<suffix>(.+)))?(!(?P<variant>(.+)))?')\n",
    "\n",
    "def symantec_parse_naming(x):\n",
    "    match = re.match(symantec_re, x)\n",
    "    name = dict()\n",
    "    attr = ['prefix', 'family', 'variant', 'suffix']\n",
    "    for a in attr:\n",
    "        name[a] = match.group(a) if match.group(a) else None\n",
    "    return name\n",
    "\n",
    "parsed_syman = pd.DataFrame(list(map(symantec_parse_naming, symantec_samples.symantec)), index=symantec_samples.link)\n",
    "symantec_samples = symantec_samples.join(parsed_syman, on='link').drop(['symantec'], axis=1)\n",
    "\n",
    "symantec_samples.to_csv(path_or_buf='data/symantec_classification.csv')\n",
    "\n",
    "display(symantec_samples.groupby('prefix').count().md5.sort_values(ascending=False))\n",
    "display(len(symantec_samples))"
   ]
  }
 ],
 "metadata": {
  "kernelspec": {
   "display_name": "Python 3",
   "language": "python",
   "name": "python3"
  },
  "language_info": {
   "codemirror_mode": {
    "name": "ipython",
    "version": 3
   },
   "file_extension": ".py",
   "mimetype": "text/x-python",
   "name": "python",
   "nbconvert_exporter": "python",
   "pygments_lexer": "ipython3",
   "version": "3.6.0"
  }
 },
 "nbformat": 4,
 "nbformat_minor": 2
}
