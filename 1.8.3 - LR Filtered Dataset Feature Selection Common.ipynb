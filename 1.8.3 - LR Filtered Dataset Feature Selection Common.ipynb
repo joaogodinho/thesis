{
 "cells": [
  {
   "cell_type": "markdown",
   "metadata": {
    "deletable": true,
    "editable": true
   },
   "source": [
    "# LR Filtered Dataset\n",
    "\n",
    "Testing the classifier when using a filtered dataset (selected malware types e.g. virus, trojan, worm) with feature selection"
   ]
  },
  {
   "cell_type": "code",
   "execution_count": 1,
   "metadata": {
    "collapsed": false,
    "deletable": true,
    "editable": true,
    "scrolled": true
   },
   "outputs": [
    {
     "name": "stdout",
     "output_type": "stream",
     "text": [
      "Total goodware: 27779\n",
      "Total malware: 54933\n"
     ]
    }
   ],
   "source": [
    "import pandas as pd\n",
    "import numpy as np\n",
    "import math\n",
    "from IPython.display import display\n",
    "from sklearn.feature_extraction.text import CountVectorizer\n",
    "from sklearn.linear_model import LogisticRegression\n",
    "from sklearn.metrics import confusion_matrix\n",
    "import lib.helpers as jcfg_helpers\n",
    "\n",
    "\n",
    "samples = pd.read_csv('data/pe32_imports_labeled.csv')\n",
    "samples['date'] = pd.to_datetime(samples['date'], format='%Y/%m/%d')\n",
    "samples = samples.set_index('date').sort_index()\n",
    "\n",
    "samples = samples[samples.imports.str.count(';') > 5]\n",
    "\n",
    "goodware = samples[samples.malware == 0]\n",
    "malware = samples[samples.malware == 1]\n",
    "\n",
    "print('Total goodware: {}'.format(len(goodware)))\n",
    "print('Total malware: {}'.format(len(malware)))"
   ]
  },
  {
   "cell_type": "markdown",
   "metadata": {
    "deletable": true,
    "editable": true
   },
   "source": [
    "## Feature Selection\n",
    "\n",
    "Get common and exclusive features for both malware and goodware"
   ]
  },
  {
   "cell_type": "code",
   "execution_count": 2,
   "metadata": {
    "collapsed": false,
    "deletable": true,
    "editable": true
   },
   "outputs": [
    {
     "name": "stdout",
     "output_type": "stream",
     "text": [
      "Malware total features (with min_df): 18450\n",
      "Goodware total features (with min_df): 85770\n",
      "Common features: 13442\n"
     ]
    }
   ],
   "source": [
    "cv_token_pattern = u'[^;]+'\n",
    "min_df = 2\n",
    "\n",
    "# Feature Vector for malware\n",
    "cv_malware = CountVectorizer(token_pattern=cv_token_pattern, min_df=min_df)\n",
    "cv_malware.fit(malware.imports)\n",
    "\n",
    "malware_features = set(cv_malware.get_feature_names())\n",
    "print('Malware total features (with min_df): {}'.format(len(malware_features)))\n",
    "\n",
    "# Feature Vector for goodware\n",
    "cv_goodware = CountVectorizer(token_pattern=cv_token_pattern, min_df=min_df)\n",
    "cv_goodware.fit(goodware.imports)\n",
    "\n",
    "goodware_features = set(cv_goodware.get_feature_names())\n",
    "print('Goodware total features (with min_df): {}'.format(len(goodware_features)))\n",
    "\n",
    "# Do the filtering\n",
    "common_features = malware_features.intersection(goodware_features)\n",
    "print('Common features: {}'.format(len(common_features)))"
   ]
  },
  {
   "cell_type": "markdown",
   "metadata": {
    "deletable": true,
    "editable": true
   },
   "source": [
    "## Dataset for Trojans"
   ]
  },
  {
   "cell_type": "code",
   "execution_count": 3,
   "metadata": {
    "collapsed": false,
    "deletable": true,
    "editable": true,
    "scrolled": true
   },
   "outputs": [
    {
     "name": "stdout",
     "output_type": "stream",
     "text": [
      "Total malware: 34619\n"
     ]
    }
   ],
   "source": [
    "microsoft_class = pd.read_csv('data/microsoft_classification.csv')\n",
    "microsoft_class.fillna('', inplace=True)\n",
    "symantec_class = pd.read_csv('data/symantec_classification.csv')\n",
    "symantec_class.fillna('', inplace=True)\n",
    "trendmicro_class = pd.read_csv('data/trendmicro_classification.csv')\n",
    "trendmicro_class.fillna('', inplace=True)\n",
    "\n",
    "microsoft_filter = microsoft_class[microsoft_class.type == 'trojan']\n",
    "symantec_filter = symantec_class[symantec_class.prefix == 'trojan']\n",
    "trendmicro_filter = trendmicro_class[trendmicro_class.prefix == 'troj']\n",
    "\n",
    "links = pd.concat([microsoft_filter.link, symantec_filter.link, trendmicro_filter.link]).unique()\n",
    "\n",
    "filtered_malware = samples[samples.link.isin(links)]\n",
    "\n",
    "print('Total malware: {}'.format(len(filtered_malware)))"
   ]
  },
  {
   "cell_type": "markdown",
   "metadata": {
    "deletable": true,
    "editable": true
   },
   "source": [
    "## Testing (common features)\n",
    "\n",
    "Creating multiple LR and varying the ratio of malware/goodware in training/validation"
   ]
  },
  {
   "cell_type": "code",
   "execution_count": 4,
   "metadata": {
    "collapsed": false,
    "deletable": true,
    "editable": true,
    "scrolled": false
   },
   "outputs": [
    {
     "name": "stdout",
     "output_type": "stream",
     "text": [
      "\t\tDownscale of 0.1\n",
      "CC:\t0.9307\n",
      "DR:\t0.3847\n",
      "FP:\t0.2764\n",
      "FN:\t0.0587\n",
      "\n",
      "\t\tDownscale of 0.2\n",
      "CC:\t0.8857\n",
      "DR:\t0.4676\n",
      "FP:\t0.2471\n",
      "FN:\t0.0989\n",
      "\n",
      "\t\tDownscale of 0.3\n",
      "CC:\t0.7860\n",
      "DR:\t0.2122\n",
      "FP:\t0.3970\n",
      "FN:\t0.1979\n",
      "\n",
      "\t\tDownscale of 0.4\n",
      "CC:\t0.8872\n",
      "DR:\t0.7875\n",
      "FP:\t0.1882\n",
      "FN:\t0.0840\n",
      "\n",
      "\t\tDownscale of 0.5\n",
      "CC:\t0.8613\n",
      "DR:\t0.7601\n",
      "FP:\t0.1882\n",
      "FN:\t0.1163\n",
      "\n",
      "\t\tDownscale of 0.6\n",
      "CC:\t0.8491\n",
      "DR:\t0.7631\n",
      "FP:\t0.1781\n",
      "FN:\t0.1363\n",
      "\n",
      "\t\tDownscale of 0.7\n",
      "CC:\t0.8031\n",
      "DR:\t0.6747\n",
      "FP:\t0.1847\n",
      "FN:\t0.2032\n",
      "\n",
      "\t\tDownscale of 0.8\n",
      "CC:\t0.8039\n",
      "DR:\t0.7077\n",
      "FP:\t0.1738\n",
      "FN:\t0.2098\n",
      "\n",
      "\t\tDownscale of 0.9\n",
      "CC:\t0.8103\n",
      "DR:\t0.7489\n",
      "FP:\t0.1664\n",
      "FN:\t0.2070\n",
      "\n",
      "\t\tDownscale of 1.0\n",
      "CC:\t0.7850\n",
      "DR:\t0.7124\n",
      "FP:\t0.1666\n",
      "FN:\t0.2511\n",
      "\n"
     ]
    }
   ],
   "source": [
    "for i in np.arange(0.1, 1.1, 0.1):\n",
    "    print('\\t\\tDownscale of {:.1f}'.format(i))\n",
    "    # Training/Validation creation\n",
    "    training, validation = jcfg_helpers.train_test_split(\n",
    "    pd.concat([goodware, filtered_malware]),\n",
    "    validation_size = 0.25,\n",
    "    balanced = True,\n",
    "    malware_downscale = i)\n",
    "    #print('Malware in training: {}\\nGoodware in training: {}'.format(len(training[training.malware == 1]),\n",
    "    #                                                                 len(training[training.malware == 0])))\n",
    "    #print('Malware in validation: {}\\nGoodware in validation: {}'.format(len(validation[validation.malware == 1]),\n",
    "    #                                                                     len(validation[validation.malware == 0])))\n",
    "    \n",
    "    ################\n",
    "    # Feature Vector\n",
    "    cv_token_pattern = u'[^;]+'\n",
    "    min_df = 2\n",
    "    cv = CountVectorizer(token_pattern=cv_token_pattern, min_df=min_df, vocabulary=common_features)\n",
    "    train_X = cv.fit_transform(training.imports)\n",
    "    #print('Total features: {}'.format(len(cv.get_feature_names())))\n",
    "    \n",
    "    ################\n",
    "    # Logistic Regression\n",
    "    train_Y = training.malware\n",
    "    lr = LogisticRegression().fit(train_X, train_Y)\n",
    "\n",
    "    ################\n",
    "    # Scoring\n",
    "    test_X = cv.transform(validation.imports)\n",
    "    test_Y = validation.malware\n",
    "    score = confusion_matrix(test_Y, lr.predict(test_X))\n",
    "    fp_rate, fn_rate, cc_rate, det_rate = jcfg_helpers.calc_ratios(score)\n",
    "    print('CC:\\t{:.4f}'.format(cc_rate))\n",
    "    print('DR:\\t{:.4f}'.format(det_rate))\n",
    "    print('FP:\\t{:.4f}'.format(fp_rate))\n",
    "    print('FN:\\t{:.4f}'.format(fn_rate))\n",
    "    # malware_only = lr.predict_proba(test_X[np.where(test_Y == 1)])\n",
    "    # goodware_only = lr.predict_proba(test_X[np.where(test_Y == 0)])\n",
    "    # print('\\nMalware stats:')\n",
    "    # display(pd.Series(malware_only[:,1]).describe())\n",
    "    # print('\\nGoodware stats:')\n",
    "    # display(pd.Series(goodware_only[:,0]).describe())\n",
    "    print()"
   ]
  },
  {
   "cell_type": "markdown",
   "metadata": {
    "deletable": true,
    "editable": true
   },
   "source": [
    "## Dataset for Backdoors"
   ]
  },
  {
   "cell_type": "code",
   "execution_count": 5,
   "metadata": {
    "collapsed": false,
    "deletable": true,
    "editable": true
   },
   "outputs": [
    {
     "name": "stdout",
     "output_type": "stream",
     "text": [
      "Total malware: 8887\n"
     ]
    }
   ],
   "source": [
    "microsoft_class = pd.read_csv('data/microsoft_classification.csv')\n",
    "microsoft_class.fillna('', inplace=True)\n",
    "symantec_class = pd.read_csv('data/symantec_classification.csv')\n",
    "symantec_class.fillna('', inplace=True)\n",
    "trendmicro_class = pd.read_csv('data/trendmicro_classification.csv')\n",
    "trendmicro_class.fillna('', inplace=True)\n",
    "\n",
    "microsoft_filter = microsoft_class[microsoft_class.type == 'backdoor']\n",
    "symantec_filter = symantec_class[symantec_class.prefix == 'backdoor']\n",
    "trendmicro_filter = trendmicro_class[trendmicro_class.prefix == 'bkdr']\n",
    "\n",
    "links = pd.concat([microsoft_filter.link, symantec_filter.link, trendmicro_filter.link]).unique()\n",
    "\n",
    "filtered_malware = samples[samples.link.isin(links)]\n",
    "\n",
    "print('Total malware: {}'.format(len(filtered_malware)))"
   ]
  },
  {
   "cell_type": "markdown",
   "metadata": {
    "deletable": true,
    "editable": true
   },
   "source": [
    "## Testing (common features)\n",
    "\n",
    "Creating multiple LR and varying the ratio of malware/goodware in training/validation"
   ]
  },
  {
   "cell_type": "code",
   "execution_count": 6,
   "metadata": {
    "collapsed": false,
    "deletable": true,
    "editable": true,
    "scrolled": false
   },
   "outputs": [
    {
     "name": "stdout",
     "output_type": "stream",
     "text": [
      "\t\tDownscale of 0.1\n",
      "CC:\t0.9366\n",
      "DR:\t0.4369\n",
      "FP:\t0.2362\n",
      "FN:\t0.0540\n",
      "\n",
      "\t\tDownscale of 0.2\n",
      "CC:\t0.9171\n",
      "DR:\t0.6622\n",
      "FP:\t0.1945\n",
      "FN:\t0.0652\n",
      "\n",
      "\t\tDownscale of 0.3\n",
      "CC:\t0.9086\n",
      "DR:\t0.8228\n",
      "FP:\t0.2104\n",
      "FN:\t0.0538\n",
      "\n",
      "\t\tDownscale of 0.4\n",
      "CC:\t0.8752\n",
      "DR:\t0.7286\n",
      "FP:\t0.1851\n",
      "FN:\t0.1041\n",
      "\n",
      "\t\tDownscale of 0.5\n",
      "CC:\t0.8658\n",
      "DR:\t0.7604\n",
      "FP:\t0.1766\n",
      "FN:\t0.1154\n",
      "\n",
      "\t\tDownscale of 0.6\n",
      "CC:\t0.8559\n",
      "DR:\t0.7875\n",
      "FP:\t0.1792\n",
      "FN:\t0.1244\n",
      "\n",
      "\t\tDownscale of 0.7\n",
      "CC:\t0.8551\n",
      "DR:\t0.8205\n",
      "FP:\t0.1737\n",
      "FN:\t0.1250\n",
      "\n",
      "\t\tDownscale of 0.8\n",
      "CC:\t0.8569\n",
      "DR:\t0.8446\n",
      "FP:\t0.1648\n",
      "FN:\t0.1254\n",
      "\n",
      "\t\tDownscale of 0.9\n",
      "CC:\t0.8452\n",
      "DR:\t0.8293\n",
      "FP:\t0.1585\n",
      "FN:\t0.1516\n",
      "\n",
      "\t\tDownscale of 1.0\n",
      "CC:\t0.8217\n",
      "DR:\t0.7897\n",
      "FP:\t0.1563\n",
      "FN:\t0.1976\n",
      "\n"
     ]
    }
   ],
   "source": [
    "for i in np.arange(0.1, 1.1, 0.1):\n",
    "    print('\\t\\tDownscale of {:.1f}'.format(i))\n",
    "    # Training/Validation creation\n",
    "    training, validation = jcfg_helpers.train_test_split(\n",
    "    pd.concat([goodware, filtered_malware]),\n",
    "    validation_size = 0.25,\n",
    "    balanced = True,\n",
    "    malware_downscale = i)\n",
    "    #print('Malware in training: {}\\nGoodware in training: {}'.format(len(training[training.malware == 1]),\n",
    "    #                                                                 len(training[training.malware == 0])))\n",
    "    #print('Malware in validation: {}\\nGoodware in validation: {}'.format(len(validation[validation.malware == 1]),\n",
    "    #                                                                     len(validation[validation.malware == 0])))\n",
    "    \n",
    "    ################\n",
    "    # Feature Vector\n",
    "    cv_token_pattern = u'[^;]+'\n",
    "    min_df = 2\n",
    "    cv = CountVectorizer(token_pattern=cv_token_pattern, min_df=min_df, vocabulary=common_features)\n",
    "    train_X = cv.fit_transform(training.imports)\n",
    "    #print('Total features: {}'.format(len(cv.get_feature_names())))\n",
    "    \n",
    "    ################\n",
    "    # Logistic Regression\n",
    "    train_Y = training.malware\n",
    "    lr = LogisticRegression().fit(train_X, train_Y)\n",
    "\n",
    "    ################\n",
    "    # Scoring\n",
    "    test_X = cv.transform(validation.imports)\n",
    "    test_Y = validation.malware\n",
    "    score = confusion_matrix(test_Y, lr.predict(test_X))\n",
    "    fp_rate, fn_rate, cc_rate, det_rate = jcfg_helpers.calc_ratios(score)\n",
    "    print('CC:\\t{:.4f}'.format(cc_rate))\n",
    "    print('DR:\\t{:.4f}'.format(det_rate))\n",
    "    print('FP:\\t{:.4f}'.format(fp_rate))\n",
    "    print('FN:\\t{:.4f}'.format(fn_rate))\n",
    "    # malware_only = lr.predict_proba(test_X[np.where(test_Y == 1)])\n",
    "    # goodware_only = lr.predict_proba(test_X[np.where(test_Y == 0)])\n",
    "    # print('\\nMalware stats:')\n",
    "    # display(pd.Series(malware_only[:,1]).describe())\n",
    "    # print('\\nGoodware stats:')\n",
    "    # display(pd.Series(goodware_only[:,0]).describe())\n",
    "    print()"
   ]
  },
  {
   "cell_type": "markdown",
   "metadata": {
    "deletable": true,
    "editable": true
   },
   "source": [
    "## Dataset for Worms"
   ]
  },
  {
   "cell_type": "code",
   "execution_count": 7,
   "metadata": {
    "collapsed": false,
    "deletable": true,
    "editable": true
   },
   "outputs": [
    {
     "name": "stdout",
     "output_type": "stream",
     "text": [
      "Total malware: 7120\n"
     ]
    }
   ],
   "source": [
    "microsoft_class = pd.read_csv('data/microsoft_classification.csv')\n",
    "microsoft_class.fillna('', inplace=True)\n",
    "symantec_class = pd.read_csv('data/symantec_classification.csv')\n",
    "symantec_class.fillna('', inplace=True)\n",
    "trendmicro_class = pd.read_csv('data/trendmicro_classification.csv')\n",
    "trendmicro_class.fillna('', inplace=True)\n",
    "\n",
    "microsoft_filter = microsoft_class[microsoft_class.type == 'worm']\n",
    "symantec_filter = symantec_class[symantec_class.suffix == 'worm']\n",
    "trendmicro_filter = trendmicro_class[trendmicro_class.prefix == 'worm']\n",
    "\n",
    "links = pd.concat([microsoft_filter.link, symantec_filter.link, trendmicro_filter.link]).unique()\n",
    "\n",
    "filtered_malware = samples[samples.link.isin(links)]\n",
    "\n",
    "print('Total malware: {}'.format(len(filtered_malware)))"
   ]
  },
  {
   "cell_type": "markdown",
   "metadata": {
    "deletable": true,
    "editable": true
   },
   "source": [
    "## Testing (common features)\n",
    "\n",
    "Creating multiple LR and varying the ratio of malware/goodware in training/validation"
   ]
  },
  {
   "cell_type": "code",
   "execution_count": 8,
   "metadata": {
    "collapsed": false,
    "deletable": true,
    "editable": true,
    "scrolled": false
   },
   "outputs": [
    {
     "name": "stdout",
     "output_type": "stream",
     "text": [
      "\t\tDownscale of 0.1\n",
      "CC:\t0.9142\n",
      "DR:\t0.4157\n",
      "FP:\t0.4638\n",
      "FN:\t0.0571\n",
      "\n",
      "\t\tDownscale of 0.2\n",
      "CC:\t0.9583\n",
      "DR:\t0.9803\n",
      "FP:\t0.1903\n",
      "FN:\t0.0041\n",
      "\n",
      "\t\tDownscale of 0.3\n",
      "CC:\t0.9283\n",
      "DR:\t0.8408\n",
      "FP:\t0.1528\n",
      "FN:\t0.0476\n",
      "\n",
      "\t\tDownscale of 0.4\n",
      "CC:\t0.9250\n",
      "DR:\t0.8806\n",
      "FP:\t0.1399\n",
      "FN:\t0.0482\n",
      "\n",
      "\t\tDownscale of 0.5\n",
      "CC:\t0.9378\n",
      "DR:\t0.9393\n",
      "FP:\t0.1181\n",
      "FN:\t0.0314\n",
      "\n",
      "\t\tDownscale of 0.6\n",
      "CC:\t0.9266\n",
      "DR:\t0.9204\n",
      "FP:\t0.1120\n",
      "FN:\t0.0488\n",
      "\n",
      "\t\tDownscale of 0.7\n",
      "CC:\t0.9032\n",
      "DR:\t0.8732\n",
      "FP:\t0.1104\n",
      "FN:\t0.0876\n",
      "\n",
      "\t\tDownscale of 0.8\n",
      "CC:\t0.8820\n",
      "DR:\t0.8371\n",
      "FP:\t0.1091\n",
      "FN:\t0.1243\n",
      "\n",
      "\t\tDownscale of 0.9\n",
      "CC:\t0.8696\n",
      "DR:\t0.8240\n",
      "FP:\t0.1075\n",
      "FN:\t0.1482\n",
      "\n",
      "\t\tDownscale of 1.0\n",
      "CC:\t0.8610\n",
      "DR:\t0.8146\n",
      "FP:\t0.1022\n",
      "FN:\t0.1697\n",
      "\n"
     ]
    }
   ],
   "source": [
    "for i in np.arange(0.1, 1.1, 0.1):\n",
    "    print('\\t\\tDownscale of {:.1f}'.format(i))\n",
    "    # Training/Validation creation\n",
    "    training, validation = jcfg_helpers.train_test_split(\n",
    "    pd.concat([goodware, filtered_malware]),\n",
    "    validation_size = 0.25,\n",
    "    balanced = True,\n",
    "    malware_downscale = i)\n",
    "    #print('Malware in training: {}\\nGoodware in training: {}'.format(len(training[training.malware == 1]),\n",
    "    #                                                                 len(training[training.malware == 0])))\n",
    "    #print('Malware in validation: {}\\nGoodware in validation: {}'.format(len(validation[validation.malware == 1]),\n",
    "    #                                                                     len(validation[validation.malware == 0])))\n",
    "    \n",
    "    ################\n",
    "    # Feature Vector\n",
    "    cv_token_pattern = u'[^;]+'\n",
    "    min_df = 2\n",
    "    cv = CountVectorizer(token_pattern=cv_token_pattern, min_df=min_df, vocabulary=common_features)\n",
    "    train_X = cv.fit_transform(training.imports)\n",
    "    #print('Total features: {}'.format(len(cv.get_feature_names())))\n",
    "    \n",
    "    ################\n",
    "    # Logistic Regression\n",
    "    train_Y = training.malware\n",
    "    lr = LogisticRegression().fit(train_X, train_Y)\n",
    "\n",
    "    ################\n",
    "    # Scoring\n",
    "    test_X = cv.transform(validation.imports)\n",
    "    test_Y = validation.malware\n",
    "    score = confusion_matrix(test_Y, lr.predict(test_X))\n",
    "    fp_rate, fn_rate, cc_rate, det_rate = jcfg_helpers.calc_ratios(score)\n",
    "    print('CC:\\t{:.4f}'.format(cc_rate))\n",
    "    print('DR:\\t{:.4f}'.format(det_rate))\n",
    "    print('FP:\\t{:.4f}'.format(fp_rate))\n",
    "    print('FN:\\t{:.4f}'.format(fn_rate))\n",
    "    # malware_only = lr.predict_proba(test_X[np.where(test_Y == 1)])\n",
    "    # goodware_only = lr.predict_proba(test_X[np.where(test_Y == 0)])\n",
    "    # print('\\nMalware stats:')\n",
    "    # display(pd.Series(malware_only[:,1]).describe())\n",
    "    # print('\\nGoodware stats:')\n",
    "    # display(pd.Series(goodware_only[:,0]).describe())\n",
    "    print()"
   ]
  },
  {
   "cell_type": "markdown",
   "metadata": {
    "deletable": true,
    "editable": true
   },
   "source": [
    "## Dataset for Virus"
   ]
  },
  {
   "cell_type": "code",
   "execution_count": 9,
   "metadata": {
    "collapsed": false,
    "deletable": true,
    "editable": true
   },
   "outputs": [
    {
     "name": "stdout",
     "output_type": "stream",
     "text": [
      "Total malware: 3607\n"
     ]
    }
   ],
   "source": [
    "microsoft_class = pd.read_csv('data/microsoft_classification.csv')\n",
    "microsoft_class.fillna('', inplace=True)\n",
    "symantec_class = pd.read_csv('data/symantec_classification.csv')\n",
    "symantec_class.fillna('', inplace=True)\n",
    "trendmicro_class = pd.read_csv('data/trendmicro_classification.csv')\n",
    "trendmicro_class.fillna('', inplace=True)\n",
    "\n",
    "microsoft_filter = microsoft_class[microsoft_class.type == 'virus']\n",
    "symantec_filter = symantec_class[symantec_class.prefix == 'virusdoctor']\n",
    "trendmicro_filter = trendmicro_class[trendmicro_class.family == 'virus']\n",
    "\n",
    "links = pd.concat([microsoft_filter.link, symantec_filter.link, trendmicro_filter.link]).unique()\n",
    "\n",
    "filtered_malware = samples[samples.link.isin(links)]\n",
    "\n",
    "print('Total malware: {}'.format(len(filtered_malware)))"
   ]
  },
  {
   "cell_type": "markdown",
   "metadata": {
    "deletable": true,
    "editable": true
   },
   "source": [
    "## Testing (common features)\n",
    "\n",
    "Creating multiple LR and varying the ratio of malware/goodware in training/validation"
   ]
  },
  {
   "cell_type": "code",
   "execution_count": 10,
   "metadata": {
    "collapsed": false,
    "deletable": true,
    "editable": true
   },
   "outputs": [
    {
     "name": "stdout",
     "output_type": "stream",
     "text": [
      "\t\tDownscale of 0.1\n",
      "CC:\t0.9062\n",
      "DR:\t0.2444\n",
      "FP:\t0.5319\n",
      "FN:\t0.0720\n",
      "\n",
      "\t\tDownscale of 0.2\n",
      "CC:\t0.8622\n",
      "DR:\t0.4722\n",
      "FP:\t0.3885\n",
      "FN:\t0.1008\n",
      "\n",
      "\t\tDownscale of 0.3\n",
      "CC:\t0.8318\n",
      "DR:\t0.5815\n",
      "FP:\t0.3485\n",
      "FN:\t0.1215\n",
      "\n",
      "\t\tDownscale of 0.4\n",
      "CC:\t0.8176\n",
      "DR:\t0.6750\n",
      "FP:\t0.3174\n",
      "FN:\t0.1293\n",
      "\n",
      "\t\tDownscale of 0.5\n",
      "CC:\t0.8194\n",
      "DR:\t0.7289\n",
      "FP:\t0.2711\n",
      "FN:\t0.1354\n",
      "\n",
      "\t\tDownscale of 0.6\n",
      "CC:\t0.7835\n",
      "DR:\t0.6722\n",
      "FP:\t0.2711\n",
      "FN:\t0.1877\n",
      "\n",
      "\t\tDownscale of 0.7\n",
      "CC:\t0.7524\n",
      "DR:\t0.6254\n",
      "FP:\t0.2663\n",
      "FN:\t0.2374\n",
      "\n",
      "\t\tDownscale of 0.8\n",
      "CC:\t0.7323\n",
      "DR:\t0.6306\n",
      "FP:\t0.2701\n",
      "FN:\t0.2663\n",
      "\n",
      "\t\tDownscale of 0.9\n",
      "CC:\t0.7329\n",
      "DR:\t0.6667\n",
      "FP:\t0.2572\n",
      "FN:\t0.2744\n",
      "\n",
      "\t\tDownscale of 1.0\n",
      "CC:\t0.7653\n",
      "DR:\t0.7580\n",
      "FP:\t0.2309\n",
      "FN:\t0.2385\n",
      "\n"
     ]
    }
   ],
   "source": [
    "for i in np.arange(0.1, 1.1, 0.1):\n",
    "    print('\\t\\tDownscale of {:.1f}'.format(i))\n",
    "    # Training/Validation creation\n",
    "    training, validation = jcfg_helpers.train_test_split(\n",
    "    pd.concat([goodware, filtered_malware]),\n",
    "    validation_size = 0.25,\n",
    "    balanced = True,\n",
    "    malware_downscale = i)\n",
    "    #print('Malware in training: {}\\nGoodware in training: {}'.format(len(training[training.malware == 1]),\n",
    "    #                                                                 len(training[training.malware == 0])))\n",
    "    #print('Malware in validation: {}\\nGoodware in validation: {}'.format(len(validation[validation.malware == 1]),\n",
    "    #                                                                     len(validation[validation.malware == 0])))\n",
    "    \n",
    "    ################\n",
    "    # Feature Vector\n",
    "    cv_token_pattern = u'[^;]+'\n",
    "    min_df = 2\n",
    "    cv = CountVectorizer(token_pattern=cv_token_pattern, min_df=min_df, vocabulary=common_features)\n",
    "    train_X = cv.fit_transform(training.imports)\n",
    "    #print('Total features: {}'.format(len(cv.get_feature_names())))\n",
    "    \n",
    "    ################\n",
    "    # Logistic Regression\n",
    "    train_Y = training.malware\n",
    "    lr = LogisticRegression().fit(train_X, train_Y)\n",
    "\n",
    "    ################\n",
    "    # Scoring\n",
    "    test_X = cv.transform(validation.imports)\n",
    "    test_Y = validation.malware\n",
    "    score = confusion_matrix(test_Y, lr.predict(test_X))\n",
    "    fp_rate, fn_rate, cc_rate, det_rate = jcfg_helpers.calc_ratios(score)\n",
    "    print('CC:\\t{:.4f}'.format(cc_rate))\n",
    "    print('DR:\\t{:.4f}'.format(det_rate))\n",
    "    print('FP:\\t{:.4f}'.format(fp_rate))\n",
    "    print('FN:\\t{:.4f}'.format(fn_rate))\n",
    "    # malware_only = lr.predict_proba(test_X[np.where(test_Y == 1)])\n",
    "    # goodware_only = lr.predict_proba(test_X[np.where(test_Y == 0)])\n",
    "    # print('\\nMalware stats:')\n",
    "    # display(pd.Series(malware_only[:,1]).describe())\n",
    "    # print('\\nGoodware stats:')\n",
    "    # display(pd.Series(goodware_only[:,0]).describe())\n",
    "    print()"
   ]
  }
 ],
 "metadata": {
  "kernelspec": {
   "display_name": "Python 3",
   "language": "python",
   "name": "python3"
  },
  "language_info": {
   "codemirror_mode": {
    "name": "ipython",
    "version": 3
   },
   "file_extension": ".py",
   "mimetype": "text/x-python",
   "name": "python",
   "nbconvert_exporter": "python",
   "pygments_lexer": "ipython3",
   "version": "3.6.0"
  }
 },
 "nbformat": 4,
 "nbformat_minor": 2
}
