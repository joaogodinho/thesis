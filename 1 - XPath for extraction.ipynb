{
 "cells": [
  {
   "cell_type": "code",
   "execution_count": 48,
   "metadata": {
    "collapsed": true
   },
   "outputs": [],
   "source": [
    "from lxml import etree\n",
    "from IPython.display import display\n",
    "import gzip\n",
    "\n",
    "data_folder = 'data/'\n",
    "reports_folder = data_folder + 'reports/'\n",
    "test_report = 'NmFlY2U5N2UyNjhkNDllYThmMzc2N2VjYjhjMTc3NTc'"
   ]
  },
  {
   "cell_type": "code",
   "execution_count": 49,
   "metadata": {
    "collapsed": false
   },
   "outputs": [],
   "source": [
    "with gzip.open(reports_folder + test_report) as gz_file:\n",
    "    content = gz_file.read().decode('utf8')"
   ]
  },
  {
   "cell_type": "code",
   "execution_count": 50,
   "metadata": {
    "collapsed": true
   },
   "outputs": [],
   "source": [
    "STR0 = '<section id=\"information\">'\n",
    "STR1 = '<section id=\"file\">'"
   ]
  },
  {
   "cell_type": "code",
   "execution_count": 58,
   "metadata": {
    "collapsed": false
   },
   "outputs": [
    {
     "data": {
      "text/plain": [
       "['NmFlY2U5N2UyNjhkNDllYThmMzc2N2VjYjhjMTc3NTc',\n",
       " '2014-03-01 15:22:11',\n",
       " '0f6984c3b059486798273eb38e13c462',\n",
       " '80896',\n",
       " 'PE32 executable (GUI) Intel 80386, for MS Windows']"
      ]
     },
     "metadata": {},
     "output_type": "display_data"
    }
   ],
   "source": [
    "# Full timestamp\n",
    "doc = etree.HTML(content[content.find(STR0):])\n",
    "time = doc.xpath('//div[@class=\"box-content\"]/table/tbody/tr/td[2]/text()')\n",
    "time = time[0] if len(time) >= 1 else None\n",
    "\n",
    "# File name\n",
    "doc = etree.HTML(content[content.find(STR1):])\n",
    "file_name = doc.xpath('//div[@class=\"box-content\"]/table/tr[1]/td[1]/text()')\n",
    "file_name = file_name[0] if len(file_name) >= 1 else None\n",
    "\n",
    "# File size\n",
    "file_size = doc.xpath('//div[@class=\"box-content\"]/table/tr[2]/td[1]/text()')\n",
    "file_size = file_size[0].split(' ')[0] if len(file_size) >= 1 else None\n",
    "\n",
    "# File type\n",
    "file_type = doc.xpath('//div[@class=\"box-content\"]/table/tr[3]/td[1]/text()')\n",
    "file_type = file_type[0] if len(file_type) >= 1 else None\n",
    "\n",
    "display([test_report, time, file_name, file_size, file_type])"
   ]
  }
 ],
 "metadata": {
  "kernelspec": {
   "display_name": "Python 3",
   "language": "python",
   "name": "python3"
  },
  "language_info": {
   "codemirror_mode": {
    "name": "ipython",
    "version": 3
   },
   "file_extension": ".py",
   "mimetype": "text/x-python",
   "name": "python",
   "nbconvert_exporter": "python",
   "pygments_lexer": "ipython3",
   "version": "3.6.1"
  }
 },
 "nbformat": 4,
 "nbformat_minor": 2
}
