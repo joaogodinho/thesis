{
 "cells": [
  {
   "cell_type": "code",
   "execution_count": 46,
   "metadata": {
    "collapsed": false,
    "deletable": true,
    "editable": true
   },
   "outputs": [],
   "source": [
    "from lxml import etree\n",
    "from IPython.display import display\n",
    "import gzip\n",
    "\n",
    "data_folder = 'data/'\n",
    "reports_folder = data_folder + 'reports/'\n",
    "test_report = 'NmFlY2U5N2UyNjhkNDllYThmMzc2N2VjYjhjMTc3NTc'\n",
    "#test_report = 'NWUxM2ZjYzMzNzYwNDk4YmIwNWM4ZmMzNzJiNDZmOGQ'\n",
    "test_report = 'YmNmNzg0ZWNiZWM2NDVlYzk2NzM4Njc2NTc0NzI4ODY'"
   ]
  },
  {
   "cell_type": "code",
   "execution_count": 47,
   "metadata": {
    "collapsed": false,
    "deletable": true,
    "editable": true
   },
   "outputs": [],
   "source": [
    "with gzip.open(reports_folder + test_report) as gz_file:\n",
    "    content = gz_file.read().decode('utf8')"
   ]
  },
  {
   "cell_type": "markdown",
   "metadata": {},
   "source": [
    "# XPath for reports.csv"
   ]
  },
  {
   "cell_type": "code",
   "execution_count": 8,
   "metadata": {
    "collapsed": true,
    "deletable": true,
    "editable": true
   },
   "outputs": [],
   "source": [
    "STR0 = '<section id=\"information\">'\n",
    "STR1 = '<section id=\"file\">'"
   ]
  },
  {
   "cell_type": "code",
   "execution_count": 9,
   "metadata": {
    "collapsed": false,
    "deletable": true,
    "editable": true
   },
   "outputs": [
    {
     "data": {
      "text/plain": [
       "['NmFlY2U5N2UyNjhkNDllYThmMzc2N2VjYjhjMTc3NTc',\n",
       " '2014-03-01 15:22:11',\n",
       " '0f6984c3b059486798273eb38e13c462',\n",
       " '80896',\n",
       " 'PE32 executable (GUI) Intel 80386, for MS Windows']"
      ]
     },
     "metadata": {},
     "output_type": "display_data"
    }
   ],
   "source": [
    "# Full timestamp\n",
    "doc = etree.HTML(content[content.find(STR0):])\n",
    "if doc is not None:\n",
    "    time = doc.xpath('//div[@class=\"box-content\"]/table/tbody/tr/td[2]/text()')\n",
    "    time = time[0] if len(time) >= 1 else None\n",
    "\n",
    "    # File name\n",
    "    doc = etree.HTML(content[content.find(STR1):])\n",
    "    file_name = doc.xpath('//div[@class=\"box-content\"]/table/tr[1]/td[1]/text()')\n",
    "    file_name = file_name[0] if len(file_name) >= 1 else None\n",
    "\n",
    "    # File size\n",
    "    file_size = doc.xpath('//div[@class=\"box-content\"]/table/tr[2]/td[1]/text()')\n",
    "    file_size = file_size[0].split(' ')[0] if len(file_size) >= 1 else None\n",
    "\n",
    "    # File type\n",
    "    file_type = doc.xpath('//div[@class=\"box-content\"]/table/tr[3]/td[1]/text()')\n",
    "    file_type = file_type[0] if len(file_type) >= 1 else None\n",
    "\n",
    "    display([test_report, time, file_name, file_size, file_type])"
   ]
  },
  {
   "cell_type": "markdown",
   "metadata": {},
   "source": [
    "# XPath for vendors.csv"
   ]
  },
  {
   "cell_type": "code",
   "execution_count": 27,
   "metadata": {
    "collapsed": true
   },
   "outputs": [],
   "source": [
    "STR0 = '<section id=\"static_antivirus\">'"
   ]
  },
  {
   "cell_type": "code",
   "execution_count": 28,
   "metadata": {
    "collapsed": false,
    "scrolled": true
   },
   "outputs": [
    {
     "data": {
      "text/plain": [
       "{'AVG': 'Inject2.UMM',\n",
       " 'Ad-Aware': 'Gen:Variant.Zusy.83195',\n",
       " 'Agnitum': 'Clean',\n",
       " 'AhnLab-V3': 'Clean',\n",
       " 'AntiVir': 'TR/Zusy.83195',\n",
       " 'Antiy-AVL': 'Clean',\n",
       " 'Avast': 'Win32:Malware-gen',\n",
       " 'Baidu-International': 'Trojan.Win32.Daws.axAl',\n",
       " 'BitDefender': 'Gen:Variant.Zusy.83195',\n",
       " 'Bkav': 'Clean',\n",
       " 'ByteHero': 'Clean',\n",
       " 'CAT-QuickHeal': 'Clean',\n",
       " 'CMC': 'Clean',\n",
       " 'ClamAV': 'Clean',\n",
       " 'Commtouch': 'Clean',\n",
       " 'Comodo': 'Clean',\n",
       " 'DrWeb': 'Clean',\n",
       " 'ESET-NOD32': 'a variant of Win32/Injector.AXRB',\n",
       " 'Emsisoft': 'Gen:Variant.Zusy.83195 (B)',\n",
       " 'F-Prot': 'Clean',\n",
       " 'F-Secure': 'Gen:Variant.Zusy.83195',\n",
       " 'Fortinet': 'W32/Injector.AXRB!tr',\n",
       " 'GData': 'Gen:Variant.Zusy.83195',\n",
       " 'Ikarus': 'Trojan-Dropper.Win32.Daws',\n",
       " 'Jiangmin': 'Clean',\n",
       " 'K7AntiVirus': 'Trojan ( 004954b01 )',\n",
       " 'K7GW': 'Trojan ( 004954b01 )',\n",
       " 'Kaspersky': 'Trojan-Dropper.Win32.Daws.cbdd',\n",
       " 'Kingsoft': 'Win32.Troj.Generic.a.(kcloud)',\n",
       " 'Malwarebytes': 'Spyware.Zbot',\n",
       " 'McAfee': 'Artemis!0F6984C3B059',\n",
       " 'McAfee-GW-Edition': 'Artemis!0F6984C3B059',\n",
       " 'MicroWorld-eScan': 'Gen:Variant.Zusy.83195',\n",
       " 'Microsoft': 'Clean',\n",
       " 'NANO-Antivirus': 'Clean',\n",
       " 'Norman': 'Cutwail.CGR',\n",
       " 'Panda': 'Trj/CI.A',\n",
       " 'Qihoo-360': 'Win32/Trojan.5c6',\n",
       " 'Rising': 'Clean',\n",
       " 'SUPERAntiSpyware': '(-1) Unable to load input file.',\n",
       " 'Sophos': 'Troj/Zbot-HOH',\n",
       " 'Symantec': 'Clean',\n",
       " 'TheHacker': 'Clean',\n",
       " 'TotalDefense': 'Clean',\n",
       " 'TrendMicro': 'Clean',\n",
       " 'TrendMicro-HouseCall': 'TROJ_GEN.R0CCB01C114',\n",
       " 'VBA32': 'Clean',\n",
       " 'VIPRE': 'Trojan.Win32.Generic!BT',\n",
       " 'ViRobot': 'Clean',\n",
       " 'nProtect': 'Clean'}"
      ]
     },
     "metadata": {},
     "output_type": "display_data"
    }
   ],
   "source": [
    "doc = etree.HTML(content[content.find(STR0):])\n",
    "if doc is not None:\n",
    "    vendors = dict()\n",
    "    rows = doc.xpath('//section[@id=\"static_antivirus\"]/table/tr[position()>1]')\n",
    "    for tr in rows:\n",
    "        vendor = tr.xpath('td[1]/text()')\n",
    "        sign = tr.xpath('td[2]/span/text()')\n",
    "        if len(vendor) >= 1 and len(sign) >= 1:\n",
    "            vendors[vendor[0]] = sign[0]\n",
    "    display(vendors)"
   ]
  },
  {
   "cell_type": "markdown",
   "metadata": {},
   "source": [
    "# XPath for dlls.csv"
   ]
  },
  {
   "cell_type": "code",
   "execution_count": 48,
   "metadata": {
    "collapsed": true
   },
   "outputs": [],
   "source": [
    "STR0 = '<div id=\"pe_imports\">'"
   ]
  },
  {
   "cell_type": "code",
   "execution_count": 51,
   "metadata": {
    "collapsed": false
   },
   "outputs": [
    {
     "data": {
      "text/plain": [
       "'wsock32.dll;version.dll;winmm.dll;comctl32.dll;mpr.dll;wininet.dll;psapi.dll;iphlpapi.dll;userenv.dll;uxtheme.dll;kernel32.dll;user32.dll;gdi32.dll;comdlg32.dll;advapi32.dll;shell32.dll;ole32.dll;oleaut32.dll'"
      ]
     },
     "metadata": {},
     "output_type": "display_data"
    }
   ],
   "source": [
    "doc = etree.HTML(content[content.find(STR0):])\n",
    "if doc is not None:\n",
    "    dlls = doc.xpath('//div/div/div/strong/text()')\n",
    "    dlls = ';'.join(map(lambda x: x.split(' ')[1].lower(), dlls))\n",
    "display(dlls)"
   ]
  }
 ],
 "metadata": {
  "kernelspec": {
   "display_name": "Python 3",
   "language": "python",
   "name": "python3"
  },
  "language_info": {
   "codemirror_mode": {
    "name": "ipython",
    "version": 3
   },
   "file_extension": ".py",
   "mimetype": "text/x-python",
   "name": "python",
   "nbconvert_exporter": "python",
   "pygments_lexer": "ipython3",
   "version": "3.6.1"
  }
 },
 "nbformat": 4,
 "nbformat_minor": 2
}
