{
 "cells": [
  {
   "cell_type": "code",
   "execution_count": 5,
   "metadata": {
    "collapsed": true,
    "deletable": true,
    "editable": true
   },
   "outputs": [],
   "source": [
    "from lxml import etree\n",
    "from IPython.display import display\n",
    "import gzip\n",
    "\n",
    "data_folder = 'data/'\n",
    "reports_folder = data_folder + 'reports/'\n",
    "test_report = 'NmFlY2U5N2UyNjhkNDllYThmMzc2N2VjYjhjMTc3NTc'\n",
    "test_report = 'NWUxM2ZjYzMzNzYwNDk4YmIwNWM4ZmMzNzJiNDZmOGQ'"
   ]
  },
  {
   "cell_type": "code",
   "execution_count": 10,
   "metadata": {
    "collapsed": false,
    "deletable": true,
    "editable": true
   },
   "outputs": [],
   "source": [
    "with gzip.open(reports_folder + test_report) as gz_file:\n",
    "    content = gz_file.read().decode('utf8')"
   ]
  },
  {
   "cell_type": "code",
   "execution_count": 11,
   "metadata": {
    "collapsed": true,
    "deletable": true,
    "editable": true
   },
   "outputs": [],
   "source": [
    "STR0 = '<section id=\"information\">'\n",
    "STR1 = '<section id=\"file\">'"
   ]
  },
  {
   "cell_type": "code",
   "execution_count": 13,
   "metadata": {
    "collapsed": false,
    "deletable": true,
    "editable": true
   },
   "outputs": [
    {
     "ename": "SyntaxError",
     "evalue": "'return' outside function (<ipython-input-13-44105884b222>, line 4)",
     "output_type": "error",
     "traceback": [
      "\u001b[0;36m  File \u001b[0;32m\"<ipython-input-13-44105884b222>\"\u001b[0;36m, line \u001b[0;32m4\u001b[0m\n\u001b[0;31m    return\u001b[0m\n\u001b[0m    ^\u001b[0m\n\u001b[0;31mSyntaxError\u001b[0m\u001b[0;31m:\u001b[0m 'return' outside function\n"
     ]
    }
   ],
   "source": [
    "# Full timestamp\n",
    "if doc is None:\n",
    "    print((test_report, None, None, None, None))\n",
    "doc = etree.HTML(content[content.find(STR0):])\n",
    "time = doc.xpath('//div[@class=\"box-content\"]/table/tbody/tr/td[2]/text()')\n",
    "time = time[0] if len(time) >= 1 else None\n",
    "\n",
    "# File name\n",
    "doc = etree.HTML(content[content.find(STR1):])\n",
    "file_name = doc.xpath('//div[@class=\"box-content\"]/table/tr[1]/td[1]/text()')\n",
    "file_name = file_name[0] if len(file_name) >= 1 else None\n",
    "\n",
    "# File size\n",
    "file_size = doc.xpath('//div[@class=\"box-content\"]/table/tr[2]/td[1]/text()')\n",
    "file_size = file_size[0].split(' ')[0] if len(file_size) >= 1 else None\n",
    "\n",
    "# File type\n",
    "file_type = doc.xpath('//div[@class=\"box-content\"]/table/tr[3]/td[1]/text()')\n",
    "file_type = file_type[0] if len(file_type) >= 1 else None\n",
    "\n",
    "display([test_report, time, file_name, file_size, file_type])"
   ]
  },
  {
   "cell_type": "code",
   "execution_count": 17,
   "metadata": {
    "collapsed": false
   },
   "outputs": [
    {
     "data": {
      "text/plain": [
       "array([[None, None, None, None]], dtype=object)"
      ]
     },
     "metadata": {},
     "output_type": "display_data"
    },
    {
     "data": {
      "text/plain": [
       "array([None], dtype=object)"
      ]
     },
     "metadata": {},
     "output_type": "display_data"
    }
   ],
   "source": [
    "import numpy as np\n",
    "\n",
    "arr = np.array([(None, None, None, None, None)])\n",
    "\n",
    "display(arr[:,range(1,5)])\n",
    "display(arr[:,0])"
   ]
  }
 ],
 "metadata": {
  "kernelspec": {
   "display_name": "Python 3",
   "language": "python",
   "name": "python3"
  },
  "language_info": {
   "codemirror_mode": {
    "name": "ipython",
    "version": 3
   },
   "file_extension": ".py",
   "mimetype": "text/x-python",
   "name": "python",
   "nbconvert_exporter": "python",
   "pygments_lexer": "ipython3",
   "version": "3.6.1"
  }
 },
 "nbformat": 4,
 "nbformat_minor": 2
}
