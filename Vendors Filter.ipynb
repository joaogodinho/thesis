{
 "cells": [
  {
   "cell_type": "code",
   "execution_count": 7,
   "metadata": {
    "collapsed": false,
    "deletable": true,
    "editable": true,
    "scrolled": false
   },
   "outputs": [],
   "source": [
    "from IPython.display import display\n",
    "import pandas as pd\n",
    "import numpy as np\n",
    "import json\n",
    "\n",
    "frame = pd.read_csv('data/pe32_vendors.csv.gz', dtype=str)\n",
    "frame = frame.set_index('link')\n",
    "# av_classified = frame.count() / len(frame)\n",
    "# top20 = av_classified.sort_values(ascending=False)[:20]\n",
    "# display(top20)"
   ]
  },
  {
   "cell_type": "markdown",
   "metadata": {
    "collapsed": false,
    "deletable": true,
    "editable": true,
    "scrolled": false
   },
   "source": [
    "## Check AV\n",
    "\n",
    "Check how vendors follow each other by looking at duplicated samples."
   ]
  },
  {
   "cell_type": "code",
   "execution_count": 8,
   "metadata": {
    "collapsed": false,
    "deletable": true,
    "editable": true
   },
   "outputs": [],
   "source": [
    "headers = pd.read_csv('data/header_analyses.csv')\n",
    "headers.link = headers.link.apply(lambda x: x.split('/')[-2])\n",
    "headers = headers.set_index('link')\n",
    "headers.date = pd.to_datetime(headers.date, format='%d/%m/%Y')\n",
    "headers.drop(['antivirus', 'file_type', 'file_name'], axis=1, inplace=True)"
   ]
  },
  {
   "cell_type": "code",
   "execution_count": 9,
   "metadata": {
    "collapsed": false,
    "deletable": true,
    "editable": true,
    "scrolled": false
   },
   "outputs": [],
   "source": [
    "frame = frame.join(headers)"
   ]
  },
  {
   "cell_type": "code",
   "execution_count": 153,
   "metadata": {
    "collapsed": false,
    "deletable": true,
    "editable": true,
    "scrolled": false
   },
   "outputs": [
    {
     "data": {
      "text/plain": [
       "'afe07ac688a83295b38469c196e7e566'"
      ]
     },
     "metadata": {},
     "output_type": "display_data"
    },
    {
     "data": {
      "text/html": [
       "<div>\n",
       "<table border=\"1\" class=\"dataframe\">\n",
       "  <thead>\n",
       "    <tr style=\"text-align: right;\">\n",
       "      <th></th>\n",
       "      <th>Antivir7</th>\n",
       "      <th>Antiy-AVL</th>\n",
       "      <th>Arcabit</th>\n",
       "      <th>Authentium</th>\n",
       "      <th>Avast</th>\n",
       "      <th>Avast5</th>\n",
       "      <th>Avira</th>\n",
       "      <th>Baidu</th>\n",
       "      <th>Baidu-International</th>\n",
       "      <th>BitDefender</th>\n",
       "      <th>...</th>\n",
       "      <th>Yandex</th>\n",
       "      <th>Zillya</th>\n",
       "      <th>Zoner</th>\n",
       "      <th>a-squared</th>\n",
       "      <th>ahnlab</th>\n",
       "      <th>eSafe</th>\n",
       "      <th>eScan</th>\n",
       "      <th>eTrust-InoculateIT</th>\n",
       "      <th>eTrust-Vet</th>\n",
       "      <th>nProtect</th>\n",
       "    </tr>\n",
       "    <tr>\n",
       "      <th>link</th>\n",
       "      <th></th>\n",
       "      <th></th>\n",
       "      <th></th>\n",
       "      <th></th>\n",
       "      <th></th>\n",
       "      <th></th>\n",
       "      <th></th>\n",
       "      <th></th>\n",
       "      <th></th>\n",
       "      <th></th>\n",
       "      <th></th>\n",
       "      <th></th>\n",
       "      <th></th>\n",
       "      <th></th>\n",
       "      <th></th>\n",
       "      <th></th>\n",
       "      <th></th>\n",
       "      <th></th>\n",
       "      <th></th>\n",
       "      <th></th>\n",
       "      <th></th>\n",
       "    </tr>\n",
       "  </thead>\n",
       "  <tbody>\n",
       "    <tr>\n",
       "      <th>NzBkNWIyMWIzMWE1NDk1ZjlhZDRmNWZkNGZmMDVmNTc</th>\n",
       "      <td>NaN</td>\n",
       "      <td>NaN</td>\n",
       "      <td>NaN</td>\n",
       "      <td>NaN</td>\n",
       "      <td>Win32:Malware-gen</td>\n",
       "      <td>NaN</td>\n",
       "      <td>TR/Crypt.ZPACK.167116</td>\n",
       "      <td>NaN</td>\n",
       "      <td>Adware.Win32.iBryte.DIRT</td>\n",
       "      <td>Trojan.GenericKD.2422607</td>\n",
       "      <td>...</td>\n",
       "      <td>NaN</td>\n",
       "      <td>NaN</td>\n",
       "      <td>NaN</td>\n",
       "      <td>NaN</td>\n",
       "      <td>NaN</td>\n",
       "      <td>NaN</td>\n",
       "      <td>NaN</td>\n",
       "      <td>NaN</td>\n",
       "      <td>NaN</td>\n",
       "      <td>NaN</td>\n",
       "    </tr>\n",
       "    <tr>\n",
       "      <th>NzU4Y2MzZDMxODMzNGYzMWJjNWZjOTUxZTk3MTdmZmE</th>\n",
       "      <td>NaN</td>\n",
       "      <td>NaN</td>\n",
       "      <td>NaN</td>\n",
       "      <td>NaN</td>\n",
       "      <td>NaN</td>\n",
       "      <td>NaN</td>\n",
       "      <td>NaN</td>\n",
       "      <td>NaN</td>\n",
       "      <td>NaN</td>\n",
       "      <td>NaN</td>\n",
       "      <td>...</td>\n",
       "      <td>NaN</td>\n",
       "      <td>NaN</td>\n",
       "      <td>NaN</td>\n",
       "      <td>NaN</td>\n",
       "      <td>NaN</td>\n",
       "      <td>NaN</td>\n",
       "      <td>NaN</td>\n",
       "      <td>NaN</td>\n",
       "      <td>NaN</td>\n",
       "      <td>NaN</td>\n",
       "    </tr>\n",
       "  </tbody>\n",
       "</table>\n",
       "<p>2 rows × 87 columns</p>\n",
       "</div>"
      ],
      "text/plain": [
       "                                             Antivir7  Antiy-AVL  Arcabit  \\\n",
       "link                                                                        \n",
       "NzBkNWIyMWIzMWE1NDk1ZjlhZDRmNWZkNGZmMDVmNTc       NaN        NaN      NaN   \n",
       "NzU4Y2MzZDMxODMzNGYzMWJjNWZjOTUxZTk3MTdmZmE       NaN        NaN      NaN   \n",
       "\n",
       "                                             Authentium              Avast  \\\n",
       "link                                                                         \n",
       "NzBkNWIyMWIzMWE1NDk1ZjlhZDRmNWZkNGZmMDVmNTc         NaN  Win32:Malware-gen   \n",
       "NzU4Y2MzZDMxODMzNGYzMWJjNWZjOTUxZTk3MTdmZmE         NaN                NaN   \n",
       "\n",
       "                                             Avast5                  Avira  \\\n",
       "link                                                                         \n",
       "NzBkNWIyMWIzMWE1NDk1ZjlhZDRmNWZkNGZmMDVmNTc     NaN  TR/Crypt.ZPACK.167116   \n",
       "NzU4Y2MzZDMxODMzNGYzMWJjNWZjOTUxZTk3MTdmZmE     NaN                    NaN   \n",
       "\n",
       "                                             Baidu       Baidu-International  \\\n",
       "link                                                                           \n",
       "NzBkNWIyMWIzMWE1NDk1ZjlhZDRmNWZkNGZmMDVmNTc    NaN  Adware.Win32.iBryte.DIRT   \n",
       "NzU4Y2MzZDMxODMzNGYzMWJjNWZjOTUxZTk3MTdmZmE    NaN                       NaN   \n",
       "\n",
       "                                                          BitDefender  \\\n",
       "link                                                                    \n",
       "NzBkNWIyMWIzMWE1NDk1ZjlhZDRmNWZkNGZmMDVmNTc  Trojan.GenericKD.2422607   \n",
       "NzU4Y2MzZDMxODMzNGYzMWJjNWZjOTUxZTk3MTdmZmE                       NaN   \n",
       "\n",
       "                                              ...     Yandex  Zillya  Zoner  \\\n",
       "link                                          ...                             \n",
       "NzBkNWIyMWIzMWE1NDk1ZjlhZDRmNWZkNGZmMDVmNTc   ...        NaN     NaN    NaN   \n",
       "NzU4Y2MzZDMxODMzNGYzMWJjNWZjOTUxZTk3MTdmZmE   ...        NaN     NaN    NaN   \n",
       "\n",
       "                                             a-squared  ahnlab  eSafe  eScan  \\\n",
       "link                                                                           \n",
       "NzBkNWIyMWIzMWE1NDk1ZjlhZDRmNWZkNGZmMDVmNTc        NaN     NaN    NaN    NaN   \n",
       "NzU4Y2MzZDMxODMzNGYzMWJjNWZjOTUxZTk3MTdmZmE        NaN     NaN    NaN    NaN   \n",
       "\n",
       "                                             eTrust-InoculateIT  eTrust-Vet  \\\n",
       "link                                                                          \n",
       "NzBkNWIyMWIzMWE1NDk1ZjlhZDRmNWZkNGZmMDVmNTc                 NaN         NaN   \n",
       "NzU4Y2MzZDMxODMzNGYzMWJjNWZjOTUxZTk3MTdmZmE                 NaN         NaN   \n",
       "\n",
       "                                            nProtect  \n",
       "link                                                  \n",
       "NzBkNWIyMWIzMWE1NDk1ZjlhZDRmNWZkNGZmMDVmNTc      NaN  \n",
       "NzU4Y2MzZDMxODMzNGYzMWJjNWZjOTUxZTk3MTdmZmE      NaN  \n",
       "\n",
       "[2 rows x 87 columns]"
      ]
     },
     "metadata": {},
     "output_type": "display_data"
    },
    {
     "data": {
      "text/plain": [
       "array([28,  4])"
      ]
     },
     "metadata": {},
     "output_type": "display_data"
    },
    {
     "data": {
      "text/plain": [
       "{'afe07ac688a83295b38469c196e7e566': -24}"
      ]
     },
     "metadata": {},
     "output_type": "display_data"
    }
   ],
   "source": [
    "# Bad column\n",
    "frame.drop(frame.columns[0], axis=1, inplace=True)\n",
    "\n",
    "dups = set(frame[frame.duplicated('md5')].md5.values)\n",
    "dups = set(['afe07ac688a83295b38469c196e7e566'])\n",
    "diff = dict()\n",
    "\n",
    "for md5 in dups:\n",
    "    display(md5)\n",
    "    sample = frame[frame.md5 == md5].sort_values('date').iloc[[0, -1]].drop(['md5', 'date'], axis=1).replace('Clean', np.nan)\n",
    "    display(sample)\n",
    "    values = sample.count(axis=1).values\n",
    "    display(values)\n",
    "    diff[md5] = values[-1] - values[0]\n",
    "    \n",
    "display(diff)"
   ]
  },
  {
   "cell_type": "code",
   "execution_count": 53,
   "metadata": {
    "collapsed": false,
    "deletable": true,
    "editable": true
   },
   "outputs": [],
   "source": [
    "with open('dups.json', 'r') as file:\n",
    "    content = file.read()\n",
    "# import json\n",
    "# with open('dups.json', 'w') as file:\n",
    "#     for md5, n in diff.items():\n",
    "#         file.write('{},{}\\n'.format(md5, n))\n",
    "content = np.array(content.split('\\n'))\n",
    "content = [c.split(',') for c in content]\n",
    "content = content[:-1]"
   ]
  },
  {
   "cell_type": "code",
   "execution_count": 55,
   "metadata": {
    "collapsed": false,
    "scrolled": false
   },
   "outputs": [],
   "source": [
    "values = []\n",
    "for i in content:\n",
    "    values.append(i[1])"
   ]
  },
  {
   "cell_type": "code",
   "execution_count": 60,
   "metadata": {
    "collapsed": false,
    "scrolled": true
   },
   "outputs": [],
   "source": [
    "import matplotlib.pyplot as plt\n",
    "series = pd.Series(values, dtype=int)"
   ]
  },
  {
   "cell_type": "code",
   "execution_count": 95,
   "metadata": {
    "collapsed": false,
    "scrolled": false
   },
   "outputs": [
    {
     "data": {
      "text/plain": [
       "count    29334.000000\n",
       "mean         3.565692\n",
       "std          7.965992\n",
       "min        -43.000000\n",
       "25%          0.000000\n",
       "50%          0.000000\n",
       "75%          3.000000\n",
       "max         41.000000\n",
       "dtype: float64"
      ]
     },
     "metadata": {},
     "output_type": "display_data"
    },
    {
     "data": {
      "image/png": "[encoded data removed]",
      "text/plain": [
       "<matplotlib.figure.Figure at 0x7fc27b1eb2e8>"
      ]
     },
     "metadata": {},
     "output_type": "display_data"
    }
   ],
   "source": [
    "display(series.describe())\n",
    "# display(series.value_counts().sort_index())\n",
    "series.value_counts().sort_index().plot.bar(figsize=((20, 8)), ylim=(0, 1500))\n",
    "plt.show()"
   ]
  },
  {
   "cell_type": "code",
   "execution_count": 100,
   "metadata": {
    "collapsed": false,
    "scrolled": true
   },
   "outputs": [
    {
     "data": {
      "text/plain": [
       "[['5ce7be4850f1130e2552e782d58a706f', '-24'],\n",
       " ['ae8b07351b55b33dc352e33b64875ada', '-37'],\n",
       " ['afe07ac688a83295b38469c196e7e566', '-22'],\n",
       " ['3b34deae43f1da0706c0aedf0b0402cd', '-43']]"
      ]
     },
     "metadata": {},
     "output_type": "display_data"
    }
   ],
   "source": [
    "display(list(filter(lambda x: int(x[1]) < -20, content)))"
   ]
  },
  {
   "cell_type": "code",
   "execution_count": 184,
   "metadata": {
    "collapsed": false,
    "scrolled": false
   },
   "outputs": [
    {
     "name": "stdout",
     "output_type": "stream",
     "text": [
      "28\n"
     ]
    },
    {
     "data": {
      "text/html": [
       "<div>\n",
       "<table border=\"1\" class=\"dataframe\">\n",
       "  <thead>\n",
       "    <tr style=\"text-align: right;\">\n",
       "      <th></th>\n",
       "      <th>Avast</th>\n",
       "      <th>Avira</th>\n",
       "      <th>Baidu-International</th>\n",
       "      <th>BitDefender</th>\n",
       "      <th>Cyren</th>\n",
       "      <th>DrWeb</th>\n",
       "      <th>ESET-NOD32</th>\n",
       "      <th>Emsisoft</th>\n",
       "      <th>F-Prot</th>\n",
       "      <th>F-Secure</th>\n",
       "      <th>...</th>\n",
       "      <th>McAfee-GW-Edition</th>\n",
       "      <th>MicroWorld-eScan</th>\n",
       "      <th>Microsoft</th>\n",
       "      <th>Panda</th>\n",
       "      <th>Qihoo-360</th>\n",
       "      <th>Rising</th>\n",
       "      <th>Sophos</th>\n",
       "      <th>Tencent</th>\n",
       "      <th>TrendMicro</th>\n",
       "      <th>TrendMicro-HouseCall</th>\n",
       "    </tr>\n",
       "    <tr>\n",
       "      <th>link</th>\n",
       "      <th></th>\n",
       "      <th></th>\n",
       "      <th></th>\n",
       "      <th></th>\n",
       "      <th></th>\n",
       "      <th></th>\n",
       "      <th></th>\n",
       "      <th></th>\n",
       "      <th></th>\n",
       "      <th></th>\n",
       "      <th></th>\n",
       "      <th></th>\n",
       "      <th></th>\n",
       "      <th></th>\n",
       "      <th></th>\n",
       "      <th></th>\n",
       "      <th></th>\n",
       "      <th></th>\n",
       "      <th></th>\n",
       "      <th></th>\n",
       "      <th></th>\n",
       "    </tr>\n",
       "  </thead>\n",
       "  <tbody>\n",
       "    <tr>\n",
       "      <th>NzBkNWIyMWIzMWE1NDk1ZjlhZDRmNWZkNGZmMDVmNTc</th>\n",
       "      <td>Win32:Malware-gen</td>\n",
       "      <td>TR/Crypt.ZPACK.167116</td>\n",
       "      <td>Adware.Win32.iBryte.DIRT</td>\n",
       "      <td>Trojan.GenericKD.2422607</td>\n",
       "      <td>W32/Backdoor.NIJP-1779</td>\n",
       "      <td>BackDoor.Siggen.58526</td>\n",
       "      <td>Win32/Agent.QKJ</td>\n",
       "      <td>Trojan-Downloader.Win32.Agent (A)</td>\n",
       "      <td>W32/Backdoor2.HYEJ</td>\n",
       "      <td>Trojan.Injector.BKI</td>\n",
       "      <td>...</td>\n",
       "      <td>BehavesLike.Win32.Ransom.km</td>\n",
       "      <td>Trojan.Injector.BKI</td>\n",
       "      <td>TrojanDownloader:Win32/Recslurp.B</td>\n",
       "      <td>Trj/Chgt.O</td>\n",
       "      <td>HEUR/QVM20.1.Malware.Gen</td>\n",
       "      <td>PE:Malware.XPACK-LNR/Heur!1.5594</td>\n",
       "      <td>Troj/Kryptik-FH</td>\n",
       "      <td>Trojan.Win32.Qudamah.Gen.0</td>\n",
       "      <td>TROJ_RECSLURP.YWF</td>\n",
       "      <td>TROJ_RECSLURP.YWF</td>\n",
       "    </tr>\n",
       "  </tbody>\n",
       "</table>\n",
       "<p>1 rows × 28 columns</p>\n",
       "</div>"
      ],
      "text/plain": [
       "                                                         Avast  \\\n",
       "link                                                             \n",
       "NzBkNWIyMWIzMWE1NDk1ZjlhZDRmNWZkNGZmMDVmNTc  Win32:Malware-gen   \n",
       "\n",
       "                                                             Avira  \\\n",
       "link                                                                 \n",
       "NzBkNWIyMWIzMWE1NDk1ZjlhZDRmNWZkNGZmMDVmNTc  TR/Crypt.ZPACK.167116   \n",
       "\n",
       "                                                  Baidu-International  \\\n",
       "link                                                                    \n",
       "NzBkNWIyMWIzMWE1NDk1ZjlhZDRmNWZkNGZmMDVmNTc  Adware.Win32.iBryte.DIRT   \n",
       "\n",
       "                                                          BitDefender  \\\n",
       "link                                                                    \n",
       "NzBkNWIyMWIzMWE1NDk1ZjlhZDRmNWZkNGZmMDVmNTc  Trojan.GenericKD.2422607   \n",
       "\n",
       "                                                              Cyren  \\\n",
       "link                                                                  \n",
       "NzBkNWIyMWIzMWE1NDk1ZjlhZDRmNWZkNGZmMDVmNTc  W32/Backdoor.NIJP-1779   \n",
       "\n",
       "                                                             DrWeb  \\\n",
       "link                                                                 \n",
       "NzBkNWIyMWIzMWE1NDk1ZjlhZDRmNWZkNGZmMDVmNTc  BackDoor.Siggen.58526   \n",
       "\n",
       "                                                  ESET-NOD32  \\\n",
       "link                                                           \n",
       "NzBkNWIyMWIzMWE1NDk1ZjlhZDRmNWZkNGZmMDVmNTc  Win32/Agent.QKJ   \n",
       "\n",
       "                                                                      Emsisoft  \\\n",
       "link                                                                             \n",
       "NzBkNWIyMWIzMWE1NDk1ZjlhZDRmNWZkNGZmMDVmNTc  Trojan-Downloader.Win32.Agent (A)   \n",
       "\n",
       "                                                         F-Prot  \\\n",
       "link                                                              \n",
       "NzBkNWIyMWIzMWE1NDk1ZjlhZDRmNWZkNGZmMDVmNTc  W32/Backdoor2.HYEJ   \n",
       "\n",
       "                                                        F-Secure  \\\n",
       "link                                                               \n",
       "NzBkNWIyMWIzMWE1NDk1ZjlhZDRmNWZkNGZmMDVmNTc  Trojan.Injector.BKI   \n",
       "\n",
       "                                                    ...           \\\n",
       "link                                                ...            \n",
       "NzBkNWIyMWIzMWE1NDk1ZjlhZDRmNWZkNGZmMDVmNTc         ...            \n",
       "\n",
       "                                                       McAfee-GW-Edition  \\\n",
       "link                                                                       \n",
       "NzBkNWIyMWIzMWE1NDk1ZjlhZDRmNWZkNGZmMDVmNTc  BehavesLike.Win32.Ransom.km   \n",
       "\n",
       "                                                MicroWorld-eScan  \\\n",
       "link                                                               \n",
       "NzBkNWIyMWIzMWE1NDk1ZjlhZDRmNWZkNGZmMDVmNTc  Trojan.Injector.BKI   \n",
       "\n",
       "                                                                     Microsoft  \\\n",
       "link                                                                             \n",
       "NzBkNWIyMWIzMWE1NDk1ZjlhZDRmNWZkNGZmMDVmNTc  TrojanDownloader:Win32/Recslurp.B   \n",
       "\n",
       "                                                  Panda  \\\n",
       "link                                                      \n",
       "NzBkNWIyMWIzMWE1NDk1ZjlhZDRmNWZkNGZmMDVmNTc  Trj/Chgt.O   \n",
       "\n",
       "                                                            Qihoo-360  \\\n",
       "link                                                                    \n",
       "NzBkNWIyMWIzMWE1NDk1ZjlhZDRmNWZkNGZmMDVmNTc  HEUR/QVM20.1.Malware.Gen   \n",
       "\n",
       "                                                                       Rising  \\\n",
       "link                                                                            \n",
       "NzBkNWIyMWIzMWE1NDk1ZjlhZDRmNWZkNGZmMDVmNTc  PE:Malware.XPACK-LNR/Heur!1.5594   \n",
       "\n",
       "                                                      Sophos  \\\n",
       "link                                                           \n",
       "NzBkNWIyMWIzMWE1NDk1ZjlhZDRmNWZkNGZmMDVmNTc  Troj/Kryptik-FH   \n",
       "\n",
       "                                                                Tencent  \\\n",
       "link                                                                      \n",
       "NzBkNWIyMWIzMWE1NDk1ZjlhZDRmNWZkNGZmMDVmNTc  Trojan.Win32.Qudamah.Gen.0   \n",
       "\n",
       "                                                    TrendMicro  \\\n",
       "link                                                             \n",
       "NzBkNWIyMWIzMWE1NDk1ZjlhZDRmNWZkNGZmMDVmNTc  TROJ_RECSLURP.YWF   \n",
       "\n",
       "                                            TrendMicro-HouseCall  \n",
       "link                                                              \n",
       "NzBkNWIyMWIzMWE1NDk1ZjlhZDRmNWZkNGZmMDVmNTc    TROJ_RECSLURP.YWF  \n",
       "\n",
       "[1 rows x 28 columns]"
      ]
     },
     "metadata": {},
     "output_type": "display_data"
    },
    {
     "name": "stdout",
     "output_type": "stream",
     "text": [
      "Avast\n",
      "Avira\n",
      "Baidu-International\n",
      "BitDefender\n",
      "Cyren\n",
      "DrWeb\n",
      "ESET-NOD32\n",
      "Emsisoft\n",
      "F-Prot\n",
      "F-Secure\n",
      "Fortinet\n",
      "GData\n",
      "Ikarus\n",
      "K7AntiVirus\n",
      "K7GW\n",
      "Kaspersky\n",
      "Malwarebytes\n",
      "McAfee\n",
      "McAfee-GW-Edition\n",
      "MicroWorld-eScan\n",
      "Microsoft\n",
      "Panda\n",
      "Qihoo-360\n",
      "Rising\n",
      "Sophos\n",
      "Tencent\n",
      "TrendMicro\n",
      "TrendMicro-HouseCall\n"
     ]
    },
    {
     "data": {
      "text/plain": [
       "Index(['Antivir7', 'Antiy-AVL', 'Arcabit', 'Authentium', 'Avast', 'Avast5',\n",
       "       'Avira', 'Baidu', 'Baidu-International', 'BitDefender', 'Bkav',\n",
       "       'ByteHero', 'CAT-QuickHeal', 'CMC', 'ClamAV', 'Command', 'Commtouch',\n",
       "       'Comodo', 'CrowdStrike', 'Cyren', 'DrWeb', 'DrWebSE', 'ESET-NOD32',\n",
       "       'Emsisoft', 'Ewido', 'F-Prot', 'F-Prot4', 'F-Secure', 'FileAdvisor',\n",
       "       'Fortinet', 'FortinetBeta', 'GData', 'Ikarus', 'Invincea', 'Jiangmin',\n",
       "       'K7AntiVirus', 'K7GW', 'Kaspersky', 'Kingsoft', 'Malwarebytes',\n",
       "       'McAfee', 'McAfee+Artemis', 'McAfee-GW-Edition', 'McAfeeBeta',\n",
       "       'MicroWorld-eScan', 'Microsoft', 'NANO-Antivirus', 'NOD32', 'NOD32Beta',\n",
       "       'NOD32v2', 'Norman', 'PCTools', 'Panda', 'PandaB3', 'PandaBeta',\n",
       "       'Prevx', 'Prevx1', 'Qihoo-360', 'Rising', 'SAVMail', 'SUPERAntiSpyware',\n",
       "       'SecureWeb-Gateway', 'Sophos', 'Sunbelt', 'Symantec', 'T3', 'Tencent',\n",
       "       'TheHacker', 'TotalDefense', 'TrendMicro', 'TrendMicro-HouseCall',\n",
       "       'UNA', 'VBA32', 'VIPRE', 'ViRobot', 'VirusBuster', 'Webwasher-Gateway',\n",
       "       'Yandex', 'Zillya', 'Zoner', 'a-squared', 'ahnlab', 'eSafe', 'eScan',\n",
       "       'eTrust-InoculateIT', 'eTrust-Vet', 'nProtect', 'md5', 'date'],\n",
       "      dtype='object')"
      ]
     },
     "metadata": {},
     "output_type": "display_data"
    }
   ],
   "source": [
    "for r in frame[frame.index == 'NzBkNWIyMWIzMWE1NDk1ZjlhZDRmNWZkNGZmMDVmNTc'].replace('Clean', np.nan).drop(['md5', 'date'], axis=1).iterrows():\n",
    "    print(r[1].value_counts().sum())\n",
    "    \n",
    "test = frame[frame.index == 'NzBkNWIyMWIzMWE1NDk1ZjlhZDRmNWZkNGZmMDVmNTc'].drop(['md5', 'date'], axis=1).replace('Clean', np.nan)\n",
    "test.groupby(test.index).count().sum().sum()\n",
    "\n",
    "display(test.dropna(axis=1))\n",
    "for i in test.dropna(axis=1).columns:\n",
    "    print(i)\n",
    "    \n",
    "display(frame.columns)"
   ]
  }
 ],
 "metadata": {
  "kernelspec": {
   "display_name": "Python 3",
   "language": "python",
   "name": "python3"
  },
  "language_info": {
   "codemirror_mode": {
    "name": "ipython",
    "version": 3
   },
   "file_extension": ".py",
   "mimetype": "text/x-python",
   "name": "python",
   "nbconvert_exporter": "python",
   "pygments_lexer": "ipython3",
   "version": "3.6.1"
  }
 },
 "nbformat": 4,
 "nbformat_minor": 2
}
