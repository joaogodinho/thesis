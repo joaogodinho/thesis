{
 "cells": [
  {
   "cell_type": "code",
   "execution_count": 1,
   "metadata": {
    "collapsed": false,
    "deletable": true,
    "editable": true,
    "scrolled": false
   },
   "outputs": [
    {
     "data": {
      "text/plain": [
       "TheHacker            0.999340\n",
       "BitDefender          0.999259\n",
       "CAT-QuickHeal        0.999239\n",
       "Fortinet             0.998977\n",
       "ViRobot              0.998401\n",
       "Ikarus               0.998096\n",
       "GData                0.997767\n",
       "K7AntiVirus          0.996668\n",
       "ClamAV               0.996550\n",
       "F-Prot               0.996534\n",
       "McAfee               0.995997\n",
       "Microsoft            0.994455\n",
       "nProtect             0.994321\n",
       "Comodo               0.993882\n",
       "Avast                0.993345\n",
       "AVG                  0.992604\n",
       "VBA32                0.992226\n",
       "Kaspersky            0.991340\n",
       "McAfee-GW-Edition    0.989802\n",
       "Symantec             0.989135\n",
       "dtype: float64"
      ]
     },
     "metadata": {},
     "output_type": "display_data"
    }
   ],
   "source": [
    "from IPython.display import display\n",
    "import pandas as pd\n",
    "\n",
    "frame = pd.read_csv('data/pe32_vendors.csv.gz', dtype=str)\n",
    "frame = frame.set_index('link')\n",
    "\n",
    "av_classified = frame.count() / len(frame)\n",
    "top20 = av_classified.sort_values(ascending=False)[:20]\n",
    "display(top20)"
   ]
  },
  {
   "cell_type": "code",
   "execution_count": 2,
   "metadata": {
    "collapsed": false,
    "deletable": true,
    "editable": true,
    "scrolled": false
   },
   "outputs": [
    {
     "name": "stderr",
     "output_type": "stream",
     "text": [
      "/home/joao/virtual_envs/thesis2/lib/python3.6/site-packages/ipykernel/__main__.py:4: SettingWithCopyWarning: \n",
      "A value is trying to be set on a copy of a slice from a DataFrame\n",
      "\n",
      "See the caveats in the documentation: http://pandas.pydata.org/pandas-docs/stable/indexing.html#indexing-view-versus-copy\n"
     ]
    },
    {
     "data": {
      "text/plain": [
       "292288"
      ]
     },
     "metadata": {},
     "output_type": "display_data"
    },
    {
     "data": {
      "text/plain": [
       "298285"
      ]
     },
     "metadata": {},
     "output_type": "display_data"
    }
   ],
   "source": [
    "test = pd.read_csv('data/header_analyses.csv')\n",
    "test = test.set_index('link')\n",
    "classified = test[test.antivirus != 'n/a']\n",
    "classified.dropna(inplace=True)\n",
    "display(len(classified.file_type[classified.file_type.str.startswith('PE32')]))\n",
    "display(len(frame))"
   ]
  }
 ],
 "metadata": {
  "kernelspec": {
   "display_name": "Python 3",
   "language": "python",
   "name": "python3"
  },
  "language_info": {
   "codemirror_mode": {
    "name": "ipython",
    "version": 3
   },
   "file_extension": ".py",
   "mimetype": "text/x-python",
   "name": "python",
   "nbconvert_exporter": "python",
   "pygments_lexer": "ipython3",
   "version": "3.6.1"
  }
 },
 "nbformat": 4,
 "nbformat_minor": 2
}
