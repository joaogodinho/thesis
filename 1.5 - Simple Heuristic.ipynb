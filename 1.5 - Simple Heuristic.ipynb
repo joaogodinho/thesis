{
 "cells": [
  {
   "cell_type": "markdown",
   "metadata": {
    "deletable": true,
    "editable": true
   },
   "source": [
    "# Simple Heuristic\n",
    "\n",
    "The purpose of this notebook is to test a simple heuristic on the static imports.\n",
    "\n",
    "It creates 3 bags of features: one with goodware features only; one with malware features only; one with goodware and malware common features.\n",
    "\n",
    "This is using Celery, make sure it's running (`celery -A tasks worker --loglevel=info -Ofair`)."
   ]
  },
  {
   "cell_type": "code",
   "execution_count": 1,
   "metadata": {
    "collapsed": true,
    "deletable": true,
    "editable": true
   },
   "outputs": [],
   "source": [
    "import pandas as pd\n",
    "import numpy as np\n",
    "import datetime\n",
    "from IPython.display import display\n",
    "from sklearn.feature_extraction.text import CountVectorizer\n",
    "from celery import group\n",
    "from tasks import simple_heuristic\n",
    "\n",
    "\n",
    "# globals\n",
    "cv_token_pattern = u'[^;]+'\n",
    "min_df=1\n",
    "\n",
    "samples = pd.read_csv('data/pe32_imports_labeled.csv')\n",
    "goodware = samples[samples.malware == 0]\n",
    "malware = samples[samples.malware == 1]"
   ]
  },
  {
   "cell_type": "markdown",
   "metadata": {
    "deletable": true,
    "editable": true
   },
   "source": [
    "# Bag creation (all samples)"
   ]
  },
  {
   "cell_type": "code",
   "execution_count": 8,
   "metadata": {
    "collapsed": false,
    "deletable": true,
    "editable": true
   },
   "outputs": [
    {
     "name": "stdout",
     "output_type": "stream",
     "text": [
      "Total goodware features: 239545\n",
      "Total malware features: 34583\n",
      "Common features: 22031\n",
      "Malware only: 12552\n",
      "Goodware only:217514\n"
     ]
    }
   ],
   "source": [
    "goodware_cv = CountVectorizer(token_pattern=cv_token_pattern, min_df=min_df)\n",
    "goodware_cv.fit(goodware.imports)\n",
    "goodware_features = goodware_cv.get_feature_names()\n",
    "print('Total goodware features: {}'.format(len(goodware_features)))\n",
    "\n",
    "malware_cv = CountVectorizer(token_pattern=cv_token_pattern, min_df=min_df)\n",
    "malware_cv.fit(malware.imports)\n",
    "malware_features = malware_cv.get_feature_names()\n",
    "print('Total malware features: {}'.format(len(malware_features)))\n",
    "\n",
    "common_features = set(goodware_features).intersection(malware_features)\n",
    "malware_only_features = set(malware_features).difference(goodware_features)\n",
    "goodware_only_features = set(goodware_features).difference(malware_features)\n",
    "\n",
    "# Save features to use in 1.6\n",
    "# pd.Series(list(goodware_only_features)).to_csv(path='data/goodware_only_features.csv')\n",
    "# pd.Series(list(malware_only_features)).to_csv(path='data/malware_only_features.csv')\n",
    "# pd.Series(list(common_features)).to_csv(path='data/common_features.csv')\n",
    "\n",
    "print('Common features: {}\\nMalware only: {}\\nGoodware only:{}'.format(\n",
    "    len(common_features), len(malware_only_features), len(goodware_only_features)))"
   ]
  },
  {
   "cell_type": "markdown",
   "metadata": {
    "deletable": true,
    "editable": true
   },
   "source": [
    "## Sanity Check\n",
    "\n",
    "Take malware and goodware, check to which bag they get assigned."
   ]
  },
  {
   "cell_type": "code",
   "execution_count": 3,
   "metadata": {
    "collapsed": false,
    "deletable": true,
    "editable": true,
    "scrolled": false
   },
   "outputs": [
    {
     "name": "stdout",
     "output_type": "stream",
     "text": [
      "Total:\t\t102382\n",
      "Common:\t\t94949 (0.927)\n",
      "Malware:\t3282 (0.032)\n",
      "Goodware:\t4151 (0.041)\n",
      "False Positive: 0.00\n",
      "False Negative: 0.00\n"
     ]
    }
   ],
   "source": [
    "sanity_validation = pd.concat([goodware, malware])\n",
    "\n",
    "common_count = 0\n",
    "malware_count= 0\n",
    "goodware_count=0\n",
    "# Malware mixed with common\n",
    "mmixed_count = 0\n",
    "# Goodware mixed with common\n",
    "gmixed_count = 0\n",
    "\n",
    "fp_count = 0\n",
    "tp_count = 0\n",
    "fn_count = 0\n",
    "tn_count = 0\n",
    "\n",
    "for _, sample in sanity_validation.iterrows():\n",
    "    features = set(sample.imports.split(';'))\n",
    "    \n",
    "    # Common only features\n",
    "    common = features.difference(common_features)\n",
    "    if len(common) == 0:\n",
    "        common_count += 1\n",
    "        continue\n",
    "        \n",
    "    # Malware only features\n",
    "    diff = common.difference(malware_only_features)\n",
    "    if len(diff) == 0:\n",
    "        malware_count += 1\n",
    "        # True positive\n",
    "        if sample.malware == 1:\n",
    "            tp_count += 1\n",
    "        # False positive\n",
    "        else:\n",
    "            fp_count += 1\n",
    "        continue\n",
    "    \n",
    "    # Goodware only features\n",
    "    diff = common.difference(goodware_only_features)\n",
    "    if len(diff) == 0:\n",
    "        goodware_count += 1\n",
    "        # True negative\n",
    "        if sample.malware == 0:\n",
    "            tn_count += 1\n",
    "        else:\n",
    "            fn_count += 1\n",
    "        continue\n",
    "\n",
    "print('Total:\\t\\t{}'.format(len(sanity_validation)))\n",
    "print('Common:\\t\\t{} ({:.3f})\\nMalware:\\t{} ({:.3f})\\nGoodware:\\t{} ({:.3f})'.format(\n",
    "    common_count, common_count/len(sanity_validation),\n",
    "    malware_count, malware_count/len(sanity_validation),\n",
    "    goodware_count, goodware_count/len(sanity_validation)))\n",
    "\n",
    "fp_rate = fp_count / (fp_count + tp_count)\n",
    "fn_rate = fn_count / (fn_count + tn_count)\n",
    "\n",
    "print('False Positive: {:.2f}\\nFalse Negative: {:.2f}'.format(fp_rate, fn_rate))"
   ]
  },
  {
   "cell_type": "markdown",
   "metadata": {
    "deletable": true,
    "editable": true
   },
   "source": [
    "# Bag creation (subset of samples)"
   ]
  },
  {
   "cell_type": "code",
   "execution_count": 4,
   "metadata": {
    "collapsed": false,
    "deletable": true,
    "editable": true
   },
   "outputs": [
    {
     "name": "stdout",
     "output_type": "stream",
     "text": [
      "Total goodware features: 219230\n",
      "Total malware features: 32931\n",
      "Common features: 21216\n",
      "Malware only: 11715\n",
      "Goodware only:198014\n"
     ]
    }
   ],
   "source": [
    "test_size = 0.1\n",
    "\n",
    "goodware_split = [goodware[:int(len(goodware) * (1 - test_size))],\n",
    "                  goodware[int(len(goodware) * (1 - test_size)):]]\n",
    "malware_split = [malware[:int(len(malware) * (1 - test_size))],\n",
    "                  malware[int(len(malware) * (1 - test_size)):]]\n",
    "#malware_split = [malware[:len(goodware_split[0])],\n",
    "#                  malware[len(goodware_s:]]\n",
    "\n",
    "goodware_cv = CountVectorizer(token_pattern=cv_token_pattern, min_df=min_df)\n",
    "goodware_cv.fit(goodware_split[0].imports)\n",
    "goodware_features = goodware_cv.get_feature_names()\n",
    "print('Total goodware features: {}'.format(len(goodware_features)))\n",
    "\n",
    "malware_cv = CountVectorizer(token_pattern=cv_token_pattern, min_df=min_df)\n",
    "malware_cv.fit(malware_split[0].imports)\n",
    "malware_features = malware_cv.get_feature_names()\n",
    "print('Total malware features: {}'.format(len(malware_features)))\n",
    "\n",
    "common_features = set(goodware_features).intersection(malware_features)\n",
    "malware_only_features = set(malware_features).difference(goodware_features)\n",
    "goodware_only_features = set(goodware_features).difference(malware_features)\n",
    "\n",
    "print('Common features: {}\\nMalware only: {}\\nGoodware only:{}'.format(\n",
    "    len(common_features), len(malware_only_features), len(goodware_only_features)))"
   ]
  },
  {
   "cell_type": "code",
   "execution_count": 5,
   "metadata": {
    "collapsed": false,
    "deletable": true,
    "editable": true,
    "scrolled": false
   },
   "outputs": [
    {
     "name": "stdout",
     "output_type": "stream",
     "text": [
      "[2017-03-20 19:50:28.411570] Starting batches...\n",
      "[2017-03-20 19:50:28.411681] Sending count tasks...\n",
      "[2017-03-20 19:50:28.515879] Done sending, waiting...\n",
      "[2017-03-20 19:50:29.934283] All tasks done.\n"
     ]
    }
   ],
   "source": [
    "validation = pd.concat([goodware_split[1], malware_split[1]])\n",
    "\n",
    "# Splitting in batches of ~x samples\n",
    "n_batches = int(len(validation) / 5000)\n",
    "batches = np.array_split(validation, n_batches)\n",
    "\n",
    "print('[{0}] Starting batches...'.format(datetime.datetime.now()))\n",
    "print('[{0}] Sending count tasks...'.format(datetime.datetime.now()))\n",
    "jobs = group([simple_heuristic.s(\n",
    "    list(common_features),\n",
    "    list(malware_features),\n",
    "    list(goodware_features),\n",
    "    batch.to_json(orient='records')) for batch in batches])\n",
    "print('[{0}] Done sending, waiting...'.format(datetime.datetime.now()))\n",
    "result = jobs.apply_async()\n",
    "result.join()\n",
    "print('[{0}] All tasks done.'.format(datetime.datetime.now()))"
   ]
  },
  {
   "cell_type": "code",
   "execution_count": 6,
   "metadata": {
    "collapsed": false,
    "deletable": true,
    "editable": true
   },
   "outputs": [
    {
     "name": "stdout",
     "output_type": "stream",
     "text": [
      "Total:\t\t10239\n",
      "Common:\t\t9465 (0.924)\n",
      "Unknown:\t71 (0.007)\n",
      "Malware:\t226 (0.022)\n",
      "Goodware:\t477 (0.047)\n",
      "False Positive: 0.044\n",
      "False Negative: 0.143\n"
     ]
    }
   ],
   "source": [
    "common_count = 0\n",
    "unknown_count = 0\n",
    "\n",
    "fp_count = 0\n",
    "tp_count = 0\n",
    "fn_count = 0\n",
    "tn_count = 0\n",
    "\n",
    "for r in result.get():\n",
    "    common_count += r['common_count']\n",
    "    unknown_count += r['unknown_count']\n",
    "    fp_count += r['fp_count']\n",
    "    tp_count += r['tp_count']\n",
    "    fn_count += r['fn_count']\n",
    "    tn_count += r['tn_count']\n",
    "    \n",
    "print('Total:\\t\\t{}'.format(len(validation)))\n",
    "print('Common:\\t\\t{} ({:.3f})\\nUnknown:\\t{} ({:.3f})\\nMalware:\\t{} ({:.3f})\\nGoodware:\\t{} ({:.3f})'.format(\n",
    "    common_count, common_count/len(validation),\n",
    "    unknown_count, unknown_count/len(validation),\n",
    "    fp_count + tp_count, (fp_count + tp_count)/len(validation),\n",
    "    fn_count + tn_count, (fn_count + tn_count)/len(validation)))\n",
    "\n",
    "fp_rate = fp_count / (fp_count + tp_count)\n",
    "fn_rate = fn_count / (fn_count + tn_count)\n",
    "\n",
    "print('False Positive: {:.3f}\\nFalse Negative: {:.3f}'.format(fp_rate, fn_rate))"
   ]
  }
 ],
 "metadata": {
  "kernelspec": {
   "display_name": "Python 3",
   "language": "python",
   "name": "python3"
  },
  "language_info": {
   "codemirror_mode": {
    "name": "ipython",
    "version": 3
   },
   "file_extension": ".py",
   "mimetype": "text/x-python",
   "name": "python",
   "nbconvert_exporter": "python",
   "pygments_lexer": "ipython3",
   "version": "3.6.0"
  }
 },
 "nbformat": 4,
 "nbformat_minor": 2
}
