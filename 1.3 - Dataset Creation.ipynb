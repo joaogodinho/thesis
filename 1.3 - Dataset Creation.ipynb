{
 "cells": [
  {
   "cell_type": "markdown",
   "metadata": {
    "deletable": true,
    "editable": true
   },
   "source": [
    "# Labeled Dataset\n",
    "\n",
    "This notebook focuses on creating an usable dataset for malware classification. It takes the AV classification and Imports, classifying a sample as clean if vendors with high presence say it's clean, and classifying as malware if the majority of vendors with high presence say it's malware.\n",
    "\n",
    "For duplicated submissions, only the last submission is taken into account."
   ]
  },
  {
   "cell_type": "code",
   "execution_count": 18,
   "metadata": {
    "collapsed": false,
    "deletable": true,
    "editable": true
   },
   "outputs": [],
   "source": [
    "import numpy as np\n",
    "import pandas as pd\n",
    "from IPython.display import display\n",
    "\n",
    "pe32_av = pd.read_csv('data/pe32_static_av.csv', dtype=str)\n",
    "pe32_av['date'] = pd.to_datetime(pe32_av['date'], format='%Y/%m/%d')\n",
    "\n",
    "pe32_imports = pd.read_csv('data/pe32_static_imports.csv', dtype=str)\n",
    "pe32_imports.drop(['md5', 'date'], axis=1, inplace=True)\n",
    "\n",
    "# Just keep last submission of duplicates\n",
    "pe32_av.drop_duplicates(subset=['md5'], inplace=True, keep='last')\n",
    "\n",
    "# Filter vendors with high presence\n",
    "vendors_presence = pd.Series.from_csv('data/vendors_presence.csv')\n",
    "vendors = vendors_presence[vendors_presence > 0.7].keys()\n",
    "# Remove unused columns\n",
    "pe32_av.drop([v for v in pe32_av.columns[3:] if v not in vendors], axis=1, inplace=True)\n",
    "\n",
    "# Just keep samples where all vendors gave a classification\n",
    "pe32_av.dropna(how='any', subset=vendors, inplace=True)\n",
    "\n",
    "# Join classification with imports\n",
    "pe32 = pd.merge(pe32_av, pe32_imports, on=['link'])\n",
    "pe32 = pe32.set_index(['date', 'md5'])"
   ]
  },
  {
   "cell_type": "code",
   "execution_count": 19,
   "metadata": {
    "collapsed": false,
    "deletable": true,
    "editable": true,
    "scrolled": false
   },
   "outputs": [],
   "source": [
    "# Filter samples where all vendors say it's clean\n",
    "clean_samples = pe32[(pe32 == 'clean').T.sum() == len(vendors)]\n",
    "clean_samples.is_copy = False\n",
    "clean_samples.dropna(inplace=True)\n",
    "clean_samples.drop(vendors, inplace=True, axis=1)\n",
    "clean_samples = clean_samples.assign(malware=0)\n",
    "clean_samples = clean_samples.reset_index().set_index('date')\n",
    "\n",
    "# Filter samples where the majority say it's malware\n",
    "malware_samples = pe32[(pe32 == 'clean').T.sum() / len(vendors) < 0.5]\n",
    "malware_samples.is_copy = False\n",
    "malware_samples.dropna(inplace=True)\n",
    "malware_samples = malware_samples[malware_samples.imports != '']\n",
    "malware_samples.drop(vendors, inplace=True, axis=1)\n",
    "malware_samples = malware_samples.assign(malware=1)\n",
    "malware_samples = malware_samples.reset_index().set_index('date')\n",
    "\n",
    "result = pd.concat([clean_samples, malware_samples])\n",
    "result.to_csv(path_or_buf='data/pe32_imports_labeled.csv')"
   ]
  }
 ],
 "metadata": {
  "kernelspec": {
   "display_name": "Python 3",
   "language": "python",
   "name": "python3"
  },
  "language_info": {
   "codemirror_mode": {
    "name": "ipython",
    "version": 3
   },
   "file_extension": ".py",
   "mimetype": "text/x-python",
   "name": "python",
   "nbconvert_exporter": "python",
   "pygments_lexer": "ipython3",
   "version": "3.6.0"
  }
 },
 "nbformat": 4,
 "nbformat_minor": 2
}
