{
 "cells": [
  {
   "cell_type": "code",
   "execution_count": 1,
   "metadata": {},
   "outputs": [],
   "source": [
    "import pandas as pd\n",
    "import re\n",
    "from sklearn.feature_extraction.text import CountVectorizer"
   ]
  },
  {
   "cell_type": "code",
   "execution_count": 2,
   "metadata": {},
   "outputs": [],
   "source": [
    "data_folder = '../data/csv_data/'\n",
    "extension = '.csv.gz'\n",
    "build_path = lambda x: data_folder + x + extension\n",
    "\n",
    "imports_file = build_path('malwr_imports')\n",
    "cv_token_pattern = u'[^;]+'"
   ]
  },
  {
   "cell_type": "code",
   "execution_count": 3,
   "metadata": {
    "scrolled": true
   },
   "outputs": [],
   "source": [
    "imports = pd.read_csv(imports_file).set_index('link')\n",
    "imports.dropna(inplace=True)"
   ]
  },
  {
   "cell_type": "code",
   "execution_count": 4,
   "metadata": {},
   "outputs": [],
   "source": [
    "# Use Count Vectorizer to analyse dll names\n",
    "cv = CountVectorizer(token_pattern=cv_token_pattern, lowercase=False)\n",
    "cv.fit(imports.imports)\n",
    "features = cv.get_feature_names()\n",
    "invalid_imports = list(filter(lambda x: re.match('.*[^a-zA-Z0-9_\\.\\-\\+].*', x), features))\n",
    "pd.DataFrame(invalid_imports).to_csv(build_path('invalid_imports'), compression='gzip')"
   ]
  },
  {
   "cell_type": "code",
   "execution_count": 5,
   "metadata": {},
   "outputs": [
    {
     "data": {
      "text/plain": [
       "CountVectorizer(analyzer='word', binary=False, decode_error='strict',\n",
       "        dtype=<class 'numpy.int64'>, encoding='utf-8', input='content',\n",
       "        lowercase=False, max_df=1.0, max_features=None, min_df=1,\n",
       "        ngram_range=(1, 1), preprocessor=None,\n",
       "        stop_words=['!', '&\\\\xe8', '&^', '(&', '*invalid*', '5\\\\xd5b\\\\xf0\\\\xfd', '=SVBVM60.DLL', 'ADVAPI32.dll\\\\x85', 'C:\\\\Program', 'C:\\\\windows\\\\system32\\\\msvbvm60', 'GDI32.\\\\x90ll', 'MSVB\\\\x90M60.DLL', 'MSVCP60.dll\\\\x90', 'MSVCRT.dll\\\\x85', 'MSVCRT.dll\\\\x90', 'MZ\\\\x90', 'OL\\\\x90AUT32.dll', 'WS2_32.DLL\\\\x...L', 'avicap32.dll\\\\x99', 'mscoree.$ml', 'rasapi32.dll\\\\x90', 'shell32.dll\\\\x90', 'wsock32.dll\\\\x90'],\n",
       "        strip_accents=None, token_pattern='[^;]+', tokenizer=None,\n",
       "        vocabulary=None)"
      ]
     },
     "execution_count": 5,
     "metadata": {},
     "output_type": "execute_result"
    }
   ],
   "source": [
    "cv2 = CountVectorizer(token_pattern=cv_token_pattern, lowercase=False, stop_words=invalid_imports)\n",
    "cv2.fit(imports.imports)"
   ]
  },
  {
   "cell_type": "code",
   "execution_count": 6,
   "metadata": {},
   "outputs": [
    {
     "data": {
      "text/plain": [
       "40"
      ]
     },
     "metadata": {},
     "output_type": "display_data"
    },
    {
     "data": {
      "text/plain": [
       "8775"
      ]
     },
     "metadata": {},
     "output_type": "display_data"
    }
   ],
   "source": [
    "display(len(invalid_imports))\n",
    "display(len(cv2.get_feature_names()))"
   ]
  }
 ],
 "metadata": {
  "kernelspec": {
   "display_name": "Python 3",
   "language": "python",
   "name": "python3"
  },
  "language_info": {
   "codemirror_mode": {
    "name": "ipython",
    "version": 3
   },
   "file_extension": ".py",
   "mimetype": "text/x-python",
   "name": "python",
   "nbconvert_exporter": "python",
   "pygments_lexer": "ipython3",
   "version": "3.6.4"
  }
 },
 "nbformat": 4,
 "nbformat_minor": 2
}
