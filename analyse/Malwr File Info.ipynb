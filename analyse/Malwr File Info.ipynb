{
 "cells": [
  {
   "cell_type": "markdown",
   "metadata": {},
   "source": [
    "# Malwr File Info\n",
    "Filter file info to remove empty, non PE32 samples or statistically irrelevant executable types."
   ]
  },
  {
   "cell_type": "code",
   "execution_count": 1,
   "metadata": {},
   "outputs": [],
   "source": [
    "import pandas as pd\n",
    "import numpy as np"
   ]
  },
  {
   "cell_type": "code",
   "execution_count": 2,
   "metadata": {},
   "outputs": [],
   "source": [
    "data_folder = '../../data/csv_data/'\n",
    "extension = '.csv.gz'\n",
    "build_path = lambda x: data_folder + x + extension"
   ]
  },
  {
   "cell_type": "code",
   "execution_count": 3,
   "metadata": {},
   "outputs": [],
   "source": [
    "# Load and drop NA\n",
    "malwr_info = pd.read_csv(build_path('malwr_file_info')).set_index('link').dropna()\n",
    "# Make sure all our samples are PE32\n",
    "assert len(malwr_info[~malwr_info.file_type.str.startswith('PE32')]) == 0\n",
    "\n",
    "file_type_freq = malwr_info.file_type.value_counts()\n",
    "malwr_info2 = malwr_info[malwr_info.file_type.isin(file_type_freq[:20].index)]\n",
    "\n",
    "compressed_list = '|'.join(['compressed', 'extracting'])\n",
    "\n",
    "compressed_size = malwr_info2[malwr_info2.file_type.str.contains(compressed_list)].file_type.value_counts().sum()\n",
    "uncompressed_size = malwr_info2[~malwr_info2.file_type.str.contains(compressed_list)].file_type.value_counts().sum()\n",
    "i = len(malwr_info)\n",
    "k = len(malwr_info2)\n",
    "assert compressed_size + uncompressed_size == len(malwr_info2)\n",
    "\n",
    "malwr_info2.is_copy = False\n",
    "malwr_info2.loc[malwr_info2.file_type.str.contains(compressed_list), 'compressed'] = True\n",
    "malwr_info2.loc[~malwr_info2.file_type.str.contains(compressed_list), 'compressed'] = False"
   ]
  },
  {
   "cell_type": "code",
   "execution_count": 4,
   "metadata": {},
   "outputs": [
    {
     "data": {
      "text/plain": [
       "'Remaining types of samples: 99.08%'"
      ]
     },
     "metadata": {},
     "output_type": "display_data"
    },
    {
     "data": {
      "text/plain": [
       "'Uncompressed PE32: 329906'"
      ]
     },
     "metadata": {},
     "output_type": "display_data"
    },
    {
     "data": {
      "text/plain": [
       "'Compressed PE32: 55032'"
      ]
     },
     "metadata": {},
     "output_type": "display_data"
    }
   ],
   "source": [
    "display('Remaining types of samples: {:.2f}%'.format(100*k/i))\n",
    "display('Uncompressed PE32: {}'.format(uncompressed_size))\n",
    "display('Compressed PE32: {}'.format(compressed_size))"
   ]
  },
  {
   "cell_type": "code",
   "execution_count": 5,
   "metadata": {},
   "outputs": [],
   "source": [
    "malwr_info2.to_csv(build_path('malwr_file_info_filtered'), compression='gzip')"
   ]
  }
 ],
 "metadata": {
  "kernelspec": {
   "display_name": "Python 3",
   "language": "python",
   "name": "python3"
  },
  "language_info": {
   "codemirror_mode": {
    "name": "ipython",
    "version": 3
   },
   "file_extension": ".py",
   "mimetype": "text/x-python",
   "name": "python",
   "nbconvert_exporter": "python",
   "pygments_lexer": "ipython3",
   "version": "3.6.4"
  }
 },
 "nbformat": 4,
 "nbformat_minor": 2
}
