{
 "cells": [
  {
   "cell_type": "markdown",
   "metadata": {},
   "source": [
    "Label Samples into malware classes using vendors and avclass output."
   ]
  },
  {
   "cell_type": "code",
   "execution_count": 1,
   "metadata": {},
   "outputs": [],
   "source": [
    "import pandas as pd\n",
    "import numpy as np\n",
    "import ast"
   ]
  },
  {
   "cell_type": "code",
   "execution_count": 2,
   "metadata": {},
   "outputs": [],
   "source": [
    "data_folder = '../data/csv_data/'\n",
    "extension = '.csv.gz'\n",
    "build_path = lambda x: data_folder + x\n",
    "\n",
    "av_class_file = build_path('malware.verbose')"
   ]
  },
  {
   "cell_type": "code",
   "execution_count": 3,
   "metadata": {},
   "outputs": [],
   "source": [
    "malware_verbose = pd.read_csv(av_class_file, sep='\\t', header=None)\n",
    "malware_verbose.columns = ['md5', 'classification', 'is_pup']"
   ]
  },
  {
   "cell_type": "code",
   "execution_count": 4,
   "metadata": {},
   "outputs": [],
   "source": [
    "malware = malware_verbose[malware_verbose.is_pup == 0].drop(['is_pup'], axis=1)\n",
    "malware.classification = malware.classification.apply(ast.literal_eval)"
   ]
  },
  {
   "cell_type": "code",
   "execution_count": 5,
   "metadata": {},
   "outputs": [
    {
     "data": {
      "text/plain": [
       "0    127854\n",
       "1     37539\n",
       "Name: is_pup, dtype: int64"
      ]
     },
     "metadata": {},
     "output_type": "display_data"
    }
   ],
   "source": [
    "display(malware_verbose.is_pup.value_counts())"
   ]
  },
  {
   "cell_type": "code",
   "execution_count": 6,
   "metadata": {},
   "outputs": [],
   "source": [
    "malware_labeled = []\n",
    "for i, m in malware.iterrows():\n",
    "    sample = dict()\n",
    "    sample['md5'] = m.md5\n",
    "    total = sum(c[1] for c in m.classification)\n",
    "    for k, v in m.classification:\n",
    "        sample[k] = v/total\n",
    "    malware_labeled.append(sample)"
   ]
  },
  {
   "cell_type": "code",
   "execution_count": 7,
   "metadata": {},
   "outputs": [],
   "source": [
    "malware_classes = pd.DataFrame(malware_labeled).set_index('md5')"
   ]
  },
  {
   "cell_type": "code",
   "execution_count": 8,
   "metadata": {},
   "outputs": [],
   "source": [
    "malwr_info = pd.read_csv(build_path('malwr_file_info_filtered' + extension)).set_index('link')[['md5']]"
   ]
  },
  {
   "cell_type": "code",
   "execution_count": 9,
   "metadata": {
    "scrolled": true
   },
   "outputs": [],
   "source": [
    "malware_classes = malwr_info.join(malware_classes, on='md5', how='inner').drop('md5', axis=1).dropna(how='all')"
   ]
  },
  {
   "cell_type": "code",
   "execution_count": 10,
   "metadata": {},
   "outputs": [
    {
     "data": {
      "text/plain": [
       "other       70923\n",
       "ransom      12489\n",
       "spyware     29118\n",
       "trojan     153578\n",
       "virus       28565\n",
       "worm        31286\n",
       "dtype: int64"
      ]
     },
     "metadata": {},
     "output_type": "display_data"
    },
    {
     "data": {
      "text/plain": [
       "other      0.453626\n",
       "ransom     0.079880\n",
       "spyware    0.186240\n",
       "trojan     0.982289\n",
       "virus      0.182703\n",
       "worm       0.200106\n",
       "dtype: float64"
      ]
     },
     "metadata": {},
     "output_type": "display_data"
    },
    {
     "data": {
      "text/plain": [
       "other      0.230599\n",
       "ransom     0.194829\n",
       "spyware    0.155026\n",
       "trojan     0.762199\n",
       "virus      0.250492\n",
       "worm       0.282318\n",
       "dtype: float64"
      ]
     },
     "metadata": {},
     "output_type": "display_data"
    }
   ],
   "source": [
    "display(malware_classes.count())\n",
    "display(malware_classes.count() / len(malware_classes))\n",
    "display(malware_classes.sum() / malware_classes.count())\n",
    "malware_classes.to_csv(build_path('malware_labeled.csv.gz'), compression='gzip')"
   ]
  }
 ],
 "metadata": {
  "kernelspec": {
   "display_name": "Python 3",
   "language": "python",
   "name": "python3"
  },
  "language_info": {
   "codemirror_mode": {
    "name": "ipython",
    "version": 3
   },
   "file_extension": ".py",
   "mimetype": "text/x-python",
   "name": "python",
   "nbconvert_exporter": "python",
   "pygments_lexer": "ipython3",
   "version": "3.6.4"
  }
 },
 "nbformat": 4,
 "nbformat_minor": 2
}
