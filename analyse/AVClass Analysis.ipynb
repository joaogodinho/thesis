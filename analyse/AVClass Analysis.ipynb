{
 "cells": [
  {
   "cell_type": "code",
   "execution_count": 21,
   "metadata": {},
   "outputs": [],
   "source": [
    "import pandas as pd\n",
    "import json\n",
    "import matplotlib.pyplot as plt"
   ]
  },
  {
   "cell_type": "code",
   "execution_count": 2,
   "metadata": {},
   "outputs": [],
   "source": [
    "data_folder = '../data/csv_data/'\n",
    "labels_file = data_folder + 'avclass_vendors.labels'"
   ]
  },
  {
   "cell_type": "code",
   "execution_count": 38,
   "metadata": {},
   "outputs": [],
   "source": [
    "labels = pd.read_csv(labels_file, sep='\\t', header=None)\n",
    "labels.columns = ['md5', 'label', 'pup']\n",
    "labels = labels.set_index('md5')\n",
    "labels.label = labels.label.apply(lambda x: x.split(':')[0])\n",
    "\n",
    "malware_labels = labels[labels.pup == 0].label.unique()\n",
    "pup_labels = labels[labels.pup == 1].label.unique()\n",
    "common_labels = set(labels[labels.pup == 1].label.unique()).intersection(\n",
    "                                       labels[labels.pup == 0].label.unique())"
   ]
  },
  {
   "cell_type": "code",
   "execution_count": 40,
   "metadata": {},
   "outputs": [
    {
     "data": {
      "text/plain": [
       "'Unique labels: 5929'"
      ]
     },
     "metadata": {},
     "output_type": "display_data"
    },
    {
     "data": {
      "text/plain": [
       "'Malware labels: 5359'"
      ]
     },
     "metadata": {},
     "output_type": "display_data"
    },
    {
     "data": {
      "text/plain": [
       "'PUP labels: 1130'"
      ]
     },
     "metadata": {},
     "output_type": "display_data"
    },
    {
     "data": {
      "text/plain": [
       "'Common labels: 560'"
      ]
     },
     "metadata": {},
     "output_type": "display_data"
    }
   ],
   "source": [
    "display('Unique labels: {}'.format(len(labels.label.unique())))\n",
    "display('Malware labels: {}'.format(len(malware_labels)))\n",
    "display('PUP labels: {}'.format(len(pup_labels)))\n",
    "display('Common labels: {}'.format(len(common_labels)))"
   ]
  },
  {
   "cell_type": "code",
   "execution_count": 48,
   "metadata": {},
   "outputs": [
    {
     "data": {
      "text/plain": [
       "SINGLETON        76501\n",
       "installcore       9441\n",
       "zbot              5587\n",
       "bettersurf        3605\n",
       "banload           3459\n",
       "autoit            3450\n",
       "bladabindi        2811\n",
       "installerex       2725\n",
       "somoto            2521\n",
       "firseria          2181\n",
       "domaiq            2140\n",
       "delf              1882\n",
       "sality            1881\n",
       "gamarue           1839\n",
       "darkkomet         1661\n",
       "upatre            1636\n",
       "opencandy         1623\n",
       "vobfus            1452\n",
       "fareit            1291\n",
       "bundlore          1217\n",
       "multiplug         1209\n",
       "amonetize         1068\n",
       "virut             1017\n",
       "allaple            976\n",
       "kido               869\n",
       "hupigon            862\n",
       "ramnit             847\n",
       "zusy               819\n",
       "cosmu              732\n",
       "patcher            730\n",
       "                 ...  \n",
       "ajki                 1\n",
       "stepaik              1\n",
       "tesefo               1\n",
       "amuerr4zocmib        1\n",
       "bwzf                 1\n",
       "duster               1\n",
       "afsb                 1\n",
       "mapler               1\n",
       "gnoewin              1\n",
       "itagomoko            1\n",
       "scareg               1\n",
       "teambot              1\n",
       "deffective           1\n",
       "ahiv                 1\n",
       "zuten                1\n",
       "kykyshka             1\n",
       "vicepass             1\n",
       "hoptto               1\n",
       "smalltro             1\n",
       "lowball              1\n",
       "mabutu               1\n",
       "revenants            1\n",
       "kadena               1\n",
       "struts               1\n",
       "delicium             1\n",
       "uplogger             1\n",
       "agra                 1\n",
       "ahsh                 1\n",
       "powerlogger          1\n",
       "gome                 1\n",
       "Name: label, Length: 5359, dtype: int64"
      ]
     },
     "metadata": {},
     "output_type": "display_data"
    }
   ],
   "source": [
    "display(labels[labels.label.isin(malware_labels)].label.value_counts())"
   ]
  }
 ],
 "metadata": {
  "kernelspec": {
   "display_name": "Python 3",
   "language": "python",
   "name": "python3"
  },
  "language_info": {
   "codemirror_mode": {
    "name": "ipython",
    "version": 3
   },
   "file_extension": ".py",
   "mimetype": "text/x-python",
   "name": "python",
   "nbconvert_exporter": "python",
   "pygments_lexer": "ipython3",
   "version": "3.6.4"
  }
 },
 "nbformat": 4,
 "nbformat_minor": 2
}
