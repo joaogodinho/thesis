{
 "cells": [
  {
   "cell_type": "markdown",
   "metadata": {},
   "source": [
    "# Malwr Vendors\n",
    "No point in keeping vendors that classify a low amount of samples, hence reducing to vendors that classify at least 90%Also no point in keeping vendors that classify a low amount of samples, hence reducing to vendors that classify at least 90%"
   ]
  },
  {
   "cell_type": "code",
   "execution_count": 1,
   "metadata": {},
   "outputs": [],
   "source": [
    "import pandas as pd\n",
    "import numpy as np"
   ]
  },
  {
   "cell_type": "code",
   "execution_count": 2,
   "metadata": {},
   "outputs": [],
   "source": [
    "data_folder = '../../data/csv_data/'\n",
    "extension = '.csv.gz'\n",
    "build_path = lambda x: data_folder + x + extension"
   ]
  },
  {
   "cell_type": "code",
   "execution_count": 3,
   "metadata": {},
   "outputs": [
    {
     "data": {
      "text/plain": [
       "'Reduced to 38 from 97 vendors'"
      ]
     },
     "metadata": {},
     "output_type": "display_data"
    }
   ],
   "source": [
    "malwr_vendors = pd.read_csv(build_path('malwr_vendors'), dtype=str).set_index('link').dropna(how='all')\n",
    "vendors_presence = malwr_vendors.count() / len(malwr_vendors)\n",
    "malwr_vendors2 = malwr_vendors[vendors_presence[vendors_presence >= 0.9].index].dropna(how='all')\n",
    "\n",
    "i = len(malwr_vendors.columns)\n",
    "k = len(malwr_vendors2.columns)\n",
    "display('Reduced to {} from {} vendors'.format(k, i))\n",
    "malwr_vendors2.to_csv(build_path('malwr_vendors_filtered'), compression='gzip')"
   ]
  }
 ],
 "metadata": {
  "kernelspec": {
   "display_name": "Python 3",
   "language": "python",
   "name": "python3"
  },
  "language_info": {
   "codemirror_mode": {
    "name": "ipython",
    "version": 3
   },
   "file_extension": ".py",
   "mimetype": "text/x-python",
   "name": "python",
   "nbconvert_exporter": "python",
   "pygments_lexer": "ipython3",
   "version": "3.6.4"
  }
 },
 "nbformat": 4,
 "nbformat_minor": 2
}
