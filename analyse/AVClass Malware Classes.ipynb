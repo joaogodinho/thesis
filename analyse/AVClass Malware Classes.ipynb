{
 "cells": [
  {
   "cell_type": "code",
   "execution_count": 1,
   "metadata": {},
   "outputs": [],
   "source": [
    "import pandas as pd\n",
    "import json\n",
    "import matplotlib.pyplot as plt"
   ]
  },
  {
   "cell_type": "code",
   "execution_count": 3,
   "metadata": {},
   "outputs": [],
   "source": [
    "data_folder = '../data/csv_data/'\n",
    "labels_file = data_folder + 'avclass_classes.labels'"
   ]
  },
  {
   "cell_type": "code",
   "execution_count": 44,
   "metadata": {},
   "outputs": [],
   "source": [
    "labels = pd.read_csv(labels_file, sep='\\t', header=None)\n",
    "labels.columns = ['md5', 'label', 'pup']\n",
    "labels = labels.set_index('md5')\n",
    "labels.label = labels.label.apply(lambda x: x.split(':')[0])\n",
    "\n",
    "pup = labels[labels.pup == 1]\n",
    "singletons = labels[(labels.label == 'SINGLETON') & (labels.pup == 0)]\n",
    "trojan = labels[(labels.label == 'trojan') & (labels.pup == 0)]\n",
    "worm = labels[(labels.label == 'worm') & (labels.pup == 0)]\n",
    "virus = labels[(labels.label == 'virus') & (labels.pup == 0)]\n",
    "spyware = labels[(labels.label == 'spyware') & (labels.pup == 0)]\n",
    "ransom = labels[(labels.label == 'ransom') & (labels.pup == 0)]\n",
    "other = labels[(labels.label == 'other') & (labels.pup == 0)]"
   ]
  },
  {
   "cell_type": "code",
   "execution_count": 46,
   "metadata": {},
   "outputs": [
    {
     "data": {
      "text/plain": [
       "'Total samples: 207634'"
      ]
     },
     "metadata": {},
     "output_type": "display_data"
    },
    {
     "data": {
      "text/plain": [
       "'PUP samples: 40439 (19.48%)'"
      ]
     },
     "metadata": {},
     "output_type": "display_data"
    },
    {
     "data": {
      "text/plain": [
       "'Singleton samples: 44187 (21.28%)'"
      ]
     },
     "metadata": {},
     "output_type": "display_data"
    },
    {
     "data": {
      "text/plain": [
       "'Trojan samples: 101934 (49.09%)'"
      ]
     },
     "metadata": {},
     "output_type": "display_data"
    },
    {
     "data": {
      "text/plain": [
       "'Worm samples: 7215 (3.47%)'"
      ]
     },
     "metadata": {},
     "output_type": "display_data"
    },
    {
     "data": {
      "text/plain": [
       "'Virus samples: 5450 (2.62%)'"
      ]
     },
     "metadata": {},
     "output_type": "display_data"
    },
    {
     "data": {
      "text/plain": [
       "'Spyware samples: 1386 (0.67%)'"
      ]
     },
     "metadata": {},
     "output_type": "display_data"
    },
    {
     "data": {
      "text/plain": [
       "'Ransom samples: 170 (0.08%)'"
      ]
     },
     "metadata": {},
     "output_type": "display_data"
    },
    {
     "data": {
      "text/plain": [
       "'Other samples: 6853 (3.30%)'"
      ]
     },
     "metadata": {},
     "output_type": "display_data"
    }
   ],
   "source": [
    "display('Total samples: {}'.format(len(labels)))\n",
    "display('PUP samples: {} ({:.2f}%)'.format(len(pup), 100*len(pup)/len(labels)))\n",
    "display('Singleton samples: {} ({:.2f}%)'.format(len(singletons), 100*len(singletons)/len(labels)))\n",
    "display('Trojan samples: {} ({:.2f}%)'.format(len(trojan), 100*len(trojan)/len(labels)))\n",
    "display('Worm samples: {} ({:.2f}%)'.format(len(worm), 100*len(worm)/len(labels)))\n",
    "display('Virus samples: {} ({:.2f}%)'.format(len(virus), 100*len(virus)/len(labels)))\n",
    "display('Spyware samples: {} ({:.2f}%)'.format(len(spyware), 100*len(spyware)/len(labels)))\n",
    "display('Ransom samples: {} ({:.2f}%)'.format(len(ransom), 100*len(ransom)/len(labels)))\n",
    "display('Other samples: {} ({:.2f}%)'.format(len(other), 100*len(other)/len(labels)))"
   ]
  }
 ],
 "metadata": {
  "kernelspec": {
   "display_name": "Python 3",
   "language": "python",
   "name": "python3"
  },
  "language_info": {
   "codemirror_mode": {
    "name": "ipython",
    "version": 3
   },
   "file_extension": ".py",
   "mimetype": "text/x-python",
   "name": "python",
   "nbconvert_exporter": "python",
   "pygments_lexer": "ipython3",
   "version": "3.6.5"
  }
 },
 "nbformat": 4,
 "nbformat_minor": 2
}
